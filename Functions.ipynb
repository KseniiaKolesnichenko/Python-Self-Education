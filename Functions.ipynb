{
 "cells": [
  {
   "cell_type": "code",
   "execution_count": 1,
   "id": "43d0e2ab",
   "metadata": {},
   "outputs": [],
   "source": [
    "# Это определение функции, которая возводит число в квадрат    \n",
    "def square(x):    \n",
    "    return x**2    \n",
    "    \n",
    "# Это вызов функции. Мы возведём 5 в квадрат и положим 25 в переменную square_result    \n",
    "square_result = square(5)    \n",
    "    \n",
    "    \n",
    "# Определение стоимости в магазине всё по 60, где только яблоки стоят 30    \n",
    "def count_cost(product):    \n",
    "    if product == \"apple\":    \n",
    "        cost = 30    \n",
    "    else:    \n",
    "        cost = 60    \n",
    "    return cost    \n",
    "    \n",
    "# Попросим функцию посчитать стоимость апельсина    \n",
    "orange_cost = count_cost(\"orange\")    \n"
   ]
  },
  {
   "cell_type": "markdown",
   "id": "33bf3377",
   "metadata": {},
   "source": [
    "Создание функции называется определением. Определение функции состоит из нескольких частей:\n",
    "\n",
    "Ключевое слово def, которым мы показываем намерение определить функцию.\n",
    "\n",
    "Название функции, которые мы выбираем сами (должно состоять из латинских букв, цифр и подчёркиваний).\n",
    "\n",
    "Аргументы функции — значения, которые мы даём функции на вход. Они записываются в скобках. Можно и без аргументов, но скобки всё равно надо написать.\n",
    "\n",
    "Двоеточие и перенос на следующую строку с отступом.\n",
    "\n",
    "Тело функции, где мы реализуем какую-то логику.\n",
    "\n",
    "Возврат результата с помощью return."
   ]
  },
  {
   "cell_type": "markdown",
   "id": "33c9342b",
   "metadata": {},
   "source": [
    "Задача\n",
    "Постройте функцию get_median, которая принимает на вход список чисел и возвращает медиану, например, для этого списка."
   ]
  },
  {
   "cell_type": "code",
   "execution_count": 78,
   "id": "78bc1887",
   "metadata": {},
   "outputs": [],
   "source": [
    "ll=[35, -2000, 300, 30000, 11, 0]\n",
    "length=len(ll)"
   ]
  },
  {
   "cell_type": "code",
   "execution_count": 69,
   "id": "3dee4880",
   "metadata": {},
   "outputs": [
    {
     "data": {
      "text/plain": [
       "2"
      ]
     },
     "execution_count": 69,
     "metadata": {},
     "output_type": "execute_result"
    }
   ],
   "source": [
    "z=int(len(ll)/2)\n",
    "z"
   ]
  },
  {
   "cell_type": "code",
   "execution_count": 70,
   "id": "ca573711",
   "metadata": {},
   "outputs": [
    {
     "data": {
      "text/plain": [
       "300"
      ]
     },
     "execution_count": 70,
     "metadata": {},
     "output_type": "execute_result"
    }
   ],
   "source": [
    "ll[z]"
   ]
  },
  {
   "cell_type": "code",
   "execution_count": 76,
   "id": "13ad04bb",
   "metadata": {},
   "outputs": [],
   "source": [
    "def get_median (ll):\n",
    "    l=sorted(ll)\n",
    "    median=0\n",
    "    for index, i in enumerate(l):\n",
    "        #print(index, i)\n",
    "        if len(l)%2==0:\n",
    "            idx_max=int(len(ll)/2)\n",
    "            idx_min=idx_max-1\n",
    "            median=(l[idx_max]+l[idx_min])/2\n",
    "        else:\n",
    "            idx=int(len(l)/2)\n",
    "            median=l[idx]\n",
    "    return median\n"
   ]
  },
  {
   "cell_type": "code",
   "execution_count": 79,
   "id": "56dbee74",
   "metadata": {},
   "outputs": [
    {
     "data": {
      "text/plain": [
       "23.0"
      ]
     },
     "execution_count": 79,
     "metadata": {},
     "output_type": "execute_result"
    }
   ],
   "source": [
    "get_median(ll)"
   ]
  },
  {
   "cell_type": "code",
   "execution_count": null,
   "id": "50300d51",
   "metadata": {},
   "outputs": [],
   "source": []
  },
  {
   "cell_type": "code",
   "execution_count": 16,
   "id": "93115584",
   "metadata": {},
   "outputs": [
    {
     "data": {
      "text/plain": [
       "73"
      ]
     },
     "execution_count": 16,
     "metadata": {},
     "output_type": "execute_result"
    }
   ],
   "source": [
    "list(map(abs, [10,  -1, 42, -73]))[3]\n"
   ]
  },
  {
   "cell_type": "code",
   "execution_count": 17,
   "id": "2a48c26c",
   "metadata": {},
   "outputs": [
    {
     "data": {
      "text/plain": [
       "42"
      ]
     },
     "execution_count": 17,
     "metadata": {},
     "output_type": "execute_result"
    }
   ],
   "source": [
    "list(map(abs, [10,  -1, 42, -73]))[2]\n"
   ]
  },
  {
   "cell_type": "code",
   "execution_count": 18,
   "id": "a059291b",
   "metadata": {},
   "outputs": [
    {
     "data": {
      "text/plain": [
       "1"
      ]
     },
     "execution_count": 18,
     "metadata": {},
     "output_type": "execute_result"
    }
   ],
   "source": [
    "list(map(abs, [10,  -1, 42, -73]))[1]\n"
   ]
  },
  {
   "cell_type": "code",
   "execution_count": 19,
   "id": "e95ca8fd",
   "metadata": {},
   "outputs": [
    {
     "data": {
      "text/plain": [
       "10"
      ]
     },
     "execution_count": 19,
     "metadata": {},
     "output_type": "execute_result"
    }
   ],
   "source": [
    "list(map(abs, [10,  -1, 42, -73]))[0]"
   ]
  },
  {
   "cell_type": "code",
   "execution_count": 20,
   "id": "9cc0e2f4",
   "metadata": {},
   "outputs": [
    {
     "data": {
      "text/plain": [
       "[10, 1, 42, 73]"
      ]
     },
     "execution_count": 20,
     "metadata": {},
     "output_type": "execute_result"
    }
   ],
   "source": [
    "list(map(abs, [10,  -1, 42, -73]))\n"
   ]
  },
  {
   "cell_type": "code",
   "execution_count": 2,
   "id": "432cb196",
   "metadata": {},
   "outputs": [
    {
     "data": {
      "text/plain": [
       "[10, 1, 42, 73]"
      ]
     },
     "execution_count": 2,
     "metadata": {},
     "output_type": "execute_result"
    }
   ],
   "source": [
    "list(map(abs, [10,  -1, 42, -73]))"
   ]
  },
  {
   "cell_type": "code",
   "execution_count": 23,
   "id": "d4001924",
   "metadata": {},
   "outputs": [
    {
     "name": "stdout",
     "output_type": "stream",
     "text": [
      "59.0\n"
     ]
    }
   ],
   "source": [
    "user_db = [{'orders': 12}, {'orders': 30}, {'orders': 45}, {'orders': 149}]\n",
    "\n",
    "# перепишите эту часть\n",
    "order_sum = sum([user['orders'] for user in user_db])\n",
    "orders_per_user = order_sum/len(user_db)\n",
    "print(orders_per_user)"
   ]
  },
  {
   "cell_type": "code",
   "execution_count": 25,
   "id": "2a0a4216",
   "metadata": {},
   "outputs": [],
   "source": [
    "def order_avg(db):\n",
    "#[{'orders': 12}, {'orders': 30}, {'orders': 45}, {'orders': 149}]\n",
    "    order_sum = sum([user['orders'] for user in db])\n",
    "    orders_per_user = order_sum/len(db) \n",
    "    return orders_per_user"
   ]
  },
  {
   "cell_type": "code",
   "execution_count": 26,
   "id": "8720baad",
   "metadata": {},
   "outputs": [
    {
     "data": {
      "text/plain": [
       "59.0"
      ]
     },
     "execution_count": 26,
     "metadata": {},
     "output_type": "execute_result"
    }
   ],
   "source": [
    "func=[{'orders': 12}, {'orders': 30}, {'orders': 45}, {'orders': 149}]\n",
    "order_avg(func)"
   ]
  },
  {
   "cell_type": "markdown",
   "id": "cf444aea",
   "metadata": {},
   "source": [
    "Написать функцию. \n",
    "Написать функцию, которая найдёт среди всех поставок максимальное количество товара. Указать, в какой день, какой медикамент. За все дни, вместе вщятые.  (вернуть дату, препарат, колво)"
   ]
  },
  {
   "cell_type": "code",
   "execution_count": 29,
   "id": "ec8b9d9b",
   "metadata": {},
   "outputs": [],
   "source": [
    "medicines={'21.06.21': {'Маски': 500, 'Витамин С': 5, 'Терафлю': 3},\n",
    " '28.06.21': {'Фуцидин-Г': 5,\n",
    "  'Хлоргексидин': 20,\n",
    "  'Витамин В': 15,\n",
    "  'Терафлю': 7,\n",
    "  'Маски': 1500},\n",
    " '05.07.21': {'Фуцидин-Г': 10, 'Аспирин': 100, 'Витамин В': 15, 'Терафлю': 7}}"
   ]
  },
  {
   "cell_type": "code",
   "execution_count": 30,
   "id": "ac39f3d7",
   "metadata": {},
   "outputs": [
    {
     "data": {
      "text/plain": [
       "{'21.06.21': {'Маски': 500, 'Витамин С': 5, 'Терафлю': 3},\n",
       " '28.06.21': {'Фуцидин-Г': 5,\n",
       "  'Хлоргексидин': 20,\n",
       "  'Витамин В': 15,\n",
       "  'Терафлю': 7,\n",
       "  'Маски': 1500},\n",
       " '05.07.21': {'Фуцидин-Г': 10, 'Аспирин': 100, 'Витамин В': 15, 'Терафлю': 7}}"
      ]
     },
     "execution_count": 30,
     "metadata": {},
     "output_type": "execute_result"
    }
   ],
   "source": [
    "medicines"
   ]
  },
  {
   "cell_type": "code",
   "execution_count": 32,
   "id": "1f05a426",
   "metadata": {},
   "outputs": [
    {
     "name": "stdout",
     "output_type": "stream",
     "text": [
      "21.06.21\n",
      "28.06.21\n",
      "05.07.21\n"
     ]
    }
   ],
   "source": [
    "for dates, tovary in medcines.items():\n",
    "    print (dates)"
   ]
  },
  {
   "cell_type": "code",
   "execution_count": 38,
   "id": "b122e410",
   "metadata": {},
   "outputs": [
    {
     "name": "stdout",
     "output_type": "stream",
     "text": [
      "1500 Маски 28.06.21\n"
     ]
    }
   ],
   "source": [
    "max_kolvo=0\n",
    "nam=0\n",
    "dat=0\n",
    "for dates, tovary in medcines.items():\n",
    "    for names, kolvo in tovary.items():\n",
    "        if kolvo>max_kolvo:\n",
    "            max_kolvo=kolvo\n",
    "            nam=names\n",
    "            dat=dates\n",
    "print(max_kolvo, nam, dat)"
   ]
  },
  {
   "cell_type": "code",
   "execution_count": 48,
   "id": "5eb4e0d0",
   "metadata": {},
   "outputs": [],
   "source": [
    "def max_products(x):\n",
    "    max_kolvo=0\n",
    "    nam=0\n",
    "    dat=0\n",
    "    for dates, tovary in x.items():\n",
    "        for names, kolvo in tovary.items():\n",
    "            if kolvo>max_kolvo:\n",
    "                max_kolvo=kolvo\n",
    "                nam=names\n",
    "                dat=dates\n",
    "    \n",
    "    return (nam, max_kolvo, dat)"
   ]
  },
  {
   "cell_type": "code",
   "execution_count": 47,
   "id": "a7e0a2c7",
   "metadata": {},
   "outputs": [
    {
     "data": {
      "text/plain": [
       "('Маски', 1500, '28.06.21')"
      ]
     },
     "execution_count": 47,
     "metadata": {},
     "output_type": "execute_result"
    }
   ],
   "source": [
    "max_products(medicines)"
   ]
  },
  {
   "cell_type": "markdown",
   "id": "8270cb9f",
   "metadata": {},
   "source": [
    "Задачи: прорешать платформу. Лямбда функции- ознакомиться, но полностью будем прорабатывать отдельно. \n",
    "    Будет тест по функциям (опросник). Знать, что такое фукнция в общем смысле, в смысле яп Python, что такое сигнатура функции. \n",
    "Структура фции. Какие фции бывают. Задачи. "
   ]
  },
  {
   "cell_type": "markdown",
   "id": "2508fc63",
   "metadata": {},
   "source": [
    "def mapping(a, b):\n",
    " \n",
    "    return (a // TILE) * TILE, (b // TILE) * TILE\n",
    "\n",
    "def distance(a, b):\n",
    "\n",
    "    distance = math.sqrt((a.x - b.x)**2 + (a.y - b.y)**2)\n",
    "    return distance\n",
    "\n",
    "def intersections_of_circles(a, b):\n",
    "\n",
    "    intersection = True if a.r - b.r < distance(a, b) < a.r + b.r else False\n",
    "    return intersection"
   ]
  },
  {
   "cell_type": "code",
   "execution_count": 81,
   "id": "606d2754",
   "metadata": {},
   "outputs": [
    {
     "data": {
      "text/plain": [
       "0"
      ]
     },
     "execution_count": 81,
     "metadata": {},
     "output_type": "execute_result"
    }
   ],
   "source": [
    "(2//3)*3"
   ]
  },
  {
   "cell_type": "code",
   "execution_count": 82,
   "id": "b95c939f",
   "metadata": {},
   "outputs": [
    {
     "data": {
      "text/plain": [
       "3"
      ]
     },
     "execution_count": 82,
     "metadata": {},
     "output_type": "execute_result"
    }
   ],
   "source": [
    "(4//3)*3"
   ]
  },
  {
   "cell_type": "markdown",
   "id": "a55be4f9",
   "metadata": {},
   "source": [
    "Написать фукнцию, которая из словаря (приходит на вход) составляет словарь, который соответствует названию валюты и её значению в рублях. \n"
   ]
  },
  {
   "cell_type": "code",
   "execution_count": 83,
   "id": "03c471ed",
   "metadata": {},
   "outputs": [],
   "source": [
    "currency = {\n",
    "  'AMD': {\n",
    "    'Name': 'Армянских драмов',\n",
    "    'Nominal': 100,\n",
    "    'Value': 13.121\n",
    "  },\n",
    "\n",
    "  'AUD': {\n",
    "    'Name': 'Австралийский доллар',\n",
    "    'Nominal': 1,\n",
    "    'Value': 45.5309\n",
    "  },\n",
    "\n",
    "  'INR': {\n",
    "    'Name': 'Индийских рупий',\n",
    "    'Nominal': 100,\n",
    "    'Value': 92.9658\n",
    "  },\n",
    "\n",
    "  'MDL': {\n",
    "    'Name': 'Молдавских леев',\n",
    "    'Nominal': 10,\n",
    "    'Value': 36.9305\n",
    "  },\n",
    "}"
   ]
  },
  {
   "cell_type": "code",
   "execution_count": 84,
   "id": "e489a218",
   "metadata": {
    "scrolled": false
   },
   "outputs": [
    {
     "data": {
      "text/plain": [
       "{'AMD': {'Name': 'Армянских драмов', 'Nominal': 100, 'Value': 13.121},\n",
       " 'AUD': {'Name': 'Австралийский доллар', 'Nominal': 1, 'Value': 45.5309},\n",
       " 'INR': {'Name': 'Индийских рупий', 'Nominal': 100, 'Value': 92.9658},\n",
       " 'MDL': {'Name': 'Молдавских леев', 'Nominal': 10, 'Value': 36.9305}}"
      ]
     },
     "execution_count": 84,
     "metadata": {},
     "output_type": "execute_result"
    }
   ],
   "source": [
    "currency"
   ]
  },
  {
   "cell_type": "code",
   "execution_count": 101,
   "id": "901a1797",
   "metadata": {},
   "outputs": [],
   "source": [
    "def curr_exch(slovar):\n",
    "    exchange={}\n",
    "    for name, desc in slovar.items():\n",
    "        exchange[name] = desc['Value']/desc['Nominal']\n",
    "    return exchange"
   ]
  },
  {
   "cell_type": "code",
   "execution_count": 102,
   "id": "cf80b466",
   "metadata": {},
   "outputs": [
    {
     "data": {
      "text/plain": [
       "{'AMD': 0.13121, 'AUD': 45.5309, 'INR': 0.929658, 'MDL': 3.6930500000000004}"
      ]
     },
     "execution_count": 102,
     "metadata": {},
     "output_type": "execute_result"
    }
   ],
   "source": [
    "curr_exch(currency)"
   ]
  },
  {
   "cell_type": "code",
   "execution_count": null,
   "id": "13f7dc92",
   "metadata": {},
   "outputs": [],
   "source": []
  },
  {
   "cell_type": "code",
   "execution_count": 104,
   "id": "6b18541b",
   "metadata": {},
   "outputs": [],
   "source": [
    "import numpy as np"
   ]
  },
  {
   "cell_type": "code",
   "execution_count": 105,
   "id": "69445d15",
   "metadata": {},
   "outputs": [
    {
     "data": {
      "text/plain": [
       "[22026.465794806718, 9.636665673603202e+52, 0.0, 162754.79141900392]"
      ]
     },
     "execution_count": 105,
     "metadata": {},
     "output_type": "execute_result"
    }
   ],
   "source": [
    "def black_box(x):\n",
    "    if x % 2 == 0:\n",
    "        return np.exp(x)\n",
    "    else:\n",
    "        return np.log(x)\n",
    "list(map(black_box, [10, 122 , 1, 12]))"
   ]
  },
  {
   "cell_type": "code",
   "execution_count": 106,
   "id": "755b65bc",
   "metadata": {},
   "outputs": [
    {
     "data": {
      "text/plain": [
       "<function __main__.<lambda>(x)>"
      ]
     },
     "execution_count": 106,
     "metadata": {},
     "output_type": "execute_result"
    }
   ],
   "source": [
    "lambda x: np.exp(x) if x % 2 == 0 else np.log(x)"
   ]
  },
  {
   "cell_type": "code",
   "execution_count": 110,
   "id": "d98c577e",
   "metadata": {},
   "outputs": [
    {
     "name": "stderr",
     "output_type": "stream",
     "text": [
      "<ipython-input-110-4942fe7314ef>:1: RuntimeWarning: invalid value encountered in log\n",
      "  list(map(lambda x: np.exp(x) if x % 2 == 0 else np.log(x), [10, -122 , -1, 12]))\n"
     ]
    },
    {
     "data": {
      "text/plain": [
       "[22026.465794806718, 1.0377033238158346e-53, nan, 162754.79141900392]"
      ]
     },
     "execution_count": 110,
     "metadata": {},
     "output_type": "execute_result"
    }
   ],
   "source": [
    "list(map(lambda x: np.exp(x) if x % 2 == 0 else np.log(x), [10, -122 , -1, 12]))"
   ]
  },
  {
   "cell_type": "code",
   "execution_count": null,
   "id": "bfc71b2f",
   "metadata": {},
   "outputs": [],
   "source": [
    "Сделать платформу lambda, map. "
   ]
  },
  {
   "cell_type": "markdown",
   "id": "04e3ecd3",
   "metadata": {},
   "source": [
    "Лямбда-функции\n",
    "На практике функции для map часто бывают короткими и используются только один раз. В этом случае удобно применять так называемые анонимные функции (или лямбда-функции): они позволяют определять функции лаконичнее, прямо в месте использования.\n",
    "\n",
    "Анонимные функции могут содержать лишь одно выражение, и им необязательно давать имя. Анонимные функции создаются с помощью инструкции lambda и немного отличаются синтаксисом. Давайте посмотрим на них.\n",
    "\n",
    " создадим простую функцию с помощью lambda и положим её в переменную func  \n",
    "func = lambda x, y: x + y  \n",
    "  \n",
    " после этого мы можем использовать func как обычную функцию  \n",
    "func(1, 2)  \n",
    " => 3  \n",
    "func('a', 'b')  \n",
    " => 'ab'  \n",
    "  \n",
    " мы даже можем не давать функции имя, а сразу вызывать  \n",
    "(lambda x: x**2)(8)  \n",
    " => 64  \n",
    "Если сравнивать определение обычной функции и лямбда-функции:\n",
    "\n",
    "пишем lambda вместо def;\n",
    "не пишем название функции (потому и анонимная);\n",
    "аргументы без скобок;\n",
    "только одно выражение и оно же возвращается; return не пишется.\n",
    "Более наглядно:\n",
    "\n",
    "def name(x, y):  \n",
    "    return x + y  \n",
    "  \n",
    " то же самое, что  \n",
    "name = lambda x, y: x + y  \n",
    "\n",
    "\n",
    "# Lambda + map\n",
    "\n",
    "Мы разобрались, как определять лямбда-функции, и теперь давайте попробуем применить их к map. Перепишем пример с вежливыми именами\n",
    "\n"
   ]
  },
  {
   "cell_type": "code",
   "execution_count": 1,
   "id": "f1fa1425",
   "metadata": {},
   "outputs": [],
   "source": [
    "# исходная версия была такой  \n",
    "def polite_name(name):  \n",
    "    return 'Mr. ' + name   \n",
    "  \n",
    "guests = [\"Boris\", \"Ivan\", \"Bob\"]  \n",
    "guest_iterator = map(polite_name, guests)   \n"
   ]
  },
  {
   "cell_type": "code",
   "execution_count": 3,
   "id": "3e30253e",
   "metadata": {},
   "outputs": [
    {
     "data": {
      "text/plain": [
       "['Mr. Boris', 'Mr. Ivan', 'Mr. Bob']"
      ]
     },
     "execution_count": 3,
     "metadata": {},
     "output_type": "execute_result"
    }
   ],
   "source": [
    "list(guest_iterator)"
   ]
  },
  {
   "cell_type": "code",
   "execution_count": 4,
   "id": "5d2e2618",
   "metadata": {},
   "outputs": [
    {
     "data": {
      "text/plain": [
       "['Mr. Boris', 'Mr. Ivan', 'Mr. Bob']"
      ]
     },
     "execution_count": 4,
     "metadata": {},
     "output_type": "execute_result"
    }
   ],
   "source": [
    "# Теперь перепишем с лямбда функцией  \n",
    "guests = [\"Boris\", \"Ivan\", \"Bob\"]  \n",
    "list(map(lambda name: \"Mr. \" + name, guests))  \n"
   ]
  },
  {
   "cell_type": "markdown",
   "id": "558561c2",
   "metadata": {},
   "source": [
    "#Пусть у нас определены следующие значения\n",
    "\n",
    "#Какие тогда определения map с lambda являются корректными:\n",
    "\n"
   ]
  },
  {
   "cell_type": "code",
   "execution_count": 5,
   "id": "8bbabcd1",
   "metadata": {},
   "outputs": [],
   "source": [
    "\n",
    "values = [1, 2, 3]\n",
    "vectors = [(10, 3), (4, 5), (6, 7)]"
   ]
  },
  {
   "cell_type": "code",
   "execution_count": 7,
   "id": "1ca42b8b",
   "metadata": {},
   "outputs": [
    {
     "data": {
      "text/plain": [
       "[3, 4, 5]"
      ]
     },
     "execution_count": 7,
     "metadata": {},
     "output_type": "execute_result"
    }
   ],
   "source": [
    "list(map(lambda x: x+2, [1, 2, 3]))"
   ]
  },
  {
   "cell_type": "code",
   "execution_count": 9,
   "id": "bd79c7b1",
   "metadata": {},
   "outputs": [
    {
     "data": {
      "text/plain": [
       "[10.44030650891055, 6.4031242374328485, 9.219544457292887]"
      ]
     },
     "execution_count": 9,
     "metadata": {},
     "output_type": "execute_result"
    }
   ],
   "source": [
    "list(map(lambda vec: (vec[0]**2 + vec[1]**2)**0.5, vectors))"
   ]
  },
  {
   "cell_type": "markdown",
   "id": "9591a02c",
   "metadata": {},
   "source": [
    "Напишите выражение c map, которое из каждого элемента values вычитает среднее значение mean. Результирующий список положите в переменную result."
   ]
  },
  {
   "cell_type": "code",
   "execution_count": 15,
   "id": "1727ac47",
   "metadata": {},
   "outputs": [
    {
     "data": {
      "text/plain": [
       "[-14, -10, -3, -2, 5, 24]"
      ]
     },
     "execution_count": 15,
     "metadata": {},
     "output_type": "execute_result"
    }
   ],
   "source": [
    "values = [4, 8, 15, 16, 23, 42]\n",
    "mean = 18\n",
    "\n",
    "result = list(map(lambda values: values-mean, values))\n",
    "result"
   ]
  },
  {
   "cell_type": "markdown",
   "id": "10071438",
   "metadata": {},
   "source": [
    "# Filter\n",
    "Есть ещё одна полезная функция, похожая на map - filter. Они также принимают на вход произвольную функцию и коллекцию. Разница в том, что filter не меняет элементы, а отфильтровывает коллекцию, оставляя или выбрасывая элементы в зависимости от значения функции."
   ]
  },
  {
   "cell_type": "code",
   "execution_count": 16,
   "id": "31c096ba",
   "metadata": {},
   "outputs": [
    {
     "data": {
      "text/plain": [
       "[1, 33, 5]"
      ]
     },
     "execution_count": 16,
     "metadata": {},
     "output_type": "execute_result"
    }
   ],
   "source": [
    "nums = [1, 20, 30, 33, 16, 5]  \n",
    "  \n",
    "# оставим числа меньшее 30  \n",
    "list(filter(lambda x: x < 30, nums))  \n",
    "# => [1, 20, 16, 5]  \n",
    "  \n",
    "# оставим только нечётные числа  \n",
    "list(filter(lambda x: x % 2 == 1, nums))  \n",
    "# => [1, 33, 5] \n"
   ]
  },
  {
   "cell_type": "code",
   "execution_count": 19,
   "id": "84926838",
   "metadata": {},
   "outputs": [
    {
     "data": {
      "text/plain": [
       "[23, 42]"
      ]
     },
     "execution_count": 19,
     "metadata": {},
     "output_type": "execute_result"
    }
   ],
   "source": [
    "#Для заданных чисел values и среднего значения mean напишите такой filter, который оставляет только элементы больше среднего значения.\n",
    "\n",
    "\n",
    "values = [4, 8, 15, 16, 23, 42]\n",
    "mean = 18\n",
    "\n",
    "result = list(filter(lambda x: x > mean, values))\n",
    "result"
   ]
  }
 ],
 "metadata": {
  "kernelspec": {
   "display_name": "Python 3",
   "language": "python",
   "name": "python3"
  },
  "language_info": {
   "codemirror_mode": {
    "name": "ipython",
    "version": 3
   },
   "file_extension": ".py",
   "mimetype": "text/x-python",
   "name": "python",
   "nbconvert_exporter": "python",
   "pygments_lexer": "ipython3",
   "version": "3.8.10"
  }
 },
 "nbformat": 4,
 "nbformat_minor": 5
}
