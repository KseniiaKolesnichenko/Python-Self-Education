{
 "cells": [
  {
   "cell_type": "code",
   "execution_count": 8,
   "id": "86098cba",
   "metadata": {},
   "outputs": [
    {
     "name": "stdout",
     "output_type": "stream",
     "text": [
      "                                                            \n",
      "                                                            \n",
      "                                                            \n",
      "                ша любит            бит ML Кс               \n",
      "            Ксюша любит ML Кс    любит ML Ксюша л           \n",
      "           Ксюша любит ML Ксюша любит ML Ксюша люби         \n",
      "          Ксюша любит ML Ксюша любит ML Ксюша любит         \n",
      "         Ксюша любит ML Ксюша любит ML Ксюша любит ML       \n",
      "        Ксюша любит ML Ксюша любит ML Ксюша любит ML        \n",
      "        сюша любит ML Ксюша любит ML Ксюша любит ML К       \n",
      "        юша любит ML Ксюша любит ML Ксюша любит ML Кс       \n",
      "        ша любит ML Ксюша любит ML Ксюша любит ML Ксю       \n",
      "        а любит ML Ксюша любит ML Ксюша любит ML Ксюш       \n",
      "         любит ML Ксюша любит ML Ксюша любит ML Ксюш        \n",
      "          бит ML Ксюша любит ML Ксюша любит ML Ксюш         \n",
      "          ит ML Ксюша любит ML Ксюша любит ML Ксюша         \n",
      "            ML Ксюша любит ML Ксюша любит ML Ксюш           \n",
      "              Ксюша любит ML Ксюша любит ML Ксюш            \n",
      "              сюша любит ML Ксюша любит ML Ксюш             \n",
      "                а любит ML Ксюша любит ML Ксю               \n",
      "                  юбит ML Ксюша любит ML Кс                 \n",
      "                    т ML Ксюша любит ML К                   \n",
      "                        Ксюша любит ML                      \n",
      "                          ша любит                          \n",
      "                             юби                            \n",
      "                              и                             \n",
      "                                                            \n",
      "                                                            \n",
      "                                                            \n",
      "                                                            \n"
     ]
    }
   ],
   "source": [
    "print('\\n'.join([''.join([(' Ксюша любит ML'[(x-y) % len(' Ксюша любит ML')] if ((x*0.05)**2+(y*0.1)**2-1)**3-(x*0.05)**2*(y*0.1)**3 <= 0 else ' ') for x in range(-30, 30)]) for y in range(15, -15, -1)]))"
   ]
  },
  {
   "cell_type": "code",
   "execution_count": null,
   "id": "d8187a2a",
   "metadata": {},
   "outputs": [],
   "source": []
  }
 ],
 "metadata": {
  "kernelspec": {
   "display_name": "Python 3",
   "language": "python",
   "name": "python3"
  },
  "language_info": {
   "codemirror_mode": {
    "name": "ipython",
    "version": 3
   },
   "file_extension": ".py",
   "mimetype": "text/x-python",
   "name": "python",
   "nbconvert_exporter": "python",
   "pygments_lexer": "ipython3",
   "version": "3.8.10"
  }
 },
 "nbformat": 4,
 "nbformat_minor": 5
}
