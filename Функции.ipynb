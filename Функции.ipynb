{
 "cells": [
  {
   "cell_type": "markdown",
   "metadata": {},
   "source": [
    "### Определение функций и их значение"
   ]
  },
  {
   "cell_type": "markdown",
   "metadata": {},
   "source": [
    "Классическое определение функции:<p>\n",
    "**Функцией** называется обобленный кусок кода, к которому по имени можно обратиться из любой части программы<p>\n",
    "По питоновски: <p>\n",
    "**Функция** - тип данных в Python, который хранит в себе алгоритм выполнения некоторой операции с глобальными переменными и аргументами, переданными в функцию"
   ]
  },
  {
   "cell_type": "markdown",
   "metadata": {},
   "source": [
    "У функции всегда есть имя, тело и, возможно, аргументы - параметры функции, которые в нее передаются и используются, а также возвращаемое значение\n",
    "Сигнатура функции - ее устройство: имя, типы аргументов и возращаемое значение"
   ]
  },
  {
   "cell_type": "markdown",
   "metadata": {},
   "source": [
    "Для того, чтобы посмотреть сигнатуру уже написанной функции в Jupiter можно нажать tab+shift в аргументах функции"
   ]
  },
  {
   "cell_type": "code",
   "execution_count": 1,
   "metadata": {},
   "outputs": [],
   "source": [
    "def name_funtion(argument_1, argument_2):\n",
    "    body_of_function\n",
    "    return value"
   ]
  },
  {
   "cell_type": "code",
   "execution_count": 2,
   "metadata": {},
   "outputs": [],
   "source": [
    "import numpy as np"
   ]
  },
  {
   "cell_type": "markdown",
   "metadata": {},
   "source": [
    "Функции без аргументов:"
   ]
  },
  {
   "cell_type": "code",
   "execution_count": 3,
   "metadata": {},
   "outputs": [
    {
     "data": {
      "text/plain": [
       "1.2584038316686057"
      ]
     },
     "execution_count": 3,
     "metadata": {},
     "output_type": "execute_result"
    }
   ],
   "source": [
    "def get_random_num(): #функция без аргументов\n",
    "    return np.random.uniform(low=1, high=2)\n",
    "get_random_num()"
   ]
  },
  {
   "cell_type": "markdown",
   "metadata": {},
   "source": [
    "Функции с аргументами:"
   ]
  },
  {
   "cell_type": "code",
   "execution_count": 4,
   "metadata": {},
   "outputs": [
    {
     "name": "stdout",
     "output_type": "stream",
     "text": [
      "6.0\n"
     ]
    }
   ],
   "source": [
    "persent = 0.1\n",
    "def count_cost(product): #product - аргумент функции   \n",
    "    if product == \"apple\":    \n",
    "        cost = 30    \n",
    "    else:    \n",
    "        cost = 60    \n",
    "    return cost * persent    \n",
    "print(count_cost(product='carrot'))"
   ]
  },
  {
   "cell_type": "markdown",
   "metadata": {},
   "source": [
    "Функции могут не содержать тела:"
   ]
  },
  {
   "cell_type": "code",
   "execution_count": 5,
   "metadata": {},
   "outputs": [],
   "source": [
    "def passive_function():\n",
    "    pass\n",
    "passive_function()"
   ]
  },
  {
   "cell_type": "markdown",
   "metadata": {},
   "source": [
    "Функции могут быть встроенные, библиотечные или написанными самим программистом"
   ]
  },
  {
   "cell_type": "code",
   "execution_count": 6,
   "metadata": {},
   "outputs": [
    {
     "data": {
      "text/plain": [
       "241"
      ]
     },
     "execution_count": 6,
     "metadata": {},
     "output_type": "execute_result"
    }
   ],
   "source": [
    "max([1, 241, 124, 12, 142, 120])#встроенная функция"
   ]
  },
  {
   "cell_type": "code",
   "execution_count": 7,
   "metadata": {},
   "outputs": [
    {
     "data": {
      "text/plain": [
       "80.26012397199496"
      ]
     },
     "execution_count": 7,
     "metadata": {},
     "output_type": "execute_result"
    }
   ],
   "source": [
    "np.std([14, 12, 194, 1])#библиотечная функция"
   ]
  },
  {
   "cell_type": "code",
   "execution_count": 8,
   "metadata": {},
   "outputs": [
    {
     "data": {
      "text/plain": [
       "4.0"
      ]
     },
     "execution_count": 8,
     "metadata": {},
     "output_type": "execute_result"
    }
   ],
   "source": [
    "def get_mean_sqrt_error(x, y):#рукописная функция\n",
    "    \"\"\"\n",
    "    Данная функция считает среднюю квадратичную ошибку. Принимает в себя аргументы: x и y\n",
    "    \"\"\"\n",
    "    x = np.array(x)\n",
    "    y = np.array(y)\n",
    "    error = ((x - y)**2).mean()\n",
    "    return error\n",
    "e = get_mean_sqrt_error(x=[10, 240, 12], y=[12, 242, 10])\n",
    "e"
   ]
  },
  {
   "cell_type": "markdown",
   "metadata": {},
   "source": [
    "**Задание**: Исправьте этот код: дополните функцию sum_2, чтобы она принимала аргументы x и y, а потом возвращала их сумму. Затем вызовите sum_2 для 42 и 73 и выведите на экран полученный результат."
   ]
  },
  {
   "cell_type": "code",
   "execution_count": 75,
   "metadata": {
    "scrolled": true
   },
   "outputs": [
    {
     "name": "stdout",
     "output_type": "stream",
     "text": [
      "115\n"
     ]
    }
   ],
   "source": [
    "def sum_2(x, y):\n",
    "    result = x + y\n",
    "    return result\n",
    "print(sum_2(42, 73))"
   ]
  },
  {
   "cell_type": "markdown",
   "metadata": {},
   "source": [
    "**Задание**: Постройте функцию get_median, которая принимает на вход список чисел и возвращает медиану, например, для этого списка."
   ]
  },
  {
   "cell_type": "code",
   "execution_count": 23,
   "metadata": {},
   "outputs": [
    {
     "name": "stdout",
     "output_type": "stream",
     "text": [
      "3.5\n",
      "3\n"
     ]
    }
   ],
   "source": [
    "def get_median(x):\n",
    "    x = sorted(x)\n",
    "    if len(x)%2 == 0:\n",
    "        left_idx = len(x)//2 - 1\n",
    "        right_idx = len(x)//2 \n",
    "        return (x[left_idx] + x[right_idx])/2\n",
    "    else:\n",
    "        center_idx = len(x)//2\n",
    "        return x[center_idx]\n",
    "print(get_median([5, 2, 1, 3, 4, 5]))\n",
    "print(get_median([3, 3, 7, 9, 1]))"
   ]
  },
  {
   "cell_type": "code",
   "execution_count": 83,
   "metadata": {},
   "outputs": [],
   "source": [
    "median = get_median([5, 2, 1, 3, 4, 5])"
   ]
  },
  {
   "cell_type": "markdown",
   "metadata": {},
   "source": [
    "**Задание**: Перепишите код ниже, определив функцию avg_orders(user_db), которая возвращает среднее число заказов по данным в базе. Затем выведите на экран результат вызова этой функции для user_db"
   ]
  },
  {
   "cell_type": "code",
   "execution_count": 87,
   "metadata": {},
   "outputs": [
    {
     "name": "stdout",
     "output_type": "stream",
     "text": [
      "59.0\n"
     ]
    }
   ],
   "source": [
    "user_db = [{'orders': 12}, {'orders': 30}, {'orders': 45}, {'orders': 149}]\n",
    "\n",
    "# перепишите эту часть\n",
    "order_sum = sum([user['orders'] for user in user_db])\n",
    "orders_per_user = order_sum/len(user_db)\n",
    "print(orders_per_user)"
   ]
  },
  {
   "cell_type": "code",
   "execution_count": 88,
   "metadata": {},
   "outputs": [],
   "source": []
  },
  {
   "cell_type": "code",
   "execution_count": 89,
   "metadata": {},
   "outputs": [
    {
     "data": {
      "text/plain": [
       "59.0"
      ]
     },
     "execution_count": 89,
     "metadata": {},
     "output_type": "execute_result"
    }
   ],
   "source": [
    "avg_orders(user_db)"
   ]
  },
  {
   "cell_type": "markdown",
   "metadata": {},
   "source": [
    "### Функция как объект"
   ]
  },
  {
   "cell_type": "markdown",
   "metadata": {},
   "source": [
    "В отличие от всех других языков программирования - в Python - функция является объектом типа данных function. У нее как и у всех типов данных есть свои методы, атрибуты. Функции могут переопределяться как переменные, а также могут являться аргументами другой функции"
   ]
  },
  {
   "cell_type": "code",
   "execution_count": 1,
   "metadata": {},
   "outputs": [
    {
     "name": "stdout",
     "output_type": "stream",
     "text": [
      "Простая функция\n"
     ]
    }
   ],
   "source": [
    "def my_function():\n",
    "    print('Простая функция')\n",
    "my_function()"
   ]
  },
  {
   "cell_type": "code",
   "execution_count": 4,
   "metadata": {},
   "outputs": [
    {
     "data": {
      "text/plain": [
       "'my_function'"
      ]
     },
     "execution_count": 4,
     "metadata": {},
     "output_type": "execute_result"
    }
   ],
   "source": [
    "my_function.__name__"
   ]
  },
  {
   "cell_type": "code",
   "execution_count": 5,
   "metadata": {},
   "outputs": [],
   "source": [
    "list([14, 124, 12]).append(5)"
   ]
  },
  {
   "cell_type": "code",
   "execution_count": 61,
   "metadata": {},
   "outputs": [
    {
     "name": "stdout",
     "output_type": "stream",
     "text": [
      "Простая функция\n",
      "Простая функция\n"
     ]
    }
   ],
   "source": [
    "func = my_function\n",
    "func()\n",
    "my_function()"
   ]
  },
  {
   "cell_type": "code",
   "execution_count": 11,
   "metadata": {},
   "outputs": [
    {
     "name": "stdout",
     "output_type": "stream",
     "text": [
      "Применена функция: get_median\n"
     ]
    },
    {
     "data": {
      "text/plain": [
       "18.0"
      ]
     },
     "execution_count": 11,
     "metadata": {},
     "output_type": "execute_result"
    }
   ],
   "source": [
    "def get_mean(x):#функция вычисления среднего, аргумент - список\n",
    "    return sum(x) / len(x)\n",
    "\n",
    "def get_median(x):#функция высления медианы, аргумент - список\n",
    "    x = sorted(x)\n",
    "    if len(x)%2 == 0:\n",
    "        left_idx = len(x)//2 - 1\n",
    "        right_idx = len(x)//2 \n",
    "        return (x[left_idx] + x[right_idx])/2\n",
    "    else:\n",
    "        center_idx = len(x)//2\n",
    "        return x[center_idx]\n",
    "\n",
    "def calucate_statistic(x, function):#функция вычисляющая какую-либо статистику, аргументы - список и применяемая функция\n",
    "    print('Применена функция: {}'.format(function.__name__))\n",
    "    return function(x)\n",
    "calucate_statistic([1, 24, 124, 12], get_median)"
   ]
  },
  {
   "cell_type": "markdown",
   "metadata": {},
   "source": [
    "Функции могут образовывать вложенную конструкцию:"
   ]
  },
  {
   "cell_type": "code",
   "execution_count": 54,
   "metadata": {},
   "outputs": [
    {
     "name": "stdout",
     "output_type": "stream",
     "text": [
      "Персонажу Дудосер228 класса воин выдано оружие меч\n"
     ]
    }
   ],
   "source": [
    "def create_sword():\n",
    "    return 'меч'\n",
    "\n",
    "def create_onion():\n",
    "    return 'лук'\n",
    "    \n",
    "def create_weapon(name, class_hero):\n",
    "    if class_hero == 'воин':\n",
    "        weapon = create_sword()\n",
    "    elif class_hero == 'лучник':\n",
    "        weapon = create_onion()\n",
    "    else:\n",
    "        print('Неизвестный класс персонажа')\n",
    "        return\n",
    "    print('Персонажу {} класса {} выдано оружие {}'.format(name, class_hero, weapon))\n",
    "create_weapon('Дудосер228', 'воин')"
   ]
  },
  {
   "cell_type": "markdown",
   "metadata": {},
   "source": [
    "С помощью встроенной функции map() функция может быть применена к каждому элементу массива данных по отдельности"
   ]
  },
  {
   "cell_type": "markdown",
   "metadata": {},
   "source": [
    "**Задание:** Пусть у нас есть список слов, и мы хотим получить длину каждого слова. Например, из списка [\"All\", \"my\", \"troubles\", \"seemed\", \"so\", \"far\", \"away\"] мы ожидаем получить список [3, 2, 8, 6, 2, 3, 4]"
   ]
  },
  {
   "cell_type": "code",
   "execution_count": 14,
   "metadata": {},
   "outputs": [
    {
     "data": {
      "text/plain": [
       "['All', 'my', 'troubles', 'seemed', 'so', 'far', 'away']"
      ]
     },
     "execution_count": 14,
     "metadata": {},
     "output_type": "execute_result"
    }
   ],
   "source": [
    "[\"All\", \"my\", \"troubles\", \"seemed\", \"so\", \"far\", \"away\"]"
   ]
  },
  {
   "cell_type": "code",
   "execution_count": 13,
   "metadata": {},
   "outputs": [
    {
     "data": {
      "text/plain": [
       "[3, 2, 8, 6, 2, 3, 4]"
      ]
     },
     "execution_count": 13,
     "metadata": {},
     "output_type": "execute_result"
    }
   ],
   "source": [
    "list(map(len, [\"All\", \"my\", \"troubles\", \"seemed\", \"so\", \"far\", \"away\"]))"
   ]
  },
  {
   "cell_type": "code",
   "execution_count": 22,
   "metadata": {},
   "outputs": [
    {
     "data": {
      "text/plain": [
       "[2.6390573296152584,\n",
       " 4.007333185232471,\n",
       " 3.044522437723423,\n",
       " 0.6931471805599453,\n",
       " 0,\n",
       " 1.3862943611198906]"
      ]
     },
     "execution_count": 22,
     "metadata": {},
     "output_type": "execute_result"
    }
   ],
   "source": [
    "from math import log\n",
    "a = [14, 55, 21, 2, 0, 4]\n",
    "def get_log(value):\n",
    "    if value == 0:\n",
    "        return value\n",
    "    else:\n",
    "        return log(value)\n",
    "list(map(get_log, a))"
   ]
  },
  {
   "cell_type": "markdown",
   "metadata": {},
   "source": [
    "### Лямбда функции"
   ]
  },
  {
   "cell_type": "code",
   "execution_count": 1,
   "metadata": {},
   "outputs": [
    {
     "data": {
      "text/plain": [
       "[196, 3025, 441, 4, 0, 16]"
      ]
     },
     "execution_count": 1,
     "metadata": {},
     "output_type": "execute_result"
    }
   ],
   "source": [
    "a = [14, 55, 21, 2, 0, 4]\n",
    "list(map(lambda x: x**2, a))"
   ]
  },
  {
   "cell_type": "code",
   "execution_count": 3,
   "metadata": {},
   "outputs": [
    {
     "data": {
      "text/plain": [
       "(<function __main__.<lambda>(x)>, [14, 55, 21, 2, 0, 4])"
      ]
     },
     "execution_count": 3,
     "metadata": {},
     "output_type": "execute_result"
    }
   ],
   "source": [
    "lambda x: x**2, a"
   ]
  },
  {
   "cell_type": "code",
   "execution_count": 27,
   "metadata": {},
   "outputs": [
    {
     "data": {
      "text/plain": [
       "[2.6390573296152584,\n",
       " 4.007333185232471,\n",
       " 3.044522437723423,\n",
       " 0.6931471805599453,\n",
       " 0,\n",
       " 1.3862943611198906]"
      ]
     },
     "execution_count": 27,
     "metadata": {},
     "output_type": "execute_result"
    }
   ],
   "source": [
    "list(map(lambda x: 0 if (x == 0) else log(x), a))"
   ]
  },
  {
   "cell_type": "code",
   "execution_count": 29,
   "metadata": {},
   "outputs": [
    {
     "data": {
      "text/plain": [
       "15"
      ]
     },
     "execution_count": 29,
     "metadata": {},
     "output_type": "execute_result"
    }
   ],
   "source": [
    "name = lambda x, y: x + y \n",
    "name(10, 5)"
   ]
  },
  {
   "cell_type": "code",
   "execution_count": 30,
   "metadata": {},
   "outputs": [],
   "source": [
    "def name(x, y):  \n",
    "    return x + y  \n",
    "  \n",
    "# то же самое, что  \n",
    "name = lambda x, y: x + y  "
   ]
  },
  {
   "cell_type": "code",
   "execution_count": 37,
   "metadata": {},
   "outputs": [
    {
     "data": {
      "text/plain": [
       "17"
      ]
     },
     "execution_count": 37,
     "metadata": {},
     "output_type": "execute_result"
    }
   ],
   "source": [
    "def summa(a=10, b=5):\n",
    "    return a + b\n",
    "summa(b=7)"
   ]
  },
  {
   "cell_type": "code",
   "execution_count": 39,
   "metadata": {},
   "outputs": [],
   "source": [
    "from sklearn.linear_model import LinearRegression\n",
    "from sklearn.tree import DecisionTreeClassifier"
   ]
  },
  {
   "cell_type": "code",
   "execution_count": null,
   "metadata": {},
   "outputs": [],
   "source": [
    "LinearRegression()"
   ]
  },
  {
   "cell_type": "code",
   "execution_count": null,
   "metadata": {},
   "outputs": [],
   "source": [
    "DecisionTreeClassifier()"
   ]
  }
 ],
 "metadata": {
  "kernelspec": {
   "display_name": "Python 3",
   "language": "python",
   "name": "python3"
  },
  "language_info": {
   "codemirror_mode": {
    "name": "ipython",
    "version": 3
   },
   "file_extension": ".py",
   "mimetype": "text/x-python",
   "name": "python",
   "nbconvert_exporter": "python",
   "pygments_lexer": "ipython3",
   "version": "3.8.10"
  }
 },
 "nbformat": 4,
 "nbformat_minor": 4
}
