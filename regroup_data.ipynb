{
 "cells": [
  {
   "cell_type": "code",
   "execution_count": 1,
   "id": "f34e2c6d-2c0c-4621-a85a-2e779c6ba905",
   "metadata": {},
   "outputs": [],
   "source": [
    "import pandas as pd"
   ]
  },
  {
   "cell_type": "code",
   "execution_count": 3,
   "id": "24a56a33-25d3-4dff-9a98-04e04cb3e996",
   "metadata": {},
   "outputs": [
    {
     "data": {
      "text/html": [
       "<div>\n",
       "<style scoped>\n",
       "    .dataframe tbody tr th:only-of-type {\n",
       "        vertical-align: middle;\n",
       "    }\n",
       "\n",
       "    .dataframe tbody tr th {\n",
       "        vertical-align: top;\n",
       "    }\n",
       "\n",
       "    .dataframe thead th {\n",
       "        text-align: right;\n",
       "    }\n",
       "</style>\n",
       "<table border=\"1\" class=\"dataframe\">\n",
       "  <thead>\n",
       "    <tr style=\"text-align: right;\">\n",
       "      <th></th>\n",
       "      <th>Unnamed: 0</th>\n",
       "      <th>Moscow Time</th>\n",
       "      <th>AmountRub</th>\n",
       "    </tr>\n",
       "  </thead>\n",
       "  <tbody>\n",
       "    <tr>\n",
       "      <th>0</th>\n",
       "      <td>123</td>\n",
       "      <td>2021-03-01 06:00:01.565465444</td>\n",
       "      <td>13984.56</td>\n",
       "    </tr>\n",
       "    <tr>\n",
       "      <th>1</th>\n",
       "      <td>124</td>\n",
       "      <td>2021-03-01 10:00:01.565465444</td>\n",
       "      <td>13984.56</td>\n",
       "    </tr>\n",
       "    <tr>\n",
       "      <th>2</th>\n",
       "      <td>125</td>\n",
       "      <td>2021-03-01 10:10:01.765465444</td>\n",
       "      <td>-53983.00</td>\n",
       "    </tr>\n",
       "    <tr>\n",
       "      <th>3</th>\n",
       "      <td>126</td>\n",
       "      <td>2021-03-01 11:10:01.115465444</td>\n",
       "      <td>7777984.06</td>\n",
       "    </tr>\n",
       "    <tr>\n",
       "      <th>4</th>\n",
       "      <td>127</td>\n",
       "      <td>2021-03-01 11:20:41.111116544</td>\n",
       "      <td>10000004.00</td>\n",
       "    </tr>\n",
       "  </tbody>\n",
       "</table>\n",
       "</div>"
      ],
      "text/plain": [
       "   Unnamed: 0                   Moscow Time    AmountRub\n",
       "0         123 2021-03-01 06:00:01.565465444     13984.56\n",
       "1         124 2021-03-01 10:00:01.565465444     13984.56\n",
       "2         125 2021-03-01 10:10:01.765465444    -53983.00\n",
       "3         126 2021-03-01 11:10:01.115465444   7777984.06\n",
       "4         127 2021-03-01 11:20:41.111116544  10000004.00"
      ]
     },
     "execution_count": 3,
     "metadata": {},
     "output_type": "execute_result"
    }
   ],
   "source": [
    "data = pd.read_csv('data/Книга1.csv')\n",
    "data['Moscow Time'] = pd.to_datetime(data['Moscow Time'])\n",
    "data.head()"
   ]
  },
  {
   "cell_type": "code",
   "execution_count": 4,
   "id": "8d047a49-e476-4b11-b0a8-4d748a028797",
   "metadata": {},
   "outputs": [
    {
     "data": {
      "text/html": [
       "<div>\n",
       "<style scoped>\n",
       "    .dataframe tbody tr th:only-of-type {\n",
       "        vertical-align: middle;\n",
       "    }\n",
       "\n",
       "    .dataframe tbody tr th {\n",
       "        vertical-align: top;\n",
       "    }\n",
       "\n",
       "    .dataframe thead th {\n",
       "        text-align: right;\n",
       "    }\n",
       "</style>\n",
       "<table border=\"1\" class=\"dataframe\">\n",
       "  <thead>\n",
       "    <tr style=\"text-align: right;\">\n",
       "      <th></th>\n",
       "      <th>AmountRub</th>\n",
       "      <th>Minute</th>\n",
       "      <th>Hour</th>\n",
       "      <th>WeekDay</th>\n",
       "    </tr>\n",
       "  </thead>\n",
       "  <tbody>\n",
       "    <tr>\n",
       "      <th>count</th>\n",
       "      <td>1.801000e+03</td>\n",
       "      <td>1801.000000</td>\n",
       "      <td>1801.000000</td>\n",
       "      <td>1801.000000</td>\n",
       "    </tr>\n",
       "    <tr>\n",
       "      <th>mean</th>\n",
       "      <td>9.864497e+03</td>\n",
       "      <td>29.483620</td>\n",
       "      <td>13.301499</td>\n",
       "      <td>1.400888</td>\n",
       "    </tr>\n",
       "    <tr>\n",
       "      <th>std</th>\n",
       "      <td>2.984454e+05</td>\n",
       "      <td>17.332047</td>\n",
       "      <td>2.224271</td>\n",
       "      <td>1.083861</td>\n",
       "    </tr>\n",
       "    <tr>\n",
       "      <th>min</th>\n",
       "      <td>-5.398300e+04</td>\n",
       "      <td>0.000000</td>\n",
       "      <td>10.000000</td>\n",
       "      <td>0.000000</td>\n",
       "    </tr>\n",
       "    <tr>\n",
       "      <th>25%</th>\n",
       "      <td>0.000000e+00</td>\n",
       "      <td>14.000000</td>\n",
       "      <td>11.000000</td>\n",
       "      <td>0.000000</td>\n",
       "    </tr>\n",
       "    <tr>\n",
       "      <th>50%</th>\n",
       "      <td>0.000000e+00</td>\n",
       "      <td>29.000000</td>\n",
       "      <td>13.000000</td>\n",
       "      <td>1.000000</td>\n",
       "    </tr>\n",
       "    <tr>\n",
       "      <th>75%</th>\n",
       "      <td>0.000000e+00</td>\n",
       "      <td>44.000000</td>\n",
       "      <td>15.000000</td>\n",
       "      <td>2.000000</td>\n",
       "    </tr>\n",
       "    <tr>\n",
       "      <th>max</th>\n",
       "      <td>1.000000e+07</td>\n",
       "      <td>59.000000</td>\n",
       "      <td>17.000000</td>\n",
       "      <td>3.000000</td>\n",
       "    </tr>\n",
       "  </tbody>\n",
       "</table>\n",
       "</div>"
      ],
      "text/plain": [
       "          AmountRub       Minute         Hour      WeekDay\n",
       "count  1.801000e+03  1801.000000  1801.000000  1801.000000\n",
       "mean   9.864497e+03    29.483620    13.301499     1.400888\n",
       "std    2.984454e+05    17.332047     2.224271     1.083861\n",
       "min   -5.398300e+04     0.000000    10.000000     0.000000\n",
       "25%    0.000000e+00    14.000000    11.000000     0.000000\n",
       "50%    0.000000e+00    29.000000    13.000000     1.000000\n",
       "75%    0.000000e+00    44.000000    15.000000     2.000000\n",
       "max    1.000000e+07    59.000000    17.000000     3.000000"
      ]
     },
     "execution_count": 4,
     "metadata": {},
     "output_type": "execute_result"
    }
   ],
   "source": [
    "def regroup_data (data, freq_per, agg_func):\n",
    "    grouped_data = data.groupby(\n",
    "        pd.Grouper(key='Moscow Time', freq=freq_per)\n",
    "    )[['AmountRub']].agg(agg_func).reset_index()\n",
    "    grouped_data.loc[:,'Minute']=grouped_data['Moscow Time'].dt.minute\n",
    "    grouped_data.loc[:,'Hour']=grouped_data['Moscow Time'].dt.hour\n",
    "    grouped_data.loc[:,'Date']=grouped_data['Moscow Time'].dt.date\n",
    "    grouped_data.loc[:,'WeekDay']=grouped_data['Moscow Time'].dt.weekday\n",
    "    grouped_data=grouped_data[grouped_data['Hour']>=10]\n",
    "    grouped_data=grouped_data[grouped_data['Hour']<=17]\n",
    "    grouped_data=grouped_data[grouped_data['WeekDay']<5]\n",
    "    return grouped_data\n",
    "grouped_data = regroup_data(data, '1 min', 'sum')\n",
    "grouped_data.describe()"
   ]
  },
  {
   "cell_type": "code",
   "execution_count": 5,
   "id": "0b92383d-3074-4988-8fa5-5f1e84031c25",
   "metadata": {},
   "outputs": [
    {
     "data": {
      "text/plain": [
       "<AxesSubplot:>"
      ]
     },
     "execution_count": 5,
     "metadata": {},
     "output_type": "execute_result"
    },
    {
     "data": {
      "image/png": "[encoded data removed]",
      "text/plain": [
       "<Figure size 432x288 with 1 Axes>"
      ]
     },
     "metadata": {
      "needs_background": "light"
     },
     "output_type": "display_data"
    }
   ],
   "source": [
    "grouped_data.AmountRub.plot.line()"
   ]
  },
  {
   "cell_type": "code",
   "execution_count": null,
   "id": "934767c8",
   "metadata": {},
   "outputs": [],
   "source": []
  }
 ],
 "metadata": {
  "kernelspec": {
   "display_name": "Python 3 (ipykernel)",
   "language": "python",
   "name": "python3"
  },
  "language_info": {
   "codemirror_mode": {
    "name": "ipython",
    "version": 3
   },
   "file_extension": ".py",
   "mimetype": "text/x-python",
   "name": "python",
   "nbconvert_exporter": "python",
   "pygments_lexer": "ipython3",
   "version": "3.8.8"
  }
 },
 "nbformat": 4,
 "nbformat_minor": 5
}
