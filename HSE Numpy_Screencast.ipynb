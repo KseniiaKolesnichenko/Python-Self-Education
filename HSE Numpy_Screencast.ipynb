{
 "cells": [
  {
   "cell_type": "markdown",
   "metadata": {
    "id": "Faqa9juIcNKi"
   },
   "source": [
    "На данном семинаре мы изучим библиотеку [numpy](https://numpy.org/). numpy - очень удобная и быстрая библиотека, которая предсоставляет возможность выполнять различные операции над массивами и матрицами. В машинном обучении многие операции работы с данными могут быть представлены, как операции из линейной алгебры. Именно поэтому знание этой библиотеки очень важно."
   ]
  },
  {
   "cell_type": "markdown",
   "metadata": {
    "id": "O6HByVisdI15"
   },
   "source": [
    "Для начала познакомимся с базовым объектом в numpy - numpy.ndarray"
   ]
  },
  {
   "cell_type": "code",
   "execution_count": 1,
   "metadata": {
    "id": "CtRyxeH_bl40"
   },
   "outputs": [],
   "source": [
    "import numpy as np"
   ]
  },
  {
   "cell_type": "code",
   "execution_count": 2,
   "metadata": {
    "id": "8OPtIAsXdj9w"
   },
   "outputs": [],
   "source": [
    "array = np.array([1, 2, 4])"
   ]
  },
  {
   "cell_type": "markdown",
   "metadata": {
    "id": "vldlyEr6dnME"
   },
   "source": [
    "Код выше создал вектор длины 3. Теперь мы можем выполнять различные арифметические операции над этим вектором."
   ]
  },
  {
   "cell_type": "code",
   "execution_count": 3,
   "metadata": {
    "colab": {
     "base_uri": "https://localhost:8080/",
     "height": 36
    },
    "id": "Kx2sLlhYdmrs",
    "outputId": "c604e2d6-1172-4918-dd4f-061c66ae79a3"
   },
   "outputs": [
    {
     "data": {
      "text/plain": [
       "array([1, 2, 4])"
      ]
     },
     "execution_count": 3,
     "metadata": {},
     "output_type": "execute_result"
    }
   ],
   "source": [
    "array"
   ]
  },
  {
   "cell_type": "code",
   "execution_count": 4,
   "metadata": {
    "colab": {
     "base_uri": "https://localhost:8080/",
     "height": 36
    },
    "id": "uFTHKHkNd7jF",
    "outputId": "87cee0ac-be82-46a8-ae00-59c1fd676f6a"
   },
   "outputs": [
    {
     "data": {
      "text/plain": [
       "array([2, 4, 8])"
      ]
     },
     "execution_count": 4,
     "metadata": {},
     "output_type": "execute_result"
    }
   ],
   "source": [
    "array * 2"
   ]
  },
  {
   "cell_type": "code",
   "execution_count": 5,
   "metadata": {
    "colab": {
     "base_uri": "https://localhost:8080/",
     "height": 36
    },
    "id": "Ev1XxKxbd8X7",
    "outputId": "6667fcec-a4c5-49d7-e74d-b33fb5826168"
   },
   "outputs": [
    {
     "data": {
      "text/plain": [
       "array([6, 7, 9])"
      ]
     },
     "execution_count": 5,
     "metadata": {},
     "output_type": "execute_result"
    }
   ],
   "source": [
    "array + 5"
   ]
  },
  {
   "cell_type": "markdown",
   "metadata": {
    "id": "EKqA9eq5eBU6"
   },
   "source": [
    "Мы можем выполнять поэлементные операции на массивах одинаковой длины."
   ]
  },
  {
   "cell_type": "code",
   "execution_count": 6,
   "metadata": {
    "id": "nX165dp2d-K0"
   },
   "outputs": [],
   "source": [
    "array_2 = np.array([9, 2, 0])"
   ]
  },
  {
   "cell_type": "code",
   "execution_count": 8,
   "metadata": {
    "colab": {
     "base_uri": "https://localhost:8080/",
     "height": 36
    },
    "id": "fq25PgpzeQhb",
    "outputId": "2e86c35e-0666-4f4d-d4ef-b82953f4ea84"
   },
   "outputs": [
    {
     "data": {
      "text/plain": [
       "array([10,  4,  4])"
      ]
     },
     "execution_count": 8,
     "metadata": {},
     "output_type": "execute_result"
    }
   ],
   "source": [
    "array + array_2"
   ]
  },
  {
   "cell_type": "code",
   "execution_count": 9,
   "metadata": {
    "colab": {
     "base_uri": "https://localhost:8080/",
     "height": 36
    },
    "id": "gxThb245eRoZ",
    "outputId": "5c2a5bb2-6f78-4c0a-b0db-758942165834"
   },
   "outputs": [
    {
     "data": {
      "text/plain": [
       "array([9, 4, 0])"
      ]
     },
     "execution_count": 9,
     "metadata": {},
     "output_type": "execute_result"
    }
   ],
   "source": [
    "array * array_2"
   ]
  },
  {
   "cell_type": "markdown",
   "metadata": {
    "id": "pa5TZo2leYmC"
   },
   "source": [
    "С массивами можно работать как с листами и вытаскивать оттуда элементы по индексу. В тоже время, можно использовать индексацию по условию и вытаскивать элементы с помощью булевой маски."
   ]
  },
  {
   "cell_type": "code",
   "execution_count": 12,
   "metadata": {},
   "outputs": [
    {
     "data": {
      "text/plain": [
       "array([1, 2, 4])"
      ]
     },
     "execution_count": 12,
     "metadata": {},
     "output_type": "execute_result"
    }
   ],
   "source": [
    "array"
   ]
  },
  {
   "cell_type": "code",
   "execution_count": 10,
   "metadata": {
    "colab": {
     "base_uri": "https://localhost:8080/",
     "height": 36
    },
    "id": "Y0fVJZnneTIe",
    "outputId": "6c16ce25-bde4-489a-9708-e73db456e40d"
   },
   "outputs": [
    {
     "data": {
      "text/plain": [
       "2"
      ]
     },
     "execution_count": 10,
     "metadata": {},
     "output_type": "execute_result"
    }
   ],
   "source": [
    "array[1]"
   ]
  },
  {
   "cell_type": "code",
   "execution_count": 11,
   "metadata": {
    "colab": {
     "base_uri": "https://localhost:8080/",
     "height": 36
    },
    "id": "CXhnH8rTfJQM",
    "outputId": "5079b47d-b0de-462c-b9e3-8dee1761d318"
   },
   "outputs": [
    {
     "data": {
      "text/plain": [
       "array([2, 4])"
      ]
     },
     "execution_count": 11,
     "metadata": {},
     "output_type": "execute_result"
    }
   ],
   "source": [
    "array[1:]"
   ]
  },
  {
   "cell_type": "code",
   "execution_count": 13,
   "metadata": {
    "colab": {
     "base_uri": "https://localhost:8080/",
     "height": 55
    },
    "id": "35Rxh_3mfKGH",
    "outputId": "ca29a61e-5a64-4d95-ca50-f3984262c7cc"
   },
   "outputs": [
    {
     "name": "stdout",
     "output_type": "stream",
     "text": [
      "[ True  True False]\n",
      "[1 2]\n"
     ]
    }
   ],
   "source": [
    "print(array_2 > 0)\n",
    "print(array[array_2 > 0])"
   ]
  },
  {
   "cell_type": "markdown",
   "metadata": {
    "id": "2eHjjE2BfT0W"
   },
   "source": [
    "В numpy можно работать не только с векторами, но и с матрицами и массивами большей размерности. Давайте создадим матрицу, которая состоит из одних единиц."
   ]
  },
  {
   "cell_type": "code",
   "execution_count": 14,
   "metadata": {
    "id": "OKZib4W_f6I6"
   },
   "outputs": [],
   "source": [
    "matrix = np.ones((2, 4))"
   ]
  },
  {
   "cell_type": "code",
   "execution_count": 15,
   "metadata": {
    "colab": {
     "base_uri": "https://localhost:8080/",
     "height": 36
    },
    "id": "ehCH_pHQf-jM",
    "outputId": "4c789c30-8e43-40e9-f048-84f7dc7f3060"
   },
   "outputs": [
    {
     "data": {
      "text/plain": [
       "(2, 4)"
      ]
     },
     "execution_count": 15,
     "metadata": {},
     "output_type": "execute_result"
    }
   ],
   "source": [
    "matrix.shape"
   ]
  },
  {
   "cell_type": "code",
   "execution_count": 16,
   "metadata": {
    "colab": {
     "base_uri": "https://localhost:8080/",
     "height": 55
    },
    "id": "l9Obz8oVfN0Y",
    "outputId": "9067bf46-2f04-4eb3-fa04-5256338cf56b"
   },
   "outputs": [
    {
     "data": {
      "text/plain": [
       "array([[1., 1., 1., 1.],\n",
       "       [1., 1., 1., 1.]])"
      ]
     },
     "execution_count": 16,
     "metadata": {},
     "output_type": "execute_result"
    }
   ],
   "source": [
    "matrix"
   ]
  },
  {
   "cell_type": "markdown",
   "metadata": {
    "id": "mWURgYoggDZk"
   },
   "source": [
    "Над матрицами мы можем выполнять все те же операции, что и над векторами. Также мы можем считать среднее, сумму как по всем элементам, так и вдоль осей."
   ]
  },
  {
   "cell_type": "code",
   "execution_count": 17,
   "metadata": {
    "colab": {
     "base_uri": "https://localhost:8080/",
     "height": 36
    },
    "id": "WcbxWEXOglhb",
    "outputId": "fb2a01a9-bf3c-40c4-cc50-db760487a880"
   },
   "outputs": [
    {
     "data": {
      "text/plain": [
       "8.0"
      ]
     },
     "execution_count": 17,
     "metadata": {},
     "output_type": "execute_result"
    }
   ],
   "source": [
    "np.sum(matrix)"
   ]
  },
  {
   "cell_type": "code",
   "execution_count": 18,
   "metadata": {
    "colab": {
     "base_uri": "https://localhost:8080/",
     "height": 36
    },
    "id": "ZROV-p9bgAsQ",
    "outputId": "513be0a6-ba4c-40f2-d3f6-df4d0fb4645b"
   },
   "outputs": [
    {
     "data": {
      "text/plain": [
       "array([4., 4.])"
      ]
     },
     "execution_count": 18,
     "metadata": {},
     "output_type": "execute_result"
    }
   ],
   "source": [
    "np.sum(matrix, axis=1)"
   ]
  },
  {
   "cell_type": "markdown",
   "metadata": {
    "id": "_pFZXDusgxC4"
   },
   "source": [
    "Можем создавать случайный матрицы."
   ]
  },
  {
   "cell_type": "code",
   "execution_count": 19,
   "metadata": {
    "colab": {
     "base_uri": "https://localhost:8080/",
     "height": 55
    },
    "id": "Sr6ZfKD_g5jU",
    "outputId": "76d10470-d669-41c7-f8f3-3913cff4dd23"
   },
   "outputs": [
    {
     "data": {
      "text/plain": [
       "array([[ 0.40829069,  1.50170043],\n",
       "       [-1.85109956,  0.03864024]])"
      ]
     },
     "execution_count": 19,
     "metadata": {},
     "output_type": "execute_result"
    }
   ],
   "source": [
    "random_matrix = np.random.normal(size=(2, 2))\n",
    "random_matrix"
   ]
  },
  {
   "cell_type": "markdown",
   "metadata": {
    "id": "RjrpBmwzhAjk"
   },
   "source": [
    "Можем умножать матрицы и выполнять различные операции линейной алгебры."
   ]
  },
  {
   "cell_type": "code",
   "execution_count": 20,
   "metadata": {
    "colab": {
     "base_uri": "https://localhost:8080/",
     "height": 92
    },
    "id": "GSmVh5K_gwek",
    "outputId": "280857a5-94b7-4056-e701-da019645fcdb"
   },
   "outputs": [
    {
     "data": {
      "text/plain": [
       "array([[-1.44280887,  1.54034067],\n",
       "       [-1.44280887,  1.54034067],\n",
       "       [-1.44280887,  1.54034067],\n",
       "       [-1.44280887,  1.54034067]])"
      ]
     },
     "execution_count": 20,
     "metadata": {},
     "output_type": "execute_result"
    }
   ],
   "source": [
    "matrix.T @ random_matrix"
   ]
  },
  {
   "cell_type": "code",
   "execution_count": 21,
   "metadata": {
    "colab": {
     "base_uri": "https://localhost:8080/",
     "height": 36
    },
    "id": "AaXCC7TcgqdJ",
    "outputId": "4df921c7-1eee-4b53-8ceb-e5c7d618d433"
   },
   "outputs": [
    {
     "data": {
      "text/plain": [
       "2.7955734544686046"
      ]
     },
     "execution_count": 21,
     "metadata": {},
     "output_type": "execute_result"
    }
   ],
   "source": [
    "np.linalg.det(random_matrix)"
   ]
  },
  {
   "cell_type": "code",
   "execution_count": 22,
   "metadata": {
    "colab": {
     "base_uri": "https://localhost:8080/",
     "height": 36
    },
    "id": "gMnfvqjjhb_J",
    "outputId": "f999bbe2-055c-494e-e98f-4df7c98f69fb"
   },
   "outputs": [
    {
     "data": {
      "text/plain": [
       "2"
      ]
     },
     "execution_count": 22,
     "metadata": {},
     "output_type": "execute_result"
    }
   ],
   "source": [
    "np.linalg.matrix_rank(random_matrix)"
   ]
  }
 ],
 "metadata": {
  "colab": {
   "collapsed_sections": [],
   "name": "Numpy-Screencast.ipynb",
   "provenance": []
  },
  "kernelspec": {
   "display_name": "Python 3",
   "language": "python",
   "name": "python3"
  },
  "language_info": {
   "codemirror_mode": {
    "name": "ipython",
    "version": 3
   },
   "file_extension": ".py",
   "mimetype": "text/x-python",
   "name": "python",
   "nbconvert_exporter": "python",
   "pygments_lexer": "ipython3",
   "version": "3.8.10"
  }
 },
 "nbformat": 4,
 "nbformat_minor": 1
}
