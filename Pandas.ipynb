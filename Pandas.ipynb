{
 "cells": [
  {
   "cell_type": "code",
   "execution_count": 1,
   "id": "d39c916f",
   "metadata": {},
   "outputs": [
    {
     "data": {
      "text/plain": [
       "'1.2.4'"
      ]
     },
     "execution_count": 1,
     "metadata": {},
     "output_type": "execute_result"
    }
   ],
   "source": [
    "import pandas as pd\n",
    "pd.__version__"
   ]
  },
  {
   "cell_type": "code",
   "execution_count": 2,
   "id": "e0f27fa5",
   "metadata": {},
   "outputs": [
    {
     "data": {
      "text/plain": [
       "'pandas'"
      ]
     },
     "execution_count": 2,
     "metadata": {},
     "output_type": "execute_result"
    }
   ],
   "source": [
    "pd.__name__"
   ]
  },
  {
   "cell_type": "markdown",
   "id": "cf7fbcb6",
   "metadata": {},
   "source": [
    "### 2.2. Pandas.Series\n",
    "Series как структура данных\n",
    "Series - упорядоченная изменяемая коллекция объектов, имеющая, так называемые, ассоциативные метки (индексы). Эту структуру можно сравнить со списком: каждому элементу ставится в соответствие индекс, однако в отличие от списка индексами могут быть не только порядковые номера, но и что угодно, например названия компаний, даты, идентификаторы, наименования продуктов. Также каждой Series присваивается тип данных ее элементов (например int64) и может быть определено имя всего массива. В итоге мы получаем некоторый гибрид списка и словаря."
   ]
  },
  {
   "cell_type": "markdown",
   "id": "77b848b5",
   "metadata": {},
   "source": [
    "###  Cоздание объекта Series\n",
    "Для создания объекта Series используется команда pd.Series(). Рассмотрим несколько способов создания Series на примере со списком названий стран.\n",
    "\n",
    "Способ 1: из списка с использованием параметров функции pd.Series():"
   ]
  },
  {
   "cell_type": "code",
   "execution_count": 3,
   "id": "6f9f233f",
   "metadata": {},
   "outputs": [
    {
     "data": {
      "text/plain": [
       "UK       Англия\n",
       "CA       Канада\n",
       "US          США\n",
       "RU       Россия\n",
       "UA      Украина\n",
       "BY     Беларусь\n",
       "KZ    Казахстан\n",
       "Name: countries, dtype: object"
      ]
     },
     "metadata": {},
     "output_type": "display_data"
    }
   ],
   "source": [
    "##### Способ 1: из списка с использованием параметров функции pd.Series():\n",
    "countries = pd.Series(\n",
    "    data = ['Англия', 'Канада', 'США', 'Россия', 'Украина', 'Беларусь', 'Казахстан'],\n",
    "    index = ['UK', 'CA', 'US', 'RU', 'UA', 'BY', 'KZ'],\n",
    "    name = 'countries'\n",
    ")\n",
    "display(countries)\n"
   ]
  },
  {
   "cell_type": "code",
   "execution_count": 4,
   "id": "1d5af087",
   "metadata": {},
   "outputs": [
    {
     "data": {
      "text/plain": [
       "UK       Англия\n",
       "CA       Канада\n",
       "US          США\n",
       "RU       Россия\n",
       "UA      Украина\n",
       "BY     Беларусь\n",
       "KZ    Казахстан\n",
       "Name: countries, dtype: object"
      ]
     },
     "metadata": {},
     "output_type": "display_data"
    }
   ],
   "source": [
    "##### Способ 2: из словаря, в котором ключами являются будущие метки, а значениями - будущие значения Series, \n",
    "# при этом использование параметра name так же возможно:\n",
    "countries = pd.Series({\n",
    "    'UK': 'Англия',\n",
    "    'CA': 'Канада',\n",
    "    'US' : 'США',\n",
    "    'RU': 'Россия',\n",
    "    'UA': 'Украина',\n",
    "    'BY': 'Беларусь',\n",
    "    'KZ': 'Казахстан'},\n",
    "    name = 'countries'\n",
    ")\n",
    "display(countries)\n"
   ]
  },
  {
   "cell_type": "code",
   "execution_count": 156,
   "id": "6cf76a9e",
   "metadata": {},
   "outputs": [],
   "source": [
    "#countries.iloc[:,:-1]"
   ]
  },
  {
   "cell_type": "code",
   "execution_count": 5,
   "id": "0febe64f",
   "metadata": {},
   "outputs": [
    {
     "data": {
      "text/plain": [
       "RU      Россия\n",
       "UA     Украина\n",
       "BY    Беларусь\n",
       "Name: countries, dtype: object"
      ]
     },
     "execution_count": 5,
     "metadata": {},
     "output_type": "execute_result"
    }
   ],
   "source": [
    "countries.iloc[3:6]"
   ]
  },
  {
   "cell_type": "code",
   "execution_count": 6,
   "id": "7e22bce6",
   "metadata": {},
   "outputs": [
    {
     "data": {
      "text/plain": [
       "CA       Канада\n",
       "KZ    Казахстан\n",
       "Name: countries, dtype: object"
      ]
     },
     "execution_count": 6,
     "metadata": {},
     "output_type": "execute_result"
    }
   ],
   "source": [
    "countries.loc[['CA','KZ']]"
   ]
  },
  {
   "cell_type": "code",
   "execution_count": 7,
   "id": "0ce1ab43",
   "metadata": {},
   "outputs": [
    {
     "name": "stdout",
     "output_type": "stream",
     "text": [
      "Англия\n",
      "Канада\n",
      "США\n",
      "Россия\n",
      "Украина\n",
      "Беларусь\n",
      "Казахстан\n",
      "UA\n"
     ]
    }
   ],
   "source": [
    "x=''\n",
    "for abbrev in countries.index:\n",
    "    print(countries.loc[abbrev])\n",
    "    if countries.loc[abbrev]=='Украина':\n",
    "        x=abbrev\n",
    "print(x)"
   ]
  },
  {
   "cell_type": "markdown",
   "id": "30966d03",
   "metadata": {},
   "source": [
    "Функция, которая принимает на вход страну, а возвращает аббревиатуру. "
   ]
  },
  {
   "cell_type": "code",
   "execution_count": 8,
   "id": "5efd4c59",
   "metadata": {},
   "outputs": [],
   "source": [
    "def get_country(country, countries):\n",
    "    x=''\n",
    "    for abbrev in countries.index:\n",
    "        if countries.loc[abbrev]==country:\n",
    "            x=abbrev\n",
    "    return x"
   ]
  },
  {
   "cell_type": "code",
   "execution_count": 9,
   "id": "4c46b816",
   "metadata": {},
   "outputs": [],
   "source": [
    "def get_country(country, countries):\n",
    "    for abbrev in countries.index:\n",
    "        if countries.loc[abbrev]==country:\n",
    "            return abbrev"
   ]
  },
  {
   "cell_type": "code",
   "execution_count": 10,
   "id": "6f23b79b",
   "metadata": {},
   "outputs": [
    {
     "data": {
      "text/plain": [
       "'RU'"
      ]
     },
     "execution_count": 10,
     "metadata": {},
     "output_type": "execute_result"
    }
   ],
   "source": [
    "get_country('Россия', countries)"
   ]
  },
  {
   "cell_type": "code",
   "execution_count": 11,
   "id": "70740e0a",
   "metadata": {},
   "outputs": [],
   "source": [
    "get_country_lambda= lambda country: [abbrev for abbrev in countries.index  if countries.loc[abbrev]==country][0]"
   ]
  },
  {
   "cell_type": "code",
   "execution_count": 12,
   "id": "2d67cfae",
   "metadata": {},
   "outputs": [
    {
     "data": {
      "text/plain": [
       "'RU'"
      ]
     },
     "execution_count": 12,
     "metadata": {},
     "output_type": "execute_result"
    }
   ],
   "source": [
    "get_country_lambda('Россия')"
   ]
  },
  {
   "cell_type": "markdown",
   "id": "9a94db6b",
   "metadata": {},
   "source": [
    "## Доступ к данным в Series\n",
    "Доступ к элементам осуществляется с использованием loc или iloc.\n",
    ".loc вызывается с квадратными скобками, в которые передаются метки. В него можно передать как один индекс, так и список, чтобы получилось несколько элементов. \n",
    "В случае обращения по одному индексу возвращается строка, если же обратиться по нескольким элементам возвращается объект Series.\n",
    "Например для получения имени страны по коду “US” нужно выполнить следующий код:"
   ]
  },
  {
   "cell_type": "code",
   "execution_count": 13,
   "id": "7e99dc50",
   "metadata": {},
   "outputs": [
    {
     "name": "stdout",
     "output_type": "stream",
     "text": [
      "США\n"
     ]
    }
   ],
   "source": [
    "print(countries.loc['US'])"
   ]
  },
  {
   "cell_type": "markdown",
   "id": "bad3d664",
   "metadata": {},
   "source": [
    "Для того, чтобы достать информацию по нескольким индексам необходимо интересующие индексы обернуть в список:"
   ]
  },
  {
   "cell_type": "code",
   "execution_count": 14,
   "id": "e5b15161",
   "metadata": {},
   "outputs": [
    {
     "name": "stdout",
     "output_type": "stream",
     "text": [
      "US       США\n",
      "RU    Россия\n",
      "UK    Англия\n",
      "Name: countries, dtype: object\n"
     ]
    }
   ],
   "source": [
    "print(countries.loc[['US', 'RU', 'UK']])"
   ]
  },
  {
   "cell_type": "markdown",
   "id": "231e8c40",
   "metadata": {},
   "source": [
    ".iloc также вызывается с квадратными скобками и принимает на вход порядковые номера элементов Series. (нумерация начинаются с 0). В него можно так же передавать как один индекс, так и диапазон чисел. \n",
    "Например для получения элемента по индексу “KZ” нужно обратиться через iloc по номеру 6:\n"
   ]
  },
  {
   "cell_type": "code",
   "execution_count": 15,
   "id": "02887109",
   "metadata": {},
   "outputs": [
    {
     "name": "stdout",
     "output_type": "stream",
     "text": [
      "Казахстан\n"
     ]
    }
   ],
   "source": [
    "print(countries.iloc[6])"
   ]
  },
  {
   "cell_type": "markdown",
   "id": "01b18080",
   "metadata": {},
   "source": [
    "Получим срез из исходной Series с 1 по 3 элемент. Берутся элементы с порядковыми номерами от 0 до 4, не включая последний"
   ]
  },
  {
   "cell_type": "code",
   "execution_count": 16,
   "id": "e4d62ff4",
   "metadata": {},
   "outputs": [
    {
     "name": "stdout",
     "output_type": "stream",
     "text": [
      "CA    Канада\n",
      "US       США\n",
      "RU    Россия\n",
      "Name: countries, dtype: object\n"
     ]
    }
   ],
   "source": [
    "print(countries.iloc[1:4])"
   ]
  },
  {
   "cell_type": "markdown",
   "id": "431ab563",
   "metadata": {},
   "source": [
    "##### Способы 3 и 4\n",
    "loc и iloc можно опустить и обращаться к элементам Series напрямую по индексам, например countries[[‘UK’, 'US', ‘UA’]] или countries[[0, 2, 4]. Оба варианта являются равноправными для Series, однако в дальнейшем для работы с DataFrame, в контексте этой структуры эти варианты не являются синонимичными.\n",
    "\n",
    "                                                                                                                                    "
   ]
  },
  {
   "cell_type": "code",
   "execution_count": 17,
   "id": "3dc5917a",
   "metadata": {},
   "outputs": [
    {
     "data": {
      "text/plain": [
       "UK     Англия\n",
       "US        США\n",
       "UA    Украина\n",
       "Name: countries, dtype: object"
      ]
     },
     "execution_count": 17,
     "metadata": {},
     "output_type": "execute_result"
    }
   ],
   "source": [
    "countries[['UK', 'US', 'UA']]"
   ]
  },
  {
   "cell_type": "code",
   "execution_count": 18,
   "id": "f5ed5bbf",
   "metadata": {},
   "outputs": [
    {
     "data": {
      "text/plain": [
       "UK     Англия\n",
       "US        США\n",
       "UA    Украина\n",
       "Name: countries, dtype: object"
      ]
     },
     "execution_count": 18,
     "metadata": {},
     "output_type": "execute_result"
    }
   ],
   "source": [
    "countries[[0, 2, 4]]"
   ]
  },
  {
   "cell_type": "markdown",
   "id": "73662995",
   "metadata": {},
   "source": [
    "##### Способы 5 и 6: задать data, index, name"
   ]
  },
  {
   "cell_type": "code",
   "execution_count": 19,
   "id": "f75cd2b1",
   "metadata": {},
   "outputs": [
    {
     "data": {
      "text/plain": [
       "а    Апельсин\n",
       "к        Киви\n",
       "м    Мандарин\n",
       "я      Яблоко\n",
       "dtype: object"
      ]
     },
     "execution_count": 19,
     "metadata": {},
     "output_type": "execute_result"
    }
   ],
   "source": [
    "pd.Series([\"Апельсин\", \"Киви\", \"Мандарин\", \"Яблоко\"], [\"а\", \"к\", \"м\", \"я\"]) #нет name"
   ]
  },
  {
   "cell_type": "code",
   "execution_count": 20,
   "id": "4efae448",
   "metadata": {},
   "outputs": [
    {
     "data": {
      "text/plain": [
       "а    Апельсин\n",
       "к        Киви\n",
       "м    Мандарин\n",
       "я      Яблоко\n",
       "Name: fruits, dtype: object"
      ]
     },
     "execution_count": 20,
     "metadata": {},
     "output_type": "execute_result"
    }
   ],
   "source": [
    "pd.Series(data=[\"Апельсин\", \"Киви\", \"Мандарин\", \"Яблоко\"], index = [\"а\", \"к\", \"м\", \"я\"], name = \"fruits\")\n"
   ]
  },
  {
   "cell_type": "code",
   "execution_count": 21,
   "id": "e1658b69",
   "metadata": {},
   "outputs": [
    {
     "data": {
      "text/plain": [
       "а    Апельсин\n",
       "м    Мандарин\n",
       "к        Киви\n",
       "я      Яблоко\n",
       "Name: fruits, dtype: object"
      ]
     },
     "execution_count": 21,
     "metadata": {},
     "output_type": "execute_result"
    }
   ],
   "source": [
    "pd.Series({'а': \"Апельсин\", 'м': 'Мандарин', 'к': 'Киви', 'я': 'Яблоко'}, name='fruits')"
   ]
  },
  {
   "cell_type": "code",
   "execution_count": 22,
   "id": "3105d9a3",
   "metadata": {},
   "outputs": [
    {
     "data": {
      "text/plain": [
       "0    Апельсин\n",
       "1        Киви\n",
       "2    Мандарин\n",
       "3      Яблоко\n",
       "Name: fruits, dtype: object"
      ]
     },
     "execution_count": 22,
     "metadata": {},
     "output_type": "execute_result"
    }
   ],
   "source": [
    "pd.Series([\"Апельсин\", \"Киви\", \"Мандарин\", \"Яблоко\"], name='fruits') # нет индексов\n"
   ]
  },
  {
   "cell_type": "code",
   "execution_count": 23,
   "id": "d6bffaee",
   "metadata": {},
   "outputs": [
    {
     "data": {
      "text/plain": [
       "а    Апельсин\n",
       "к        Киви\n",
       "м    Мандарин\n",
       "я      Яблоко\n",
       "dtype: object"
      ]
     },
     "execution_count": 23,
     "metadata": {},
     "output_type": "execute_result"
    }
   ],
   "source": [
    "FRUITS= pd.Series([\"Апельсин\", \"Киви\", \"Мандарин\", \"Яблоко\"], [\"а\", \"к\", \"м\", \"я\"])\n",
    "FRUITS"
   ]
  },
  {
   "cell_type": "markdown",
   "id": "6e0e01cd",
   "metadata": {},
   "source": [
    "Какими из нижеперечисленных способов можно достать из нее числа 6, 7 и 9:"
   ]
  },
  {
   "cell_type": "code",
   "execution_count": 24,
   "id": "4ab91b1b",
   "metadata": {},
   "outputs": [],
   "source": [
    "my_series = pd.Series(data=[5, 6, 7, 8, 9, 10],  index=['a', 'b', 'c', 'd', 'e', 'f'])"
   ]
  },
  {
   "cell_type": "code",
   "execution_count": 25,
   "id": "89fb0e04",
   "metadata": {},
   "outputs": [
    {
     "data": {
      "text/plain": [
       "b    6\n",
       "c    7\n",
       "e    9\n",
       "dtype: int64"
      ]
     },
     "execution_count": 25,
     "metadata": {},
     "output_type": "execute_result"
    }
   ],
   "source": [
    "my_series[[1, 2, 4]]"
   ]
  },
  {
   "cell_type": "code",
   "execution_count": 26,
   "id": "03e2ee82",
   "metadata": {},
   "outputs": [
    {
     "data": {
      "text/plain": [
       "b    6\n",
       "c    7\n",
       "e    9\n",
       "dtype: int64"
      ]
     },
     "execution_count": 26,
     "metadata": {},
     "output_type": "execute_result"
    }
   ],
   "source": [
    "my_series[['b', 'c', 'e']]"
   ]
  },
  {
   "cell_type": "code",
   "execution_count": 27,
   "id": "2bb2c1d6",
   "metadata": {},
   "outputs": [
    {
     "name": "stdout",
     "output_type": "stream",
     "text": [
      "b    6\n",
      "c    7\n",
      "e    9\n",
      "dtype: int64\n"
     ]
    }
   ],
   "source": [
    "print(my_series.iloc[[1, 2, 4]])"
   ]
  },
  {
   "cell_type": "code",
   "execution_count": 28,
   "id": "afd3860e",
   "metadata": {},
   "outputs": [
    {
     "name": "stdout",
     "output_type": "stream",
     "text": [
      "b    6\n",
      "c    7\n",
      "e    9\n",
      "dtype: int64\n"
     ]
    }
   ],
   "source": [
    "print(my_series.loc[['b', 'c', 'e']])"
   ]
  },
  {
   "cell_type": "markdown",
   "id": "48493468",
   "metadata": {},
   "source": [
    "Задание 2.2.4. (Андрей Рысистов)\n",
    "В аптеку поступила новая поставка: Хлоргексидин - 15 штук, Синтомицин - 18 штук, Левомеколь - 7 штук. Создайте Series medications, индексами которой являются названия лекарств, а значениями - их количество в поставке. Найдите, разницу между количеством Хлоргексидина и Левомеколя в поставке. Результат запишите в переменную diff. "
   ]
  },
  {
   "cell_type": "code",
   "execution_count": 29,
   "id": "2b12313d",
   "metadata": {},
   "outputs": [
    {
     "data": {
      "text/plain": [
       "15    Хлоргексидин\n",
       "18      Синтомицин\n",
       "7       Левомеколь\n",
       "Name: medications, dtype: object"
      ]
     },
     "execution_count": 29,
     "metadata": {},
     "output_type": "execute_result"
    }
   ],
   "source": [
    "#НЕВЕРН РАССТАВЛЕНЫ ДАННЫЕ И ИНДЕКСЫ\n",
    "medications=pd.Series(\n",
    "data=['Хлоргексидин' , 'Синтомицин', 'Левомеколь'],\n",
    "index=[15, 18, 7],\n",
    "name = 'medications'\n",
    ")\n",
    "medications"
   ]
  },
  {
   "cell_type": "code",
   "execution_count": 30,
   "id": "126a7bf8",
   "metadata": {},
   "outputs": [
    {
     "data": {
      "text/plain": [
       "Хлоргексидин    15\n",
       "Синтомицин      18\n",
       "Левомеколь       7\n",
       "Name: medications, dtype: int64"
      ]
     },
     "execution_count": 30,
     "metadata": {},
     "output_type": "execute_result"
    }
   ],
   "source": [
    "medications_verno=pd.Series(\n",
    "data=[15, 18, 7],\n",
    "index=['Хлоргексидин' , 'Синтомицин', 'Левомеколь'],\n",
    "name = 'medications'\n",
    ")\n",
    "medications_verno"
   ]
  },
  {
   "cell_type": "code",
   "execution_count": 31,
   "id": "2c212188",
   "metadata": {},
   "outputs": [
    {
     "data": {
      "text/plain": [
       "8"
      ]
     },
     "execution_count": 31,
     "metadata": {},
     "output_type": "execute_result"
    }
   ],
   "source": [
    "medications_verno['Хлоргексидин']-medications_verno['Левомеколь']"
   ]
  },
  {
   "cell_type": "code",
   "execution_count": 32,
   "id": "060213f4",
   "metadata": {},
   "outputs": [
    {
     "data": {
      "text/plain": [
       "Хлоргексидин    15\n",
       "Синтомицин      18\n",
       "Левомеколь       7\n",
       "Name: medications___3, dtype: int64"
      ]
     },
     "execution_count": 32,
     "metadata": {},
     "output_type": "execute_result"
    }
   ],
   "source": [
    "medications2=pd.Series({\n",
    "'Хлоргексидин': 15,\n",
    "'Синтомицин': 18,\n",
    "'Левомеколь': 7,\n",
    "},\n",
    "name = 'medications___3'\n",
    ")\n",
    "\n",
    "medications2"
   ]
  },
  {
   "cell_type": "code",
   "execution_count": 33,
   "id": "da2a013b",
   "metadata": {},
   "outputs": [
    {
     "data": {
      "text/plain": [
       "Левомеколь     NaN\n",
       "Хлоргексидин   NaN\n",
       "Name: medications___3, dtype: float64"
      ]
     },
     "execution_count": 33,
     "metadata": {},
     "output_type": "execute_result"
    }
   ],
   "source": [
    "medications2[[\"Хлоргексидин\"]]-medications2[['Левомеколь']]"
   ]
  },
  {
   "cell_type": "code",
   "execution_count": 34,
   "id": "b5768fdd",
   "metadata": {},
   "outputs": [
    {
     "data": {
      "text/plain": [
       "8"
      ]
     },
     "execution_count": 34,
     "metadata": {},
     "output_type": "execute_result"
    }
   ],
   "source": [
    "medications2=pd.Series({\n",
    "'Хлоргексидин': 15,\n",
    "'Синтомицин': 18,\n",
    "'Левомеколь': 7,\n",
    "},\n",
    "name = 'medications___3'\n",
    ")\n",
    "\n",
    "medications2[\"Хлоргексидин\"]-medications2['Левомеколь']"
   ]
  },
  {
   "cell_type": "markdown",
   "id": "d0387b94",
   "metadata": {},
   "source": [
    "## Pandas.DataFrame\n",
    "\n",
    "DataFrame является двумерной структурой и представляется в виде таблицы, в которой есть строки и столбцы. Столбцами в DataFrame выступают объекты Series, а строки формируются из их элементов. Также в DataFrame есть метки (индексы), которые соответствуют каждой строке таблицы.\n",
    "\n",
    "##### Создание DataFrame\n",
    "DataFrame создается с помощью функции pd.DataFrame(). Так же, как и для Series, для создания объектов DataFrame есть несколько способов:\n",
    "##### Способ 1 Из словаря, ключами которого являются имена столбцов будущей таблицы, а по значениям этого словаря  - списки, в которых хранится содержимое этих столбцов"
   ]
  },
  {
   "cell_type": "code",
   "execution_count": 35,
   "id": "94ed8139",
   "metadata": {
    "scrolled": true
   },
   "outputs": [
    {
     "data": {
      "text/html": [
       "<div>\n",
       "<style scoped>\n",
       "    .dataframe tbody tr th:only-of-type {\n",
       "        vertical-align: middle;\n",
       "    }\n",
       "\n",
       "    .dataframe tbody tr th {\n",
       "        vertical-align: top;\n",
       "    }\n",
       "\n",
       "    .dataframe thead th {\n",
       "        text-align: right;\n",
       "    }\n",
       "</style>\n",
       "<table border=\"1\" class=\"dataframe\">\n",
       "  <thead>\n",
       "    <tr style=\"text-align: right;\">\n",
       "      <th></th>\n",
       "      <th>country</th>\n",
       "      <th>population</th>\n",
       "      <th>square</th>\n",
       "    </tr>\n",
       "  </thead>\n",
       "  <tbody>\n",
       "    <tr>\n",
       "      <th>UK</th>\n",
       "      <td>Англия</td>\n",
       "      <td>56.29</td>\n",
       "      <td>133396</td>\n",
       "    </tr>\n",
       "    <tr>\n",
       "      <th>CA</th>\n",
       "      <td>Канада</td>\n",
       "      <td>38.05</td>\n",
       "      <td>9984670</td>\n",
       "    </tr>\n",
       "    <tr>\n",
       "      <th>US</th>\n",
       "      <td>США</td>\n",
       "      <td>322.28</td>\n",
       "      <td>9826630</td>\n",
       "    </tr>\n",
       "    <tr>\n",
       "      <th>RU</th>\n",
       "      <td>Россия</td>\n",
       "      <td>146.24</td>\n",
       "      <td>17125191</td>\n",
       "    </tr>\n",
       "    <tr>\n",
       "      <th>UA</th>\n",
       "      <td>Украина</td>\n",
       "      <td>45.50</td>\n",
       "      <td>603628</td>\n",
       "    </tr>\n",
       "    <tr>\n",
       "      <th>BY</th>\n",
       "      <td>Беларусь</td>\n",
       "      <td>9.50</td>\n",
       "      <td>207600</td>\n",
       "    </tr>\n",
       "    <tr>\n",
       "      <th>KZ</th>\n",
       "      <td>Казахстан</td>\n",
       "      <td>17.04</td>\n",
       "      <td>2724902</td>\n",
       "    </tr>\n",
       "  </tbody>\n",
       "</table>\n",
       "</div>"
      ],
      "text/plain": [
       "      country  population    square\n",
       "UK     Англия       56.29    133396\n",
       "CA     Канада       38.05   9984670\n",
       "US        США      322.28   9826630\n",
       "RU     Россия      146.24  17125191\n",
       "UA    Украина       45.50    603628\n",
       "BY   Беларусь        9.50    207600\n",
       "KZ  Казахстан       17.04   2724902"
      ]
     },
     "metadata": {},
     "output_type": "display_data"
    }
   ],
   "source": [
    "countries_df = pd.DataFrame({\n",
    "    'country': ['Англия', 'Канада', 'США', 'Россия', 'Украина', 'Беларусь', 'Казахстан'],\n",
    "    'population': [56.29, 38.05, 322.28, 146.24, 45.5, 9.5, 17.04],\n",
    "    'square': [133396, 9984670, 9826630, 17125191, 603628, 207600, 2724902]\n",
    "})\n",
    "countries_df.index = ['UK', 'CA', 'US', 'RU', 'UA', 'BY', 'KZ']\n",
    "display(countries_df)"
   ]
  },
  {
   "cell_type": "code",
   "execution_count": 36,
   "id": "b1373e77",
   "metadata": {},
   "outputs": [
    {
     "data": {
      "text/html": [
       "<div>\n",
       "<style scoped>\n",
       "    .dataframe tbody tr th:only-of-type {\n",
       "        vertical-align: middle;\n",
       "    }\n",
       "\n",
       "    .dataframe tbody tr th {\n",
       "        vertical-align: top;\n",
       "    }\n",
       "\n",
       "    .dataframe thead th {\n",
       "        text-align: right;\n",
       "    }\n",
       "</style>\n",
       "<table border=\"1\" class=\"dataframe\">\n",
       "  <thead>\n",
       "    <tr style=\"text-align: right;\">\n",
       "      <th></th>\n",
       "      <th>population</th>\n",
       "      <th>square</th>\n",
       "    </tr>\n",
       "  </thead>\n",
       "  <tbody>\n",
       "    <tr>\n",
       "      <th>UK</th>\n",
       "      <td>56.29</td>\n",
       "      <td>133396</td>\n",
       "    </tr>\n",
       "    <tr>\n",
       "      <th>US</th>\n",
       "      <td>322.28</td>\n",
       "      <td>9826630</td>\n",
       "    </tr>\n",
       "    <tr>\n",
       "      <th>BY</th>\n",
       "      <td>9.50</td>\n",
       "      <td>207600</td>\n",
       "    </tr>\n",
       "    <tr>\n",
       "      <th>KZ</th>\n",
       "      <td>17.04</td>\n",
       "      <td>2724902</td>\n",
       "    </tr>\n",
       "  </tbody>\n",
       "</table>\n",
       "</div>"
      ],
      "text/plain": [
       "    population   square\n",
       "UK       56.29   133396\n",
       "US      322.28  9826630\n",
       "BY        9.50   207600\n",
       "KZ       17.04  2724902"
      ]
     },
     "execution_count": 36,
     "metadata": {},
     "output_type": "execute_result"
    }
   ],
   "source": [
    "#countries_df.loc[1]\n",
    "countries_df.loc[['UK', 'US', 'BY', 'KZ'],['population', 'square']]"
   ]
  },
  {
   "cell_type": "code",
   "execution_count": 37,
   "id": "765d7a80",
   "metadata": {},
   "outputs": [
    {
     "data": {
      "text/html": [
       "<div>\n",
       "<style scoped>\n",
       "    .dataframe tbody tr th:only-of-type {\n",
       "        vertical-align: middle;\n",
       "    }\n",
       "\n",
       "    .dataframe tbody tr th {\n",
       "        vertical-align: top;\n",
       "    }\n",
       "\n",
       "    .dataframe thead th {\n",
       "        text-align: right;\n",
       "    }\n",
       "</style>\n",
       "<table border=\"1\" class=\"dataframe\">\n",
       "  <thead>\n",
       "    <tr style=\"text-align: right;\">\n",
       "      <th></th>\n",
       "      <th>population</th>\n",
       "      <th>square</th>\n",
       "    </tr>\n",
       "  </thead>\n",
       "  <tbody>\n",
       "    <tr>\n",
       "      <th>US</th>\n",
       "      <td>322.28</td>\n",
       "      <td>9826630</td>\n",
       "    </tr>\n",
       "    <tr>\n",
       "      <th>BY</th>\n",
       "      <td>9.50</td>\n",
       "      <td>207600</td>\n",
       "    </tr>\n",
       "    <tr>\n",
       "      <th>KZ</th>\n",
       "      <td>17.04</td>\n",
       "      <td>2724902</td>\n",
       "    </tr>\n",
       "  </tbody>\n",
       "</table>\n",
       "</div>"
      ],
      "text/plain": [
       "    population   square\n",
       "US      322.28  9826630\n",
       "BY        9.50   207600\n",
       "KZ       17.04  2724902"
      ]
     },
     "execution_count": 37,
     "metadata": {},
     "output_type": "execute_result"
    }
   ],
   "source": [
    "countries_df.iloc[[2,5,6],[1, 2]]"
   ]
  },
  {
   "cell_type": "code",
   "execution_count": 38,
   "id": "2b7f0343",
   "metadata": {},
   "outputs": [
    {
     "data": {
      "text/html": [
       "<div>\n",
       "<style scoped>\n",
       "    .dataframe tbody tr th:only-of-type {\n",
       "        vertical-align: middle;\n",
       "    }\n",
       "\n",
       "    .dataframe tbody tr th {\n",
       "        vertical-align: top;\n",
       "    }\n",
       "\n",
       "    .dataframe thead th {\n",
       "        text-align: right;\n",
       "    }\n",
       "</style>\n",
       "<table border=\"1\" class=\"dataframe\">\n",
       "  <thead>\n",
       "    <tr style=\"text-align: right;\">\n",
       "      <th></th>\n",
       "      <th>country</th>\n",
       "      <th>population</th>\n",
       "      <th>square</th>\n",
       "    </tr>\n",
       "  </thead>\n",
       "  <tbody>\n",
       "    <tr>\n",
       "      <th>UK</th>\n",
       "      <td>Англия</td>\n",
       "      <td>56.29</td>\n",
       "      <td>133396</td>\n",
       "    </tr>\n",
       "    <tr>\n",
       "      <th>CA</th>\n",
       "      <td>Канада</td>\n",
       "      <td>38.05</td>\n",
       "      <td>9984670</td>\n",
       "    </tr>\n",
       "    <tr>\n",
       "      <th>US</th>\n",
       "      <td>США</td>\n",
       "      <td>322.28</td>\n",
       "      <td>9826630</td>\n",
       "    </tr>\n",
       "    <tr>\n",
       "      <th>RU</th>\n",
       "      <td>Россия</td>\n",
       "      <td>146.24</td>\n",
       "      <td>17125191</td>\n",
       "    </tr>\n",
       "    <tr>\n",
       "      <th>UA</th>\n",
       "      <td>Украина</td>\n",
       "      <td>45.50</td>\n",
       "      <td>603628</td>\n",
       "    </tr>\n",
       "    <tr>\n",
       "      <th>BY</th>\n",
       "      <td>Беларусь</td>\n",
       "      <td>9.50</td>\n",
       "      <td>207600</td>\n",
       "    </tr>\n",
       "    <tr>\n",
       "      <th>KZ</th>\n",
       "      <td>Казахстан</td>\n",
       "      <td>17.04</td>\n",
       "      <td>2724902</td>\n",
       "    </tr>\n",
       "  </tbody>\n",
       "</table>\n",
       "</div>"
      ],
      "text/plain": [
       "      country  population    square\n",
       "UK     Англия       56.29    133396\n",
       "CA     Канада       38.05   9984670\n",
       "US        США      322.28   9826630\n",
       "RU     Россия      146.24  17125191\n",
       "UA    Украина       45.50    603628\n",
       "BY   Беларусь        9.50    207600\n",
       "KZ  Казахстан       17.04   2724902"
      ]
     },
     "metadata": {},
     "output_type": "display_data"
    }
   ],
   "source": [
    "# так как мы не задали метки (индексы) DataFrame они были сгенерированы автоматически. Исправим это, задав индексы вручную:\n",
    "countries_df.index = ['UK', 'CA', 'US', 'RU', 'UA', 'BY', 'KZ']\n",
    "display(countries_df)"
   ]
  },
  {
   "cell_type": "code",
   "execution_count": 157,
   "id": "88b2c392",
   "metadata": {},
   "outputs": [
    {
     "data": {
      "text/html": [
       "<div>\n",
       "<style scoped>\n",
       "    .dataframe tbody tr th:only-of-type {\n",
       "        vertical-align: middle;\n",
       "    }\n",
       "\n",
       "    .dataframe tbody tr th {\n",
       "        vertical-align: top;\n",
       "    }\n",
       "\n",
       "    .dataframe thead th {\n",
       "        text-align: right;\n",
       "    }\n",
       "</style>\n",
       "<table border=\"1\" class=\"dataframe\">\n",
       "  <thead>\n",
       "    <tr style=\"text-align: right;\">\n",
       "      <th></th>\n",
       "      <th>country</th>\n",
       "      <th>population</th>\n",
       "    </tr>\n",
       "  </thead>\n",
       "  <tbody>\n",
       "    <tr>\n",
       "      <th>0</th>\n",
       "      <td>Англия</td>\n",
       "      <td>56.29</td>\n",
       "    </tr>\n",
       "    <tr>\n",
       "      <th>1</th>\n",
       "      <td>Канада</td>\n",
       "      <td>38.05</td>\n",
       "    </tr>\n",
       "    <tr>\n",
       "      <th>2</th>\n",
       "      <td>США</td>\n",
       "      <td>322.28</td>\n",
       "    </tr>\n",
       "    <tr>\n",
       "      <th>3</th>\n",
       "      <td>Россия</td>\n",
       "      <td>146.24</td>\n",
       "    </tr>\n",
       "    <tr>\n",
       "      <th>4</th>\n",
       "      <td>Украина</td>\n",
       "      <td>45.50</td>\n",
       "    </tr>\n",
       "    <tr>\n",
       "      <th>5</th>\n",
       "      <td>Беларусь</td>\n",
       "      <td>9.50</td>\n",
       "    </tr>\n",
       "    <tr>\n",
       "      <th>6</th>\n",
       "      <td>Казахстан</td>\n",
       "      <td>17.04</td>\n",
       "    </tr>\n",
       "  </tbody>\n",
       "</table>\n",
       "</div>"
      ],
      "text/plain": [
       "     country  population\n",
       "0     Англия       56.29\n",
       "1     Канада       38.05\n",
       "2        США      322.28\n",
       "3     Россия      146.24\n",
       "4    Украина       45.50\n",
       "5   Беларусь        9.50\n",
       "6  Казахстан       17.04"
      ]
     },
     "execution_count": 157,
     "metadata": {},
     "output_type": "execute_result"
    }
   ],
   "source": [
    "countries_df.iloc[:,:-1]"
   ]
  },
  {
   "cell_type": "markdown",
   "id": "0a7af533",
   "metadata": {},
   "source": [
    "##### countries_df.iloc[:,-1:] # первая :- все строки, после запятой указание на столбцы"
   ]
  },
  {
   "cell_type": "code",
   "execution_count": 165,
   "id": "1db49ceb",
   "metadata": {},
   "outputs": [
    {
     "data": {
      "text/html": [
       "<div>\n",
       "<style scoped>\n",
       "    .dataframe tbody tr th:only-of-type {\n",
       "        vertical-align: middle;\n",
       "    }\n",
       "\n",
       "    .dataframe tbody tr th {\n",
       "        vertical-align: top;\n",
       "    }\n",
       "\n",
       "    .dataframe thead th {\n",
       "        text-align: right;\n",
       "    }\n",
       "</style>\n",
       "<table border=\"1\" class=\"dataframe\">\n",
       "  <thead>\n",
       "    <tr style=\"text-align: right;\">\n",
       "      <th></th>\n",
       "      <th>square</th>\n",
       "    </tr>\n",
       "  </thead>\n",
       "  <tbody>\n",
       "    <tr>\n",
       "      <th>0</th>\n",
       "      <td>133396</td>\n",
       "    </tr>\n",
       "    <tr>\n",
       "      <th>1</th>\n",
       "      <td>9984670</td>\n",
       "    </tr>\n",
       "    <tr>\n",
       "      <th>2</th>\n",
       "      <td>9826630</td>\n",
       "    </tr>\n",
       "    <tr>\n",
       "      <th>3</th>\n",
       "      <td>17125191</td>\n",
       "    </tr>\n",
       "    <tr>\n",
       "      <th>4</th>\n",
       "      <td>603628</td>\n",
       "    </tr>\n",
       "    <tr>\n",
       "      <th>5</th>\n",
       "      <td>207600</td>\n",
       "    </tr>\n",
       "    <tr>\n",
       "      <th>6</th>\n",
       "      <td>2724902</td>\n",
       "    </tr>\n",
       "  </tbody>\n",
       "</table>\n",
       "</div>"
      ],
      "text/plain": [
       "     square\n",
       "0    133396\n",
       "1   9984670\n",
       "2   9826630\n",
       "3  17125191\n",
       "4    603628\n",
       "5    207600\n",
       "6   2724902"
      ]
     },
     "execution_count": 165,
     "metadata": {},
     "output_type": "execute_result"
    }
   ],
   "source": [
    "countries_df.iloc[:,-1:] # первая :- все строки, посое запятой указание на столбцы"
   ]
  },
  {
   "cell_type": "code",
   "execution_count": null,
   "id": "4fdd21d6",
   "metadata": {},
   "outputs": [],
   "source": []
  },
  {
   "cell_type": "code",
   "execution_count": 158,
   "id": "da88cb47",
   "metadata": {},
   "outputs": [
    {
     "data": {
      "text/html": [
       "<div>\n",
       "<style scoped>\n",
       "    .dataframe tbody tr th:only-of-type {\n",
       "        vertical-align: middle;\n",
       "    }\n",
       "\n",
       "    .dataframe tbody tr th {\n",
       "        vertical-align: top;\n",
       "    }\n",
       "\n",
       "    .dataframe thead th {\n",
       "        text-align: right;\n",
       "    }\n",
       "</style>\n",
       "<table border=\"1\" class=\"dataframe\">\n",
       "  <thead>\n",
       "    <tr style=\"text-align: right;\">\n",
       "      <th></th>\n",
       "      <th>country</th>\n",
       "      <th>population</th>\n",
       "      <th>square</th>\n",
       "    </tr>\n",
       "  </thead>\n",
       "  <tbody>\n",
       "    <tr>\n",
       "      <th>0</th>\n",
       "      <td>Англия</td>\n",
       "      <td>56.29</td>\n",
       "      <td>133396</td>\n",
       "    </tr>\n",
       "    <tr>\n",
       "      <th>1</th>\n",
       "      <td>Канада</td>\n",
       "      <td>38.05</td>\n",
       "      <td>9984670</td>\n",
       "    </tr>\n",
       "    <tr>\n",
       "      <th>2</th>\n",
       "      <td>США</td>\n",
       "      <td>322.28</td>\n",
       "      <td>9826630</td>\n",
       "    </tr>\n",
       "    <tr>\n",
       "      <th>3</th>\n",
       "      <td>Россия</td>\n",
       "      <td>146.24</td>\n",
       "      <td>17125191</td>\n",
       "    </tr>\n",
       "    <tr>\n",
       "      <th>4</th>\n",
       "      <td>Украина</td>\n",
       "      <td>45.50</td>\n",
       "      <td>603628</td>\n",
       "    </tr>\n",
       "    <tr>\n",
       "      <th>5</th>\n",
       "      <td>Беларусь</td>\n",
       "      <td>9.50</td>\n",
       "      <td>207600</td>\n",
       "    </tr>\n",
       "    <tr>\n",
       "      <th>6</th>\n",
       "      <td>Казахстан</td>\n",
       "      <td>17.04</td>\n",
       "      <td>2724902</td>\n",
       "    </tr>\n",
       "  </tbody>\n",
       "</table>\n",
       "</div>"
      ],
      "text/plain": [
       "     country  population    square\n",
       "0     Англия       56.29    133396\n",
       "1     Канада       38.05   9984670\n",
       "2        США      322.28   9826630\n",
       "3     Россия      146.24  17125191\n",
       "4    Украина       45.50    603628\n",
       "5   Беларусь        9.50    207600\n",
       "6  Казахстан       17.04   2724902"
      ]
     },
     "execution_count": 158,
     "metadata": {},
     "output_type": "execute_result"
    }
   ],
   "source": [
    "countries_df.iloc[:,:]"
   ]
  },
  {
   "cell_type": "code",
   "execution_count": 159,
   "id": "69b20d7f",
   "metadata": {},
   "outputs": [
    {
     "data": {
      "text/html": [
       "<div>\n",
       "<style scoped>\n",
       "    .dataframe tbody tr th:only-of-type {\n",
       "        vertical-align: middle;\n",
       "    }\n",
       "\n",
       "    .dataframe tbody tr th {\n",
       "        vertical-align: top;\n",
       "    }\n",
       "\n",
       "    .dataframe thead th {\n",
       "        text-align: right;\n",
       "    }\n",
       "</style>\n",
       "<table border=\"1\" class=\"dataframe\">\n",
       "  <thead>\n",
       "    <tr style=\"text-align: right;\">\n",
       "      <th></th>\n",
       "      <th>country</th>\n",
       "      <th>population</th>\n",
       "      <th>square</th>\n",
       "    </tr>\n",
       "  </thead>\n",
       "  <tbody>\n",
       "    <tr>\n",
       "      <th>0</th>\n",
       "      <td>Англия</td>\n",
       "      <td>56.29</td>\n",
       "      <td>133396</td>\n",
       "    </tr>\n",
       "    <tr>\n",
       "      <th>1</th>\n",
       "      <td>Канада</td>\n",
       "      <td>38.05</td>\n",
       "      <td>9984670</td>\n",
       "    </tr>\n",
       "    <tr>\n",
       "      <th>2</th>\n",
       "      <td>США</td>\n",
       "      <td>322.28</td>\n",
       "      <td>9826630</td>\n",
       "    </tr>\n",
       "    <tr>\n",
       "      <th>3</th>\n",
       "      <td>Россия</td>\n",
       "      <td>146.24</td>\n",
       "      <td>17125191</td>\n",
       "    </tr>\n",
       "    <tr>\n",
       "      <th>4</th>\n",
       "      <td>Украина</td>\n",
       "      <td>45.50</td>\n",
       "      <td>603628</td>\n",
       "    </tr>\n",
       "    <tr>\n",
       "      <th>5</th>\n",
       "      <td>Беларусь</td>\n",
       "      <td>9.50</td>\n",
       "      <td>207600</td>\n",
       "    </tr>\n",
       "    <tr>\n",
       "      <th>6</th>\n",
       "      <td>Казахстан</td>\n",
       "      <td>17.04</td>\n",
       "      <td>2724902</td>\n",
       "    </tr>\n",
       "  </tbody>\n",
       "</table>\n",
       "</div>"
      ],
      "text/plain": [
       "     country  population    square\n",
       "0     Англия       56.29    133396\n",
       "1     Канада       38.05   9984670\n",
       "2        США      322.28   9826630\n",
       "3     Россия      146.24  17125191\n",
       "4    Украина       45.50    603628\n",
       "5   Беларусь        9.50    207600\n",
       "6  Казахстан       17.04   2724902"
      ]
     },
     "execution_count": 159,
     "metadata": {},
     "output_type": "execute_result"
    }
   ],
   "source": [
    "countries_df.iloc[::]"
   ]
  },
  {
   "cell_type": "code",
   "execution_count": 160,
   "id": "56a26fdb",
   "metadata": {},
   "outputs": [
    {
     "data": {
      "text/html": [
       "<div>\n",
       "<style scoped>\n",
       "    .dataframe tbody tr th:only-of-type {\n",
       "        vertical-align: middle;\n",
       "    }\n",
       "\n",
       "    .dataframe tbody tr th {\n",
       "        vertical-align: top;\n",
       "    }\n",
       "\n",
       "    .dataframe thead th {\n",
       "        text-align: right;\n",
       "    }\n",
       "</style>\n",
       "<table border=\"1\" class=\"dataframe\">\n",
       "  <thead>\n",
       "    <tr style=\"text-align: right;\">\n",
       "      <th></th>\n",
       "      <th>country</th>\n",
       "      <th>population</th>\n",
       "      <th>square</th>\n",
       "    </tr>\n",
       "  </thead>\n",
       "  <tbody>\n",
       "    <tr>\n",
       "      <th>0</th>\n",
       "      <td>Англия</td>\n",
       "      <td>56.29</td>\n",
       "      <td>133396</td>\n",
       "    </tr>\n",
       "    <tr>\n",
       "      <th>1</th>\n",
       "      <td>Канада</td>\n",
       "      <td>38.05</td>\n",
       "      <td>9984670</td>\n",
       "    </tr>\n",
       "    <tr>\n",
       "      <th>2</th>\n",
       "      <td>США</td>\n",
       "      <td>322.28</td>\n",
       "      <td>9826630</td>\n",
       "    </tr>\n",
       "    <tr>\n",
       "      <th>3</th>\n",
       "      <td>Россия</td>\n",
       "      <td>146.24</td>\n",
       "      <td>17125191</td>\n",
       "    </tr>\n",
       "    <tr>\n",
       "      <th>4</th>\n",
       "      <td>Украина</td>\n",
       "      <td>45.50</td>\n",
       "      <td>603628</td>\n",
       "    </tr>\n",
       "    <tr>\n",
       "      <th>5</th>\n",
       "      <td>Беларусь</td>\n",
       "      <td>9.50</td>\n",
       "      <td>207600</td>\n",
       "    </tr>\n",
       "  </tbody>\n",
       "</table>\n",
       "</div>"
      ],
      "text/plain": [
       "    country  population    square\n",
       "0    Англия       56.29    133396\n",
       "1    Канада       38.05   9984670\n",
       "2       США      322.28   9826630\n",
       "3    Россия      146.24  17125191\n",
       "4   Украина       45.50    603628\n",
       "5  Беларусь        9.50    207600"
      ]
     },
     "execution_count": 160,
     "metadata": {},
     "output_type": "execute_result"
    }
   ],
   "source": [
    "countries_df.iloc[:-1]"
   ]
  },
  {
   "cell_type": "markdown",
   "id": "e64b1fbb",
   "metadata": {},
   "source": [
    "Создать столбец с плотностью населения, которая рассчитывается как количество населения, делённое на площадь страны (человек на км)"
   ]
  },
  {
   "cell_type": "code",
   "execution_count": 39,
   "id": "d0e8e7a2",
   "metadata": {},
   "outputs": [
    {
     "data": {
      "text/plain": [
       "UK     56.29\n",
       "CA     38.05\n",
       "US    322.28\n",
       "RU    146.24\n",
       "UA     45.50\n",
       "BY      9.50\n",
       "KZ     17.04\n",
       "Name: population, dtype: float64"
      ]
     },
     "execution_count": 39,
     "metadata": {},
     "output_type": "execute_result"
    }
   ],
   "source": [
    "countries_df['population']"
   ]
  },
  {
   "cell_type": "code",
   "execution_count": 40,
   "id": "06a7f831",
   "metadata": {},
   "outputs": [
    {
     "data": {
      "text/html": [
       "<div>\n",
       "<style scoped>\n",
       "    .dataframe tbody tr th:only-of-type {\n",
       "        vertical-align: middle;\n",
       "    }\n",
       "\n",
       "    .dataframe tbody tr th {\n",
       "        vertical-align: top;\n",
       "    }\n",
       "\n",
       "    .dataframe thead th {\n",
       "        text-align: right;\n",
       "    }\n",
       "</style>\n",
       "<table border=\"1\" class=\"dataframe\">\n",
       "  <thead>\n",
       "    <tr style=\"text-align: right;\">\n",
       "      <th></th>\n",
       "      <th>country</th>\n",
       "      <th>population</th>\n",
       "      <th>square</th>\n",
       "      <th>density</th>\n",
       "    </tr>\n",
       "  </thead>\n",
       "  <tbody>\n",
       "    <tr>\n",
       "      <th>UK</th>\n",
       "      <td>Англия</td>\n",
       "      <td>56.29</td>\n",
       "      <td>133396</td>\n",
       "      <td>421.976671</td>\n",
       "    </tr>\n",
       "    <tr>\n",
       "      <th>CA</th>\n",
       "      <td>Канада</td>\n",
       "      <td>38.05</td>\n",
       "      <td>9984670</td>\n",
       "      <td>3.810842</td>\n",
       "    </tr>\n",
       "    <tr>\n",
       "      <th>US</th>\n",
       "      <td>США</td>\n",
       "      <td>322.28</td>\n",
       "      <td>9826630</td>\n",
       "      <td>32.796595</td>\n",
       "    </tr>\n",
       "    <tr>\n",
       "      <th>RU</th>\n",
       "      <td>Россия</td>\n",
       "      <td>146.24</td>\n",
       "      <td>17125191</td>\n",
       "      <td>8.539467</td>\n",
       "    </tr>\n",
       "    <tr>\n",
       "      <th>UA</th>\n",
       "      <td>Украина</td>\n",
       "      <td>45.50</td>\n",
       "      <td>603628</td>\n",
       "      <td>75.377550</td>\n",
       "    </tr>\n",
       "    <tr>\n",
       "      <th>BY</th>\n",
       "      <td>Беларусь</td>\n",
       "      <td>9.50</td>\n",
       "      <td>207600</td>\n",
       "      <td>45.761079</td>\n",
       "    </tr>\n",
       "    <tr>\n",
       "      <th>KZ</th>\n",
       "      <td>Казахстан</td>\n",
       "      <td>17.04</td>\n",
       "      <td>2724902</td>\n",
       "      <td>6.253436</td>\n",
       "    </tr>\n",
       "  </tbody>\n",
       "</table>\n",
       "</div>"
      ],
      "text/plain": [
       "      country  population    square     density\n",
       "UK     Англия       56.29    133396  421.976671\n",
       "CA     Канада       38.05   9984670    3.810842\n",
       "US        США      322.28   9826630   32.796595\n",
       "RU     Россия      146.24  17125191    8.539467\n",
       "UA    Украина       45.50    603628   75.377550\n",
       "BY   Беларусь        9.50    207600   45.761079\n",
       "KZ  Казахстан       17.04   2724902    6.253436"
      ]
     },
     "execution_count": 40,
     "metadata": {},
     "output_type": "execute_result"
    }
   ],
   "source": [
    "countries_df['density']=(1000000*countries_df['population'])/countries_df['square']\n",
    "countries_df"
   ]
  },
  {
   "cell_type": "markdown",
   "id": "abf6c8d7",
   "metadata": {},
   "source": [
    "Найти страну с максимальной плотностью "
   ]
  },
  {
   "cell_type": "code",
   "execution_count": 41,
   "id": "84d76870",
   "metadata": {},
   "outputs": [
    {
     "data": {
      "text/plain": [
       "'Англия'"
      ]
     },
     "execution_count": 41,
     "metadata": {},
     "output_type": "execute_result"
    }
   ],
   "source": [
    "countries_df.iloc[0][0]"
   ]
  },
  {
   "cell_type": "code",
   "execution_count": 42,
   "id": "fc34c05c",
   "metadata": {},
   "outputs": [
    {
     "data": {
      "text/plain": [
       "421.97667096464664"
      ]
     },
     "execution_count": 42,
     "metadata": {},
     "output_type": "execute_result"
    }
   ],
   "source": [
    "countries_df['density'].max()"
   ]
  },
  {
   "cell_type": "code",
   "execution_count": 43,
   "id": "497765fa",
   "metadata": {},
   "outputs": [
    {
     "name": "stdout",
     "output_type": "stream",
     "text": [
      "Англия\n"
     ]
    }
   ],
   "source": [
    "strana=0\n",
    "idx=0\n",
    "for dense in  countries_df['density']:\n",
    "    if countries_df['density'].max()==dense:\n",
    "        \n",
    "        strana = countries_df.iloc[idx][0]\n",
    "    idx=idx+1\n",
    "print(strana)"
   ]
  },
  {
   "cell_type": "code",
   "execution_count": 44,
   "id": "963e2834",
   "metadata": {},
   "outputs": [
    {
     "name": "stdout",
     "output_type": "stream",
     "text": [
      "Англия\n"
     ]
    }
   ],
   "source": [
    "max_density=countries_df.density.max()\n",
    "for country in countries_df.index:\n",
    "    if countries_df.loc[country, 'density']==max_density:\n",
    "        print(countries_df.loc[country, 'country'])"
   ]
  },
  {
   "cell_type": "code",
   "execution_count": 45,
   "id": "9b3eb1d2",
   "metadata": {},
   "outputs": [
    {
     "data": {
      "text/plain": [
       "'UK'"
      ]
     },
     "execution_count": 45,
     "metadata": {},
     "output_type": "execute_result"
    }
   ],
   "source": [
    "countries_df.density.idxmax()"
   ]
  },
  {
   "cell_type": "code",
   "execution_count": 46,
   "id": "3bbb47a8",
   "metadata": {},
   "outputs": [],
   "source": [
    "#Написать функцию, которая сама определяет, каким методом нужно прочитать файл по расширению. \n",
    "#Расширение файла указывается через точку в конце имени файла. \n",
    "#на вход приходит resieps.json \n",
    "\n",
    "filename='data/countries.csv'\n",
    "format_file=filename.split('.')[-1]\n",
    "if format_file=='csv':\n",
    "    data=pd.read_csv(filename, sep=';')"
   ]
  },
  {
   "cell_type": "code",
   "execution_count": 47,
   "id": "5ee0032a",
   "metadata": {},
   "outputs": [
    {
     "data": {
      "text/html": [
       "<div>\n",
       "<style scoped>\n",
       "    .dataframe tbody tr th:only-of-type {\n",
       "        vertical-align: middle;\n",
       "    }\n",
       "\n",
       "    .dataframe tbody tr th {\n",
       "        vertical-align: top;\n",
       "    }\n",
       "\n",
       "    .dataframe thead th {\n",
       "        text-align: right;\n",
       "    }\n",
       "</style>\n",
       "<table border=\"1\" class=\"dataframe\">\n",
       "  <thead>\n",
       "    <tr style=\"text-align: right;\">\n",
       "      <th></th>\n",
       "      <th>country</th>\n",
       "      <th>population</th>\n",
       "      <th>square</th>\n",
       "    </tr>\n",
       "  </thead>\n",
       "  <tbody>\n",
       "    <tr>\n",
       "      <th>0</th>\n",
       "      <td>Англия</td>\n",
       "      <td>56.29</td>\n",
       "      <td>133396</td>\n",
       "    </tr>\n",
       "    <tr>\n",
       "      <th>1</th>\n",
       "      <td>Канада</td>\n",
       "      <td>38.05</td>\n",
       "      <td>9984670</td>\n",
       "    </tr>\n",
       "    <tr>\n",
       "      <th>2</th>\n",
       "      <td>США</td>\n",
       "      <td>322.28</td>\n",
       "      <td>9826630</td>\n",
       "    </tr>\n",
       "    <tr>\n",
       "      <th>3</th>\n",
       "      <td>Россия</td>\n",
       "      <td>146.24</td>\n",
       "      <td>17125191</td>\n",
       "    </tr>\n",
       "    <tr>\n",
       "      <th>4</th>\n",
       "      <td>Украина</td>\n",
       "      <td>45.50</td>\n",
       "      <td>603628</td>\n",
       "    </tr>\n",
       "    <tr>\n",
       "      <th>5</th>\n",
       "      <td>Беларусь</td>\n",
       "      <td>9.50</td>\n",
       "      <td>207600</td>\n",
       "    </tr>\n",
       "    <tr>\n",
       "      <th>6</th>\n",
       "      <td>Казахстан</td>\n",
       "      <td>17.04</td>\n",
       "      <td>2724902</td>\n",
       "    </tr>\n",
       "  </tbody>\n",
       "</table>\n",
       "</div>"
      ],
      "text/plain": [
       "     country  population    square\n",
       "0     Англия       56.29    133396\n",
       "1     Канада       38.05   9984670\n",
       "2        США      322.28   9826630\n",
       "3     Россия      146.24  17125191\n",
       "4    Украина       45.50    603628\n",
       "5   Беларусь        9.50    207600\n",
       "6  Казахстан       17.04   2724902"
      ]
     },
     "execution_count": 47,
     "metadata": {},
     "output_type": "execute_result"
    }
   ],
   "source": [
    "data"
   ]
  },
  {
   "cell_type": "code",
   "execution_count": 48,
   "id": "c758ac03",
   "metadata": {},
   "outputs": [],
   "source": [
    "def read_file(path):\n",
    "    format_file=path.split('.')[-1]\n",
    "    if format_file=='csv':\n",
    "        data=pd.read_csv(filename, sep=';')\n",
    "    elif format_file=='json':\n",
    "        data=pd.read_json(filename)\n",
    "    return data"
   ]
  },
  {
   "cell_type": "code",
   "execution_count": 49,
   "id": "2a7bb360",
   "metadata": {},
   "outputs": [],
   "source": [
    "#Ключи - форматы, а по значению - функции, которые мы не вызываем. \n",
    "# По умолчанию сепаратора нет, но если  он нужен (например, csv), то мы задаём его значение. \n",
    "# А если не нужен, то он по умолчанию пуст и он не вызывается (например, json)\n",
    "call_func={'csv': pd.read_csv, 'json': pd.read_json}\n",
    "def read_file(path, call_func, sep=''):\n",
    "    format_file=path.split('.')[-1]\n",
    "    data=call_func[format_file](path, sep =sep)\n",
    "\n",
    "    return data"
   ]
  },
  {
   "cell_type": "code",
   "execution_count": 50,
   "id": "a5e32395",
   "metadata": {},
   "outputs": [
    {
     "data": {
      "text/html": [
       "<div>\n",
       "<style scoped>\n",
       "    .dataframe tbody tr th:only-of-type {\n",
       "        vertical-align: middle;\n",
       "    }\n",
       "\n",
       "    .dataframe tbody tr th {\n",
       "        vertical-align: top;\n",
       "    }\n",
       "\n",
       "    .dataframe thead th {\n",
       "        text-align: right;\n",
       "    }\n",
       "</style>\n",
       "<table border=\"1\" class=\"dataframe\">\n",
       "  <thead>\n",
       "    <tr style=\"text-align: right;\">\n",
       "      <th></th>\n",
       "      <th>country</th>\n",
       "      <th>population</th>\n",
       "      <th>square</th>\n",
       "    </tr>\n",
       "  </thead>\n",
       "  <tbody>\n",
       "    <tr>\n",
       "      <th>0</th>\n",
       "      <td>Англия</td>\n",
       "      <td>56.29</td>\n",
       "      <td>133396</td>\n",
       "    </tr>\n",
       "    <tr>\n",
       "      <th>1</th>\n",
       "      <td>Канада</td>\n",
       "      <td>38.05</td>\n",
       "      <td>9984670</td>\n",
       "    </tr>\n",
       "    <tr>\n",
       "      <th>2</th>\n",
       "      <td>США</td>\n",
       "      <td>322.28</td>\n",
       "      <td>9826630</td>\n",
       "    </tr>\n",
       "    <tr>\n",
       "      <th>3</th>\n",
       "      <td>Россия</td>\n",
       "      <td>146.24</td>\n",
       "      <td>17125191</td>\n",
       "    </tr>\n",
       "    <tr>\n",
       "      <th>4</th>\n",
       "      <td>Украина</td>\n",
       "      <td>45.50</td>\n",
       "      <td>603628</td>\n",
       "    </tr>\n",
       "    <tr>\n",
       "      <th>5</th>\n",
       "      <td>Беларусь</td>\n",
       "      <td>9.50</td>\n",
       "      <td>207600</td>\n",
       "    </tr>\n",
       "    <tr>\n",
       "      <th>6</th>\n",
       "      <td>Казахстан</td>\n",
       "      <td>17.04</td>\n",
       "      <td>2724902</td>\n",
       "    </tr>\n",
       "  </tbody>\n",
       "</table>\n",
       "</div>"
      ],
      "text/plain": [
       "     country  population    square\n",
       "0     Англия       56.29    133396\n",
       "1     Канада       38.05   9984670\n",
       "2        США      322.28   9826630\n",
       "3     Россия      146.24  17125191\n",
       "4    Украина       45.50    603628\n",
       "5   Беларусь        9.50    207600\n",
       "6  Казахстан       17.04   2724902"
      ]
     },
     "execution_count": 50,
     "metadata": {},
     "output_type": "execute_result"
    }
   ],
   "source": [
    "read_file('data/countries.csv',call_func, sep=';')"
   ]
  },
  {
   "cell_type": "markdown",
   "id": "cf4ef19a",
   "metadata": {},
   "source": [
    "### Обращение к столбцу по номеру"
   ]
  },
  {
   "cell_type": "code",
   "execution_count": 51,
   "id": "df8eb2ab",
   "metadata": {},
   "outputs": [
    {
     "data": {
      "text/plain": [
       "UK       Англия\n",
       "CA       Канада\n",
       "US          США\n",
       "RU       Россия\n",
       "UA      Украина\n",
       "BY     Беларусь\n",
       "KZ    Казахстан\n",
       "Name: country, dtype: object"
      ]
     },
     "execution_count": 51,
     "metadata": {},
     "output_type": "execute_result"
    }
   ],
   "source": [
    "countries_df[countries_df.columns[0]]"
   ]
  },
  {
   "cell_type": "code",
   "execution_count": 52,
   "id": "3458eb17",
   "metadata": {},
   "outputs": [
    {
     "data": {
      "text/plain": [
       "UK       Англия\n",
       "CA       Канада\n",
       "US          США\n",
       "RU       Россия\n",
       "UA      Украина\n",
       "BY     Беларусь\n",
       "KZ    Казахстан\n",
       "Name: country, dtype: object"
      ]
     },
     "execution_count": 52,
     "metadata": {},
     "output_type": "execute_result"
    }
   ],
   "source": [
    "countries_df.iloc[:, 0]"
   ]
  },
  {
   "cell_type": "markdown",
   "id": "b317d174",
   "metadata": {},
   "source": [
    "##### Способ 2: создать DataFrame из вложенного списка, внутренние списки которого будут являться строками новой таблицы:"
   ]
  },
  {
   "cell_type": "code",
   "execution_count": 53,
   "id": "9c4a04b7",
   "metadata": {},
   "outputs": [],
   "source": [
    "countries_df = pd.DataFrame(\n",
    "    data = [\n",
    "        ['Англия', 56.29, 133396],\n",
    "        ['Канада', 38.05, 9984670],\n",
    "        ['США', 322.28, 9826630],\n",
    "        ['Россия', 146.24, 17125191],\n",
    "        ['Украина', 45.5, 603628],\n",
    "        ['Беларусь', 9.5, 207600],\n",
    "        ['Казахстан', 17.04, 2724902]\n",
    "    ],\n",
    "    columns= ['country', 'population', 'square'],\n",
    "    index = ['UK', 'CA', 'US', 'RU', 'UA', 'BY', 'KZ']\n",
    ")\n"
   ]
  },
  {
   "cell_type": "code",
   "execution_count": 54,
   "id": "82c73fbb",
   "metadata": {},
   "outputs": [
    {
     "data": {
      "text/html": [
       "<div>\n",
       "<style scoped>\n",
       "    .dataframe tbody tr th:only-of-type {\n",
       "        vertical-align: middle;\n",
       "    }\n",
       "\n",
       "    .dataframe tbody tr th {\n",
       "        vertical-align: top;\n",
       "    }\n",
       "\n",
       "    .dataframe thead th {\n",
       "        text-align: right;\n",
       "    }\n",
       "</style>\n",
       "<table border=\"1\" class=\"dataframe\">\n",
       "  <thead>\n",
       "    <tr style=\"text-align: right;\">\n",
       "      <th></th>\n",
       "      <th>country</th>\n",
       "      <th>population</th>\n",
       "      <th>square</th>\n",
       "    </tr>\n",
       "  </thead>\n",
       "  <tbody>\n",
       "    <tr>\n",
       "      <th>UK</th>\n",
       "      <td>Англия</td>\n",
       "      <td>56.29</td>\n",
       "      <td>133396</td>\n",
       "    </tr>\n",
       "    <tr>\n",
       "      <th>CA</th>\n",
       "      <td>Канада</td>\n",
       "      <td>38.05</td>\n",
       "      <td>9984670</td>\n",
       "    </tr>\n",
       "    <tr>\n",
       "      <th>US</th>\n",
       "      <td>США</td>\n",
       "      <td>322.28</td>\n",
       "      <td>9826630</td>\n",
       "    </tr>\n",
       "    <tr>\n",
       "      <th>RU</th>\n",
       "      <td>Россия</td>\n",
       "      <td>146.24</td>\n",
       "      <td>17125191</td>\n",
       "    </tr>\n",
       "    <tr>\n",
       "      <th>UA</th>\n",
       "      <td>Украина</td>\n",
       "      <td>45.50</td>\n",
       "      <td>603628</td>\n",
       "    </tr>\n",
       "    <tr>\n",
       "      <th>BY</th>\n",
       "      <td>Беларусь</td>\n",
       "      <td>9.50</td>\n",
       "      <td>207600</td>\n",
       "    </tr>\n",
       "    <tr>\n",
       "      <th>KZ</th>\n",
       "      <td>Казахстан</td>\n",
       "      <td>17.04</td>\n",
       "      <td>2724902</td>\n",
       "    </tr>\n",
       "  </tbody>\n",
       "</table>\n",
       "</div>"
      ],
      "text/plain": [
       "      country  population    square\n",
       "UK     Англия       56.29    133396\n",
       "CA     Канада       38.05   9984670\n",
       "US        США      322.28   9826630\n",
       "RU     Россия      146.24  17125191\n",
       "UA    Украина       45.50    603628\n",
       "BY   Беларусь        9.50    207600\n",
       "KZ  Казахстан       17.04   2724902"
      ]
     },
     "execution_count": 54,
     "metadata": {},
     "output_type": "execute_result"
    }
   ],
   "source": [
    "countries_df"
   ]
  },
  {
   "cell_type": "code",
   "execution_count": null,
   "id": "776240e6",
   "metadata": {},
   "outputs": [],
   "source": []
  },
  {
   "attachments": {
    "Axis.png": {
     "image/png": "[encoded data removed]"
    }
   },
   "cell_type": "markdown",
   "id": "528d30fe",
   "metadata": {},
   "source": [
    "##### Axis в DataFrame\n",
    "Как уже было сказано, DataFrame является двумерной структурой данных, что означает наличие двух возможных направлений движения в ней: вдоль строк и вдоль столбцов. \n",
    "Так, например, мы можем удалять как строки, так и столбцы таблицы, вычислять среднее значение как по столбцам, так и по строкам таблицы. \n",
    "Важно при работе с Pandas уметь указывать направление работы метода, который используется.\n",
    "Для этого в Pandas вводится понятие axis (ось, координата), строки в таблице обозначаются axis с индексом 0, а столбцы - axis с индексом 1.\n",
    "Данный параметр заложен во все методы, которые могут работать в двух направлениях и по умолчанию в большинстве из них axis=0, т.е. они выполняют операции со строками, если не задавать axis вручную.\n",
    "![Axis.png](attachment:Axis.png)"
   ]
  },
  {
   "cell_type": "code",
   "execution_count": 55,
   "id": "a9f9bd6a",
   "metadata": {},
   "outputs": [
    {
     "data": {
      "text/plain": [
       "population    9.070000e+01\n",
       "square        5.800860e+06\n",
       "dtype: float64"
      ]
     },
     "execution_count": 55,
     "metadata": {},
     "output_type": "execute_result"
    }
   ],
   "source": [
    "#Считаем среднее по строкам (axis = 0) в каждом столбце:\n",
    "countries_df.mean(axis=0)"
   ]
  },
  {
   "cell_type": "code",
   "execution_count": 56,
   "id": "759946de",
   "metadata": {},
   "outputs": [
    {
     "data": {
      "text/plain": [
       "UK      66726.145\n",
       "CA    4992354.025\n",
       "US    4913476.140\n",
       "RU    8562668.620\n",
       "UA     301836.750\n",
       "BY     103804.750\n",
       "KZ    1362459.520\n",
       "dtype: float64"
      ]
     },
     "execution_count": 56,
     "metadata": {},
     "output_type": "execute_result"
    }
   ],
   "source": [
    "#Считаем среднее по столбцам (axis=1) в каждой строке:\n",
    "countries_df.mean(axis=1)"
   ]
  },
  {
   "cell_type": "markdown",
   "id": "ae39b092",
   "metadata": {},
   "source": [
    "##### Доступ к данным в DataFrame\n",
    "Доступ к столбцу можно получить разными способами: \n",
    "\n",
    "Можно обратиться по имени столбца к DataFrame через точку: countries_df.population\n"
   ]
  },
  {
   "cell_type": "code",
   "execution_count": 57,
   "id": "2ba25b2e",
   "metadata": {},
   "outputs": [
    {
     "data": {
      "text/plain": [
       "UK     56.29\n",
       "CA     38.05\n",
       "US    322.28\n",
       "RU    146.24\n",
       "UA     45.50\n",
       "BY      9.50\n",
       "KZ     17.04\n",
       "Name: population, dtype: float64"
      ]
     },
     "execution_count": 57,
     "metadata": {},
     "output_type": "execute_result"
    }
   ],
   "source": [
    "countries_df.population\n"
   ]
  },
  {
   "cell_type": "markdown",
   "id": "5d8f7039",
   "metadata": {},
   "source": [
    "Для того, чтобы получить доступ к ячейкам в таблице используются уже знакомые нам loc и iloc.\n",
    "При этом в соответствии с механизмом работы axis: при обращении к DataFrame по индексам с помощью loc (iloc) первым индексом указывается индекс (порядковый номер), соответствующий строкам, а вторым - имя (порядковый номер) столбца.\n",
    "Рассмотрим на примерах:\n"
   ]
  },
  {
   "cell_type": "code",
   "execution_count": 58,
   "id": "404e1ae9",
   "metadata": {},
   "outputs": [
    {
     "data": {
      "text/plain": [
       "133396"
      ]
     },
     "execution_count": 58,
     "metadata": {},
     "output_type": "execute_result"
    }
   ],
   "source": [
    "#Получим площадь Англии:\n",
    "variant1_1=countries_df.loc['UK', 'square']\n",
    "variant1_2=countries_df.iloc[0, 2]\n",
    "variant1_1"
   ]
  },
  {
   "cell_type": "code",
   "execution_count": 59,
   "id": "3043717f",
   "metadata": {},
   "outputs": [
    {
     "data": {
      "text/plain": [
       "population      146.24\n",
       "square        17125191\n",
       "Name: RU, dtype: object"
      ]
     },
     "execution_count": 59,
     "metadata": {},
     "output_type": "execute_result"
    }
   ],
   "source": [
    "#Получим население и площадь, соответствующие России:\n",
    "variant2_1=countries_df.loc['RU', ['population', 'square']]\n",
    "\n",
    "variant2_2=countries_df.iloc[3, 1:3]\n",
    "variant2_2"
   ]
  },
  {
   "cell_type": "code",
   "execution_count": 60,
   "id": "baafe3d2",
   "metadata": {},
   "outputs": [
    {
     "data": {
      "text/html": [
       "<div>\n",
       "<style scoped>\n",
       "    .dataframe tbody tr th:only-of-type {\n",
       "        vertical-align: middle;\n",
       "    }\n",
       "\n",
       "    .dataframe tbody tr th {\n",
       "        vertical-align: top;\n",
       "    }\n",
       "\n",
       "    .dataframe thead th {\n",
       "        text-align: right;\n",
       "    }\n",
       "</style>\n",
       "<table border=\"1\" class=\"dataframe\">\n",
       "  <thead>\n",
       "    <tr style=\"text-align: right;\">\n",
       "      <th></th>\n",
       "      <th>population</th>\n",
       "      <th>square</th>\n",
       "    </tr>\n",
       "  </thead>\n",
       "  <tbody>\n",
       "    <tr>\n",
       "      <th>UA</th>\n",
       "      <td>45.50</td>\n",
       "      <td>603628</td>\n",
       "    </tr>\n",
       "    <tr>\n",
       "      <th>BY</th>\n",
       "      <td>9.50</td>\n",
       "      <td>207600</td>\n",
       "    </tr>\n",
       "    <tr>\n",
       "      <th>KZ</th>\n",
       "      <td>17.04</td>\n",
       "      <td>2724902</td>\n",
       "    </tr>\n",
       "  </tbody>\n",
       "</table>\n",
       "</div>"
      ],
      "text/plain": [
       "    population   square\n",
       "UA       45.50   603628\n",
       "BY        9.50   207600\n",
       "KZ       17.04  2724902"
      ]
     },
     "execution_count": 60,
     "metadata": {},
     "output_type": "execute_result"
    }
   ],
   "source": [
    "#Сделаем вырезку из таблицы и возьмем информацию о населении и площади, соответствующую Украине, Беларуси и Казахстану:\n",
    "variant3_1= countries_df.loc[['UA', 'BY', 'KZ'],['population', 'square']]\n",
    "variant3_2=countries_df.iloc[4:8, 1:3]\n",
    "variant3_1"
   ]
  },
  {
   "cell_type": "markdown",
   "id": "48d8062c",
   "metadata": {},
   "source": [
    "Задание 2.3.5 Андрей\n",
    "\n",
    "2.3.5. Расходы компании ScienceYou составили 156, 130 и 270 единиц за 2018, 2019 и 2020 года соответственно. А доходы составили 478, 512 и 196 единиц за этот же промежуток времени. \n",
    "Создайте DataFrame company_data соответствующий таким данным со столбцами “Расходы” и “Доходы” и индексами равными годам рассматриваемого периода.\n",
    "Напишите код, который создаст заявленную таблицу и найдите разницу между доходами и расходами за 2020 год, результат занесите в переменную diff. \n"
   ]
  },
  {
   "cell_type": "code",
   "execution_count": 61,
   "id": "79d38c76",
   "metadata": {},
   "outputs": [],
   "source": [
    "company_data = pd.DataFrame({\n",
    "    'Расходы': [156, 130, 270],\n",
    "    'Доходы': [478, 512, 196]\n",
    "    },\n",
    "    index = [2018, 2019, 2020]\n",
    ")"
   ]
  },
  {
   "cell_type": "code",
   "execution_count": 62,
   "id": "f39fd064",
   "metadata": {},
   "outputs": [
    {
     "data": {
      "text/html": [
       "<div>\n",
       "<style scoped>\n",
       "    .dataframe tbody tr th:only-of-type {\n",
       "        vertical-align: middle;\n",
       "    }\n",
       "\n",
       "    .dataframe tbody tr th {\n",
       "        vertical-align: top;\n",
       "    }\n",
       "\n",
       "    .dataframe thead th {\n",
       "        text-align: right;\n",
       "    }\n",
       "</style>\n",
       "<table border=\"1\" class=\"dataframe\">\n",
       "  <thead>\n",
       "    <tr style=\"text-align: right;\">\n",
       "      <th></th>\n",
       "      <th>Расходы</th>\n",
       "      <th>Доходы</th>\n",
       "    </tr>\n",
       "  </thead>\n",
       "  <tbody>\n",
       "    <tr>\n",
       "      <th>2018</th>\n",
       "      <td>156</td>\n",
       "      <td>478</td>\n",
       "    </tr>\n",
       "    <tr>\n",
       "      <th>2019</th>\n",
       "      <td>130</td>\n",
       "      <td>512</td>\n",
       "    </tr>\n",
       "    <tr>\n",
       "      <th>2020</th>\n",
       "      <td>270</td>\n",
       "      <td>196</td>\n",
       "    </tr>\n",
       "  </tbody>\n",
       "</table>\n",
       "</div>"
      ],
      "text/plain": [
       "      Расходы  Доходы\n",
       "2018      156     478\n",
       "2019      130     512\n",
       "2020      270     196"
      ]
     },
     "execution_count": 62,
     "metadata": {},
     "output_type": "execute_result"
    }
   ],
   "source": [
    "company_data"
   ]
  },
  {
   "cell_type": "code",
   "execution_count": 63,
   "id": "b87cc937",
   "metadata": {},
   "outputs": [
    {
     "data": {
      "text/plain": [
       "-74"
      ]
     },
     "execution_count": 63,
     "metadata": {},
     "output_type": "execute_result"
    }
   ],
   "source": [
    "diff=company_data.iloc[2,1]-company_data.iloc[2,0]\n",
    "diff"
   ]
  },
  {
   "cell_type": "code",
   "execution_count": 64,
   "id": "77c20acc",
   "metadata": {},
   "outputs": [
    {
     "data": {
      "text/plain": [
       "-74"
      ]
     },
     "execution_count": 64,
     "metadata": {},
     "output_type": "execute_result"
    }
   ],
   "source": [
    "profit=company_data.loc[2020, 'Доходы']-company_data.loc[2020, 'Расходы']\n",
    "profit"
   ]
  },
  {
   "cell_type": "markdown",
   "id": "74692872",
   "metadata": {},
   "source": [
    "## 2.4. Работа с различными источниками данных в Pandas\n",
    "Из рассмотренных ранее примеров создания DataFrame становится понятно, что создавать таблицы вручную довольно проблематично и затратно по объему кода и времени его написания. Возникает вопрос: всегда ли так приходится делать? Ответ - конечно же не всегда.\n",
    "При работе DS чаще всего сталкивается с уже собранными данными, хранящимися в виде файлов и других источников, таких как базы данных и web-источники. Проблема заключается в том, что каждый источник данных представляет разных формат: например, если данные приходят к вам из отдела бухгалтерии, то это, скорее всего будет формат Excel-таблицы,  результаты web-запросов чаще всего представлены в формате JSON или XML и так далее.\n",
    "Благодаря функциональности Pandas можно быстро и легко читать данные и преобразовывать их в DataFrame из самых распространенных форматов. При этом данные могут быть прочитаны с вашего диска или же по сети. Более того, раз данные можно прочитать, значит их можно и сохранить, для этого Pandas также предоставляет возможности.\n",
    "Запись в csv файл:\n",
    "Предположим, что мы захотели сохранить созданный нами ранее DataFrame. Самым простым и распространенным источником табличных данных является формат csv(comma-separated values). В данном формате ячейки таблицы обозначаются некоторым разделителем, чаще всего запятой, либо точкой с запятой.\n",
    "Экспорт данных в данный формат осуществляется с помощью метода DataFrame to_csv().  \n",
    "Разберем основные параметры этого метода:\n",
    "path_or_buf - путь до файла, в который будет записан DataFrame (например “data/my_data.csv”)\n",
    "sep -  разделитель данных в выходном файле (по умолчанию ',');\n",
    "decimal - разделитель чисел на целую и дробную часть в выходном файле (по умолчанию '.')\n",
    "columns - список столбцов, которые нужно записать в файл (по умолчанию записываются все столбцы)\n",
    "index - создавать ли дополнительный столбец с индексами строк в файле (по умолчанию True)\n",
    "Заранее создадим папку data в директории, где лежит наш ноутбук. Теперь давайте сохраним наш DataFrame с информацией о странах в формате csv в файл с именем countries.csv в эту папку. При этом укажем, что разделителем в нашем файле будет являться символ ‘;’, а также то, что нам не нужен дополнительный столбец с индексами строк:\n"
   ]
  },
  {
   "cell_type": "code",
   "execution_count": 65,
   "id": "9f9df33d",
   "metadata": {},
   "outputs": [],
   "source": [
    "countries_df = pd.DataFrame({\n",
    "    'country': ['Англия', 'Канада', 'США', 'Россия', 'Украина', 'Беларусь', 'Казахстан'],\n",
    "    'population': [56.29, 38.05, 322.28, 146.24, 45.5, 9.5, 17.04],\n",
    "    'square': [133396, 9984670, 9826630, 17125191, 603628, 207600, 2724902]\n",
    "})\n",
    "\n",
    "countries_df.to_csv('data/countries.csv', index=False, sep=';')\n"
   ]
  },
  {
   "cell_type": "markdown",
   "id": "eea3db8e",
   "metadata": {},
   "source": [
    "Данные, прочитанные выше еще понадобятся нам в этом модуле, а пока предлагаем ознакомимся еще с несколькими методами:\n",
    "\n",
    "Запись и чтение в других форматах\n",
    "\n",
    "Как уже говорилось ранее, Pandas способен работать со многими распространенными форматами данных. Ниже приведен список методов и документация по ним для записи таблиц в форматы, отличные от csv:\n",
    "\n",
    "to_excel() - запись DataFrame в формат Excel-таблицы (.xslx).\n",
    "\n",
    "to_json() - запись DataFrame в формат JSON (.json)\n",
    "\n",
    "to_xml() - запись DataFrame в формат XML-документа (.xml)\n",
    "\n",
    "to_sql() - запись DataFrame в базу данных SQL (для реализации этого метода необходимо установить соединение с базой данных)\n",
    "\n",
    "Аналогично приведем список методов и документацию по ним для чтения таблиц из форматов, отличных от csv:\n",
    "read_excel() - чтение из формата Excel-таблицы(.xslx) в DataFrame\n",
    "\n",
    "read_json() - чтение из формата JSON (.json) в DataFrame\n",
    "\n",
    "read_xml() - чтение из формата XML-документа (.xml) в DataFrame\n",
    "\n",
    "read_sql() - чтение из базы данных SQL в DataFrame (так же необходимо установить соединение с базой данных)\n",
    "\n",
    "Итак, мы с вами рассмотрели, как можно записывать данные из DataFrame в файл и читать их из него. Эти навыки понадобятся в дальнейшем нам при работе с реальными данными и их анализе. А пока предлагаем вам закрепить полученные знания, выполнив следующие задания.\n"
   ]
  },
  {
   "cell_type": "markdown",
   "id": "0311aef1",
   "metadata": {},
   "source": [
    "При успешном выполнении кода в вашей директории data должен появится файл countries.csv, который вы даже можете открыть в редакторе и посмотреть его содержимое.\n",
    "Чтобы более подробно ознакомиться с методом to_csv() предлагаем обратиться к документации.\n",
    "Чтение csv файла:\n",
    "Для чтения таблицы из csv файла используется функция модуля Pandas read_csv. Функция возвращает DataFrame и имеет несколько важных параметров:\n",
    "filepath_or_buffer - путь до файла, который мы читаем\n",
    "sep — разделитель данных (по умолчанию ',')\n",
    "decimal - разделитель чисел на целую и дробную часть в выходном файле (по умолчанию '.')\n",
    "names - список с названиями столбцов для чтения\n",
    "skiprows - количество строк в файле, которые нужно пропустить (например файл может содержать служебную информацию, которая нам не нужна)\n",
    "Убедимся, что сохраненными нами ранее файл создался верно. Для этого прочитаем его в переменную countries_data и выведем ее на экран. Не забудем о том, что мы использовали в качестве разделителя ‘;’.\n",
    "\n",
    "\n",
    "##### Чтение csv файла по ссылке:\n",
    "На самом деле файл с данными не обязательно должен храниться у вас на компьютере. Если он находится в открытом доступе по ссылке (например на GoogleDisk или GitHub), то его можно прочитать и из интернета, для этого достаточно в функции read_csv вместо пути до файла указать ссылку на файл. Например:\n"
   ]
  },
  {
   "cell_type": "code",
   "execution_count": 66,
   "id": "32b16207",
   "metadata": {},
   "outputs": [
    {
     "data": {
      "text/html": [
       "<div>\n",
       "<style scoped>\n",
       "    .dataframe tbody tr th:only-of-type {\n",
       "        vertical-align: middle;\n",
       "    }\n",
       "\n",
       "    .dataframe tbody tr th {\n",
       "        vertical-align: top;\n",
       "    }\n",
       "\n",
       "    .dataframe thead th {\n",
       "        text-align: right;\n",
       "    }\n",
       "</style>\n",
       "<table border=\"1\" class=\"dataframe\">\n",
       "  <thead>\n",
       "    <tr style=\"text-align: right;\">\n",
       "      <th></th>\n",
       "      <th>Suburb</th>\n",
       "      <th>Address</th>\n",
       "      <th>Rooms</th>\n",
       "      <th>Type</th>\n",
       "      <th>Price</th>\n",
       "      <th>Method</th>\n",
       "      <th>SellerG</th>\n",
       "      <th>Date</th>\n",
       "      <th>Distance</th>\n",
       "      <th>Postcode</th>\n",
       "      <th>...</th>\n",
       "      <th>Bathroom</th>\n",
       "      <th>Car</th>\n",
       "      <th>Landsize</th>\n",
       "      <th>BuildingArea</th>\n",
       "      <th>YearBuilt</th>\n",
       "      <th>CouncilArea</th>\n",
       "      <th>Lattitude</th>\n",
       "      <th>Longtitude</th>\n",
       "      <th>Regionname</th>\n",
       "      <th>Propertycount</th>\n",
       "    </tr>\n",
       "  </thead>\n",
       "  <tbody>\n",
       "    <tr>\n",
       "      <th>0</th>\n",
       "      <td>Abbotsford</td>\n",
       "      <td>85 Turner St</td>\n",
       "      <td>2</td>\n",
       "      <td>h</td>\n",
       "      <td>1480000.0</td>\n",
       "      <td>S</td>\n",
       "      <td>Biggin</td>\n",
       "      <td>3/12/2016</td>\n",
       "      <td>2.5</td>\n",
       "      <td>3067.0</td>\n",
       "      <td>...</td>\n",
       "      <td>1.0</td>\n",
       "      <td>1.0</td>\n",
       "      <td>202.0</td>\n",
       "      <td>NaN</td>\n",
       "      <td>NaN</td>\n",
       "      <td>Yarra</td>\n",
       "      <td>-37.79960</td>\n",
       "      <td>144.99840</td>\n",
       "      <td>Northern Metropolitan</td>\n",
       "      <td>4019.0</td>\n",
       "    </tr>\n",
       "    <tr>\n",
       "      <th>1</th>\n",
       "      <td>Abbotsford</td>\n",
       "      <td>25 Bloomburg St</td>\n",
       "      <td>2</td>\n",
       "      <td>h</td>\n",
       "      <td>1035000.0</td>\n",
       "      <td>S</td>\n",
       "      <td>Biggin</td>\n",
       "      <td>4/02/2016</td>\n",
       "      <td>2.5</td>\n",
       "      <td>3067.0</td>\n",
       "      <td>...</td>\n",
       "      <td>1.0</td>\n",
       "      <td>0.0</td>\n",
       "      <td>156.0</td>\n",
       "      <td>79.0</td>\n",
       "      <td>1900.0</td>\n",
       "      <td>Yarra</td>\n",
       "      <td>-37.80790</td>\n",
       "      <td>144.99340</td>\n",
       "      <td>Northern Metropolitan</td>\n",
       "      <td>4019.0</td>\n",
       "    </tr>\n",
       "    <tr>\n",
       "      <th>2</th>\n",
       "      <td>Abbotsford</td>\n",
       "      <td>5 Charles St</td>\n",
       "      <td>3</td>\n",
       "      <td>h</td>\n",
       "      <td>1465000.0</td>\n",
       "      <td>SP</td>\n",
       "      <td>Biggin</td>\n",
       "      <td>4/03/2017</td>\n",
       "      <td>2.5</td>\n",
       "      <td>3067.0</td>\n",
       "      <td>...</td>\n",
       "      <td>2.0</td>\n",
       "      <td>0.0</td>\n",
       "      <td>134.0</td>\n",
       "      <td>150.0</td>\n",
       "      <td>1900.0</td>\n",
       "      <td>Yarra</td>\n",
       "      <td>-37.80930</td>\n",
       "      <td>144.99440</td>\n",
       "      <td>Northern Metropolitan</td>\n",
       "      <td>4019.0</td>\n",
       "    </tr>\n",
       "    <tr>\n",
       "      <th>3</th>\n",
       "      <td>Abbotsford</td>\n",
       "      <td>40 Federation La</td>\n",
       "      <td>3</td>\n",
       "      <td>h</td>\n",
       "      <td>850000.0</td>\n",
       "      <td>PI</td>\n",
       "      <td>Biggin</td>\n",
       "      <td>4/03/2017</td>\n",
       "      <td>2.5</td>\n",
       "      <td>3067.0</td>\n",
       "      <td>...</td>\n",
       "      <td>2.0</td>\n",
       "      <td>1.0</td>\n",
       "      <td>94.0</td>\n",
       "      <td>NaN</td>\n",
       "      <td>NaN</td>\n",
       "      <td>Yarra</td>\n",
       "      <td>-37.79690</td>\n",
       "      <td>144.99690</td>\n",
       "      <td>Northern Metropolitan</td>\n",
       "      <td>4019.0</td>\n",
       "    </tr>\n",
       "    <tr>\n",
       "      <th>4</th>\n",
       "      <td>Abbotsford</td>\n",
       "      <td>55a Park St</td>\n",
       "      <td>4</td>\n",
       "      <td>h</td>\n",
       "      <td>1600000.0</td>\n",
       "      <td>VB</td>\n",
       "      <td>Nelson</td>\n",
       "      <td>4/06/2016</td>\n",
       "      <td>2.5</td>\n",
       "      <td>3067.0</td>\n",
       "      <td>...</td>\n",
       "      <td>1.0</td>\n",
       "      <td>2.0</td>\n",
       "      <td>120.0</td>\n",
       "      <td>142.0</td>\n",
       "      <td>2014.0</td>\n",
       "      <td>Yarra</td>\n",
       "      <td>-37.80720</td>\n",
       "      <td>144.99410</td>\n",
       "      <td>Northern Metropolitan</td>\n",
       "      <td>4019.0</td>\n",
       "    </tr>\n",
       "    <tr>\n",
       "      <th>...</th>\n",
       "      <td>...</td>\n",
       "      <td>...</td>\n",
       "      <td>...</td>\n",
       "      <td>...</td>\n",
       "      <td>...</td>\n",
       "      <td>...</td>\n",
       "      <td>...</td>\n",
       "      <td>...</td>\n",
       "      <td>...</td>\n",
       "      <td>...</td>\n",
       "      <td>...</td>\n",
       "      <td>...</td>\n",
       "      <td>...</td>\n",
       "      <td>...</td>\n",
       "      <td>...</td>\n",
       "      <td>...</td>\n",
       "      <td>...</td>\n",
       "      <td>...</td>\n",
       "      <td>...</td>\n",
       "      <td>...</td>\n",
       "      <td>...</td>\n",
       "    </tr>\n",
       "    <tr>\n",
       "      <th>13575</th>\n",
       "      <td>Wheelers Hill</td>\n",
       "      <td>12 Strada Cr</td>\n",
       "      <td>4</td>\n",
       "      <td>h</td>\n",
       "      <td>1245000.0</td>\n",
       "      <td>S</td>\n",
       "      <td>Barry</td>\n",
       "      <td>26/08/2017</td>\n",
       "      <td>16.7</td>\n",
       "      <td>3150.0</td>\n",
       "      <td>...</td>\n",
       "      <td>2.0</td>\n",
       "      <td>2.0</td>\n",
       "      <td>652.0</td>\n",
       "      <td>NaN</td>\n",
       "      <td>1981.0</td>\n",
       "      <td>NaN</td>\n",
       "      <td>-37.90562</td>\n",
       "      <td>145.16761</td>\n",
       "      <td>South-Eastern Metropolitan</td>\n",
       "      <td>7392.0</td>\n",
       "    </tr>\n",
       "    <tr>\n",
       "      <th>13576</th>\n",
       "      <td>Williamstown</td>\n",
       "      <td>77 Merrett Dr</td>\n",
       "      <td>3</td>\n",
       "      <td>h</td>\n",
       "      <td>1031000.0</td>\n",
       "      <td>SP</td>\n",
       "      <td>Williams</td>\n",
       "      <td>26/08/2017</td>\n",
       "      <td>6.8</td>\n",
       "      <td>3016.0</td>\n",
       "      <td>...</td>\n",
       "      <td>2.0</td>\n",
       "      <td>2.0</td>\n",
       "      <td>333.0</td>\n",
       "      <td>133.0</td>\n",
       "      <td>1995.0</td>\n",
       "      <td>NaN</td>\n",
       "      <td>-37.85927</td>\n",
       "      <td>144.87904</td>\n",
       "      <td>Western Metropolitan</td>\n",
       "      <td>6380.0</td>\n",
       "    </tr>\n",
       "    <tr>\n",
       "      <th>13577</th>\n",
       "      <td>Williamstown</td>\n",
       "      <td>83 Power St</td>\n",
       "      <td>3</td>\n",
       "      <td>h</td>\n",
       "      <td>1170000.0</td>\n",
       "      <td>S</td>\n",
       "      <td>Raine</td>\n",
       "      <td>26/08/2017</td>\n",
       "      <td>6.8</td>\n",
       "      <td>3016.0</td>\n",
       "      <td>...</td>\n",
       "      <td>2.0</td>\n",
       "      <td>4.0</td>\n",
       "      <td>436.0</td>\n",
       "      <td>NaN</td>\n",
       "      <td>1997.0</td>\n",
       "      <td>NaN</td>\n",
       "      <td>-37.85274</td>\n",
       "      <td>144.88738</td>\n",
       "      <td>Western Metropolitan</td>\n",
       "      <td>6380.0</td>\n",
       "    </tr>\n",
       "    <tr>\n",
       "      <th>13578</th>\n",
       "      <td>Williamstown</td>\n",
       "      <td>96 Verdon St</td>\n",
       "      <td>4</td>\n",
       "      <td>h</td>\n",
       "      <td>2500000.0</td>\n",
       "      <td>PI</td>\n",
       "      <td>Sweeney</td>\n",
       "      <td>26/08/2017</td>\n",
       "      <td>6.8</td>\n",
       "      <td>3016.0</td>\n",
       "      <td>...</td>\n",
       "      <td>1.0</td>\n",
       "      <td>5.0</td>\n",
       "      <td>866.0</td>\n",
       "      <td>157.0</td>\n",
       "      <td>1920.0</td>\n",
       "      <td>NaN</td>\n",
       "      <td>-37.85908</td>\n",
       "      <td>144.89299</td>\n",
       "      <td>Western Metropolitan</td>\n",
       "      <td>6380.0</td>\n",
       "    </tr>\n",
       "    <tr>\n",
       "      <th>13579</th>\n",
       "      <td>Yarraville</td>\n",
       "      <td>6 Agnes St</td>\n",
       "      <td>4</td>\n",
       "      <td>h</td>\n",
       "      <td>1285000.0</td>\n",
       "      <td>SP</td>\n",
       "      <td>Village</td>\n",
       "      <td>26/08/2017</td>\n",
       "      <td>6.3</td>\n",
       "      <td>3013.0</td>\n",
       "      <td>...</td>\n",
       "      <td>1.0</td>\n",
       "      <td>1.0</td>\n",
       "      <td>362.0</td>\n",
       "      <td>112.0</td>\n",
       "      <td>1920.0</td>\n",
       "      <td>NaN</td>\n",
       "      <td>-37.81188</td>\n",
       "      <td>144.88449</td>\n",
       "      <td>Western Metropolitan</td>\n",
       "      <td>6543.0</td>\n",
       "    </tr>\n",
       "  </tbody>\n",
       "</table>\n",
       "<p>13580 rows × 21 columns</p>\n",
       "</div>"
      ],
      "text/plain": [
       "              Suburb           Address  Rooms Type      Price Method  \\\n",
       "0         Abbotsford      85 Turner St      2    h  1480000.0      S   \n",
       "1         Abbotsford   25 Bloomburg St      2    h  1035000.0      S   \n",
       "2         Abbotsford      5 Charles St      3    h  1465000.0     SP   \n",
       "3         Abbotsford  40 Federation La      3    h   850000.0     PI   \n",
       "4         Abbotsford       55a Park St      4    h  1600000.0     VB   \n",
       "...              ...               ...    ...  ...        ...    ...   \n",
       "13575  Wheelers Hill      12 Strada Cr      4    h  1245000.0      S   \n",
       "13576   Williamstown     77 Merrett Dr      3    h  1031000.0     SP   \n",
       "13577   Williamstown       83 Power St      3    h  1170000.0      S   \n",
       "13578   Williamstown      96 Verdon St      4    h  2500000.0     PI   \n",
       "13579     Yarraville        6 Agnes St      4    h  1285000.0     SP   \n",
       "\n",
       "        SellerG        Date  Distance  Postcode  ...  Bathroom  Car  Landsize  \\\n",
       "0        Biggin   3/12/2016       2.5    3067.0  ...       1.0  1.0     202.0   \n",
       "1        Biggin   4/02/2016       2.5    3067.0  ...       1.0  0.0     156.0   \n",
       "2        Biggin   4/03/2017       2.5    3067.0  ...       2.0  0.0     134.0   \n",
       "3        Biggin   4/03/2017       2.5    3067.0  ...       2.0  1.0      94.0   \n",
       "4        Nelson   4/06/2016       2.5    3067.0  ...       1.0  2.0     120.0   \n",
       "...         ...         ...       ...       ...  ...       ...  ...       ...   \n",
       "13575     Barry  26/08/2017      16.7    3150.0  ...       2.0  2.0     652.0   \n",
       "13576  Williams  26/08/2017       6.8    3016.0  ...       2.0  2.0     333.0   \n",
       "13577     Raine  26/08/2017       6.8    3016.0  ...       2.0  4.0     436.0   \n",
       "13578   Sweeney  26/08/2017       6.8    3016.0  ...       1.0  5.0     866.0   \n",
       "13579   Village  26/08/2017       6.3    3013.0  ...       1.0  1.0     362.0   \n",
       "\n",
       "       BuildingArea  YearBuilt  CouncilArea Lattitude  Longtitude  \\\n",
       "0               NaN        NaN        Yarra -37.79960   144.99840   \n",
       "1              79.0     1900.0        Yarra -37.80790   144.99340   \n",
       "2             150.0     1900.0        Yarra -37.80930   144.99440   \n",
       "3               NaN        NaN        Yarra -37.79690   144.99690   \n",
       "4             142.0     2014.0        Yarra -37.80720   144.99410   \n",
       "...             ...        ...          ...       ...         ...   \n",
       "13575           NaN     1981.0          NaN -37.90562   145.16761   \n",
       "13576         133.0     1995.0          NaN -37.85927   144.87904   \n",
       "13577           NaN     1997.0          NaN -37.85274   144.88738   \n",
       "13578         157.0     1920.0          NaN -37.85908   144.89299   \n",
       "13579         112.0     1920.0          NaN -37.81188   144.88449   \n",
       "\n",
       "                       Regionname Propertycount  \n",
       "0           Northern Metropolitan        4019.0  \n",
       "1           Northern Metropolitan        4019.0  \n",
       "2           Northern Metropolitan        4019.0  \n",
       "3           Northern Metropolitan        4019.0  \n",
       "4           Northern Metropolitan        4019.0  \n",
       "...                           ...           ...  \n",
       "13575  South-Eastern Metropolitan        7392.0  \n",
       "13576        Western Metropolitan        6380.0  \n",
       "13577        Western Metropolitan        6380.0  \n",
       "13578        Western Metropolitan        6380.0  \n",
       "13579        Western Metropolitan        6543.0  \n",
       "\n",
       "[13580 rows x 21 columns]"
      ]
     },
     "metadata": {},
     "output_type": "display_data"
    }
   ],
   "source": [
    "data = pd.read_csv('https://raw.githubusercontent.com/AndreyRysistov/VebinarDST/main/melb_data.csv')\n",
    "display(data)\n"
   ]
  },
  {
   "cell_type": "code",
   "execution_count": 67,
   "id": "a584c78b",
   "metadata": {},
   "outputs": [],
   "source": [
    "#Домашнее задание: разобрать файл до конца. Задания на фильтрацию, данные настоящие. Чтение из файла, анализ файлов, выводы"
   ]
  },
  {
   "cell_type": "markdown",
   "id": "a185308c",
   "metadata": {},
   "source": [
    "Описание датасета melb_data.csv (Мельбурн, Австралия)\n",
    "\n",
    "\n",
    "index - номер строки\n",
    "\n",
    "Suburb - наименование пригорода\n",
    "\n",
    "Address - адрес\n",
    "\n",
    "Rooms - количество комнат в помещении\n",
    "\n",
    "Type - тип здания (h - дом, коттедж, вилла, терраса; u - блочный, дуплексный дом; t - таунхаус)\n",
    "\n",
    "Price - цена помещения\n",
    "\n",
    "Method - метод продажи \n",
    "\n",
    "SellerG - риэлторская компания\n",
    "\n",
    "Date - дата продажи (в формате день/месяц/год)\n",
    "\n",
    "Distance - расстояния до объекта от центра Мельбурна \n",
    "\n",
    "Postcode - почтовый индекс\n",
    "\n",
    "Bedroom - количество спален\n",
    "\n",
    "Bathroom - количество ванных комнат\n",
    "\n",
    "Car - количество парковочных мест\n",
    "\n",
    "Landsize - площадь прилегающей территории\n",
    "\n",
    "BuildingArea - площадь здания\n",
    "\n",
    "YearBuilt - год постройки\n",
    "\n",
    "CouncilArea - региональное управление\n",
    "\n",
    "Latitude - географическая широта\n",
    "\n",
    "Longitude - географическая долгота\n",
    "\n",
    "Regionname - наименование района Мельбурна\n",
    "\n",
    "Propertycount - количество объектов недвижимости в районе\n",
    "\n",
    "Coordinates - широта и долгота, объединенные в кортеж\n",
    "\n",
    "Исходный датасет и более детальное описание к нему  находится здесь https://www.kaggle.com/dansbecker/melbourne-housing-snapshot"
   ]
  },
  {
   "cell_type": "code",
   "execution_count": 68,
   "id": "c413e119",
   "metadata": {},
   "outputs": [],
   "source": [
    "#Прочитаем наши данные о недвижимости из csv файла и запишем результирующий DataFrame в переменную melb_data:\n",
    "melb_data = pd.read_csv('data/melb_data.csv', sep=',')"
   ]
  },
  {
   "cell_type": "code",
   "execution_count": 69,
   "id": "727a6824",
   "metadata": {},
   "outputs": [
    {
     "data": {
      "text/plain": [
       "(13580, 23)"
      ]
     },
     "execution_count": 69,
     "metadata": {},
     "output_type": "execute_result"
    }
   ],
   "source": [
    "melb_data.shape"
   ]
  },
  {
   "cell_type": "code",
   "execution_count": 70,
   "id": "a6ba6302",
   "metadata": {},
   "outputs": [
    {
     "data": {
      "text/html": [
       "<div>\n",
       "<style scoped>\n",
       "    .dataframe tbody tr th:only-of-type {\n",
       "        vertical-align: middle;\n",
       "    }\n",
       "\n",
       "    .dataframe tbody tr th {\n",
       "        vertical-align: top;\n",
       "    }\n",
       "\n",
       "    .dataframe thead th {\n",
       "        text-align: right;\n",
       "    }\n",
       "</style>\n",
       "<table border=\"1\" class=\"dataframe\">\n",
       "  <thead>\n",
       "    <tr style=\"text-align: right;\">\n",
       "      <th></th>\n",
       "      <th>index</th>\n",
       "      <th>Suburb</th>\n",
       "      <th>Address</th>\n",
       "      <th>Rooms</th>\n",
       "      <th>Type</th>\n",
       "      <th>Price</th>\n",
       "      <th>Method</th>\n",
       "      <th>SellerG</th>\n",
       "      <th>Date</th>\n",
       "      <th>Distance</th>\n",
       "      <th>...</th>\n",
       "      <th>Car</th>\n",
       "      <th>Landsize</th>\n",
       "      <th>BuildingArea</th>\n",
       "      <th>YearBuilt</th>\n",
       "      <th>CouncilArea</th>\n",
       "      <th>Lattitude</th>\n",
       "      <th>Longtitude</th>\n",
       "      <th>Regionname</th>\n",
       "      <th>Propertycount</th>\n",
       "      <th>Сoordinates</th>\n",
       "    </tr>\n",
       "  </thead>\n",
       "  <tbody>\n",
       "    <tr>\n",
       "      <th>0</th>\n",
       "      <td>0</td>\n",
       "      <td>Abbotsford</td>\n",
       "      <td>85 Turner St</td>\n",
       "      <td>2</td>\n",
       "      <td>h</td>\n",
       "      <td>1480000.0</td>\n",
       "      <td>S</td>\n",
       "      <td>Biggin</td>\n",
       "      <td>3/12/2016</td>\n",
       "      <td>2.5</td>\n",
       "      <td>...</td>\n",
       "      <td>1.0</td>\n",
       "      <td>202.0</td>\n",
       "      <td>126.0</td>\n",
       "      <td>1970.0</td>\n",
       "      <td>Yarra</td>\n",
       "      <td>-37.7996</td>\n",
       "      <td>144.9984</td>\n",
       "      <td>Northern Metropolitan</td>\n",
       "      <td>4019.0</td>\n",
       "      <td>-37.7996, 144.9984</td>\n",
       "    </tr>\n",
       "    <tr>\n",
       "      <th>1</th>\n",
       "      <td>1</td>\n",
       "      <td>Abbotsford</td>\n",
       "      <td>25 Bloomburg St</td>\n",
       "      <td>2</td>\n",
       "      <td>h</td>\n",
       "      <td>1035000.0</td>\n",
       "      <td>S</td>\n",
       "      <td>Biggin</td>\n",
       "      <td>4/02/2016</td>\n",
       "      <td>2.5</td>\n",
       "      <td>...</td>\n",
       "      <td>0.0</td>\n",
       "      <td>156.0</td>\n",
       "      <td>79.0</td>\n",
       "      <td>1900.0</td>\n",
       "      <td>Yarra</td>\n",
       "      <td>-37.8079</td>\n",
       "      <td>144.9934</td>\n",
       "      <td>Northern Metropolitan</td>\n",
       "      <td>4019.0</td>\n",
       "      <td>-37.8079, 144.9934</td>\n",
       "    </tr>\n",
       "    <tr>\n",
       "      <th>2</th>\n",
       "      <td>2</td>\n",
       "      <td>Abbotsford</td>\n",
       "      <td>5 Charles St</td>\n",
       "      <td>3</td>\n",
       "      <td>h</td>\n",
       "      <td>1465000.0</td>\n",
       "      <td>SP</td>\n",
       "      <td>Biggin</td>\n",
       "      <td>4/03/2017</td>\n",
       "      <td>2.5</td>\n",
       "      <td>...</td>\n",
       "      <td>0.0</td>\n",
       "      <td>134.0</td>\n",
       "      <td>150.0</td>\n",
       "      <td>1900.0</td>\n",
       "      <td>Yarra</td>\n",
       "      <td>-37.8093</td>\n",
       "      <td>144.9944</td>\n",
       "      <td>Northern Metropolitan</td>\n",
       "      <td>4019.0</td>\n",
       "      <td>-37.8093, 144.9944</td>\n",
       "    </tr>\n",
       "    <tr>\n",
       "      <th>3</th>\n",
       "      <td>3</td>\n",
       "      <td>Abbotsford</td>\n",
       "      <td>40 Federation La</td>\n",
       "      <td>3</td>\n",
       "      <td>h</td>\n",
       "      <td>850000.0</td>\n",
       "      <td>PI</td>\n",
       "      <td>Biggin</td>\n",
       "      <td>4/03/2017</td>\n",
       "      <td>2.5</td>\n",
       "      <td>...</td>\n",
       "      <td>1.0</td>\n",
       "      <td>94.0</td>\n",
       "      <td>126.0</td>\n",
       "      <td>1970.0</td>\n",
       "      <td>Yarra</td>\n",
       "      <td>-37.7969</td>\n",
       "      <td>144.9969</td>\n",
       "      <td>Northern Metropolitan</td>\n",
       "      <td>4019.0</td>\n",
       "      <td>-37.7969, 144.9969</td>\n",
       "    </tr>\n",
       "    <tr>\n",
       "      <th>4</th>\n",
       "      <td>4</td>\n",
       "      <td>Abbotsford</td>\n",
       "      <td>55a Park St</td>\n",
       "      <td>4</td>\n",
       "      <td>h</td>\n",
       "      <td>1600000.0</td>\n",
       "      <td>VB</td>\n",
       "      <td>Nelson</td>\n",
       "      <td>4/06/2016</td>\n",
       "      <td>2.5</td>\n",
       "      <td>...</td>\n",
       "      <td>2.0</td>\n",
       "      <td>120.0</td>\n",
       "      <td>142.0</td>\n",
       "      <td>2014.0</td>\n",
       "      <td>Yarra</td>\n",
       "      <td>-37.8072</td>\n",
       "      <td>144.9941</td>\n",
       "      <td>Northern Metropolitan</td>\n",
       "      <td>4019.0</td>\n",
       "      <td>-37.8072, 144.9941</td>\n",
       "    </tr>\n",
       "    <tr>\n",
       "      <th>5</th>\n",
       "      <td>5</td>\n",
       "      <td>Abbotsford</td>\n",
       "      <td>129 Charles St</td>\n",
       "      <td>2</td>\n",
       "      <td>h</td>\n",
       "      <td>941000.0</td>\n",
       "      <td>S</td>\n",
       "      <td>Jellis</td>\n",
       "      <td>7/05/2016</td>\n",
       "      <td>2.5</td>\n",
       "      <td>...</td>\n",
       "      <td>0.0</td>\n",
       "      <td>181.0</td>\n",
       "      <td>126.0</td>\n",
       "      <td>1970.0</td>\n",
       "      <td>Yarra</td>\n",
       "      <td>-37.8041</td>\n",
       "      <td>144.9953</td>\n",
       "      <td>Northern Metropolitan</td>\n",
       "      <td>4019.0</td>\n",
       "      <td>-37.8041, 144.9953</td>\n",
       "    </tr>\n",
       "    <tr>\n",
       "      <th>6</th>\n",
       "      <td>6</td>\n",
       "      <td>Abbotsford</td>\n",
       "      <td>124 Yarra St</td>\n",
       "      <td>3</td>\n",
       "      <td>h</td>\n",
       "      <td>1876000.0</td>\n",
       "      <td>S</td>\n",
       "      <td>Nelson</td>\n",
       "      <td>7/05/2016</td>\n",
       "      <td>2.5</td>\n",
       "      <td>...</td>\n",
       "      <td>0.0</td>\n",
       "      <td>245.0</td>\n",
       "      <td>210.0</td>\n",
       "      <td>1910.0</td>\n",
       "      <td>Yarra</td>\n",
       "      <td>-37.8024</td>\n",
       "      <td>144.9993</td>\n",
       "      <td>Northern Metropolitan</td>\n",
       "      <td>4019.0</td>\n",
       "      <td>-37.8024, 144.9993</td>\n",
       "    </tr>\n",
       "  </tbody>\n",
       "</table>\n",
       "<p>7 rows × 23 columns</p>\n",
       "</div>"
      ],
      "text/plain": [
       "   index      Suburb           Address  Rooms Type      Price Method SellerG  \\\n",
       "0      0  Abbotsford      85 Turner St      2    h  1480000.0      S  Biggin   \n",
       "1      1  Abbotsford   25 Bloomburg St      2    h  1035000.0      S  Biggin   \n",
       "2      2  Abbotsford      5 Charles St      3    h  1465000.0     SP  Biggin   \n",
       "3      3  Abbotsford  40 Federation La      3    h   850000.0     PI  Biggin   \n",
       "4      4  Abbotsford       55a Park St      4    h  1600000.0     VB  Nelson   \n",
       "5      5  Abbotsford    129 Charles St      2    h   941000.0      S  Jellis   \n",
       "6      6  Abbotsford      124 Yarra St      3    h  1876000.0      S  Nelson   \n",
       "\n",
       "        Date  Distance  ...  Car  Landsize  BuildingArea  YearBuilt  \\\n",
       "0  3/12/2016       2.5  ...  1.0     202.0         126.0     1970.0   \n",
       "1  4/02/2016       2.5  ...  0.0     156.0          79.0     1900.0   \n",
       "2  4/03/2017       2.5  ...  0.0     134.0         150.0     1900.0   \n",
       "3  4/03/2017       2.5  ...  1.0      94.0         126.0     1970.0   \n",
       "4  4/06/2016       2.5  ...  2.0     120.0         142.0     2014.0   \n",
       "5  7/05/2016       2.5  ...  0.0     181.0         126.0     1970.0   \n",
       "6  7/05/2016       2.5  ...  0.0     245.0         210.0     1910.0   \n",
       "\n",
       "   CouncilArea  Lattitude  Longtitude             Regionname  Propertycount  \\\n",
       "0        Yarra   -37.7996    144.9984  Northern Metropolitan         4019.0   \n",
       "1        Yarra   -37.8079    144.9934  Northern Metropolitan         4019.0   \n",
       "2        Yarra   -37.8093    144.9944  Northern Metropolitan         4019.0   \n",
       "3        Yarra   -37.7969    144.9969  Northern Metropolitan         4019.0   \n",
       "4        Yarra   -37.8072    144.9941  Northern Metropolitan         4019.0   \n",
       "5        Yarra   -37.8041    144.9953  Northern Metropolitan         4019.0   \n",
       "6        Yarra   -37.8024    144.9993  Northern Metropolitan         4019.0   \n",
       "\n",
       "          Сoordinates  \n",
       "0  -37.7996, 144.9984  \n",
       "1  -37.8079, 144.9934  \n",
       "2  -37.8093, 144.9944  \n",
       "3  -37.7969, 144.9969  \n",
       "4  -37.8072, 144.9941  \n",
       "5  -37.8041, 144.9953  \n",
       "6  -37.8024, 144.9993  \n",
       "\n",
       "[7 rows x 23 columns]"
      ]
     },
     "execution_count": 70,
     "metadata": {},
     "output_type": "execute_result"
    }
   ],
   "source": [
    "melb_data.head(7)"
   ]
  },
  {
   "cell_type": "code",
   "execution_count": 71,
   "id": "274bb6d9",
   "metadata": {},
   "outputs": [
    {
     "data": {
      "text/html": [
       "<div>\n",
       "<style scoped>\n",
       "    .dataframe tbody tr th:only-of-type {\n",
       "        vertical-align: middle;\n",
       "    }\n",
       "\n",
       "    .dataframe tbody tr th {\n",
       "        vertical-align: top;\n",
       "    }\n",
       "\n",
       "    .dataframe thead th {\n",
       "        text-align: right;\n",
       "    }\n",
       "</style>\n",
       "<table border=\"1\" class=\"dataframe\">\n",
       "  <thead>\n",
       "    <tr style=\"text-align: right;\">\n",
       "      <th></th>\n",
       "      <th>index</th>\n",
       "      <th>Suburb</th>\n",
       "      <th>Address</th>\n",
       "      <th>Rooms</th>\n",
       "      <th>Type</th>\n",
       "      <th>Price</th>\n",
       "      <th>Method</th>\n",
       "      <th>SellerG</th>\n",
       "      <th>Date</th>\n",
       "      <th>Distance</th>\n",
       "      <th>...</th>\n",
       "      <th>Car</th>\n",
       "      <th>Landsize</th>\n",
       "      <th>BuildingArea</th>\n",
       "      <th>YearBuilt</th>\n",
       "      <th>CouncilArea</th>\n",
       "      <th>Lattitude</th>\n",
       "      <th>Longtitude</th>\n",
       "      <th>Regionname</th>\n",
       "      <th>Propertycount</th>\n",
       "      <th>Сoordinates</th>\n",
       "    </tr>\n",
       "  </thead>\n",
       "  <tbody>\n",
       "    <tr>\n",
       "      <th>13573</th>\n",
       "      <td>13573</td>\n",
       "      <td>Werribee</td>\n",
       "      <td>5 Nuragi Ct</td>\n",
       "      <td>4</td>\n",
       "      <td>h</td>\n",
       "      <td>635000.0</td>\n",
       "      <td>S</td>\n",
       "      <td>hockingstuart</td>\n",
       "      <td>26/08/2017</td>\n",
       "      <td>14.7</td>\n",
       "      <td>...</td>\n",
       "      <td>1.0</td>\n",
       "      <td>662.0</td>\n",
       "      <td>172.0</td>\n",
       "      <td>1980.0</td>\n",
       "      <td>NaN</td>\n",
       "      <td>-37.89327</td>\n",
       "      <td>144.64789</td>\n",
       "      <td>Western Metropolitan</td>\n",
       "      <td>16166.0</td>\n",
       "      <td>-37.89327, 144.64789</td>\n",
       "    </tr>\n",
       "    <tr>\n",
       "      <th>13574</th>\n",
       "      <td>13574</td>\n",
       "      <td>Westmeadows</td>\n",
       "      <td>9 Black St</td>\n",
       "      <td>3</td>\n",
       "      <td>h</td>\n",
       "      <td>582000.0</td>\n",
       "      <td>S</td>\n",
       "      <td>Red</td>\n",
       "      <td>26/08/2017</td>\n",
       "      <td>16.5</td>\n",
       "      <td>...</td>\n",
       "      <td>2.0</td>\n",
       "      <td>256.0</td>\n",
       "      <td>126.0</td>\n",
       "      <td>1970.0</td>\n",
       "      <td>NaN</td>\n",
       "      <td>-37.67917</td>\n",
       "      <td>144.89390</td>\n",
       "      <td>Northern Metropolitan</td>\n",
       "      <td>2474.0</td>\n",
       "      <td>-37.67917, 144.8939</td>\n",
       "    </tr>\n",
       "    <tr>\n",
       "      <th>13575</th>\n",
       "      <td>13575</td>\n",
       "      <td>Wheelers Hill</td>\n",
       "      <td>12 Strada Cr</td>\n",
       "      <td>4</td>\n",
       "      <td>h</td>\n",
       "      <td>1245000.0</td>\n",
       "      <td>S</td>\n",
       "      <td>Barry</td>\n",
       "      <td>26/08/2017</td>\n",
       "      <td>16.7</td>\n",
       "      <td>...</td>\n",
       "      <td>2.0</td>\n",
       "      <td>652.0</td>\n",
       "      <td>126.0</td>\n",
       "      <td>1981.0</td>\n",
       "      <td>NaN</td>\n",
       "      <td>-37.90562</td>\n",
       "      <td>145.16761</td>\n",
       "      <td>South-Eastern Metropolitan</td>\n",
       "      <td>7392.0</td>\n",
       "      <td>-37.90562, 145.16761</td>\n",
       "    </tr>\n",
       "    <tr>\n",
       "      <th>13576</th>\n",
       "      <td>13576</td>\n",
       "      <td>Williamstown</td>\n",
       "      <td>77 Merrett Dr</td>\n",
       "      <td>3</td>\n",
       "      <td>h</td>\n",
       "      <td>1031000.0</td>\n",
       "      <td>SP</td>\n",
       "      <td>Williams</td>\n",
       "      <td>26/08/2017</td>\n",
       "      <td>6.8</td>\n",
       "      <td>...</td>\n",
       "      <td>2.0</td>\n",
       "      <td>333.0</td>\n",
       "      <td>133.0</td>\n",
       "      <td>1995.0</td>\n",
       "      <td>NaN</td>\n",
       "      <td>-37.85927</td>\n",
       "      <td>144.87904</td>\n",
       "      <td>Western Metropolitan</td>\n",
       "      <td>6380.0</td>\n",
       "      <td>-37.85927, 144.87904</td>\n",
       "    </tr>\n",
       "    <tr>\n",
       "      <th>13577</th>\n",
       "      <td>13577</td>\n",
       "      <td>Williamstown</td>\n",
       "      <td>83 Power St</td>\n",
       "      <td>3</td>\n",
       "      <td>h</td>\n",
       "      <td>1170000.0</td>\n",
       "      <td>S</td>\n",
       "      <td>Raine</td>\n",
       "      <td>26/08/2017</td>\n",
       "      <td>6.8</td>\n",
       "      <td>...</td>\n",
       "      <td>4.0</td>\n",
       "      <td>436.0</td>\n",
       "      <td>126.0</td>\n",
       "      <td>1997.0</td>\n",
       "      <td>NaN</td>\n",
       "      <td>-37.85274</td>\n",
       "      <td>144.88738</td>\n",
       "      <td>Western Metropolitan</td>\n",
       "      <td>6380.0</td>\n",
       "      <td>-37.85274, 144.88738</td>\n",
       "    </tr>\n",
       "    <tr>\n",
       "      <th>13578</th>\n",
       "      <td>13578</td>\n",
       "      <td>Williamstown</td>\n",
       "      <td>96 Verdon St</td>\n",
       "      <td>4</td>\n",
       "      <td>h</td>\n",
       "      <td>2500000.0</td>\n",
       "      <td>PI</td>\n",
       "      <td>Sweeney</td>\n",
       "      <td>26/08/2017</td>\n",
       "      <td>6.8</td>\n",
       "      <td>...</td>\n",
       "      <td>5.0</td>\n",
       "      <td>866.0</td>\n",
       "      <td>157.0</td>\n",
       "      <td>1920.0</td>\n",
       "      <td>NaN</td>\n",
       "      <td>-37.85908</td>\n",
       "      <td>144.89299</td>\n",
       "      <td>Western Metropolitan</td>\n",
       "      <td>6380.0</td>\n",
       "      <td>-37.85908, 144.89299</td>\n",
       "    </tr>\n",
       "    <tr>\n",
       "      <th>13579</th>\n",
       "      <td>13579</td>\n",
       "      <td>Yarraville</td>\n",
       "      <td>6 Agnes St</td>\n",
       "      <td>4</td>\n",
       "      <td>h</td>\n",
       "      <td>1285000.0</td>\n",
       "      <td>SP</td>\n",
       "      <td>Village</td>\n",
       "      <td>26/08/2017</td>\n",
       "      <td>6.3</td>\n",
       "      <td>...</td>\n",
       "      <td>1.0</td>\n",
       "      <td>362.0</td>\n",
       "      <td>112.0</td>\n",
       "      <td>1920.0</td>\n",
       "      <td>NaN</td>\n",
       "      <td>-37.81188</td>\n",
       "      <td>144.88449</td>\n",
       "      <td>Western Metropolitan</td>\n",
       "      <td>6543.0</td>\n",
       "      <td>-37.81188, 144.88449</td>\n",
       "    </tr>\n",
       "  </tbody>\n",
       "</table>\n",
       "<p>7 rows × 23 columns</p>\n",
       "</div>"
      ],
      "text/plain": [
       "       index         Suburb        Address  Rooms Type      Price Method  \\\n",
       "13573  13573       Werribee    5 Nuragi Ct      4    h   635000.0      S   \n",
       "13574  13574    Westmeadows     9 Black St      3    h   582000.0      S   \n",
       "13575  13575  Wheelers Hill   12 Strada Cr      4    h  1245000.0      S   \n",
       "13576  13576   Williamstown  77 Merrett Dr      3    h  1031000.0     SP   \n",
       "13577  13577   Williamstown    83 Power St      3    h  1170000.0      S   \n",
       "13578  13578   Williamstown   96 Verdon St      4    h  2500000.0     PI   \n",
       "13579  13579     Yarraville     6 Agnes St      4    h  1285000.0     SP   \n",
       "\n",
       "             SellerG        Date  Distance  ...  Car  Landsize  BuildingArea  \\\n",
       "13573  hockingstuart  26/08/2017      14.7  ...  1.0     662.0         172.0   \n",
       "13574            Red  26/08/2017      16.5  ...  2.0     256.0         126.0   \n",
       "13575          Barry  26/08/2017      16.7  ...  2.0     652.0         126.0   \n",
       "13576       Williams  26/08/2017       6.8  ...  2.0     333.0         133.0   \n",
       "13577          Raine  26/08/2017       6.8  ...  4.0     436.0         126.0   \n",
       "13578        Sweeney  26/08/2017       6.8  ...  5.0     866.0         157.0   \n",
       "13579        Village  26/08/2017       6.3  ...  1.0     362.0         112.0   \n",
       "\n",
       "       YearBuilt  CouncilArea  Lattitude  Longtitude  \\\n",
       "13573     1980.0          NaN  -37.89327   144.64789   \n",
       "13574     1970.0          NaN  -37.67917   144.89390   \n",
       "13575     1981.0          NaN  -37.90562   145.16761   \n",
       "13576     1995.0          NaN  -37.85927   144.87904   \n",
       "13577     1997.0          NaN  -37.85274   144.88738   \n",
       "13578     1920.0          NaN  -37.85908   144.89299   \n",
       "13579     1920.0          NaN  -37.81188   144.88449   \n",
       "\n",
       "                       Regionname  Propertycount           Сoordinates  \n",
       "13573        Western Metropolitan        16166.0  -37.89327, 144.64789  \n",
       "13574       Northern Metropolitan         2474.0   -37.67917, 144.8939  \n",
       "13575  South-Eastern Metropolitan         7392.0  -37.90562, 145.16761  \n",
       "13576        Western Metropolitan         6380.0  -37.85927, 144.87904  \n",
       "13577        Western Metropolitan         6380.0  -37.85274, 144.88738  \n",
       "13578        Western Metropolitan         6380.0  -37.85908, 144.89299  \n",
       "13579        Western Metropolitan         6543.0  -37.81188, 144.88449  \n",
       "\n",
       "[7 rows x 23 columns]"
      ]
     },
     "execution_count": 71,
     "metadata": {},
     "output_type": "execute_result"
    }
   ],
   "source": [
    "melb_data.tail(7)"
   ]
  },
  {
   "cell_type": "code",
   "execution_count": 72,
   "id": "3588f9b3",
   "metadata": {},
   "outputs": [
    {
     "name": "stdout",
     "output_type": "stream",
     "text": [
      "<class 'pandas.core.frame.DataFrame'>\n",
      "RangeIndex: 13580 entries, 0 to 13579\n",
      "Data columns (total 23 columns):\n",
      " #   Column         Non-Null Count  Dtype  \n",
      "---  ------         --------------  -----  \n",
      " 0   index          13580 non-null  int64  \n",
      " 1   Suburb         13580 non-null  object \n",
      " 2   Address        13580 non-null  object \n",
      " 3   Rooms          13580 non-null  int64  \n",
      " 4   Type           13580 non-null  object \n",
      " 5   Price          13580 non-null  float64\n",
      " 6   Method         13580 non-null  object \n",
      " 7   SellerG        13580 non-null  object \n",
      " 8   Date           13580 non-null  object \n",
      " 9   Distance       13580 non-null  float64\n",
      " 10  Postcode       13580 non-null  int64  \n",
      " 11  Bedroom        13580 non-null  float64\n",
      " 12  Bathroom       13580 non-null  float64\n",
      " 13  Car            13580 non-null  float64\n",
      " 14  Landsize       13580 non-null  float64\n",
      " 15  BuildingArea   13580 non-null  float64\n",
      " 16  YearBuilt      13580 non-null  float64\n",
      " 17  CouncilArea    12211 non-null  object \n",
      " 18  Lattitude      13580 non-null  float64\n",
      " 19  Longtitude     13580 non-null  float64\n",
      " 20  Regionname     13580 non-null  object \n",
      " 21  Propertycount  13580 non-null  float64\n",
      " 22  Сoordinates    13580 non-null  object \n",
      "dtypes: float64(11), int64(3), object(9)\n",
      "memory usage: 2.4+ MB\n"
     ]
    }
   ],
   "source": [
    "melb_data.info()"
   ]
  },
  {
   "cell_type": "code",
   "execution_count": 73,
   "id": "7638c041",
   "metadata": {},
   "outputs": [
    {
     "data": {
      "text/html": [
       "<div>\n",
       "<style scoped>\n",
       "    .dataframe tbody tr th:only-of-type {\n",
       "        vertical-align: middle;\n",
       "    }\n",
       "\n",
       "    .dataframe tbody tr th {\n",
       "        vertical-align: top;\n",
       "    }\n",
       "\n",
       "    .dataframe thead th {\n",
       "        text-align: right;\n",
       "    }\n",
       "</style>\n",
       "<table border=\"1\" class=\"dataframe\">\n",
       "  <thead>\n",
       "    <tr style=\"text-align: right;\">\n",
       "      <th></th>\n",
       "      <th>index</th>\n",
       "      <th>Suburb</th>\n",
       "      <th>Address</th>\n",
       "      <th>Rooms</th>\n",
       "      <th>Type</th>\n",
       "      <th>Price</th>\n",
       "      <th>Method</th>\n",
       "      <th>SellerG</th>\n",
       "      <th>Date</th>\n",
       "      <th>Distance</th>\n",
       "      <th>...</th>\n",
       "      <th>Car</th>\n",
       "      <th>Landsize</th>\n",
       "      <th>BuildingArea</th>\n",
       "      <th>YearBuilt</th>\n",
       "      <th>CouncilArea</th>\n",
       "      <th>Lattitude</th>\n",
       "      <th>Longtitude</th>\n",
       "      <th>Regionname</th>\n",
       "      <th>Propertycount</th>\n",
       "      <th>Сoordinates</th>\n",
       "    </tr>\n",
       "  </thead>\n",
       "  <tbody>\n",
       "    <tr>\n",
       "      <th>0</th>\n",
       "      <td>False</td>\n",
       "      <td>False</td>\n",
       "      <td>False</td>\n",
       "      <td>False</td>\n",
       "      <td>False</td>\n",
       "      <td>False</td>\n",
       "      <td>False</td>\n",
       "      <td>False</td>\n",
       "      <td>False</td>\n",
       "      <td>False</td>\n",
       "      <td>...</td>\n",
       "      <td>False</td>\n",
       "      <td>False</td>\n",
       "      <td>False</td>\n",
       "      <td>False</td>\n",
       "      <td>False</td>\n",
       "      <td>False</td>\n",
       "      <td>False</td>\n",
       "      <td>False</td>\n",
       "      <td>False</td>\n",
       "      <td>False</td>\n",
       "    </tr>\n",
       "    <tr>\n",
       "      <th>1</th>\n",
       "      <td>False</td>\n",
       "      <td>False</td>\n",
       "      <td>False</td>\n",
       "      <td>False</td>\n",
       "      <td>False</td>\n",
       "      <td>False</td>\n",
       "      <td>False</td>\n",
       "      <td>False</td>\n",
       "      <td>False</td>\n",
       "      <td>False</td>\n",
       "      <td>...</td>\n",
       "      <td>False</td>\n",
       "      <td>False</td>\n",
       "      <td>False</td>\n",
       "      <td>False</td>\n",
       "      <td>False</td>\n",
       "      <td>False</td>\n",
       "      <td>False</td>\n",
       "      <td>False</td>\n",
       "      <td>False</td>\n",
       "      <td>False</td>\n",
       "    </tr>\n",
       "    <tr>\n",
       "      <th>2</th>\n",
       "      <td>False</td>\n",
       "      <td>False</td>\n",
       "      <td>False</td>\n",
       "      <td>False</td>\n",
       "      <td>False</td>\n",
       "      <td>False</td>\n",
       "      <td>False</td>\n",
       "      <td>False</td>\n",
       "      <td>False</td>\n",
       "      <td>False</td>\n",
       "      <td>...</td>\n",
       "      <td>False</td>\n",
       "      <td>False</td>\n",
       "      <td>False</td>\n",
       "      <td>False</td>\n",
       "      <td>False</td>\n",
       "      <td>False</td>\n",
       "      <td>False</td>\n",
       "      <td>False</td>\n",
       "      <td>False</td>\n",
       "      <td>False</td>\n",
       "    </tr>\n",
       "    <tr>\n",
       "      <th>3</th>\n",
       "      <td>False</td>\n",
       "      <td>False</td>\n",
       "      <td>False</td>\n",
       "      <td>False</td>\n",
       "      <td>False</td>\n",
       "      <td>False</td>\n",
       "      <td>False</td>\n",
       "      <td>False</td>\n",
       "      <td>False</td>\n",
       "      <td>False</td>\n",
       "      <td>...</td>\n",
       "      <td>False</td>\n",
       "      <td>False</td>\n",
       "      <td>False</td>\n",
       "      <td>False</td>\n",
       "      <td>False</td>\n",
       "      <td>False</td>\n",
       "      <td>False</td>\n",
       "      <td>False</td>\n",
       "      <td>False</td>\n",
       "      <td>False</td>\n",
       "    </tr>\n",
       "    <tr>\n",
       "      <th>4</th>\n",
       "      <td>False</td>\n",
       "      <td>False</td>\n",
       "      <td>False</td>\n",
       "      <td>False</td>\n",
       "      <td>False</td>\n",
       "      <td>False</td>\n",
       "      <td>False</td>\n",
       "      <td>False</td>\n",
       "      <td>False</td>\n",
       "      <td>False</td>\n",
       "      <td>...</td>\n",
       "      <td>False</td>\n",
       "      <td>False</td>\n",
       "      <td>False</td>\n",
       "      <td>False</td>\n",
       "      <td>False</td>\n",
       "      <td>False</td>\n",
       "      <td>False</td>\n",
       "      <td>False</td>\n",
       "      <td>False</td>\n",
       "      <td>False</td>\n",
       "    </tr>\n",
       "    <tr>\n",
       "      <th>...</th>\n",
       "      <td>...</td>\n",
       "      <td>...</td>\n",
       "      <td>...</td>\n",
       "      <td>...</td>\n",
       "      <td>...</td>\n",
       "      <td>...</td>\n",
       "      <td>...</td>\n",
       "      <td>...</td>\n",
       "      <td>...</td>\n",
       "      <td>...</td>\n",
       "      <td>...</td>\n",
       "      <td>...</td>\n",
       "      <td>...</td>\n",
       "      <td>...</td>\n",
       "      <td>...</td>\n",
       "      <td>...</td>\n",
       "      <td>...</td>\n",
       "      <td>...</td>\n",
       "      <td>...</td>\n",
       "      <td>...</td>\n",
       "      <td>...</td>\n",
       "    </tr>\n",
       "    <tr>\n",
       "      <th>13575</th>\n",
       "      <td>False</td>\n",
       "      <td>False</td>\n",
       "      <td>False</td>\n",
       "      <td>False</td>\n",
       "      <td>False</td>\n",
       "      <td>False</td>\n",
       "      <td>False</td>\n",
       "      <td>False</td>\n",
       "      <td>False</td>\n",
       "      <td>False</td>\n",
       "      <td>...</td>\n",
       "      <td>False</td>\n",
       "      <td>False</td>\n",
       "      <td>False</td>\n",
       "      <td>False</td>\n",
       "      <td>True</td>\n",
       "      <td>False</td>\n",
       "      <td>False</td>\n",
       "      <td>False</td>\n",
       "      <td>False</td>\n",
       "      <td>False</td>\n",
       "    </tr>\n",
       "    <tr>\n",
       "      <th>13576</th>\n",
       "      <td>False</td>\n",
       "      <td>False</td>\n",
       "      <td>False</td>\n",
       "      <td>False</td>\n",
       "      <td>False</td>\n",
       "      <td>False</td>\n",
       "      <td>False</td>\n",
       "      <td>False</td>\n",
       "      <td>False</td>\n",
       "      <td>False</td>\n",
       "      <td>...</td>\n",
       "      <td>False</td>\n",
       "      <td>False</td>\n",
       "      <td>False</td>\n",
       "      <td>False</td>\n",
       "      <td>True</td>\n",
       "      <td>False</td>\n",
       "      <td>False</td>\n",
       "      <td>False</td>\n",
       "      <td>False</td>\n",
       "      <td>False</td>\n",
       "    </tr>\n",
       "    <tr>\n",
       "      <th>13577</th>\n",
       "      <td>False</td>\n",
       "      <td>False</td>\n",
       "      <td>False</td>\n",
       "      <td>False</td>\n",
       "      <td>False</td>\n",
       "      <td>False</td>\n",
       "      <td>False</td>\n",
       "      <td>False</td>\n",
       "      <td>False</td>\n",
       "      <td>False</td>\n",
       "      <td>...</td>\n",
       "      <td>False</td>\n",
       "      <td>False</td>\n",
       "      <td>False</td>\n",
       "      <td>False</td>\n",
       "      <td>True</td>\n",
       "      <td>False</td>\n",
       "      <td>False</td>\n",
       "      <td>False</td>\n",
       "      <td>False</td>\n",
       "      <td>False</td>\n",
       "    </tr>\n",
       "    <tr>\n",
       "      <th>13578</th>\n",
       "      <td>False</td>\n",
       "      <td>False</td>\n",
       "      <td>False</td>\n",
       "      <td>False</td>\n",
       "      <td>False</td>\n",
       "      <td>False</td>\n",
       "      <td>False</td>\n",
       "      <td>False</td>\n",
       "      <td>False</td>\n",
       "      <td>False</td>\n",
       "      <td>...</td>\n",
       "      <td>False</td>\n",
       "      <td>False</td>\n",
       "      <td>False</td>\n",
       "      <td>False</td>\n",
       "      <td>True</td>\n",
       "      <td>False</td>\n",
       "      <td>False</td>\n",
       "      <td>False</td>\n",
       "      <td>False</td>\n",
       "      <td>False</td>\n",
       "    </tr>\n",
       "    <tr>\n",
       "      <th>13579</th>\n",
       "      <td>False</td>\n",
       "      <td>False</td>\n",
       "      <td>False</td>\n",
       "      <td>False</td>\n",
       "      <td>False</td>\n",
       "      <td>False</td>\n",
       "      <td>False</td>\n",
       "      <td>False</td>\n",
       "      <td>False</td>\n",
       "      <td>False</td>\n",
       "      <td>...</td>\n",
       "      <td>False</td>\n",
       "      <td>False</td>\n",
       "      <td>False</td>\n",
       "      <td>False</td>\n",
       "      <td>True</td>\n",
       "      <td>False</td>\n",
       "      <td>False</td>\n",
       "      <td>False</td>\n",
       "      <td>False</td>\n",
       "      <td>False</td>\n",
       "    </tr>\n",
       "  </tbody>\n",
       "</table>\n",
       "<p>13580 rows × 23 columns</p>\n",
       "</div>"
      ],
      "text/plain": [
       "       index  Suburb  Address  Rooms   Type  Price  Method  SellerG   Date  \\\n",
       "0      False   False    False  False  False  False   False    False  False   \n",
       "1      False   False    False  False  False  False   False    False  False   \n",
       "2      False   False    False  False  False  False   False    False  False   \n",
       "3      False   False    False  False  False  False   False    False  False   \n",
       "4      False   False    False  False  False  False   False    False  False   \n",
       "...      ...     ...      ...    ...    ...    ...     ...      ...    ...   \n",
       "13575  False   False    False  False  False  False   False    False  False   \n",
       "13576  False   False    False  False  False  False   False    False  False   \n",
       "13577  False   False    False  False  False  False   False    False  False   \n",
       "13578  False   False    False  False  False  False   False    False  False   \n",
       "13579  False   False    False  False  False  False   False    False  False   \n",
       "\n",
       "       Distance  ...    Car  Landsize  BuildingArea  YearBuilt  CouncilArea  \\\n",
       "0         False  ...  False     False         False      False        False   \n",
       "1         False  ...  False     False         False      False        False   \n",
       "2         False  ...  False     False         False      False        False   \n",
       "3         False  ...  False     False         False      False        False   \n",
       "4         False  ...  False     False         False      False        False   \n",
       "...         ...  ...    ...       ...           ...        ...          ...   \n",
       "13575     False  ...  False     False         False      False         True   \n",
       "13576     False  ...  False     False         False      False         True   \n",
       "13577     False  ...  False     False         False      False         True   \n",
       "13578     False  ...  False     False         False      False         True   \n",
       "13579     False  ...  False     False         False      False         True   \n",
       "\n",
       "       Lattitude  Longtitude  Regionname  Propertycount  Сoordinates  \n",
       "0          False       False       False          False        False  \n",
       "1          False       False       False          False        False  \n",
       "2          False       False       False          False        False  \n",
       "3          False       False       False          False        False  \n",
       "4          False       False       False          False        False  \n",
       "...          ...         ...         ...            ...          ...  \n",
       "13575      False       False       False          False        False  \n",
       "13576      False       False       False          False        False  \n",
       "13577      False       False       False          False        False  \n",
       "13578      False       False       False          False        False  \n",
       "13579      False       False       False          False        False  \n",
       "\n",
       "[13580 rows x 23 columns]"
      ]
     },
     "execution_count": 73,
     "metadata": {},
     "output_type": "execute_result"
    }
   ],
   "source": [
    "melb_data.isnull()"
   ]
  },
  {
   "cell_type": "code",
   "execution_count": 74,
   "id": "342b9114",
   "metadata": {},
   "outputs": [
    {
     "name": "stdout",
     "output_type": "stream",
     "text": [
      "index                                0\n",
      "Suburb                      Abbotsford\n",
      "Address                   85 Turner St\n",
      "Rooms                                2\n",
      "Type                                 h\n",
      "Price                        1480000.0\n",
      "Method                               S\n",
      "SellerG                         Biggin\n",
      "Date                         3/12/2016\n",
      "Distance                           2.5\n",
      "Postcode                          3067\n",
      "Bedroom                            2.0\n",
      "Bathroom                           1.0\n",
      "Car                                1.0\n",
      "Landsize                         202.0\n",
      "BuildingArea                     126.0\n",
      "YearBuilt                       1970.0\n",
      "CouncilArea                      Yarra\n",
      "Lattitude                     -37.7996\n",
      "Longtitude                    144.9984\n",
      "Regionname       Northern Metropolitan\n",
      "Propertycount                   4019.0\n",
      "Сoordinates         -37.7996, 144.9984\n",
      "Name: 0, dtype: object\n",
      "index                                0\n",
      "Suburb                      Abbotsford\n",
      "Address                   85 Turner St\n",
      "Rooms                                2\n",
      "Type                                 h\n",
      "Price                        1480000.0\n",
      "Method                               S\n",
      "SellerG                         Biggin\n",
      "Date                         3/12/2016\n",
      "Distance                           2.5\n",
      "Postcode                          3067\n",
      "Bedroom                            2.0\n",
      "Bathroom                           1.0\n",
      "Car                                1.0\n",
      "Landsize                         202.0\n",
      "BuildingArea                     126.0\n",
      "YearBuilt                       1970.0\n",
      "CouncilArea                      Yarra\n",
      "Lattitude                     -37.7996\n",
      "Longtitude                    144.9984\n",
      "Regionname       Northern Metropolitan\n",
      "Propertycount                   4019.0\n",
      "Сoordinates         -37.7996, 144.9984\n",
      "Name: 0, dtype: object\n"
     ]
    }
   ],
   "source": [
    "#Вот эти команды жаь одинаковый результат\n",
    "print(melb_data.loc[0])\n",
    "print(melb_data.iloc[0])"
   ]
  },
  {
   "cell_type": "code",
   "execution_count": 75,
   "id": "136ff085",
   "metadata": {},
   "outputs": [
    {
     "name": "stdout",
     "output_type": "stream",
     "text": [
      "1310000.0\n",
      "1310000.0\n",
      "1310000.0\n",
      "1310000.0\n",
      "1310000.0\n",
      "1310000.0\n",
      "1310000.0\n"
     ]
    }
   ],
   "source": [
    "# Какова цена объекта недвижимости под индексом 15?\n",
    "print(melb_data.Price[15])\n",
    "\n",
    "print(melb_data.loc[15][5])\n",
    "print(melb_data.loc[15]['Price'])\n",
    "print(melb_data.loc[15, 'Price'])\n",
    "\n",
    "print(melb_data.iloc[15,5])\n",
    "print(melb_data.iloc[15][5])\n",
    "print(melb_data.Price.iloc[15])"
   ]
  },
  {
   "cell_type": "code",
   "execution_count": 76,
   "id": "83f0825f",
   "metadata": {},
   "outputs": [
    {
     "name": "stdout",
     "output_type": "stream",
     "text": [
      "10/09/2016\n",
      "10/09/2016\n",
      "10/09/2016\n",
      "10/09/2016\n",
      "10/09/2016\n",
      "10/09/2016\n",
      "10/09/2016\n"
     ]
    }
   ],
   "source": [
    "#Найдите, когда был продан объект под индексом 90\n",
    "print(melb_data.Date[90])\n",
    "\n",
    "print(melb_data.loc[90][8])\n",
    "print(melb_data.loc[90]['Date'])\n",
    "print(melb_data.loc[90,'Date'])\n",
    "\n",
    "\n",
    "print(melb_data.iloc[90][8])\n",
    "print(melb_data.iloc[90,8])\n",
    "print(melb_data.Date.iloc[90])"
   ]
  },
  {
   "cell_type": "code",
   "execution_count": 77,
   "id": "43204535",
   "metadata": {},
   "outputs": [
    {
     "name": "stdout",
     "output_type": "stream",
     "text": [
      "3\n",
      "3\n",
      "3\n",
      "3\n",
      "3\n",
      "3\n",
      "3\n",
      "2.0\n"
     ]
    }
   ],
   "source": [
    "#Найдите во сколько раз площадь участка здания под индексом 3521 больше площади участка здания под индексом 1690. \n",
    "#Ответ округлите до целых.\n",
    "print(round(melb_data.Landsize[3521]/melb_data.Landsize[1690]))\n",
    "\n",
    "print(round(melb_data.iloc[3521][14]/melb_data.iloc[1690][14]))\n",
    "print(round(melb_data.iloc[3521,14]/melb_data.iloc[1690,14]))\n",
    "print(round(melb_data.Landsize.iloc[3521]/melb_data.Landsize.iloc[1690]))\n",
    "\n",
    "print(round(melb_data.loc[3521][14]/melb_data.loc[1690][14]))\n",
    "print(round(melb_data.loc[3521,'Landsize']/melb_data.loc[1690,'Landsize']))\n",
    "print(round(melb_data.loc[3521]['Landsize']/melb_data.loc[1690]['Landsize']))\n",
    "\n",
    "#Округление в меньшую сторону через целочисленное деление\n",
    "print(melb_data.loc[3521]['Landsize']//melb_data.loc[1690]['Landsize'])"
   ]
  },
  {
   "cell_type": "markdown",
   "id": "db652a3c",
   "metadata": {},
   "source": [
    "##### Изменение типа данных столбца\n",
    "Если присмотреться внимательнее к выводу метода info(), а конкретнее на типы данных столбцов, становится понятно, что некоторые признаки кодируются не совсем корректными типами данных. \n",
    "Например, столбцы, которые отражают количество, и по идее должны выражаться целым числом (Car, Bedroom, Bathroom Propertyсount), кодируются числом float64 - числом с плавающей запятой размером 64 бита. \n",
    "Столбец Postcode, обозначающий почтовый индекс также кодируется числом float, хотя должен кодироваться целым числом. \n",
    "Наконец, столбец с годом постройки (YearBuilt) также представлен в формате числа с плавающей точкой.\n",
    "\n",
    "Для того, чтобы исправить это, можно воспользоваться методом astype(), который позволяет преобразовать тип данных столбца:\n"
   ]
  },
  {
   "cell_type": "code",
   "execution_count": 78,
   "id": "957756c7",
   "metadata": {},
   "outputs": [
    {
     "name": "stdout",
     "output_type": "stream",
     "text": [
      "<class 'pandas.core.frame.DataFrame'>\n",
      "RangeIndex: 13580 entries, 0 to 13579\n",
      "Data columns (total 23 columns):\n",
      " #   Column         Non-Null Count  Dtype  \n",
      "---  ------         --------------  -----  \n",
      " 0   index          13580 non-null  int64  \n",
      " 1   Suburb         13580 non-null  object \n",
      " 2   Address        13580 non-null  object \n",
      " 3   Rooms          13580 non-null  int64  \n",
      " 4   Type           13580 non-null  object \n",
      " 5   Price          13580 non-null  float64\n",
      " 6   Method         13580 non-null  object \n",
      " 7   SellerG        13580 non-null  object \n",
      " 8   Date           13580 non-null  object \n",
      " 9   Distance       13580 non-null  float64\n",
      " 10  Postcode       13580 non-null  int64  \n",
      " 11  Bedroom        13580 non-null  int64  \n",
      " 12  Bathroom       13580 non-null  int64  \n",
      " 13  Car            13580 non-null  int64  \n",
      " 14  Landsize       13580 non-null  float64\n",
      " 15  BuildingArea   13580 non-null  float64\n",
      " 16  YearBuilt      13580 non-null  int64  \n",
      " 17  CouncilArea    12211 non-null  object \n",
      " 18  Lattitude      13580 non-null  float64\n",
      " 19  Longtitude     13580 non-null  float64\n",
      " 20  Regionname     13580 non-null  object \n",
      " 21  Propertycount  13580 non-null  int64  \n",
      " 22  Сoordinates    13580 non-null  object \n",
      "dtypes: float64(6), int64(8), object(9)\n",
      "memory usage: 2.4+ MB\n"
     ]
    }
   ],
   "source": [
    "melb_data['Postcode'] = melb_data['Postcode'].astype('int64')\n",
    "melb_data['Car'] = melb_data['Car'].astype('int64')\n",
    "melb_data['Bedroom'] = melb_data['Bedroom'].astype('int64')\n",
    "melb_data['Bathroom'] = melb_data['Bedroom'].astype('int64')\n",
    "melb_data['Propertycount'] = melb_data['Propertycount'].astype('int64')\n",
    "melb_data['YearBuilt'] = melb_data['YearBuilt'].astype('int64')\n",
    "melb_data.info()"
   ]
  },
  {
   "cell_type": "markdown",
   "id": "c85caef3",
   "metadata": {},
   "source": [
    "Подробнее о типах данных можно почитать здесь https://dfedorov.spb.ru/pandas/Обзор%20типов%20данных%20pandas.html \n",
    "object - это тип данных, которым в Pandas кодируются текстовые или нечисловые значения (кортежи, списки и т.д.)"
   ]
  },
  {
   "cell_type": "markdown",
   "id": "8351ae38",
   "metadata": {},
   "source": [
    "#### Описательная статистика\n",
    "По умолчанию метод работает с числовыми (int64 и float64) столбцами\n",
    "Подробнее https://pandas.pydata.org/pandas-docs/stable/reference/api/pandas.DataFrame.describe.html "
   ]
  },
  {
   "cell_type": "code",
   "execution_count": 79,
   "id": "768b34a8",
   "metadata": {},
   "outputs": [
    {
     "data": {
      "text/html": [
       "<div>\n",
       "<style scoped>\n",
       "    .dataframe tbody tr th:only-of-type {\n",
       "        vertical-align: middle;\n",
       "    }\n",
       "\n",
       "    .dataframe tbody tr th {\n",
       "        vertical-align: top;\n",
       "    }\n",
       "\n",
       "    .dataframe thead th {\n",
       "        text-align: right;\n",
       "    }\n",
       "</style>\n",
       "<table border=\"1\" class=\"dataframe\">\n",
       "  <thead>\n",
       "    <tr style=\"text-align: right;\">\n",
       "      <th></th>\n",
       "      <th>Distance</th>\n",
       "      <th>BuildingArea</th>\n",
       "      <th>Price</th>\n",
       "    </tr>\n",
       "  </thead>\n",
       "  <tbody>\n",
       "    <tr>\n",
       "      <th>count</th>\n",
       "      <td>13580.000000</td>\n",
       "      <td>13580.000000</td>\n",
       "      <td>1.358000e+04</td>\n",
       "    </tr>\n",
       "    <tr>\n",
       "      <th>mean</th>\n",
       "      <td>10.137776</td>\n",
       "      <td>139.633972</td>\n",
       "      <td>1.075684e+06</td>\n",
       "    </tr>\n",
       "    <tr>\n",
       "      <th>std</th>\n",
       "      <td>5.868725</td>\n",
       "      <td>392.217403</td>\n",
       "      <td>6.393107e+05</td>\n",
       "    </tr>\n",
       "    <tr>\n",
       "      <th>min</th>\n",
       "      <td>0.000000</td>\n",
       "      <td>0.000000</td>\n",
       "      <td>8.500000e+04</td>\n",
       "    </tr>\n",
       "    <tr>\n",
       "      <th>25%</th>\n",
       "      <td>6.100000</td>\n",
       "      <td>122.000000</td>\n",
       "      <td>6.500000e+05</td>\n",
       "    </tr>\n",
       "    <tr>\n",
       "      <th>50%</th>\n",
       "      <td>9.200000</td>\n",
       "      <td>126.000000</td>\n",
       "      <td>9.030000e+05</td>\n",
       "    </tr>\n",
       "    <tr>\n",
       "      <th>75%</th>\n",
       "      <td>13.000000</td>\n",
       "      <td>129.940000</td>\n",
       "      <td>1.330000e+06</td>\n",
       "    </tr>\n",
       "    <tr>\n",
       "      <th>max</th>\n",
       "      <td>48.100000</td>\n",
       "      <td>44515.000000</td>\n",
       "      <td>9.000000e+06</td>\n",
       "    </tr>\n",
       "  </tbody>\n",
       "</table>\n",
       "</div>"
      ],
      "text/plain": [
       "           Distance  BuildingArea         Price\n",
       "count  13580.000000  13580.000000  1.358000e+04\n",
       "mean      10.137776    139.633972  1.075684e+06\n",
       "std        5.868725    392.217403  6.393107e+05\n",
       "min        0.000000      0.000000  8.500000e+04\n",
       "25%        6.100000    122.000000  6.500000e+05\n",
       "50%        9.200000    126.000000  9.030000e+05\n",
       "75%       13.000000    129.940000  1.330000e+06\n",
       "max       48.100000  44515.000000  9.000000e+06"
      ]
     },
     "execution_count": 79,
     "metadata": {},
     "output_type": "execute_result"
    }
   ],
   "source": [
    "melb_data.describe().loc[:, ['Distance', 'BuildingArea' , 'Price']]\n"
   ]
  },
  {
   "cell_type": "markdown",
   "id": "9a613d33",
   "metadata": {},
   "source": [
    "Замечание: \n",
    "Числа с обозначения e+n обозначают 10 в n-ой степени. То есть9.0e+06 = 9*10^6\n",
    "\n",
    "\n",
    "Какие интересные выводы мы можем сделать исходя из построенной таблицы?\n",
    "\n",
    "###### Столбец Distance (расстояние до центра города): \n",
    "\n",
    "В нашем наборе данных представлены объекты удаленные до 48 километров от центра города.\n",
    "\n",
    "###### Столбец BuildingAree (площадь здания):\n",
    "\n",
    "В нашей таблице представлены участки, на которых отсутствует само здание (его площадь равна 0). То есть владельцы продавали только голый участок земли.\n",
    "\n",
    "Большая часть объектов (75%) имеет площадь здания до 130 квадратных метров, однако в нашей таблице есть настоящий дворец (судя по его размерам) с площадью в 44515 квадратных метра. \n",
    "\n",
    "###### Столбец Price (цена):\n",
    "\n",
    "Диапазон цен на недвижимость в Мельбурне варьируется от 85 тысяч до 9 миллионов австралийских долларов.\n",
    "\n"
   ]
  },
  {
   "cell_type": "markdown",
   "id": "30acdc6d",
   "metadata": {},
   "source": [
    "Какие интересные выводы мы можем сделать исходя из построенной таблицы?\n",
    "Столбец Distance (расстояние до центра города): \n",
    "В нашем наборе данных представлены объекты удаленные до 48 километров от центра города.\n",
    "Столбец BuildingAree (площадь здания):\n",
    "В нашей таблице представлены участки, на которых отсутствует само здание (его площадь равна 0). То есть владельцы продавали только голый участок земли.\n",
    "Большая часть объектов (75%) имеет площадь здания до 130 квадратных метров, однако в нашей таблице есть настоящий дворец (судя по его размерам) с площадью в 44515 квадратных метра. \n",
    "Столбец Price (цена):\n",
    "Диапазон цен на недвижимость в Мельбурне варьируется от 85 тысяч до 9 миллионов австралийских долларов.\n",
    "\n",
    "\n",
    "\n",
    "###### include\n",
    "На самом деле метод describe можно применить не только к числовым признакам. С помощью параметра include можно указать тип данных для которого нужно вывести описательную информацию.\n",
    "Например, для типа данных object метод describe() возвращает DataFrame, в котором указаны количество непустых строк(count), уникальных значений(count), самое частое значение (top) и частоту - количество использования - этого значения (freq) для каждого столбца типа object исходной таблицы\n"
   ]
  },
  {
   "cell_type": "code",
   "execution_count": 80,
   "id": "0a5287c2",
   "metadata": {},
   "outputs": [
    {
     "data": {
      "text/html": [
       "<div>\n",
       "<style scoped>\n",
       "    .dataframe tbody tr th:only-of-type {\n",
       "        vertical-align: middle;\n",
       "    }\n",
       "\n",
       "    .dataframe tbody tr th {\n",
       "        vertical-align: top;\n",
       "    }\n",
       "\n",
       "    .dataframe thead th {\n",
       "        text-align: right;\n",
       "    }\n",
       "</style>\n",
       "<table border=\"1\" class=\"dataframe\">\n",
       "  <thead>\n",
       "    <tr style=\"text-align: right;\">\n",
       "      <th></th>\n",
       "      <th>Suburb</th>\n",
       "      <th>Address</th>\n",
       "      <th>Type</th>\n",
       "      <th>Method</th>\n",
       "      <th>SellerG</th>\n",
       "      <th>Date</th>\n",
       "      <th>CouncilArea</th>\n",
       "      <th>Regionname</th>\n",
       "      <th>Сoordinates</th>\n",
       "    </tr>\n",
       "  </thead>\n",
       "  <tbody>\n",
       "    <tr>\n",
       "      <th>count</th>\n",
       "      <td>13580</td>\n",
       "      <td>13580</td>\n",
       "      <td>13580</td>\n",
       "      <td>13580</td>\n",
       "      <td>13580</td>\n",
       "      <td>13580</td>\n",
       "      <td>12211</td>\n",
       "      <td>13580</td>\n",
       "      <td>13580</td>\n",
       "    </tr>\n",
       "    <tr>\n",
       "      <th>unique</th>\n",
       "      <td>314</td>\n",
       "      <td>13378</td>\n",
       "      <td>3</td>\n",
       "      <td>5</td>\n",
       "      <td>268</td>\n",
       "      <td>58</td>\n",
       "      <td>33</td>\n",
       "      <td>8</td>\n",
       "      <td>13097</td>\n",
       "    </tr>\n",
       "    <tr>\n",
       "      <th>top</th>\n",
       "      <td>Reservoir</td>\n",
       "      <td>36 Aberfeldie St</td>\n",
       "      <td>h</td>\n",
       "      <td>S</td>\n",
       "      <td>Nelson</td>\n",
       "      <td>27/05/2017</td>\n",
       "      <td>Moreland</td>\n",
       "      <td>Southern Metropolitan</td>\n",
       "      <td>-37.8361, 144.9966</td>\n",
       "    </tr>\n",
       "    <tr>\n",
       "      <th>freq</th>\n",
       "      <td>359</td>\n",
       "      <td>3</td>\n",
       "      <td>9449</td>\n",
       "      <td>9022</td>\n",
       "      <td>1565</td>\n",
       "      <td>473</td>\n",
       "      <td>1163</td>\n",
       "      <td>4695</td>\n",
       "      <td>12</td>\n",
       "    </tr>\n",
       "  </tbody>\n",
       "</table>\n",
       "</div>"
      ],
      "text/plain": [
       "           Suburb           Address   Type Method SellerG        Date  \\\n",
       "count       13580             13580  13580  13580   13580       13580   \n",
       "unique        314             13378      3      5     268          58   \n",
       "top     Reservoir  36 Aberfeldie St      h      S  Nelson  27/05/2017   \n",
       "freq          359                 3   9449   9022    1565         473   \n",
       "\n",
       "       CouncilArea             Regionname         Сoordinates  \n",
       "count        12211                  13580               13580  \n",
       "unique          33                      8               13097  \n",
       "top       Moreland  Southern Metropolitan  -37.8361, 144.9966  \n",
       "freq          1163                   4695                  12  "
      ]
     },
     "execution_count": 80,
     "metadata": {},
     "output_type": "execute_result"
    }
   ],
   "source": [
    "melb_data.describe(include=['object'])"
   ]
  },
  {
   "cell_type": "markdown",
   "id": "8c95025f",
   "metadata": {},
   "source": [
    "Также приведем несколько выводов, которые можно сделать из полученной таблицы:\n",
    "Столбец Suburb (пригород):\n",
    "Наибольшее количество проданных объектов (359) находилось в пригороде  Reservoir.\n",
    "Столбец Type (тип здания): \n",
    "Самый популярный тип дома - h (дом, вилла, коттедж)\n",
    "Столбец SellerG (риэлтор): \n",
    "В наших данных нам известно о 268 различных риэлторских компаниях, однако самой главной акулой в этом бизнесе является компания Nelson. Она продала 1565 различных домов.\n",
    "Столбец Date (дата продажи): \n",
    "В нашей таблице содержится информация за 58 различных дней, при этом наибольшее число продаж (473) пришлось на 27 мая 2017 года.\n"
   ]
  },
  {
   "cell_type": "markdown",
   "id": "9fb87c75",
   "metadata": {},
   "source": [
    "###### Получение частоты \n",
    "Для того, чтобы определить частоту в столбце, используется метод столбца value_counts(). Данный метод возвращает объект Series в котором по индексам идут уникальные категории столбца, а по значениям - соответствующая им частота.\n",
    "Рассмотрим метод value_counts() на примере столбца с названиями районов:"
   ]
  },
  {
   "cell_type": "code",
   "execution_count": 81,
   "id": "0be35f99",
   "metadata": {},
   "outputs": [
    {
     "data": {
      "text/plain": [
       "Southern Metropolitan         4695\n",
       "Northern Metropolitan         3890\n",
       "Western Metropolitan          2948\n",
       "Eastern Metropolitan          1471\n",
       "South-Eastern Metropolitan     450\n",
       "Eastern Victoria                53\n",
       "Northern Victoria               41\n",
       "Western Victoria                32\n",
       "Name: Regionname, dtype: int64"
      ]
     },
     "execution_count": 81,
     "metadata": {},
     "output_type": "execute_result"
    }
   ],
   "source": [
    "melb_data['Regionname'].value_counts()"
   ]
  },
  {
   "cell_type": "code",
   "execution_count": 82,
   "id": "3d6f4939",
   "metadata": {},
   "outputs": [
    {
     "data": {
      "text/plain": [
       "Southern Metropolitan         0.345729\n",
       "Northern Metropolitan         0.286451\n",
       "Western Metropolitan          0.217084\n",
       "Eastern Metropolitan          0.108321\n",
       "South-Eastern Metropolitan    0.033137\n",
       "Eastern Victoria              0.003903\n",
       "Northern Victoria             0.003019\n",
       "Western Victoria              0.002356\n",
       "Name: Regionname, dtype: float64"
      ]
     },
     "execution_count": 82,
     "metadata": {},
     "output_type": "execute_result"
    }
   ],
   "source": [
    "melb_data['Regionname'].value_counts(normalize=True)"
   ]
  },
  {
   "cell_type": "code",
   "execution_count": 83,
   "id": "7f220635",
   "metadata": {},
   "outputs": [
    {
     "data": {
      "text/html": [
       "<div>\n",
       "<style scoped>\n",
       "    .dataframe tbody tr th:only-of-type {\n",
       "        vertical-align: middle;\n",
       "    }\n",
       "\n",
       "    .dataframe tbody tr th {\n",
       "        vertical-align: top;\n",
       "    }\n",
       "\n",
       "    .dataframe thead th {\n",
       "        text-align: right;\n",
       "    }\n",
       "</style>\n",
       "<table border=\"1\" class=\"dataframe\">\n",
       "  <thead>\n",
       "    <tr style=\"text-align: right;\">\n",
       "      <th></th>\n",
       "      <th>Suburb</th>\n",
       "      <th>Address</th>\n",
       "      <th>Type</th>\n",
       "      <th>Method</th>\n",
       "      <th>SellerG</th>\n",
       "      <th>Date</th>\n",
       "      <th>CouncilArea</th>\n",
       "      <th>Regionname</th>\n",
       "      <th>Сoordinates</th>\n",
       "    </tr>\n",
       "  </thead>\n",
       "  <tbody>\n",
       "    <tr>\n",
       "      <th>count</th>\n",
       "      <td>13580</td>\n",
       "      <td>13580</td>\n",
       "      <td>13580</td>\n",
       "      <td>13580</td>\n",
       "      <td>13580</td>\n",
       "      <td>13580</td>\n",
       "      <td>12211</td>\n",
       "      <td>13580</td>\n",
       "      <td>13580</td>\n",
       "    </tr>\n",
       "    <tr>\n",
       "      <th>unique</th>\n",
       "      <td>314</td>\n",
       "      <td>13378</td>\n",
       "      <td>3</td>\n",
       "      <td>5</td>\n",
       "      <td>268</td>\n",
       "      <td>58</td>\n",
       "      <td>33</td>\n",
       "      <td>8</td>\n",
       "      <td>13097</td>\n",
       "    </tr>\n",
       "    <tr>\n",
       "      <th>top</th>\n",
       "      <td>Reservoir</td>\n",
       "      <td>36 Aberfeldie St</td>\n",
       "      <td>h</td>\n",
       "      <td>S</td>\n",
       "      <td>Nelson</td>\n",
       "      <td>27/05/2017</td>\n",
       "      <td>Moreland</td>\n",
       "      <td>Southern Metropolitan</td>\n",
       "      <td>-37.8361, 144.9966</td>\n",
       "    </tr>\n",
       "    <tr>\n",
       "      <th>freq</th>\n",
       "      <td>359</td>\n",
       "      <td>3</td>\n",
       "      <td>9449</td>\n",
       "      <td>9022</td>\n",
       "      <td>1565</td>\n",
       "      <td>473</td>\n",
       "      <td>1163</td>\n",
       "      <td>4695</td>\n",
       "      <td>12</td>\n",
       "    </tr>\n",
       "  </tbody>\n",
       "</table>\n",
       "</div>"
      ],
      "text/plain": [
       "           Suburb           Address   Type Method SellerG        Date  \\\n",
       "count       13580             13580  13580  13580   13580       13580   \n",
       "unique        314             13378      3      5     268          58   \n",
       "top     Reservoir  36 Aberfeldie St      h      S  Nelson  27/05/2017   \n",
       "freq          359                 3   9449   9022    1565         473   \n",
       "\n",
       "       CouncilArea             Regionname         Сoordinates  \n",
       "count        12211                  13580               13580  \n",
       "unique          33                      8               13097  \n",
       "top       Moreland  Southern Metropolitan  -37.8361, 144.9966  \n",
       "freq          1163                   4695                  12  "
      ]
     },
     "execution_count": 83,
     "metadata": {},
     "output_type": "execute_result"
    }
   ],
   "source": [
    "melb_data.describe(include=[object])"
   ]
  },
  {
   "cell_type": "code",
   "execution_count": 84,
   "id": "4a418c8e",
   "metadata": {},
   "outputs": [
    {
     "data": {
      "text/plain": [
       "h    0.695803\n",
       "u    0.222165\n",
       "t    0.082032\n",
       "Name: Type, dtype: float64"
      ]
     },
     "execution_count": 84,
     "metadata": {},
     "output_type": "execute_result"
    }
   ],
   "source": [
    "melb_data['Type'].value_counts(normalize=True)"
   ]
  },
  {
   "cell_type": "markdown",
   "id": "c39ad662",
   "metadata": {},
   "source": [
    "#### 2.7. Статистические методы \n",
    "##### Агрегирующие методы\n",
    ".count()\n",
    "\n",
    ".mean()\n",
    "\n",
    ".min()\n",
    "\n",
    ".max()\n",
    "\n",
    ".deviance() - дисперсия\n",
    "\n",
    ".std()\n",
    "\n",
    ".sum()\n",
    "\n",
    ".quantile(x) - х-ый квантиль "
   ]
  },
  {
   "cell_type": "markdown",
   "id": "844dc05c",
   "metadata": {},
   "source": [
    "Если один из этих методов применить ко всему DataFrame, то в результате его работы будет получен объект типа Series, в котором по индексам будут наименования столбцов, а по значениям - статистический показатель . В случае применения метода к отдельному столбцу, результатом вычислений станет число.\n",
    "\n",
    "В каждый метод можно передать некоторые параметры, среди которых:\n",
    "\n",
    "axis — определяет, подсчитывать параметр по строкам или столбцам\n",
    "\n",
    "numeric_only — определяет, вычислять параметры только по числовым столбцам/строкам или нет (True/False).\n",
    "\n",
    "Разберем агрегирующие функции на примерах:\n"
   ]
  },
  {
   "cell_type": "code",
   "execution_count": 85,
   "id": "1af050e7",
   "metadata": {},
   "outputs": [
    {
     "name": "stdout",
     "output_type": "stream",
     "text": [
      "1075684.079455081\n"
     ]
    }
   ],
   "source": [
    "# Вычислим среднюю цену на объекты недвижимости:\n",
    "\n",
    "print(melb_data['Price'].mean())\n"
   ]
  },
  {
   "cell_type": "code",
   "execution_count": 86,
   "id": "db7532b1",
   "metadata": {},
   "outputs": [
    {
     "name": "stdout",
     "output_type": "stream",
     "text": [
      "10\n"
     ]
    }
   ],
   "source": [
    "#Найдем максимальное количество парковочных мест:\n",
    "print(melb_data['Car'].max())"
   ]
  },
  {
   "cell_type": "code",
   "execution_count": 87,
   "id": "3cb59ea9",
   "metadata": {},
   "outputs": [
    {
     "name": "stdout",
     "output_type": "stream",
     "text": [
      "Общая риэлторская выручка: 1752934775.88\n"
     ]
    }
   ],
   "source": [
    "#А теперь представим, что риэлторская ставка за продажу недвижимости составляет 12%. \n",
    "#Найдем общую прибыльность риэлторского бизнеса в Мельбурне. Результат округлим до сотых:\n",
    "rate = 0.12\n",
    "income = melb_data['Price'].sum() * rate\n",
    "print('Общая риэлторская выручка:', round(income, 2))\n"
   ]
  },
  {
   "cell_type": "code",
   "execution_count": 88,
   "id": "98905dac",
   "metadata": {},
   "outputs": [
    {
     "name": "stdout",
     "output_type": "stream",
     "text": [
      "0.21205713983546193\n"
     ]
    }
   ],
   "source": [
    "#Найдем, насколько медианная площадь территории отличается от ее среднего значения. \n",
    "#Вычислим модуль разницы между медианой и средним и разделим результат на среднее, чтобы получить отклонение в долях.\n",
    "landsize_median = melb_data['Landsize'].median() \n",
    "landsize_mean =  melb_data['Landsize'].mean()\n",
    "print(abs(landsize_median - landsize_mean)/landsize_mean)\n"
   ]
  },
  {
   "cell_type": "markdown",
   "id": "e7f94b99",
   "metadata": {},
   "source": [
    "В результате получаем долю отклонения медианы от среднего значения. Умножив результат на 100, можно получить его в процентах. Отклонение медианы от среднего значения на 21% является довольно большим и это повод задуматься над тем, чтобы исследовать признак на наличие аномалий. \n"
   ]
  },
  {
   "cell_type": "markdown",
   "id": "9077b46c",
   "metadata": {},
   "source": [
    "Модальное значение\n",
    "Отдельный интерес представляет статический показатель моды - самого распространенного значения в столбце. Он вычисляется с помощью метода mode(). Модальных значений может быть несколько - несколько значений могут встречаться одинаковое количество раз. Поэтому метод mode(), в отличие от агрегационных методов, возвращает не одно число, а серию.\n",
    "Вычислим, какое число комнат чаще всего представлено на рынке недвижимости:\n",
    "\n",
    "Замечание:\n",
    "Метод mode() может быть использован не только с числовыми столбцами, но и со столбцами типа object. Так например следующим кодом можно найти наиболее распространенное имя района.\n",
    "\t"
   ]
  },
  {
   "cell_type": "code",
   "execution_count": 89,
   "id": "002f5a90",
   "metadata": {},
   "outputs": [
    {
     "name": "stdout",
     "output_type": "stream",
     "text": [
      "0    3\n",
      "dtype: int64\n",
      "0    Southern Metropolitan\n",
      "dtype: object\n"
     ]
    }
   ],
   "source": [
    "print(melb_data['Rooms'].mode())\n",
    "print(melb_data['Regionname'].mode())"
   ]
  },
  {
   "cell_type": "markdown",
   "id": "bb18ec20",
   "metadata": {},
   "source": [
    "2.7.2. Чему равно максимальное количество домов на продажу в районе? Ответ запишите в виде целого числа."
   ]
  },
  {
   "cell_type": "code",
   "execution_count": 90,
   "id": "e7024299",
   "metadata": {},
   "outputs": [
    {
     "data": {
      "text/plain": [
       "Southern Metropolitan         4695\n",
       "Northern Metropolitan         3890\n",
       "Western Metropolitan          2948\n",
       "Eastern Metropolitan          1471\n",
       "South-Eastern Metropolitan     450\n",
       "Eastern Victoria                53\n",
       "Northern Victoria               41\n",
       "Western Victoria                32\n",
       "Name: Regionname, dtype: int64"
      ]
     },
     "execution_count": 90,
     "metadata": {},
     "output_type": "execute_result"
    }
   ],
   "source": [
    "melb_data['Regionname'].value_counts()"
   ]
  },
  {
   "cell_type": "code",
   "execution_count": 91,
   "id": "d44571fb",
   "metadata": {},
   "outputs": [
    {
     "data": {
      "text/plain": [
       "21650"
      ]
     },
     "execution_count": 91,
     "metadata": {},
     "output_type": "execute_result"
    }
   ],
   "source": [
    "melb_data['Propertycount'].max()"
   ]
  },
  {
   "cell_type": "markdown",
   "id": "31354325",
   "metadata": {},
   "source": [
    "2.7.3. Чему равно стандартное отклонение (разброс) расстояния от центра города до объекта недвижимости. Ответ округлите до целого:"
   ]
  },
  {
   "cell_type": "code",
   "execution_count": 92,
   "id": "dec00bc6",
   "metadata": {},
   "outputs": [
    {
     "data": {
      "text/plain": [
       "6"
      ]
     },
     "execution_count": 92,
     "metadata": {},
     "output_type": "execute_result"
    }
   ],
   "source": [
    "round(melb_data['Distance'].std())"
   ]
  },
  {
   "cell_type": "code",
   "execution_count": 93,
   "id": "e4843c04",
   "metadata": {},
   "outputs": [
    {
     "name": "stdout",
     "output_type": "stream",
     "text": [
      "0.09764079662364533\n"
     ]
    }
   ],
   "source": [
    "building_median = melb_data['BuildingArea'].median() \n",
    "building_mean =  melb_data['BuildingArea'].mean()\n",
    "print(abs(building_median - building_mean)/building_mean)\n"
   ]
  },
  {
   "cell_type": "code",
   "execution_count": 94,
   "id": "040cc57a",
   "metadata": {},
   "outputs": [
    {
     "data": {
      "text/plain": [
       "0    3\n",
       "dtype: int64"
      ]
     },
     "execution_count": 94,
     "metadata": {},
     "output_type": "execute_result"
    }
   ],
   "source": [
    "melb_data['Bedroom'].mode()"
   ]
  },
  {
   "cell_type": "code",
   "execution_count": 95,
   "id": "1c395bc8",
   "metadata": {},
   "outputs": [
    {
     "data": {
      "text/plain": [
       "0    2\n",
       "dtype: int64"
      ]
     },
     "execution_count": 95,
     "metadata": {},
     "output_type": "execute_result"
    }
   ],
   "source": [
    "countries = pd.Series(\n",
    "data=[1, 2, 4, 2, 3, 2, 1, 5, 6])\n",
    "countries.mode()"
   ]
  },
  {
   "cell_type": "markdown",
   "id": "8a34b7a2",
   "metadata": {},
   "source": [
    "### 2.8. Фильтрация данных в DataFrame\n",
    "\n",
    "Часто бывает ситуация, что нам нужно исследовать определенную группу наших объектов по какому-то условию, например найти здания, с ценой меньше 1 миллиона или выделить из всей нашей таблицы помещения с двумя комнатами.  Такие задачами называются задачами фильтрации.\n",
    "\n",
    "Под фильтрацией в DataFrame подразумевается получение новой таблицы путем вырезания строк, не удовлетворяющих поставленному условию. \n",
    "\n",
    "Разберем классический способ фильтрации в DataFrame с помощью масок.\n",
    "Маской называется Series, которая состоит из булевых значений, при этом значения True соответствуют тем индексам, для которых заданное условие выполняется, в противном случае ставится значение False (например, цена > 2 млн). Синтаксис получения маски очень прост:"
   ]
  },
  {
   "cell_type": "code",
   "execution_count": 96,
   "id": "357caade",
   "metadata": {},
   "outputs": [
    {
     "data": {
      "text/plain": [
       "0        False\n",
       "1        False\n",
       "2        False\n",
       "3        False\n",
       "4        False\n",
       "         ...  \n",
       "13575    False\n",
       "13576    False\n",
       "13577    False\n",
       "13578     True\n",
       "13579    False\n",
       "Name: Price, Length: 13580, dtype: bool"
      ]
     },
     "metadata": {},
     "output_type": "display_data"
    }
   ],
   "source": [
    "mask = melb_data['Price'] > 2000000\n",
    "display(mask)\n"
   ]
  },
  {
   "cell_type": "markdown",
   "id": "07e59344",
   "metadata": {},
   "source": [
    "Для произведения фильтрации нужно просто подставить полученную маску в индексацию DataFrame. Маска показывает, какие строки нужно оставлять в результирующем наборе, а какие убирать (выведем первые 5 строк отфильтрованной таблицы):\n"
   ]
  },
  {
   "cell_type": "code",
   "execution_count": 97,
   "id": "0518fc45",
   "metadata": {},
   "outputs": [
    {
     "data": {
      "text/html": [
       "<div>\n",
       "<style scoped>\n",
       "    .dataframe tbody tr th:only-of-type {\n",
       "        vertical-align: middle;\n",
       "    }\n",
       "\n",
       "    .dataframe tbody tr th {\n",
       "        vertical-align: top;\n",
       "    }\n",
       "\n",
       "    .dataframe thead th {\n",
       "        text-align: right;\n",
       "    }\n",
       "</style>\n",
       "<table border=\"1\" class=\"dataframe\">\n",
       "  <thead>\n",
       "    <tr style=\"text-align: right;\">\n",
       "      <th></th>\n",
       "      <th>index</th>\n",
       "      <th>Suburb</th>\n",
       "      <th>Address</th>\n",
       "      <th>Rooms</th>\n",
       "      <th>Type</th>\n",
       "      <th>Price</th>\n",
       "      <th>Method</th>\n",
       "      <th>SellerG</th>\n",
       "      <th>Date</th>\n",
       "      <th>Distance</th>\n",
       "      <th>...</th>\n",
       "      <th>Car</th>\n",
       "      <th>Landsize</th>\n",
       "      <th>BuildingArea</th>\n",
       "      <th>YearBuilt</th>\n",
       "      <th>CouncilArea</th>\n",
       "      <th>Lattitude</th>\n",
       "      <th>Longtitude</th>\n",
       "      <th>Regionname</th>\n",
       "      <th>Propertycount</th>\n",
       "      <th>Сoordinates</th>\n",
       "    </tr>\n",
       "  </thead>\n",
       "  <tbody>\n",
       "    <tr>\n",
       "      <th>80</th>\n",
       "      <td>80</td>\n",
       "      <td>Albert Park</td>\n",
       "      <td>112 Beaconsfield Pde</td>\n",
       "      <td>3</td>\n",
       "      <td>h</td>\n",
       "      <td>2850000.0</td>\n",
       "      <td>PI</td>\n",
       "      <td>Buxton</td>\n",
       "      <td>4/03/2017</td>\n",
       "      <td>3.3</td>\n",
       "      <td>...</td>\n",
       "      <td>0</td>\n",
       "      <td>211.0</td>\n",
       "      <td>198.0</td>\n",
       "      <td>1890</td>\n",
       "      <td>Port Phillip</td>\n",
       "      <td>-37.8481</td>\n",
       "      <td>144.9499</td>\n",
       "      <td>Southern Metropolitan</td>\n",
       "      <td>3280</td>\n",
       "      <td>-37.8481, 144.9499</td>\n",
       "    </tr>\n",
       "    <tr>\n",
       "      <th>85</th>\n",
       "      <td>85</td>\n",
       "      <td>Albert Park</td>\n",
       "      <td>104 Richardson St</td>\n",
       "      <td>4</td>\n",
       "      <td>h</td>\n",
       "      <td>2300000.0</td>\n",
       "      <td>S</td>\n",
       "      <td>Marshall</td>\n",
       "      <td>7/05/2016</td>\n",
       "      <td>3.3</td>\n",
       "      <td>...</td>\n",
       "      <td>1</td>\n",
       "      <td>153.0</td>\n",
       "      <td>180.0</td>\n",
       "      <td>1880</td>\n",
       "      <td>Port Phillip</td>\n",
       "      <td>-37.8447</td>\n",
       "      <td>144.9523</td>\n",
       "      <td>Southern Metropolitan</td>\n",
       "      <td>3280</td>\n",
       "      <td>-37.8447, 144.9523</td>\n",
       "    </tr>\n",
       "    <tr>\n",
       "      <th>88</th>\n",
       "      <td>88</td>\n",
       "      <td>Albert Park</td>\n",
       "      <td>29 Faussett St</td>\n",
       "      <td>2</td>\n",
       "      <td>h</td>\n",
       "      <td>2120000.0</td>\n",
       "      <td>S</td>\n",
       "      <td>Greg</td>\n",
       "      <td>10/09/2016</td>\n",
       "      <td>3.3</td>\n",
       "      <td>...</td>\n",
       "      <td>1</td>\n",
       "      <td>199.0</td>\n",
       "      <td>107.0</td>\n",
       "      <td>1900</td>\n",
       "      <td>Port Phillip</td>\n",
       "      <td>-37.8422</td>\n",
       "      <td>144.9554</td>\n",
       "      <td>Southern Metropolitan</td>\n",
       "      <td>3280</td>\n",
       "      <td>-37.8422, 144.9554</td>\n",
       "    </tr>\n",
       "    <tr>\n",
       "      <th>92</th>\n",
       "      <td>92</td>\n",
       "      <td>Albert Park</td>\n",
       "      <td>2 Dundas Pl</td>\n",
       "      <td>3</td>\n",
       "      <td>h</td>\n",
       "      <td>2615000.0</td>\n",
       "      <td>S</td>\n",
       "      <td>Cayzer</td>\n",
       "      <td>10/12/2016</td>\n",
       "      <td>3.3</td>\n",
       "      <td>...</td>\n",
       "      <td>1</td>\n",
       "      <td>177.0</td>\n",
       "      <td>181.0</td>\n",
       "      <td>1880</td>\n",
       "      <td>Port Phillip</td>\n",
       "      <td>-37.8415</td>\n",
       "      <td>144.9585</td>\n",
       "      <td>Southern Metropolitan</td>\n",
       "      <td>3280</td>\n",
       "      <td>-37.8415, 144.9585</td>\n",
       "    </tr>\n",
       "    <tr>\n",
       "      <th>93</th>\n",
       "      <td>93</td>\n",
       "      <td>Albert Park</td>\n",
       "      <td>23 Finlay St</td>\n",
       "      <td>5</td>\n",
       "      <td>h</td>\n",
       "      <td>2100000.0</td>\n",
       "      <td>S</td>\n",
       "      <td>Greg</td>\n",
       "      <td>10/12/2016</td>\n",
       "      <td>3.3</td>\n",
       "      <td>...</td>\n",
       "      <td>1</td>\n",
       "      <td>237.0</td>\n",
       "      <td>126.0</td>\n",
       "      <td>1970</td>\n",
       "      <td>Port Phillip</td>\n",
       "      <td>-37.8436</td>\n",
       "      <td>144.9557</td>\n",
       "      <td>Southern Metropolitan</td>\n",
       "      <td>3280</td>\n",
       "      <td>-37.8436, 144.9557</td>\n",
       "    </tr>\n",
       "  </tbody>\n",
       "</table>\n",
       "<p>5 rows × 23 columns</p>\n",
       "</div>"
      ],
      "text/plain": [
       "    index       Suburb               Address  Rooms Type      Price Method  \\\n",
       "80     80  Albert Park  112 Beaconsfield Pde      3    h  2850000.0     PI   \n",
       "85     85  Albert Park     104 Richardson St      4    h  2300000.0      S   \n",
       "88     88  Albert Park        29 Faussett St      2    h  2120000.0      S   \n",
       "92     92  Albert Park           2 Dundas Pl      3    h  2615000.0      S   \n",
       "93     93  Albert Park          23 Finlay St      5    h  2100000.0      S   \n",
       "\n",
       "     SellerG        Date  Distance  ...  Car  Landsize  BuildingArea  \\\n",
       "80    Buxton   4/03/2017       3.3  ...    0     211.0         198.0   \n",
       "85  Marshall   7/05/2016       3.3  ...    1     153.0         180.0   \n",
       "88      Greg  10/09/2016       3.3  ...    1     199.0         107.0   \n",
       "92    Cayzer  10/12/2016       3.3  ...    1     177.0         181.0   \n",
       "93      Greg  10/12/2016       3.3  ...    1     237.0         126.0   \n",
       "\n",
       "    YearBuilt   CouncilArea  Lattitude  Longtitude             Regionname  \\\n",
       "80       1890  Port Phillip   -37.8481    144.9499  Southern Metropolitan   \n",
       "85       1880  Port Phillip   -37.8447    144.9523  Southern Metropolitan   \n",
       "88       1900  Port Phillip   -37.8422    144.9554  Southern Metropolitan   \n",
       "92       1880  Port Phillip   -37.8415    144.9585  Southern Metropolitan   \n",
       "93       1970  Port Phillip   -37.8436    144.9557  Southern Metropolitan   \n",
       "\n",
       "    Propertycount         Сoordinates  \n",
       "80           3280  -37.8481, 144.9499  \n",
       "85           3280  -37.8447, 144.9523  \n",
       "88           3280  -37.8422, 144.9554  \n",
       "92           3280  -37.8415, 144.9585  \n",
       "93           3280  -37.8436, 144.9557  \n",
       "\n",
       "[5 rows x 23 columns]"
      ]
     },
     "metadata": {},
     "output_type": "display_data"
    }
   ],
   "source": [
    "display(melb_data[mask].head())"
   ]
  },
  {
   "cell_type": "markdown",
   "id": "a3d24240",
   "metadata": {},
   "source": [
    "Замечание\n",
    "В результате выполнения фильтрации возвращается новый DataFrame, полученный из исходного, при этом исходная таблица melb_data остается без изменений.\n",
    "Также вовсе необязательно заносить маску в отдельную переменную, вы можете сразу вставлять условие в операцию индексации DataFrame, например:\n"
   ]
  },
  {
   "cell_type": "code",
   "execution_count": 98,
   "id": "d794dfb1",
   "metadata": {},
   "outputs": [
    {
     "data": {
      "text/html": [
       "<div>\n",
       "<style scoped>\n",
       "    .dataframe tbody tr th:only-of-type {\n",
       "        vertical-align: middle;\n",
       "    }\n",
       "\n",
       "    .dataframe tbody tr th {\n",
       "        vertical-align: top;\n",
       "    }\n",
       "\n",
       "    .dataframe thead th {\n",
       "        text-align: right;\n",
       "    }\n",
       "</style>\n",
       "<table border=\"1\" class=\"dataframe\">\n",
       "  <thead>\n",
       "    <tr style=\"text-align: right;\">\n",
       "      <th></th>\n",
       "      <th>index</th>\n",
       "      <th>Suburb</th>\n",
       "      <th>Address</th>\n",
       "      <th>Rooms</th>\n",
       "      <th>Type</th>\n",
       "      <th>Price</th>\n",
       "      <th>Method</th>\n",
       "      <th>SellerG</th>\n",
       "      <th>Date</th>\n",
       "      <th>Distance</th>\n",
       "      <th>...</th>\n",
       "      <th>Car</th>\n",
       "      <th>Landsize</th>\n",
       "      <th>BuildingArea</th>\n",
       "      <th>YearBuilt</th>\n",
       "      <th>CouncilArea</th>\n",
       "      <th>Lattitude</th>\n",
       "      <th>Longtitude</th>\n",
       "      <th>Regionname</th>\n",
       "      <th>Propertycount</th>\n",
       "      <th>Сoordinates</th>\n",
       "    </tr>\n",
       "  </thead>\n",
       "  <tbody>\n",
       "    <tr>\n",
       "      <th>80</th>\n",
       "      <td>80</td>\n",
       "      <td>Albert Park</td>\n",
       "      <td>112 Beaconsfield Pde</td>\n",
       "      <td>3</td>\n",
       "      <td>h</td>\n",
       "      <td>2850000.0</td>\n",
       "      <td>PI</td>\n",
       "      <td>Buxton</td>\n",
       "      <td>4/03/2017</td>\n",
       "      <td>3.3</td>\n",
       "      <td>...</td>\n",
       "      <td>0</td>\n",
       "      <td>211.0</td>\n",
       "      <td>198.0</td>\n",
       "      <td>1890</td>\n",
       "      <td>Port Phillip</td>\n",
       "      <td>-37.84810</td>\n",
       "      <td>144.94990</td>\n",
       "      <td>Southern Metropolitan</td>\n",
       "      <td>3280</td>\n",
       "      <td>-37.8481, 144.9499</td>\n",
       "    </tr>\n",
       "    <tr>\n",
       "      <th>85</th>\n",
       "      <td>85</td>\n",
       "      <td>Albert Park</td>\n",
       "      <td>104 Richardson St</td>\n",
       "      <td>4</td>\n",
       "      <td>h</td>\n",
       "      <td>2300000.0</td>\n",
       "      <td>S</td>\n",
       "      <td>Marshall</td>\n",
       "      <td>7/05/2016</td>\n",
       "      <td>3.3</td>\n",
       "      <td>...</td>\n",
       "      <td>1</td>\n",
       "      <td>153.0</td>\n",
       "      <td>180.0</td>\n",
       "      <td>1880</td>\n",
       "      <td>Port Phillip</td>\n",
       "      <td>-37.84470</td>\n",
       "      <td>144.95230</td>\n",
       "      <td>Southern Metropolitan</td>\n",
       "      <td>3280</td>\n",
       "      <td>-37.8447, 144.9523</td>\n",
       "    </tr>\n",
       "    <tr>\n",
       "      <th>88</th>\n",
       "      <td>88</td>\n",
       "      <td>Albert Park</td>\n",
       "      <td>29 Faussett St</td>\n",
       "      <td>2</td>\n",
       "      <td>h</td>\n",
       "      <td>2120000.0</td>\n",
       "      <td>S</td>\n",
       "      <td>Greg</td>\n",
       "      <td>10/09/2016</td>\n",
       "      <td>3.3</td>\n",
       "      <td>...</td>\n",
       "      <td>1</td>\n",
       "      <td>199.0</td>\n",
       "      <td>107.0</td>\n",
       "      <td>1900</td>\n",
       "      <td>Port Phillip</td>\n",
       "      <td>-37.84220</td>\n",
       "      <td>144.95540</td>\n",
       "      <td>Southern Metropolitan</td>\n",
       "      <td>3280</td>\n",
       "      <td>-37.8422, 144.9554</td>\n",
       "    </tr>\n",
       "    <tr>\n",
       "      <th>92</th>\n",
       "      <td>92</td>\n",
       "      <td>Albert Park</td>\n",
       "      <td>2 Dundas Pl</td>\n",
       "      <td>3</td>\n",
       "      <td>h</td>\n",
       "      <td>2615000.0</td>\n",
       "      <td>S</td>\n",
       "      <td>Cayzer</td>\n",
       "      <td>10/12/2016</td>\n",
       "      <td>3.3</td>\n",
       "      <td>...</td>\n",
       "      <td>1</td>\n",
       "      <td>177.0</td>\n",
       "      <td>181.0</td>\n",
       "      <td>1880</td>\n",
       "      <td>Port Phillip</td>\n",
       "      <td>-37.84150</td>\n",
       "      <td>144.95850</td>\n",
       "      <td>Southern Metropolitan</td>\n",
       "      <td>3280</td>\n",
       "      <td>-37.8415, 144.9585</td>\n",
       "    </tr>\n",
       "    <tr>\n",
       "      <th>93</th>\n",
       "      <td>93</td>\n",
       "      <td>Albert Park</td>\n",
       "      <td>23 Finlay St</td>\n",
       "      <td>5</td>\n",
       "      <td>h</td>\n",
       "      <td>2100000.0</td>\n",
       "      <td>S</td>\n",
       "      <td>Greg</td>\n",
       "      <td>10/12/2016</td>\n",
       "      <td>3.3</td>\n",
       "      <td>...</td>\n",
       "      <td>1</td>\n",
       "      <td>237.0</td>\n",
       "      <td>126.0</td>\n",
       "      <td>1970</td>\n",
       "      <td>Port Phillip</td>\n",
       "      <td>-37.84360</td>\n",
       "      <td>144.95570</td>\n",
       "      <td>Southern Metropolitan</td>\n",
       "      <td>3280</td>\n",
       "      <td>-37.8436, 144.9557</td>\n",
       "    </tr>\n",
       "    <tr>\n",
       "      <th>...</th>\n",
       "      <td>...</td>\n",
       "      <td>...</td>\n",
       "      <td>...</td>\n",
       "      <td>...</td>\n",
       "      <td>...</td>\n",
       "      <td>...</td>\n",
       "      <td>...</td>\n",
       "      <td>...</td>\n",
       "      <td>...</td>\n",
       "      <td>...</td>\n",
       "      <td>...</td>\n",
       "      <td>...</td>\n",
       "      <td>...</td>\n",
       "      <td>...</td>\n",
       "      <td>...</td>\n",
       "      <td>...</td>\n",
       "      <td>...</td>\n",
       "      <td>...</td>\n",
       "      <td>...</td>\n",
       "      <td>...</td>\n",
       "      <td>...</td>\n",
       "    </tr>\n",
       "    <tr>\n",
       "      <th>13521</th>\n",
       "      <td>13521</td>\n",
       "      <td>Port Melbourne</td>\n",
       "      <td>44 Garton St</td>\n",
       "      <td>4</td>\n",
       "      <td>t</td>\n",
       "      <td>2455000.0</td>\n",
       "      <td>SP</td>\n",
       "      <td>Marshall</td>\n",
       "      <td>26/08/2017</td>\n",
       "      <td>3.5</td>\n",
       "      <td>...</td>\n",
       "      <td>2</td>\n",
       "      <td>123.0</td>\n",
       "      <td>0.0</td>\n",
       "      <td>2010</td>\n",
       "      <td>NaN</td>\n",
       "      <td>-37.83349</td>\n",
       "      <td>144.94840</td>\n",
       "      <td>Southern Metropolitan</td>\n",
       "      <td>8648</td>\n",
       "      <td>-37.83349, 144.9484</td>\n",
       "    </tr>\n",
       "    <tr>\n",
       "      <th>13523</th>\n",
       "      <td>13523</td>\n",
       "      <td>Prahran</td>\n",
       "      <td>69 Greville St</td>\n",
       "      <td>4</td>\n",
       "      <td>h</td>\n",
       "      <td>2668000.0</td>\n",
       "      <td>S</td>\n",
       "      <td>Biggin</td>\n",
       "      <td>26/08/2017</td>\n",
       "      <td>4.6</td>\n",
       "      <td>...</td>\n",
       "      <td>2</td>\n",
       "      <td>383.0</td>\n",
       "      <td>126.0</td>\n",
       "      <td>1970</td>\n",
       "      <td>NaN</td>\n",
       "      <td>-37.84879</td>\n",
       "      <td>144.98882</td>\n",
       "      <td>Southern Metropolitan</td>\n",
       "      <td>7717</td>\n",
       "      <td>-37.84879, 144.98882</td>\n",
       "    </tr>\n",
       "    <tr>\n",
       "      <th>13553</th>\n",
       "      <td>13553</td>\n",
       "      <td>Surrey Hills</td>\n",
       "      <td>20 Albert Cr</td>\n",
       "      <td>4</td>\n",
       "      <td>h</td>\n",
       "      <td>2720000.0</td>\n",
       "      <td>S</td>\n",
       "      <td>Kay</td>\n",
       "      <td>26/08/2017</td>\n",
       "      <td>10.2</td>\n",
       "      <td>...</td>\n",
       "      <td>2</td>\n",
       "      <td>1005.0</td>\n",
       "      <td>126.0</td>\n",
       "      <td>1920</td>\n",
       "      <td>NaN</td>\n",
       "      <td>-37.82421</td>\n",
       "      <td>145.10352</td>\n",
       "      <td>Southern Metropolitan</td>\n",
       "      <td>5457</td>\n",
       "      <td>-37.82421, 145.10352</td>\n",
       "    </tr>\n",
       "    <tr>\n",
       "      <th>13555</th>\n",
       "      <td>13555</td>\n",
       "      <td>Surrey Hills</td>\n",
       "      <td>3 Oak St</td>\n",
       "      <td>4</td>\n",
       "      <td>h</td>\n",
       "      <td>3100000.0</td>\n",
       "      <td>VB</td>\n",
       "      <td>Marshall</td>\n",
       "      <td>26/08/2017</td>\n",
       "      <td>10.2</td>\n",
       "      <td>...</td>\n",
       "      <td>3</td>\n",
       "      <td>832.0</td>\n",
       "      <td>126.0</td>\n",
       "      <td>1970</td>\n",
       "      <td>NaN</td>\n",
       "      <td>-37.83564</td>\n",
       "      <td>145.10919</td>\n",
       "      <td>Southern Metropolitan</td>\n",
       "      <td>5457</td>\n",
       "      <td>-37.83564, 145.10919</td>\n",
       "    </tr>\n",
       "    <tr>\n",
       "      <th>13578</th>\n",
       "      <td>13578</td>\n",
       "      <td>Williamstown</td>\n",
       "      <td>96 Verdon St</td>\n",
       "      <td>4</td>\n",
       "      <td>h</td>\n",
       "      <td>2500000.0</td>\n",
       "      <td>PI</td>\n",
       "      <td>Sweeney</td>\n",
       "      <td>26/08/2017</td>\n",
       "      <td>6.8</td>\n",
       "      <td>...</td>\n",
       "      <td>5</td>\n",
       "      <td>866.0</td>\n",
       "      <td>157.0</td>\n",
       "      <td>1920</td>\n",
       "      <td>NaN</td>\n",
       "      <td>-37.85908</td>\n",
       "      <td>144.89299</td>\n",
       "      <td>Western Metropolitan</td>\n",
       "      <td>6380</td>\n",
       "      <td>-37.85908, 144.89299</td>\n",
       "    </tr>\n",
       "  </tbody>\n",
       "</table>\n",
       "<p>1007 rows × 23 columns</p>\n",
       "</div>"
      ],
      "text/plain": [
       "       index          Suburb               Address  Rooms Type      Price  \\\n",
       "80        80     Albert Park  112 Beaconsfield Pde      3    h  2850000.0   \n",
       "85        85     Albert Park     104 Richardson St      4    h  2300000.0   \n",
       "88        88     Albert Park        29 Faussett St      2    h  2120000.0   \n",
       "92        92     Albert Park           2 Dundas Pl      3    h  2615000.0   \n",
       "93        93     Albert Park          23 Finlay St      5    h  2100000.0   \n",
       "...      ...             ...                   ...    ...  ...        ...   \n",
       "13521  13521  Port Melbourne          44 Garton St      4    t  2455000.0   \n",
       "13523  13523         Prahran        69 Greville St      4    h  2668000.0   \n",
       "13553  13553    Surrey Hills          20 Albert Cr      4    h  2720000.0   \n",
       "13555  13555    Surrey Hills              3 Oak St      4    h  3100000.0   \n",
       "13578  13578    Williamstown          96 Verdon St      4    h  2500000.0   \n",
       "\n",
       "      Method   SellerG        Date  Distance  ...  Car  Landsize  \\\n",
       "80        PI    Buxton   4/03/2017       3.3  ...    0     211.0   \n",
       "85         S  Marshall   7/05/2016       3.3  ...    1     153.0   \n",
       "88         S      Greg  10/09/2016       3.3  ...    1     199.0   \n",
       "92         S    Cayzer  10/12/2016       3.3  ...    1     177.0   \n",
       "93         S      Greg  10/12/2016       3.3  ...    1     237.0   \n",
       "...      ...       ...         ...       ...  ...  ...       ...   \n",
       "13521     SP  Marshall  26/08/2017       3.5  ...    2     123.0   \n",
       "13523      S    Biggin  26/08/2017       4.6  ...    2     383.0   \n",
       "13553      S       Kay  26/08/2017      10.2  ...    2    1005.0   \n",
       "13555     VB  Marshall  26/08/2017      10.2  ...    3     832.0   \n",
       "13578     PI   Sweeney  26/08/2017       6.8  ...    5     866.0   \n",
       "\n",
       "       BuildingArea  YearBuilt   CouncilArea  Lattitude  Longtitude  \\\n",
       "80            198.0       1890  Port Phillip  -37.84810   144.94990   \n",
       "85            180.0       1880  Port Phillip  -37.84470   144.95230   \n",
       "88            107.0       1900  Port Phillip  -37.84220   144.95540   \n",
       "92            181.0       1880  Port Phillip  -37.84150   144.95850   \n",
       "93            126.0       1970  Port Phillip  -37.84360   144.95570   \n",
       "...             ...        ...           ...        ...         ...   \n",
       "13521           0.0       2010           NaN  -37.83349   144.94840   \n",
       "13523         126.0       1970           NaN  -37.84879   144.98882   \n",
       "13553         126.0       1920           NaN  -37.82421   145.10352   \n",
       "13555         126.0       1970           NaN  -37.83564   145.10919   \n",
       "13578         157.0       1920           NaN  -37.85908   144.89299   \n",
       "\n",
       "                  Regionname  Propertycount           Сoordinates  \n",
       "80     Southern Metropolitan           3280    -37.8481, 144.9499  \n",
       "85     Southern Metropolitan           3280    -37.8447, 144.9523  \n",
       "88     Southern Metropolitan           3280    -37.8422, 144.9554  \n",
       "92     Southern Metropolitan           3280    -37.8415, 144.9585  \n",
       "93     Southern Metropolitan           3280    -37.8436, 144.9557  \n",
       "...                      ...            ...                   ...  \n",
       "13521  Southern Metropolitan           8648   -37.83349, 144.9484  \n",
       "13523  Southern Metropolitan           7717  -37.84879, 144.98882  \n",
       "13553  Southern Metropolitan           5457  -37.82421, 145.10352  \n",
       "13555  Southern Metropolitan           5457  -37.83564, 145.10919  \n",
       "13578   Western Metropolitan           6380  -37.85908, 144.89299  \n",
       "\n",
       "[1007 rows x 23 columns]"
      ]
     },
     "execution_count": 98,
     "metadata": {},
     "output_type": "execute_result"
    }
   ],
   "source": [
    "melb_data[melb_data['Price'] > 2000000]"
   ]
  },
  {
   "cell_type": "markdown",
   "id": "1986d55e",
   "metadata": {},
   "source": [
    "Найдем число зданий с 3 комнатами. Для этого можно воспользоваться атрибутом shape, получить кортеж с размером отфильтрованной таблицы и достать из него только строки:\n"
   ]
  },
  {
   "cell_type": "code",
   "execution_count": 99,
   "id": "98b5ecbc",
   "metadata": {},
   "outputs": [
    {
     "data": {
      "text/plain": [
       "5881"
      ]
     },
     "execution_count": 99,
     "metadata": {},
     "output_type": "execute_result"
    }
   ],
   "source": [
    "melb_data[melb_data['Rooms'] == 3].shape[0]"
   ]
  },
  {
   "cell_type": "markdown",
   "id": "3753aff8",
   "metadata": {},
   "source": [
    "Условия можно и комбинировать, используя операторы & (логическое и) и | (логическое или). Условия при этом заключаются в скобки. \n",
    "Усложним прошлый пример и найдем число трехкомнатных домов с ценой менее 300 тысяч:\n"
   ]
  },
  {
   "cell_type": "code",
   "execution_count": 100,
   "id": "0abb5e86",
   "metadata": {},
   "outputs": [
    {
     "data": {
      "text/plain": [
       "3"
      ]
     },
     "execution_count": 100,
     "metadata": {},
     "output_type": "execute_result"
    }
   ],
   "source": [
    "melb_data[(melb_data['Rooms'] == 3) & (melb_data['Price'] < 300000)].shape[0]"
   ]
  },
  {
   "cell_type": "markdown",
   "id": "ea23979c",
   "metadata": {},
   "source": [
    "Таких зданий всего 3 штуки. Немного ослабим условие: теперь нас будут интересовать дома с ценой менее 300 тысяч, у которых либо число комнат равно 3, либо их площадь более 100 квадратных метров:\n"
   ]
  },
  {
   "cell_type": "code",
   "execution_count": 101,
   "id": "93a6226a",
   "metadata": {},
   "outputs": [
    {
     "data": {
      "text/plain": [
       "68"
      ]
     },
     "execution_count": 101,
     "metadata": {},
     "output_type": "execute_result"
    }
   ],
   "source": [
    "melb_data[((melb_data['Rooms'] == 3) | (melb_data['BuildingArea'] > 100)) & (melb_data['Price'] < 300000)].shape[0]"
   ]
  },
  {
   "cell_type": "markdown",
   "id": "1388a33d",
   "metadata": {},
   "source": [
    "Замечание:\n",
    "\tОбратите внимание, что использование привычных операторов and и or будет неверным, так как они выполняют логические операции между двумя булевыми числами. В нашем случае мы имеем массивы булевых чисел, между которыми логические операции нужно выполнить поэлементно.\n",
    "Фильтрацию часто сочетают с агрегирующими функциями. Давайте найдем максимальное количество комнат в таунхаусах. Так как в результате фильтрации получается DataFrame, то обратимся к нему по столбцу Rooms и найдем максимальное значение:\n"
   ]
  },
  {
   "cell_type": "code",
   "execution_count": 102,
   "id": "e82b0689",
   "metadata": {},
   "outputs": [
    {
     "data": {
      "text/plain": [
       "5"
      ]
     },
     "execution_count": 102,
     "metadata": {},
     "output_type": "execute_result"
    }
   ],
   "source": [
    "melb_data[melb_data['Type'] == 't']['Rooms'].max()"
   ]
  },
  {
   "cell_type": "markdown",
   "id": "141a0839",
   "metadata": {},
   "source": [
    "А теперь более сложный трюк: найдем медианную площадь здания у объектов, чья цена выше средней. Для того, чтобы оградить наш код от нагромождений предварительно создадим переменную со средней ценой.\n"
   ]
  },
  {
   "cell_type": "code",
   "execution_count": 103,
   "id": "db4ebf05",
   "metadata": {},
   "outputs": [
    {
     "data": {
      "text/plain": [
       "126.0"
      ]
     },
     "execution_count": 103,
     "metadata": {},
     "output_type": "execute_result"
    }
   ],
   "source": [
    "mean_price = melb_data['Price'].mean()\n",
    "melb_data[melb_data['Price'] > mean_price]['BuildingArea'].median()"
   ]
  },
  {
   "cell_type": "markdown",
   "id": "a637840c",
   "metadata": {},
   "source": [
    "Фильтрация находит свое применение в очистке данных. Под очисткой данных понимается удаление из данных аномальных значений (выбросов), пропусков и данных, которые не несут информацию. Причин появления таких дефектов в данных множество: неправильная передача по сети, неверная выгрузка из базы, человеческий фактор и т.д.\n",
    " \n",
    "Проблема аномальных значений состоит в том, что если мы обучаем модель на данных, содержащих выбросы, то мы имеем большой шанс получить менее верный прогноз с помощью этой модели, чего бы нам конечно же не хотелось бы.\n",
    "Мы будем подробнее говорить о том, как правильно исследовать данные на выбросы в модуле про очистку данных, а пока предлагаем закрепить ваши знания по фильтрации, выполнив следующие задания.\n"
   ]
  },
  {
   "cell_type": "markdown",
   "id": "88d606d4",
   "metadata": {},
   "source": [
    "2.8.1. Сколько объектов недвижимости в таблице melb_data, в которых отсутствуют ванные комнаты. (Bathroom)\n"
   ]
  },
  {
   "cell_type": "code",
   "execution_count": 104,
   "id": "5e15e030",
   "metadata": {},
   "outputs": [
    {
     "data": {
      "text/html": [
       "<div>\n",
       "<style scoped>\n",
       "    .dataframe tbody tr th:only-of-type {\n",
       "        vertical-align: middle;\n",
       "    }\n",
       "\n",
       "    .dataframe tbody tr th {\n",
       "        vertical-align: top;\n",
       "    }\n",
       "\n",
       "    .dataframe thead th {\n",
       "        text-align: right;\n",
       "    }\n",
       "</style>\n",
       "<table border=\"1\" class=\"dataframe\">\n",
       "  <thead>\n",
       "    <tr style=\"text-align: right;\">\n",
       "      <th></th>\n",
       "      <th>index</th>\n",
       "      <th>Suburb</th>\n",
       "      <th>Address</th>\n",
       "      <th>Rooms</th>\n",
       "      <th>Type</th>\n",
       "      <th>Price</th>\n",
       "      <th>Method</th>\n",
       "      <th>SellerG</th>\n",
       "      <th>Date</th>\n",
       "      <th>Distance</th>\n",
       "      <th>...</th>\n",
       "      <th>Car</th>\n",
       "      <th>Landsize</th>\n",
       "      <th>BuildingArea</th>\n",
       "      <th>YearBuilt</th>\n",
       "      <th>CouncilArea</th>\n",
       "      <th>Lattitude</th>\n",
       "      <th>Longtitude</th>\n",
       "      <th>Regionname</th>\n",
       "      <th>Propertycount</th>\n",
       "      <th>Сoordinates</th>\n",
       "    </tr>\n",
       "  </thead>\n",
       "  <tbody>\n",
       "    <tr>\n",
       "      <th>135</th>\n",
       "      <td>135</td>\n",
       "      <td>Alphington</td>\n",
       "      <td>7/7 Chandler Hwy</td>\n",
       "      <td>2</td>\n",
       "      <td>t</td>\n",
       "      <td>650000.0</td>\n",
       "      <td>SP</td>\n",
       "      <td>Brace</td>\n",
       "      <td>24/09/2016</td>\n",
       "      <td>6.4</td>\n",
       "      <td>...</td>\n",
       "      <td>0</td>\n",
       "      <td>0.0</td>\n",
       "      <td>126.0</td>\n",
       "      <td>1970</td>\n",
       "      <td>Yarra</td>\n",
       "      <td>-37.78480</td>\n",
       "      <td>145.02500</td>\n",
       "      <td>Northern Metropolitan</td>\n",
       "      <td>2211</td>\n",
       "      <td>-37.7848, 145.025</td>\n",
       "    </tr>\n",
       "    <tr>\n",
       "      <th>804</th>\n",
       "      <td>804</td>\n",
       "      <td>Bentleigh East</td>\n",
       "      <td>17a Edinburgh St</td>\n",
       "      <td>3</td>\n",
       "      <td>t</td>\n",
       "      <td>830000.0</td>\n",
       "      <td>PI</td>\n",
       "      <td>Buxton</td>\n",
       "      <td>4/06/2016</td>\n",
       "      <td>13.9</td>\n",
       "      <td>...</td>\n",
       "      <td>2</td>\n",
       "      <td>292.0</td>\n",
       "      <td>141.0</td>\n",
       "      <td>2012</td>\n",
       "      <td>Glen Eira</td>\n",
       "      <td>-37.91680</td>\n",
       "      <td>145.06900</td>\n",
       "      <td>Southern Metropolitan</td>\n",
       "      <td>10969</td>\n",
       "      <td>-37.9168, 145.069</td>\n",
       "    </tr>\n",
       "    <tr>\n",
       "      <th>827</th>\n",
       "      <td>827</td>\n",
       "      <td>Bentleigh East</td>\n",
       "      <td>7 Wallace St</td>\n",
       "      <td>3</td>\n",
       "      <td>h</td>\n",
       "      <td>1355000.0</td>\n",
       "      <td>S</td>\n",
       "      <td>Buxton</td>\n",
       "      <td>8/10/2016</td>\n",
       "      <td>13.9</td>\n",
       "      <td>...</td>\n",
       "      <td>2</td>\n",
       "      <td>818.0</td>\n",
       "      <td>126.0</td>\n",
       "      <td>1970</td>\n",
       "      <td>Glen Eira</td>\n",
       "      <td>-37.92410</td>\n",
       "      <td>145.05390</td>\n",
       "      <td>Southern Metropolitan</td>\n",
       "      <td>10969</td>\n",
       "      <td>-37.9241, 145.0539</td>\n",
       "    </tr>\n",
       "    <tr>\n",
       "      <th>913</th>\n",
       "      <td>913</td>\n",
       "      <td>Bentleigh East</td>\n",
       "      <td>579 Warrigal Rd</td>\n",
       "      <td>3</td>\n",
       "      <td>h</td>\n",
       "      <td>700000.0</td>\n",
       "      <td>S</td>\n",
       "      <td>Thomson</td>\n",
       "      <td>22/05/2016</td>\n",
       "      <td>13.9</td>\n",
       "      <td>...</td>\n",
       "      <td>0</td>\n",
       "      <td>456.0</td>\n",
       "      <td>126.0</td>\n",
       "      <td>1970</td>\n",
       "      <td>Glen Eira</td>\n",
       "      <td>-37.93140</td>\n",
       "      <td>145.08080</td>\n",
       "      <td>Southern Metropolitan</td>\n",
       "      <td>10969</td>\n",
       "      <td>-37.9314, 145.0808</td>\n",
       "    </tr>\n",
       "    <tr>\n",
       "      <th>2253</th>\n",
       "      <td>2253</td>\n",
       "      <td>Elsternwick</td>\n",
       "      <td>5/29 Nepean Hwy</td>\n",
       "      <td>2</td>\n",
       "      <td>u</td>\n",
       "      <td>410000.0</td>\n",
       "      <td>VB</td>\n",
       "      <td>Gary</td>\n",
       "      <td>28/05/2016</td>\n",
       "      <td>8.5</td>\n",
       "      <td>...</td>\n",
       "      <td>0</td>\n",
       "      <td>0.0</td>\n",
       "      <td>126.0</td>\n",
       "      <td>1970</td>\n",
       "      <td>Glen Eira</td>\n",
       "      <td>-37.88630</td>\n",
       "      <td>144.99960</td>\n",
       "      <td>Southern Metropolitan</td>\n",
       "      <td>4898</td>\n",
       "      <td>-37.8863, 144.9996</td>\n",
       "    </tr>\n",
       "    <tr>\n",
       "      <th>3360</th>\n",
       "      <td>3360</td>\n",
       "      <td>Ivanhoe</td>\n",
       "      <td>20 Locksley Rd</td>\n",
       "      <td>4</td>\n",
       "      <td>h</td>\n",
       "      <td>2400000.0</td>\n",
       "      <td>S</td>\n",
       "      <td>Jellis</td>\n",
       "      <td>4/06/2016</td>\n",
       "      <td>7.9</td>\n",
       "      <td>...</td>\n",
       "      <td>2</td>\n",
       "      <td>1252.0</td>\n",
       "      <td>201.0</td>\n",
       "      <td>1920</td>\n",
       "      <td>Banyule</td>\n",
       "      <td>-37.77270</td>\n",
       "      <td>145.04840</td>\n",
       "      <td>Eastern Metropolitan</td>\n",
       "      <td>5549</td>\n",
       "      <td>-37.7727, 145.0484</td>\n",
       "    </tr>\n",
       "    <tr>\n",
       "      <th>6170</th>\n",
       "      <td>6170</td>\n",
       "      <td>Surrey Hills</td>\n",
       "      <td>14 Scheele St</td>\n",
       "      <td>3</td>\n",
       "      <td>h</td>\n",
       "      <td>1560000.0</td>\n",
       "      <td>S</td>\n",
       "      <td>hockingstuart</td>\n",
       "      <td>24/09/2016</td>\n",
       "      <td>11.2</td>\n",
       "      <td>...</td>\n",
       "      <td>1</td>\n",
       "      <td>335.0</td>\n",
       "      <td>209.0</td>\n",
       "      <td>2013</td>\n",
       "      <td>Boroondara</td>\n",
       "      <td>-37.81650</td>\n",
       "      <td>145.09810</td>\n",
       "      <td>Southern Metropolitan</td>\n",
       "      <td>5457</td>\n",
       "      <td>-37.8165, 145.0981</td>\n",
       "    </tr>\n",
       "    <tr>\n",
       "      <th>6866</th>\n",
       "      <td>6866</td>\n",
       "      <td>East Melbourne</td>\n",
       "      <td>9/35 Powlett St</td>\n",
       "      <td>2</td>\n",
       "      <td>u</td>\n",
       "      <td>872000.0</td>\n",
       "      <td>S</td>\n",
       "      <td>Dingle</td>\n",
       "      <td>28/05/2016</td>\n",
       "      <td>1.5</td>\n",
       "      <td>...</td>\n",
       "      <td>0</td>\n",
       "      <td>0.0</td>\n",
       "      <td>126.0</td>\n",
       "      <td>1970</td>\n",
       "      <td>Melbourne</td>\n",
       "      <td>-37.81540</td>\n",
       "      <td>144.98510</td>\n",
       "      <td>Northern Metropolitan</td>\n",
       "      <td>3040</td>\n",
       "      <td>-37.8154, 144.9851</td>\n",
       "    </tr>\n",
       "    <tr>\n",
       "      <th>6893</th>\n",
       "      <td>6893</td>\n",
       "      <td>Fawkner</td>\n",
       "      <td>4 Lord St</td>\n",
       "      <td>3</td>\n",
       "      <td>h</td>\n",
       "      <td>585000.0</td>\n",
       "      <td>S</td>\n",
       "      <td>hockingstuart</td>\n",
       "      <td>6/08/2016</td>\n",
       "      <td>12.4</td>\n",
       "      <td>...</td>\n",
       "      <td>1</td>\n",
       "      <td>605.0</td>\n",
       "      <td>103.0</td>\n",
       "      <td>1960</td>\n",
       "      <td>Moreland</td>\n",
       "      <td>-37.69850</td>\n",
       "      <td>144.96150</td>\n",
       "      <td>Northern Metropolitan</td>\n",
       "      <td>5070</td>\n",
       "      <td>-37.6985, 144.9615</td>\n",
       "    </tr>\n",
       "    <tr>\n",
       "      <th>7385</th>\n",
       "      <td>7385</td>\n",
       "      <td>South Kingsville</td>\n",
       "      <td>55 Saltley St</td>\n",
       "      <td>3</td>\n",
       "      <td>h</td>\n",
       "      <td>1030000.0</td>\n",
       "      <td>SP</td>\n",
       "      <td>Barlow</td>\n",
       "      <td>22/05/2016</td>\n",
       "      <td>9.1</td>\n",
       "      <td>...</td>\n",
       "      <td>1</td>\n",
       "      <td>224.0</td>\n",
       "      <td>126.0</td>\n",
       "      <td>1970</td>\n",
       "      <td>Hobsons Bay</td>\n",
       "      <td>-37.82980</td>\n",
       "      <td>144.86790</td>\n",
       "      <td>Western Metropolitan</td>\n",
       "      <td>984</td>\n",
       "      <td>-37.8298, 144.8679</td>\n",
       "    </tr>\n",
       "    <tr>\n",
       "      <th>7494</th>\n",
       "      <td>7494</td>\n",
       "      <td>Balwyn North</td>\n",
       "      <td>215 Doncaster Rd</td>\n",
       "      <td>3</td>\n",
       "      <td>h</td>\n",
       "      <td>1670000.0</td>\n",
       "      <td>S</td>\n",
       "      <td>hockingstuart</td>\n",
       "      <td>29/04/2017</td>\n",
       "      <td>9.2</td>\n",
       "      <td>...</td>\n",
       "      <td>0</td>\n",
       "      <td>818.0</td>\n",
       "      <td>126.0</td>\n",
       "      <td>1970</td>\n",
       "      <td>Boroondara</td>\n",
       "      <td>-37.79390</td>\n",
       "      <td>145.08660</td>\n",
       "      <td>Southern Metropolitan</td>\n",
       "      <td>7809</td>\n",
       "      <td>-37.7939, 145.0866</td>\n",
       "    </tr>\n",
       "    <tr>\n",
       "      <th>8301</th>\n",
       "      <td>8301</td>\n",
       "      <td>Reservoir</td>\n",
       "      <td>96b Cheddar Rd</td>\n",
       "      <td>4</td>\n",
       "      <td>h</td>\n",
       "      <td>678500.0</td>\n",
       "      <td>S</td>\n",
       "      <td>hockingstuart</td>\n",
       "      <td>13/05/2017</td>\n",
       "      <td>11.2</td>\n",
       "      <td>...</td>\n",
       "      <td>2</td>\n",
       "      <td>606.0</td>\n",
       "      <td>126.0</td>\n",
       "      <td>1970</td>\n",
       "      <td>Darebin</td>\n",
       "      <td>-37.69870</td>\n",
       "      <td>145.02030</td>\n",
       "      <td>Northern Metropolitan</td>\n",
       "      <td>21650</td>\n",
       "      <td>-37.6987, 145.0203</td>\n",
       "    </tr>\n",
       "    <tr>\n",
       "      <th>8998</th>\n",
       "      <td>8998</td>\n",
       "      <td>Airport West</td>\n",
       "      <td>8 Kittyhawk St</td>\n",
       "      <td>4</td>\n",
       "      <td>h</td>\n",
       "      <td>1026000.0</td>\n",
       "      <td>S</td>\n",
       "      <td>Brad</td>\n",
       "      <td>3/06/2017</td>\n",
       "      <td>10.4</td>\n",
       "      <td>...</td>\n",
       "      <td>2</td>\n",
       "      <td>534.0</td>\n",
       "      <td>126.0</td>\n",
       "      <td>1970</td>\n",
       "      <td>Moonee Valley</td>\n",
       "      <td>-37.72623</td>\n",
       "      <td>144.86773</td>\n",
       "      <td>Western Metropolitan</td>\n",
       "      <td>3464</td>\n",
       "      <td>-37.72623, 144.86773</td>\n",
       "    </tr>\n",
       "    <tr>\n",
       "      <th>9330</th>\n",
       "      <td>9330</td>\n",
       "      <td>South Yarra</td>\n",
       "      <td>7/215 Williams Rd</td>\n",
       "      <td>2</td>\n",
       "      <td>u</td>\n",
       "      <td>535000.0</td>\n",
       "      <td>SP</td>\n",
       "      <td>Gary</td>\n",
       "      <td>3/06/2017</td>\n",
       "      <td>2.7</td>\n",
       "      <td>...</td>\n",
       "      <td>1</td>\n",
       "      <td>0.0</td>\n",
       "      <td>63.0</td>\n",
       "      <td>1970</td>\n",
       "      <td>Stonnington</td>\n",
       "      <td>-37.84468</td>\n",
       "      <td>145.00368</td>\n",
       "      <td>Southern Metropolitan</td>\n",
       "      <td>14887</td>\n",
       "      <td>-37.84468, 145.00368</td>\n",
       "    </tr>\n",
       "    <tr>\n",
       "      <th>9917</th>\n",
       "      <td>9917</td>\n",
       "      <td>Hawthorn</td>\n",
       "      <td>1/30 Lisson Gr</td>\n",
       "      <td>2</td>\n",
       "      <td>h</td>\n",
       "      <td>1480000.0</td>\n",
       "      <td>S</td>\n",
       "      <td>Marshall</td>\n",
       "      <td>24/06/2017</td>\n",
       "      <td>5.3</td>\n",
       "      <td>...</td>\n",
       "      <td>0</td>\n",
       "      <td>241.0</td>\n",
       "      <td>126.0</td>\n",
       "      <td>1970</td>\n",
       "      <td>Boroondara</td>\n",
       "      <td>-37.82679</td>\n",
       "      <td>145.03021</td>\n",
       "      <td>Southern Metropolitan</td>\n",
       "      <td>11308</td>\n",
       "      <td>-37.82679, 145.03021</td>\n",
       "    </tr>\n",
       "    <tr>\n",
       "      <th>11204</th>\n",
       "      <td>11204</td>\n",
       "      <td>St Albans</td>\n",
       "      <td>148 Power St</td>\n",
       "      <td>3</td>\n",
       "      <td>h</td>\n",
       "      <td>702000.0</td>\n",
       "      <td>SP</td>\n",
       "      <td>Sweeney</td>\n",
       "      <td>12/08/2017</td>\n",
       "      <td>14.0</td>\n",
       "      <td>...</td>\n",
       "      <td>0</td>\n",
       "      <td>600.0</td>\n",
       "      <td>126.0</td>\n",
       "      <td>1970</td>\n",
       "      <td>Brimbank</td>\n",
       "      <td>-37.72945</td>\n",
       "      <td>144.79592</td>\n",
       "      <td>Western Metropolitan</td>\n",
       "      <td>14042</td>\n",
       "      <td>-37.72945, 144.79592</td>\n",
       "    </tr>\n",
       "  </tbody>\n",
       "</table>\n",
       "<p>16 rows × 23 columns</p>\n",
       "</div>"
      ],
      "text/plain": [
       "       index            Suburb            Address  Rooms Type      Price  \\\n",
       "135      135        Alphington   7/7 Chandler Hwy      2    t   650000.0   \n",
       "804      804    Bentleigh East   17a Edinburgh St      3    t   830000.0   \n",
       "827      827    Bentleigh East       7 Wallace St      3    h  1355000.0   \n",
       "913      913    Bentleigh East    579 Warrigal Rd      3    h   700000.0   \n",
       "2253    2253       Elsternwick    5/29 Nepean Hwy      2    u   410000.0   \n",
       "3360    3360           Ivanhoe     20 Locksley Rd      4    h  2400000.0   \n",
       "6170    6170      Surrey Hills      14 Scheele St      3    h  1560000.0   \n",
       "6866    6866    East Melbourne    9/35 Powlett St      2    u   872000.0   \n",
       "6893    6893           Fawkner          4 Lord St      3    h   585000.0   \n",
       "7385    7385  South Kingsville      55 Saltley St      3    h  1030000.0   \n",
       "7494    7494      Balwyn North   215 Doncaster Rd      3    h  1670000.0   \n",
       "8301    8301         Reservoir     96b Cheddar Rd      4    h   678500.0   \n",
       "8998    8998      Airport West     8 Kittyhawk St      4    h  1026000.0   \n",
       "9330    9330       South Yarra  7/215 Williams Rd      2    u   535000.0   \n",
       "9917    9917          Hawthorn     1/30 Lisson Gr      2    h  1480000.0   \n",
       "11204  11204         St Albans       148 Power St      3    h   702000.0   \n",
       "\n",
       "      Method        SellerG        Date  Distance  ...  Car  Landsize  \\\n",
       "135       SP          Brace  24/09/2016       6.4  ...    0       0.0   \n",
       "804       PI         Buxton   4/06/2016      13.9  ...    2     292.0   \n",
       "827        S         Buxton   8/10/2016      13.9  ...    2     818.0   \n",
       "913        S        Thomson  22/05/2016      13.9  ...    0     456.0   \n",
       "2253      VB           Gary  28/05/2016       8.5  ...    0       0.0   \n",
       "3360       S         Jellis   4/06/2016       7.9  ...    2    1252.0   \n",
       "6170       S  hockingstuart  24/09/2016      11.2  ...    1     335.0   \n",
       "6866       S         Dingle  28/05/2016       1.5  ...    0       0.0   \n",
       "6893       S  hockingstuart   6/08/2016      12.4  ...    1     605.0   \n",
       "7385      SP         Barlow  22/05/2016       9.1  ...    1     224.0   \n",
       "7494       S  hockingstuart  29/04/2017       9.2  ...    0     818.0   \n",
       "8301       S  hockingstuart  13/05/2017      11.2  ...    2     606.0   \n",
       "8998       S           Brad   3/06/2017      10.4  ...    2     534.0   \n",
       "9330      SP           Gary   3/06/2017       2.7  ...    1       0.0   \n",
       "9917       S       Marshall  24/06/2017       5.3  ...    0     241.0   \n",
       "11204     SP        Sweeney  12/08/2017      14.0  ...    0     600.0   \n",
       "\n",
       "       BuildingArea  YearBuilt    CouncilArea  Lattitude  Longtitude  \\\n",
       "135           126.0       1970          Yarra  -37.78480   145.02500   \n",
       "804           141.0       2012      Glen Eira  -37.91680   145.06900   \n",
       "827           126.0       1970      Glen Eira  -37.92410   145.05390   \n",
       "913           126.0       1970      Glen Eira  -37.93140   145.08080   \n",
       "2253          126.0       1970      Glen Eira  -37.88630   144.99960   \n",
       "3360          201.0       1920        Banyule  -37.77270   145.04840   \n",
       "6170          209.0       2013     Boroondara  -37.81650   145.09810   \n",
       "6866          126.0       1970      Melbourne  -37.81540   144.98510   \n",
       "6893          103.0       1960       Moreland  -37.69850   144.96150   \n",
       "7385          126.0       1970    Hobsons Bay  -37.82980   144.86790   \n",
       "7494          126.0       1970     Boroondara  -37.79390   145.08660   \n",
       "8301          126.0       1970        Darebin  -37.69870   145.02030   \n",
       "8998          126.0       1970  Moonee Valley  -37.72623   144.86773   \n",
       "9330           63.0       1970    Stonnington  -37.84468   145.00368   \n",
       "9917          126.0       1970     Boroondara  -37.82679   145.03021   \n",
       "11204         126.0       1970       Brimbank  -37.72945   144.79592   \n",
       "\n",
       "                  Regionname  Propertycount           Сoordinates  \n",
       "135    Northern Metropolitan           2211     -37.7848, 145.025  \n",
       "804    Southern Metropolitan          10969     -37.9168, 145.069  \n",
       "827    Southern Metropolitan          10969    -37.9241, 145.0539  \n",
       "913    Southern Metropolitan          10969    -37.9314, 145.0808  \n",
       "2253   Southern Metropolitan           4898    -37.8863, 144.9996  \n",
       "3360    Eastern Metropolitan           5549    -37.7727, 145.0484  \n",
       "6170   Southern Metropolitan           5457    -37.8165, 145.0981  \n",
       "6866   Northern Metropolitan           3040    -37.8154, 144.9851  \n",
       "6893   Northern Metropolitan           5070    -37.6985, 144.9615  \n",
       "7385    Western Metropolitan            984    -37.8298, 144.8679  \n",
       "7494   Southern Metropolitan           7809    -37.7939, 145.0866  \n",
       "8301   Northern Metropolitan          21650    -37.6987, 145.0203  \n",
       "8998    Western Metropolitan           3464  -37.72623, 144.86773  \n",
       "9330   Southern Metropolitan          14887  -37.84468, 145.00368  \n",
       "9917   Southern Metropolitan          11308  -37.82679, 145.03021  \n",
       "11204   Western Metropolitan          14042  -37.72945, 144.79592  \n",
       "\n",
       "[16 rows x 23 columns]"
      ]
     },
     "execution_count": 104,
     "metadata": {},
     "output_type": "execute_result"
    }
   ],
   "source": [
    "mask = melb_data['Bathroom'] == 0\n",
    "melb_data[mask]"
   ]
  },
  {
   "cell_type": "code",
   "execution_count": 105,
   "id": "7aa7faeb",
   "metadata": {},
   "outputs": [
    {
     "data": {
      "text/plain": [
       "16"
      ]
     },
     "execution_count": 105,
     "metadata": {},
     "output_type": "execute_result"
    }
   ],
   "source": [
    "melb_data[mask].shape[0]"
   ]
  },
  {
   "cell_type": "code",
   "execution_count": 106,
   "id": "dc6a8785",
   "metadata": {},
   "outputs": [
    {
     "data": {
      "text/plain": [
       "23"
      ]
     },
     "execution_count": 106,
     "metadata": {},
     "output_type": "execute_result"
    }
   ],
   "source": [
    "melb_data[mask].shape[1]"
   ]
  },
  {
   "cell_type": "code",
   "execution_count": 107,
   "id": "511a73a2",
   "metadata": {},
   "outputs": [
    {
     "data": {
      "text/plain": [
       "16"
      ]
     },
     "execution_count": 107,
     "metadata": {},
     "output_type": "execute_result"
    }
   ],
   "source": [
    "melb_data[melb_data['Bathroom'] == 0].shape[0]"
   ]
  },
  {
   "cell_type": "markdown",
   "id": "9afb0dcd",
   "metadata": {},
   "source": [
    "Сколько объектов недвижимости в таблице melb_data, которые были проданы риелтором Nelson и их стоимость составила больше 3 миллионов  (SellerG, Price)"
   ]
  },
  {
   "cell_type": "code",
   "execution_count": 108,
   "id": "799bcb38",
   "metadata": {},
   "outputs": [],
   "source": [
    "mask=(melb_data['SellerG'] == 'Nelson') & (melb_data['Price']>3000000)"
   ]
  },
  {
   "cell_type": "code",
   "execution_count": 109,
   "id": "8376326a",
   "metadata": {},
   "outputs": [
    {
     "data": {
      "text/html": [
       "<div>\n",
       "<style scoped>\n",
       "    .dataframe tbody tr th:only-of-type {\n",
       "        vertical-align: middle;\n",
       "    }\n",
       "\n",
       "    .dataframe tbody tr th {\n",
       "        vertical-align: top;\n",
       "    }\n",
       "\n",
       "    .dataframe thead th {\n",
       "        text-align: right;\n",
       "    }\n",
       "</style>\n",
       "<table border=\"1\" class=\"dataframe\">\n",
       "  <thead>\n",
       "    <tr style=\"text-align: right;\">\n",
       "      <th></th>\n",
       "      <th>index</th>\n",
       "      <th>Suburb</th>\n",
       "      <th>Address</th>\n",
       "      <th>Rooms</th>\n",
       "      <th>Type</th>\n",
       "      <th>Price</th>\n",
       "      <th>Method</th>\n",
       "      <th>SellerG</th>\n",
       "      <th>Date</th>\n",
       "      <th>Distance</th>\n",
       "      <th>...</th>\n",
       "      <th>Car</th>\n",
       "      <th>Landsize</th>\n",
       "      <th>BuildingArea</th>\n",
       "      <th>YearBuilt</th>\n",
       "      <th>CouncilArea</th>\n",
       "      <th>Lattitude</th>\n",
       "      <th>Longtitude</th>\n",
       "      <th>Regionname</th>\n",
       "      <th>Propertycount</th>\n",
       "      <th>Сoordinates</th>\n",
       "    </tr>\n",
       "  </thead>\n",
       "  <tbody>\n",
       "    <tr>\n",
       "      <th>2553</th>\n",
       "      <td>2553</td>\n",
       "      <td>Fitzroy</td>\n",
       "      <td>17 Bell St</td>\n",
       "      <td>4</td>\n",
       "      <td>h</td>\n",
       "      <td>4011000.0</td>\n",
       "      <td>S</td>\n",
       "      <td>Nelson</td>\n",
       "      <td>27/11/2016</td>\n",
       "      <td>1.6</td>\n",
       "      <td>...</td>\n",
       "      <td>2</td>\n",
       "      <td>286.0</td>\n",
       "      <td>275.0</td>\n",
       "      <td>1890</td>\n",
       "      <td>Yarra</td>\n",
       "      <td>-37.79990</td>\n",
       "      <td>144.97550</td>\n",
       "      <td>Northern Metropolitan</td>\n",
       "      <td>5825</td>\n",
       "      <td>-37.7999, 144.9755</td>\n",
       "    </tr>\n",
       "    <tr>\n",
       "      <th>2579</th>\n",
       "      <td>2579</td>\n",
       "      <td>Fitzroy North</td>\n",
       "      <td>79 Delbridge St</td>\n",
       "      <td>4</td>\n",
       "      <td>h</td>\n",
       "      <td>3400000.0</td>\n",
       "      <td>S</td>\n",
       "      <td>Nelson</td>\n",
       "      <td>14/05/2016</td>\n",
       "      <td>3.5</td>\n",
       "      <td>...</td>\n",
       "      <td>1</td>\n",
       "      <td>445.0</td>\n",
       "      <td>175.0</td>\n",
       "      <td>1890</td>\n",
       "      <td>Yarra</td>\n",
       "      <td>-37.78600</td>\n",
       "      <td>144.98640</td>\n",
       "      <td>Northern Metropolitan</td>\n",
       "      <td>6244</td>\n",
       "      <td>-37.786, 144.9864</td>\n",
       "    </tr>\n",
       "    <tr>\n",
       "      <th>6734</th>\n",
       "      <td>6734</td>\n",
       "      <td>Aberfeldie</td>\n",
       "      <td>126 The Boulevard</td>\n",
       "      <td>4</td>\n",
       "      <td>h</td>\n",
       "      <td>3900000.0</td>\n",
       "      <td>S</td>\n",
       "      <td>Nelson</td>\n",
       "      <td>10/12/2016</td>\n",
       "      <td>9.1</td>\n",
       "      <td>...</td>\n",
       "      <td>4</td>\n",
       "      <td>670.0</td>\n",
       "      <td>375.0</td>\n",
       "      <td>2010</td>\n",
       "      <td>Moonee Valley</td>\n",
       "      <td>-37.76370</td>\n",
       "      <td>144.89310</td>\n",
       "      <td>Western Metropolitan</td>\n",
       "      <td>1543</td>\n",
       "      <td>-37.7637, 144.8931</td>\n",
       "    </tr>\n",
       "    <tr>\n",
       "      <th>7695</th>\n",
       "      <td>7695</td>\n",
       "      <td>Carlton North</td>\n",
       "      <td>235 Amess St</td>\n",
       "      <td>4</td>\n",
       "      <td>h</td>\n",
       "      <td>3450000.0</td>\n",
       "      <td>S</td>\n",
       "      <td>Nelson</td>\n",
       "      <td>13/05/2017</td>\n",
       "      <td>3.2</td>\n",
       "      <td>...</td>\n",
       "      <td>1</td>\n",
       "      <td>515.0</td>\n",
       "      <td>203.0</td>\n",
       "      <td>1905</td>\n",
       "      <td>Yarra</td>\n",
       "      <td>-37.78170</td>\n",
       "      <td>144.97420</td>\n",
       "      <td>Northern Metropolitan</td>\n",
       "      <td>3106</td>\n",
       "      <td>-37.7817, 144.9742</td>\n",
       "    </tr>\n",
       "    <tr>\n",
       "      <th>11023</th>\n",
       "      <td>11023</td>\n",
       "      <td>Fitzroy</td>\n",
       "      <td>122 Nicholson St</td>\n",
       "      <td>4</td>\n",
       "      <td>h</td>\n",
       "      <td>3200000.0</td>\n",
       "      <td>VB</td>\n",
       "      <td>Nelson</td>\n",
       "      <td>12/08/2017</td>\n",
       "      <td>2.1</td>\n",
       "      <td>...</td>\n",
       "      <td>0</td>\n",
       "      <td>225.0</td>\n",
       "      <td>126.0</td>\n",
       "      <td>1862</td>\n",
       "      <td>Yarra</td>\n",
       "      <td>-37.80209</td>\n",
       "      <td>144.97443</td>\n",
       "      <td>Northern Metropolitan</td>\n",
       "      <td>5825</td>\n",
       "      <td>-37.80209, 144.97443</td>\n",
       "    </tr>\n",
       "  </tbody>\n",
       "</table>\n",
       "<p>5 rows × 23 columns</p>\n",
       "</div>"
      ],
      "text/plain": [
       "       index         Suburb            Address  Rooms Type      Price Method  \\\n",
       "2553    2553        Fitzroy         17 Bell St      4    h  4011000.0      S   \n",
       "2579    2579  Fitzroy North    79 Delbridge St      4    h  3400000.0      S   \n",
       "6734    6734     Aberfeldie  126 The Boulevard      4    h  3900000.0      S   \n",
       "7695    7695  Carlton North       235 Amess St      4    h  3450000.0      S   \n",
       "11023  11023        Fitzroy   122 Nicholson St      4    h  3200000.0     VB   \n",
       "\n",
       "      SellerG        Date  Distance  ...  Car  Landsize  BuildingArea  \\\n",
       "2553   Nelson  27/11/2016       1.6  ...    2     286.0         275.0   \n",
       "2579   Nelson  14/05/2016       3.5  ...    1     445.0         175.0   \n",
       "6734   Nelson  10/12/2016       9.1  ...    4     670.0         375.0   \n",
       "7695   Nelson  13/05/2017       3.2  ...    1     515.0         203.0   \n",
       "11023  Nelson  12/08/2017       2.1  ...    0     225.0         126.0   \n",
       "\n",
       "       YearBuilt    CouncilArea  Lattitude  Longtitude             Regionname  \\\n",
       "2553        1890          Yarra  -37.79990   144.97550  Northern Metropolitan   \n",
       "2579        1890          Yarra  -37.78600   144.98640  Northern Metropolitan   \n",
       "6734        2010  Moonee Valley  -37.76370   144.89310   Western Metropolitan   \n",
       "7695        1905          Yarra  -37.78170   144.97420  Northern Metropolitan   \n",
       "11023       1862          Yarra  -37.80209   144.97443  Northern Metropolitan   \n",
       "\n",
       "       Propertycount           Сoordinates  \n",
       "2553            5825    -37.7999, 144.9755  \n",
       "2579            6244     -37.786, 144.9864  \n",
       "6734            1543    -37.7637, 144.8931  \n",
       "7695            3106    -37.7817, 144.9742  \n",
       "11023           5825  -37.80209, 144.97443  \n",
       "\n",
       "[5 rows x 23 columns]"
      ]
     },
     "execution_count": 109,
     "metadata": {},
     "output_type": "execute_result"
    }
   ],
   "source": [
    "melb_data[mask]"
   ]
  },
  {
   "cell_type": "markdown",
   "id": "0c15c259",
   "metadata": {},
   "source": [
    "2.8.3. Какова минимальная цена участка без здания (площадь здания равна 0) в таблице melb_data? Ответ запишите целым числом. BuildingArea"
   ]
  },
  {
   "cell_type": "code",
   "execution_count": 110,
   "id": "ca53054b",
   "metadata": {},
   "outputs": [
    {
     "data": {
      "text/plain": [
       "412500.0"
      ]
     },
     "execution_count": 110,
     "metadata": {},
     "output_type": "execute_result"
    }
   ],
   "source": [
    "mask=(melb_data['BuildingArea'] ==0)\n",
    "melb_data[mask]['Price'].min()"
   ]
  },
  {
   "cell_type": "code",
   "execution_count": 111,
   "id": "2a8a5e0f",
   "metadata": {},
   "outputs": [
    {
     "data": {
      "text/plain": [
       "412500.0"
      ]
     },
     "execution_count": 111,
     "metadata": {},
     "output_type": "execute_result"
    }
   ],
   "source": [
    "melb_data[(melb_data['BuildingArea'] == 0)]['Price'].min()"
   ]
  },
  {
   "cell_type": "markdown",
   "id": "769006a2",
   "metadata": {},
   "source": [
    "2.8.4. Какова средняя цена объектов недвижимости в таблице melb_data с ценой менее 1 миллиона, в которых либо количество комнат больше 5, либо здание моложе 2015 года. Ответ округлите до целых. YearBuilt Rooms"
   ]
  },
  {
   "cell_type": "code",
   "execution_count": 112,
   "id": "ac123fad",
   "metadata": {},
   "outputs": [
    {
     "data": {
      "text/plain": [
       "769239"
      ]
     },
     "execution_count": 112,
     "metadata": {},
     "output_type": "execute_result"
    }
   ],
   "source": [
    "mask=(melb_data['Price'] <1000000)&((melb_data['Rooms']>5) | (melb_data['YearBuilt']>2015))\n",
    "round(melb_data[mask][\"Price\"].mean())"
   ]
  },
  {
   "cell_type": "code",
   "execution_count": 113,
   "id": "e41d86e1",
   "metadata": {},
   "outputs": [
    {
     "data": {
      "text/plain": [
       "769238.6363636364"
      ]
     },
     "execution_count": 113,
     "metadata": {},
     "output_type": "execute_result"
    }
   ],
   "source": [
    "melb_data[(melb_data['Price']<1e6) & ((melb_data['Rooms']>5) | (melb_data['YearBuilt'] > 2015))]['Price'].mean()"
   ]
  },
  {
   "cell_type": "markdown",
   "id": "66af60e9",
   "metadata": {},
   "source": [
    "2.8.5. В каком пригороде Мельбурна чаще всего продаются виллы и коттеджи (тип здания h)  с ценой меньше 3 млн?"
   ]
  },
  {
   "cell_type": "code",
   "execution_count": 114,
   "id": "3e2db7d6",
   "metadata": {},
   "outputs": [
    {
     "data": {
      "text/plain": [
       "0    Northern Metropolitan\n",
       "dtype: object"
      ]
     },
     "execution_count": 114,
     "metadata": {},
     "output_type": "execute_result"
    }
   ],
   "source": [
    "mask=(melb_data['Price'] <3000000)&(melb_data['Type']=='h')\n",
    "melb_data[mask]['Regionname'].mode()"
   ]
  },
  {
   "cell_type": "code",
   "execution_count": 115,
   "id": "0256c9b9",
   "metadata": {},
   "outputs": [
    {
     "data": {
      "text/html": [
       "<div>\n",
       "<style scoped>\n",
       "    .dataframe tbody tr th:only-of-type {\n",
       "        vertical-align: middle;\n",
       "    }\n",
       "\n",
       "    .dataframe tbody tr th {\n",
       "        vertical-align: top;\n",
       "    }\n",
       "\n",
       "    .dataframe thead th {\n",
       "        text-align: right;\n",
       "    }\n",
       "</style>\n",
       "<table border=\"1\" class=\"dataframe\">\n",
       "  <thead>\n",
       "    <tr style=\"text-align: right;\">\n",
       "      <th></th>\n",
       "      <th>gender</th>\n",
       "      <th>race/ethnicity</th>\n",
       "      <th>parental level of education</th>\n",
       "      <th>lunch</th>\n",
       "      <th>test preparation course</th>\n",
       "      <th>math score</th>\n",
       "      <th>reading score</th>\n",
       "      <th>writing score</th>\n",
       "    </tr>\n",
       "  </thead>\n",
       "  <tbody>\n",
       "    <tr>\n",
       "      <th>0</th>\n",
       "      <td>female</td>\n",
       "      <td>group B</td>\n",
       "      <td>bachelor's degree</td>\n",
       "      <td>standard</td>\n",
       "      <td>none</td>\n",
       "      <td>72</td>\n",
       "      <td>72</td>\n",
       "      <td>74</td>\n",
       "    </tr>\n",
       "    <tr>\n",
       "      <th>1</th>\n",
       "      <td>female</td>\n",
       "      <td>group C</td>\n",
       "      <td>some college</td>\n",
       "      <td>standard</td>\n",
       "      <td>completed</td>\n",
       "      <td>69</td>\n",
       "      <td>90</td>\n",
       "      <td>88</td>\n",
       "    </tr>\n",
       "    <tr>\n",
       "      <th>2</th>\n",
       "      <td>female</td>\n",
       "      <td>group B</td>\n",
       "      <td>master's degree</td>\n",
       "      <td>standard</td>\n",
       "      <td>none</td>\n",
       "      <td>90</td>\n",
       "      <td>95</td>\n",
       "      <td>93</td>\n",
       "    </tr>\n",
       "    <tr>\n",
       "      <th>3</th>\n",
       "      <td>male</td>\n",
       "      <td>group A</td>\n",
       "      <td>associate's degree</td>\n",
       "      <td>free/reduced</td>\n",
       "      <td>none</td>\n",
       "      <td>47</td>\n",
       "      <td>57</td>\n",
       "      <td>44</td>\n",
       "    </tr>\n",
       "    <tr>\n",
       "      <th>4</th>\n",
       "      <td>male</td>\n",
       "      <td>group C</td>\n",
       "      <td>some college</td>\n",
       "      <td>standard</td>\n",
       "      <td>none</td>\n",
       "      <td>76</td>\n",
       "      <td>78</td>\n",
       "      <td>75</td>\n",
       "    </tr>\n",
       "  </tbody>\n",
       "</table>\n",
       "</div>"
      ],
      "text/plain": [
       "   gender race/ethnicity parental level of education         lunch  \\\n",
       "0  female        group B           bachelor's degree      standard   \n",
       "1  female        group C                some college      standard   \n",
       "2  female        group B             master's degree      standard   \n",
       "3    male        group A          associate's degree  free/reduced   \n",
       "4    male        group C                some college      standard   \n",
       "\n",
       "  test preparation course  math score  reading score  writing score  \n",
       "0                    none          72             72             74  \n",
       "1               completed          69             90             88  \n",
       "2                    none          90             95             93  \n",
       "3                    none          47             57             44  \n",
       "4                    none          76             78             75  "
      ]
     },
     "execution_count": 115,
     "metadata": {},
     "output_type": "execute_result"
    }
   ],
   "source": [
    "student_data = pd.read_csv('data/students_performance.csv')\n",
    "student_data.head()"
   ]
  },
  {
   "cell_type": "markdown",
   "id": "cf2acf75",
   "metadata": {},
   "source": [
    "gender - пол \n",
    "\n",
    "race/ethnicity - раса/этническая принадлежность\n",
    "\n",
    "parental level of education - уровень образования родителей\n",
    "\n",
    "lunch - какой обед получал человек во время обучения (standard - платный, free/reduced - бесплатный)\n",
    "\n",
    "test preparation course - посещал ли студент дополнительные курсы (none - не посещал, completed - посещал)\n",
    "\n",
    "math score, reading score writing score - баллы по математике, чтению и правописанию  в 100 балльной системе"
   ]
  },
  {
   "cell_type": "code",
   "execution_count": 116,
   "id": "5e04d8db",
   "metadata": {},
   "outputs": [
    {
     "data": {
      "text/plain": [
       "1000"
      ]
     },
     "execution_count": 116,
     "metadata": {},
     "output_type": "execute_result"
    }
   ],
   "source": [
    "#2.9.1. Сколько студентов сдавали экзамены?\n",
    "student_data.shape[0]"
   ]
  },
  {
   "cell_type": "code",
   "execution_count": 117,
   "id": "c53c9790",
   "metadata": {},
   "outputs": [
    {
     "name": "stdout",
     "output_type": "stream",
     "text": [
      "88\n",
      "88\n",
      "88\n",
      "88\n"
     ]
    }
   ],
   "source": [
    "# 2.9.2. Каков балл по правописанию студента под индексом 155?\n",
    "print(student_data.iloc[155]['writing score'])\n",
    "print(student_data.iloc[155][7])\n",
    "print(student_data.iloc[155,7])\n",
    "\n",
    "\n",
    "print(student_data.loc[155][7])\n"
   ]
  },
  {
   "cell_type": "code",
   "execution_count": 118,
   "id": "f64db6a4",
   "metadata": {},
   "outputs": [
    {
     "name": "stdout",
     "output_type": "stream",
     "text": [
      "<class 'pandas.core.frame.DataFrame'>\n",
      "RangeIndex: 1000 entries, 0 to 999\n",
      "Data columns (total 8 columns):\n",
      " #   Column                       Non-Null Count  Dtype \n",
      "---  ------                       --------------  ----- \n",
      " 0   gender                       1000 non-null   object\n",
      " 1   race/ethnicity               1000 non-null   object\n",
      " 2   parental level of education  1000 non-null   object\n",
      " 3   lunch                        1000 non-null   object\n",
      " 4   test preparation course      1000 non-null   object\n",
      " 5   math score                   1000 non-null   int64 \n",
      " 6   reading score                1000 non-null   int64 \n",
      " 7   writing score                1000 non-null   int64 \n",
      "dtypes: int64(3), object(5)\n",
      "memory usage: 62.6+ KB\n"
     ]
    }
   ],
   "source": [
    "#2.9.3. Сколько суммарно пропущенных значений в таблице?\n",
    "student_data.info()"
   ]
  },
  {
   "cell_type": "code",
   "execution_count": 119,
   "id": "bd949d3d",
   "metadata": {},
   "outputs": [
    {
     "data": {
      "text/plain": [
       "66"
      ]
     },
     "execution_count": 119,
     "metadata": {},
     "output_type": "execute_result"
    }
   ],
   "source": [
    "#2.9.6. Каков средний балл студентов по математике? Ответ округлите до целого\n",
    "round(student_data['math score'].mean())"
   ]
  },
  {
   "cell_type": "code",
   "execution_count": 120,
   "id": "07d8e717",
   "metadata": {},
   "outputs": [
    {
     "data": {
      "text/plain": [
       "0    group C\n",
       "dtype: object"
      ]
     },
     "execution_count": 120,
     "metadata": {},
     "output_type": "execute_result"
    }
   ],
   "source": [
    "#Какая расовая группа представлена в школе больше всех? В качестве ответа введите идентификатор группы(A. B, C, D, F)\n",
    "student_data['race/ethnicity'].mode()"
   ]
  },
  {
   "cell_type": "code",
   "execution_count": 121,
   "id": "eb1b7955",
   "metadata": {},
   "outputs": [
    {
     "data": {
      "text/plain": [
       "73.89385474860335"
      ]
     },
     "execution_count": 121,
     "metadata": {},
     "output_type": "execute_result"
    }
   ],
   "source": [
    "# 2.9.8. Какой средний балл по чтению студентов, которые посещают дополнительные курсы? \n",
    "#Ответ округлите до целого (test preparation course)\n",
    "mask=student_data['test preparation course']=='completed'\n",
    "student_data[mask]['reading score'].mean()"
   ]
  },
  {
   "cell_type": "code",
   "execution_count": 122,
   "id": "9b156c3c",
   "metadata": {},
   "outputs": [
    {
     "data": {
      "text/plain": [
       "1"
      ]
     },
     "execution_count": 122,
     "metadata": {},
     "output_type": "execute_result"
    }
   ],
   "source": [
    "#2.9.9. Как много студентов получили 0 баллов по математике?\n",
    "mask=student_data['math score']==0\n",
    "student_data[mask].shape[0]"
   ]
  },
  {
   "cell_type": "code",
   "execution_count": 123,
   "id": "69cff3ac",
   "metadata": {},
   "outputs": [
    {
     "data": {
      "text/plain": [
       "standard        0.645\n",
       "free/reduced    0.355\n",
       "Name: lunch, dtype: float64"
      ]
     },
     "execution_count": 123,
     "metadata": {},
     "output_type": "execute_result"
    }
   ],
   "source": [
    "#2.9.10. Проверьте гипотезу: у студентов с оплачиваемым питанием средний балл по математике выше, чем у студентов с льготным питанием. Напишите в ответ наибольший средний балл по математике среди этих групп студентов. Ответ округлите до целого\n",
    "student_data['lunch'].value_counts(normalize=True)"
   ]
  },
  {
   "cell_type": "code",
   "execution_count": 124,
   "id": "d0f81df4",
   "metadata": {},
   "outputs": [],
   "source": [
    "mask_standard=student_data['lunch']=='standard'\n"
   ]
  },
  {
   "cell_type": "code",
   "execution_count": 125,
   "id": "2eaf043e",
   "metadata": {},
   "outputs": [],
   "source": [
    "mask_free=student_data['lunch']=='free/reduced'"
   ]
  },
  {
   "cell_type": "code",
   "execution_count": 126,
   "id": "10663955",
   "metadata": {},
   "outputs": [
    {
     "name": "stdout",
     "output_type": "stream",
     "text": [
      "70.03410852713178\n"
     ]
    }
   ],
   "source": [
    "print(student_data[mask_standard]['math score'].mean())"
   ]
  },
  {
   "cell_type": "code",
   "execution_count": 127,
   "id": "6f158b9f",
   "metadata": {},
   "outputs": [
    {
     "name": "stdout",
     "output_type": "stream",
     "text": [
      "58.92112676056338\n"
     ]
    }
   ],
   "source": [
    "print(student_data[mask_free]['math score'].mean())"
   ]
  },
  {
   "cell_type": "code",
   "execution_count": 128,
   "id": "e9a7670e",
   "metadata": {},
   "outputs": [
    {
     "data": {
      "text/plain": [
       "True"
      ]
     },
     "execution_count": 128,
     "metadata": {},
     "output_type": "execute_result"
    }
   ],
   "source": [
    "student_data[mask_standard]['math score'].mean()>student_data[mask_free]['math score'].mean()"
   ]
  },
  {
   "cell_type": "code",
   "execution_count": 129,
   "id": "abe96f60",
   "metadata": {},
   "outputs": [
    {
     "data": {
      "text/plain": [
       "some college          0.226\n",
       "associate's degree    0.222\n",
       "high school           0.196\n",
       "some high school      0.179\n",
       "bachelor's degree     0.118\n",
       "master's degree       0.059\n",
       "Name: parental level of education, dtype: float64"
      ]
     },
     "execution_count": 129,
     "metadata": {},
     "output_type": "execute_result"
    }
   ],
   "source": [
    "#Сколько процентов студентов имеют родителей с уровнем образования бакалавра (bachelor's degree)? Ответ округлите до целого\n",
    "student_data['parental level of education'].value_counts(normalize=True)"
   ]
  },
  {
   "cell_type": "code",
   "execution_count": 130,
   "id": "cd66263f",
   "metadata": {},
   "outputs": [
    {
     "data": {
      "text/plain": [
       "6"
      ]
     },
     "execution_count": 130,
     "metadata": {},
     "output_type": "execute_result"
    }
   ],
   "source": [
    "# 2.9.12.Насколько медианный балл студентов по правописанию в расовой группе А отличается от \n",
    "# среднего балла студентов по правописанию в группе C. Ответ округлите до целого и запиши модуль этого числа. 'writing score'\n",
    "mask_a=student_data['race/ethnicity']=='group A'\n",
    "mask_c=student_data['race/ethnicity']=='group C'\n",
    "round(abs(student_data[mask_a]['writing score'].median()-student_data[mask_c]['writing score'].mean()))"
   ]
  },
  {
   "cell_type": "markdown",
   "id": "3c3b639c",
   "metadata": {},
   "source": [
    "### income_train"
   ]
  },
  {
   "cell_type": "code",
   "execution_count": 131,
   "id": "afe156e0",
   "metadata": {},
   "outputs": [],
   "source": [
    "income_data = pd.read_csv('data/income_train.csv')"
   ]
  },
  {
   "cell_type": "code",
   "execution_count": 132,
   "id": "237ebad6",
   "metadata": {},
   "outputs": [
    {
     "data": {
      "text/html": [
       "<div>\n",
       "<style scoped>\n",
       "    .dataframe tbody tr th:only-of-type {\n",
       "        vertical-align: middle;\n",
       "    }\n",
       "\n",
       "    .dataframe tbody tr th {\n",
       "        vertical-align: top;\n",
       "    }\n",
       "\n",
       "    .dataframe thead th {\n",
       "        text-align: right;\n",
       "    }\n",
       "</style>\n",
       "<table border=\"1\" class=\"dataframe\">\n",
       "  <thead>\n",
       "    <tr style=\"text-align: right;\">\n",
       "      <th></th>\n",
       "      <th>age</th>\n",
       "      <th>workclass</th>\n",
       "      <th>fnlwgt</th>\n",
       "      <th>education</th>\n",
       "      <th>education-num</th>\n",
       "      <th>marital-status</th>\n",
       "      <th>occupation</th>\n",
       "      <th>relationship</th>\n",
       "      <th>sex</th>\n",
       "      <th>capital-gain</th>\n",
       "      <th>capital-loss</th>\n",
       "      <th>hours-per-week</th>\n",
       "      <th>native-country</th>\n",
       "      <th>income</th>\n",
       "    </tr>\n",
       "  </thead>\n",
       "  <tbody>\n",
       "    <tr>\n",
       "      <th>0</th>\n",
       "      <td>39</td>\n",
       "      <td>State-gov</td>\n",
       "      <td>77516</td>\n",
       "      <td>Bachelors</td>\n",
       "      <td>13</td>\n",
       "      <td>Never-married</td>\n",
       "      <td>Adm-clerical</td>\n",
       "      <td>Not-in-family</td>\n",
       "      <td>Male</td>\n",
       "      <td>2174</td>\n",
       "      <td>0</td>\n",
       "      <td>40</td>\n",
       "      <td>United-States</td>\n",
       "      <td>&lt;=50K</td>\n",
       "    </tr>\n",
       "    <tr>\n",
       "      <th>1</th>\n",
       "      <td>50</td>\n",
       "      <td>Self-emp-not-inc</td>\n",
       "      <td>83311</td>\n",
       "      <td>Bachelors</td>\n",
       "      <td>13</td>\n",
       "      <td>Married-civ-spouse</td>\n",
       "      <td>Exec-managerial</td>\n",
       "      <td>Husband</td>\n",
       "      <td>Male</td>\n",
       "      <td>0</td>\n",
       "      <td>0</td>\n",
       "      <td>13</td>\n",
       "      <td>United-States</td>\n",
       "      <td>&lt;=50K</td>\n",
       "    </tr>\n",
       "    <tr>\n",
       "      <th>2</th>\n",
       "      <td>38</td>\n",
       "      <td>Private</td>\n",
       "      <td>215646</td>\n",
       "      <td>HS-grad</td>\n",
       "      <td>9</td>\n",
       "      <td>Divorced</td>\n",
       "      <td>Handlers-cleaners</td>\n",
       "      <td>Not-in-family</td>\n",
       "      <td>Male</td>\n",
       "      <td>0</td>\n",
       "      <td>0</td>\n",
       "      <td>40</td>\n",
       "      <td>United-States</td>\n",
       "      <td>&lt;=50K</td>\n",
       "    </tr>\n",
       "    <tr>\n",
       "      <th>3</th>\n",
       "      <td>53</td>\n",
       "      <td>Private</td>\n",
       "      <td>234721</td>\n",
       "      <td>11th</td>\n",
       "      <td>7</td>\n",
       "      <td>Married-civ-spouse</td>\n",
       "      <td>Handlers-cleaners</td>\n",
       "      <td>Husband</td>\n",
       "      <td>Male</td>\n",
       "      <td>0</td>\n",
       "      <td>0</td>\n",
       "      <td>40</td>\n",
       "      <td>United-States</td>\n",
       "      <td>&lt;=50K</td>\n",
       "    </tr>\n",
       "    <tr>\n",
       "      <th>4</th>\n",
       "      <td>28</td>\n",
       "      <td>Private</td>\n",
       "      <td>338409</td>\n",
       "      <td>Bachelors</td>\n",
       "      <td>13</td>\n",
       "      <td>Married-civ-spouse</td>\n",
       "      <td>Prof-specialty</td>\n",
       "      <td>Wife</td>\n",
       "      <td>Female</td>\n",
       "      <td>0</td>\n",
       "      <td>0</td>\n",
       "      <td>40</td>\n",
       "      <td>Cuba</td>\n",
       "      <td>&lt;=50K</td>\n",
       "    </tr>\n",
       "  </tbody>\n",
       "</table>\n",
       "</div>"
      ],
      "text/plain": [
       "   age         workclass  fnlwgt  education  education-num  \\\n",
       "0   39         State-gov   77516  Bachelors             13   \n",
       "1   50  Self-emp-not-inc   83311  Bachelors             13   \n",
       "2   38           Private  215646    HS-grad              9   \n",
       "3   53           Private  234721       11th              7   \n",
       "4   28           Private  338409  Bachelors             13   \n",
       "\n",
       "       marital-status         occupation   relationship     sex  capital-gain  \\\n",
       "0       Never-married       Adm-clerical  Not-in-family    Male          2174   \n",
       "1  Married-civ-spouse    Exec-managerial        Husband    Male             0   \n",
       "2            Divorced  Handlers-cleaners  Not-in-family    Male             0   \n",
       "3  Married-civ-spouse  Handlers-cleaners        Husband    Male             0   \n",
       "4  Married-civ-spouse     Prof-specialty           Wife  Female             0   \n",
       "\n",
       "   capital-loss  hours-per-week native-country income  \n",
       "0             0              40  United-States  <=50K  \n",
       "1             0              13  United-States  <=50K  \n",
       "2             0              40  United-States  <=50K  \n",
       "3             0              40  United-States  <=50K  \n",
       "4             0              40           Cuba  <=50K  "
      ]
     },
     "execution_count": 132,
     "metadata": {},
     "output_type": "execute_result"
    }
   ],
   "source": [
    "income_data.head()"
   ]
  },
  {
   "cell_type": "code",
   "execution_count": 133,
   "id": "fa1fedce",
   "metadata": {},
   "outputs": [
    {
     "name": "stdout",
     "output_type": "stream",
     "text": [
      "<class 'pandas.core.frame.DataFrame'>\n",
      "RangeIndex: 29261 entries, 0 to 29260\n",
      "Data columns (total 14 columns):\n",
      " #   Column          Non-Null Count  Dtype \n",
      "---  ------          --------------  ----- \n",
      " 0   age             29261 non-null  int64 \n",
      " 1   workclass       29261 non-null  object\n",
      " 2   fnlwgt          29261 non-null  int64 \n",
      " 3   education       29261 non-null  object\n",
      " 4   education-num   29261 non-null  int64 \n",
      " 5   marital-status  29261 non-null  object\n",
      " 6   occupation      29261 non-null  object\n",
      " 7   relationship    29261 non-null  object\n",
      " 8   sex             29261 non-null  object\n",
      " 9   capital-gain    29261 non-null  int64 \n",
      " 10  capital-loss    29261 non-null  int64 \n",
      " 11  hours-per-week  29261 non-null  int64 \n",
      " 12  native-country  29261 non-null  object\n",
      " 13  income          29261 non-null  object\n",
      "dtypes: int64(6), object(8)\n",
      "memory usage: 3.1+ MB\n"
     ]
    }
   ],
   "source": [
    "income_data.info()"
   ]
  },
  {
   "cell_type": "code",
   "execution_count": 134,
   "id": "35326e6b",
   "metadata": {},
   "outputs": [
    {
     "data": {
      "text/html": [
       "<div>\n",
       "<style scoped>\n",
       "    .dataframe tbody tr th:only-of-type {\n",
       "        vertical-align: middle;\n",
       "    }\n",
       "\n",
       "    .dataframe tbody tr th {\n",
       "        vertical-align: top;\n",
       "    }\n",
       "\n",
       "    .dataframe thead th {\n",
       "        text-align: right;\n",
       "    }\n",
       "</style>\n",
       "<table border=\"1\" class=\"dataframe\">\n",
       "  <thead>\n",
       "    <tr style=\"text-align: right;\">\n",
       "      <th></th>\n",
       "      <th>age</th>\n",
       "      <th>fnlwgt</th>\n",
       "      <th>education-num</th>\n",
       "      <th>capital-gain</th>\n",
       "      <th>capital-loss</th>\n",
       "      <th>hours-per-week</th>\n",
       "    </tr>\n",
       "  </thead>\n",
       "  <tbody>\n",
       "    <tr>\n",
       "      <th>count</th>\n",
       "      <td>29261.000000</td>\n",
       "      <td>2.926100e+04</td>\n",
       "      <td>29261.000000</td>\n",
       "      <td>29261.000000</td>\n",
       "      <td>29261.000000</td>\n",
       "      <td>29261.000000</td>\n",
       "    </tr>\n",
       "    <tr>\n",
       "      <th>mean</th>\n",
       "      <td>38.588702</td>\n",
       "      <td>1.898027e+05</td>\n",
       "      <td>10.080346</td>\n",
       "      <td>1096.734732</td>\n",
       "      <td>86.432863</td>\n",
       "      <td>40.462048</td>\n",
       "    </tr>\n",
       "    <tr>\n",
       "      <th>std</th>\n",
       "      <td>13.641052</td>\n",
       "      <td>1.058891e+05</td>\n",
       "      <td>2.575916</td>\n",
       "      <td>7484.488147</td>\n",
       "      <td>399.933894</td>\n",
       "      <td>12.355532</td>\n",
       "    </tr>\n",
       "    <tr>\n",
       "      <th>min</th>\n",
       "      <td>17.000000</td>\n",
       "      <td>1.228500e+04</td>\n",
       "      <td>1.000000</td>\n",
       "      <td>0.000000</td>\n",
       "      <td>0.000000</td>\n",
       "      <td>1.000000</td>\n",
       "    </tr>\n",
       "    <tr>\n",
       "      <th>25%</th>\n",
       "      <td>28.000000</td>\n",
       "      <td>1.177910e+05</td>\n",
       "      <td>9.000000</td>\n",
       "      <td>0.000000</td>\n",
       "      <td>0.000000</td>\n",
       "      <td>40.000000</td>\n",
       "    </tr>\n",
       "    <tr>\n",
       "      <th>50%</th>\n",
       "      <td>37.000000</td>\n",
       "      <td>1.784490e+05</td>\n",
       "      <td>10.000000</td>\n",
       "      <td>0.000000</td>\n",
       "      <td>0.000000</td>\n",
       "      <td>40.000000</td>\n",
       "    </tr>\n",
       "    <tr>\n",
       "      <th>75%</th>\n",
       "      <td>48.000000</td>\n",
       "      <td>2.369130e+05</td>\n",
       "      <td>12.000000</td>\n",
       "      <td>0.000000</td>\n",
       "      <td>0.000000</td>\n",
       "      <td>45.000000</td>\n",
       "    </tr>\n",
       "    <tr>\n",
       "      <th>max</th>\n",
       "      <td>90.000000</td>\n",
       "      <td>1.484705e+06</td>\n",
       "      <td>16.000000</td>\n",
       "      <td>99999.000000</td>\n",
       "      <td>4356.000000</td>\n",
       "      <td>99.000000</td>\n",
       "    </tr>\n",
       "  </tbody>\n",
       "</table>\n",
       "</div>"
      ],
      "text/plain": [
       "                age        fnlwgt  education-num  capital-gain  capital-loss  \\\n",
       "count  29261.000000  2.926100e+04   29261.000000  29261.000000  29261.000000   \n",
       "mean      38.588702  1.898027e+05      10.080346   1096.734732     86.432863   \n",
       "std       13.641052  1.058891e+05       2.575916   7484.488147    399.933894   \n",
       "min       17.000000  1.228500e+04       1.000000      0.000000      0.000000   \n",
       "25%       28.000000  1.177910e+05       9.000000      0.000000      0.000000   \n",
       "50%       37.000000  1.784490e+05      10.000000      0.000000      0.000000   \n",
       "75%       48.000000  2.369130e+05      12.000000      0.000000      0.000000   \n",
       "max       90.000000  1.484705e+06      16.000000  99999.000000   4356.000000   \n",
       "\n",
       "       hours-per-week  \n",
       "count    29261.000000  \n",
       "mean        40.462048  \n",
       "std         12.355532  \n",
       "min          1.000000  \n",
       "25%         40.000000  \n",
       "50%         40.000000  \n",
       "75%         45.000000  \n",
       "max         99.000000  "
      ]
     },
     "execution_count": 134,
     "metadata": {},
     "output_type": "execute_result"
    }
   ],
   "source": [
    "income_data.describe()"
   ]
  },
  {
   "cell_type": "code",
   "execution_count": 135,
   "id": "d9a16abf",
   "metadata": {},
   "outputs": [
    {
     "data": {
      "text/html": [
       "<div>\n",
       "<style scoped>\n",
       "    .dataframe tbody tr th:only-of-type {\n",
       "        vertical-align: middle;\n",
       "    }\n",
       "\n",
       "    .dataframe tbody tr th {\n",
       "        vertical-align: top;\n",
       "    }\n",
       "\n",
       "    .dataframe thead th {\n",
       "        text-align: right;\n",
       "    }\n",
       "</style>\n",
       "<table border=\"1\" class=\"dataframe\">\n",
       "  <thead>\n",
       "    <tr style=\"text-align: right;\">\n",
       "      <th></th>\n",
       "      <th>workclass</th>\n",
       "      <th>education</th>\n",
       "      <th>marital-status</th>\n",
       "      <th>occupation</th>\n",
       "      <th>relationship</th>\n",
       "      <th>sex</th>\n",
       "      <th>native-country</th>\n",
       "      <th>income</th>\n",
       "    </tr>\n",
       "  </thead>\n",
       "  <tbody>\n",
       "    <tr>\n",
       "      <th>count</th>\n",
       "      <td>29261</td>\n",
       "      <td>29261</td>\n",
       "      <td>29261</td>\n",
       "      <td>29261</td>\n",
       "      <td>29261</td>\n",
       "      <td>29261</td>\n",
       "      <td>29261</td>\n",
       "      <td>29261</td>\n",
       "    </tr>\n",
       "    <tr>\n",
       "      <th>unique</th>\n",
       "      <td>9</td>\n",
       "      <td>16</td>\n",
       "      <td>7</td>\n",
       "      <td>15</td>\n",
       "      <td>6</td>\n",
       "      <td>2</td>\n",
       "      <td>41</td>\n",
       "      <td>2</td>\n",
       "    </tr>\n",
       "    <tr>\n",
       "      <th>top</th>\n",
       "      <td>Private</td>\n",
       "      <td>HS-grad</td>\n",
       "      <td>Married-civ-spouse</td>\n",
       "      <td>Prof-specialty</td>\n",
       "      <td>Husband</td>\n",
       "      <td>Male</td>\n",
       "      <td>United-States</td>\n",
       "      <td>&lt;=50K</td>\n",
       "    </tr>\n",
       "    <tr>\n",
       "      <th>freq</th>\n",
       "      <td>20348</td>\n",
       "      <td>9394</td>\n",
       "      <td>13492</td>\n",
       "      <td>3696</td>\n",
       "      <td>11904</td>\n",
       "      <td>19630</td>\n",
       "      <td>26210</td>\n",
       "      <td>22199</td>\n",
       "    </tr>\n",
       "  </tbody>\n",
       "</table>\n",
       "</div>"
      ],
      "text/plain": [
       "       workclass education      marital-status      occupation relationship  \\\n",
       "count      29261     29261               29261           29261        29261   \n",
       "unique         9        16                   7              15            6   \n",
       "top      Private   HS-grad  Married-civ-spouse  Prof-specialty      Husband   \n",
       "freq       20348      9394               13492            3696        11904   \n",
       "\n",
       "          sex native-country income  \n",
       "count   29261          29261  29261  \n",
       "unique      2             41      2  \n",
       "top      Male  United-States  <=50K  \n",
       "freq    19630          26210  22199  "
      ]
     },
     "execution_count": 135,
     "metadata": {},
     "output_type": "execute_result"
    }
   ],
   "source": [
    "income_data.describe(include=['object'])"
   ]
  },
  {
   "cell_type": "code",
   "execution_count": 136,
   "id": "7604ecf7",
   "metadata": {},
   "outputs": [
    {
     "data": {
      "text/plain": [
       "-0.011419304706240006"
      ]
     },
     "execution_count": 136,
     "metadata": {},
     "output_type": "execute_result"
    }
   ],
   "source": [
    "#На сколько процентов медианное значение для количества часов в неделю отличается от среднего. \n",
    "(income_data['hours-per-week'].median()-income_data['hours-per-week'].mean())/income_data['hours-per-week'].mean()"
   ]
  },
  {
   "cell_type": "code",
   "execution_count": 137,
   "id": "29d28d8f",
   "metadata": {},
   "outputs": [
    {
     "data": {
      "text/plain": [
       "1.141930470624004"
      ]
     },
     "execution_count": 137,
     "metadata": {},
     "output_type": "execute_result"
    }
   ],
   "source": [
    "100-100*(income_data['hours-per-week'].median()/income_data['hours-per-week'].mean())"
   ]
  },
  {
   "cell_type": "code",
   "execution_count": 138,
   "id": "f6499951",
   "metadata": {
    "scrolled": true
   },
   "outputs": [
    {
     "data": {
      "text/plain": [
       "0.98858069529376"
      ]
     },
     "execution_count": 138,
     "metadata": {},
     "output_type": "execute_result"
    }
   ],
   "source": [
    "income_data['hours-per-week'].median()/income_data['hours-per-week'].mean()"
   ]
  },
  {
   "cell_type": "code",
   "execution_count": 139,
   "id": "95afb387",
   "metadata": {},
   "outputs": [
    {
     "data": {
      "text/plain": [
       "HS-grad         9394\n",
       "Some-college    6559\n",
       "Bachelors       4836\n",
       "Masters         1538\n",
       "Assoc-voc       1241\n",
       "11th            1062\n",
       "Assoc-acdm       963\n",
       "10th             828\n",
       "7th-8th          592\n",
       "Prof-school      527\n",
       "9th              460\n",
       "12th             396\n",
       "Doctorate        363\n",
       "5th-6th          309\n",
       "1st-4th          147\n",
       "Preschool         46\n",
       "Name: education, dtype: int64"
      ]
     },
     "execution_count": 139,
     "metadata": {},
     "output_type": "execute_result"
    }
   ],
   "source": [
    "# Сколько людей имеют статус \"женат\" и их уровень образования - высший. (бакалавры и магистры)\n",
    "income_data['education'].value_counts()"
   ]
  },
  {
   "cell_type": "code",
   "execution_count": 140,
   "id": "66b15a2d",
   "metadata": {},
   "outputs": [],
   "source": [
    "mask=(income_data['marital-status']=='Married-civ-spouse')&((income_data['education']=='Bachelors')|(income_data['education']=='Masters'))"
   ]
  },
  {
   "cell_type": "code",
   "execution_count": 141,
   "id": "ba501938",
   "metadata": {},
   "outputs": [
    {
     "data": {
      "text/plain": [
       "3431"
      ]
     },
     "execution_count": 141,
     "metadata": {},
     "output_type": "execute_result"
    }
   ],
   "source": [
    "income_data[mask].shape[0]"
   ]
  },
  {
   "cell_type": "code",
   "execution_count": 142,
   "id": "dc5d06e5",
   "metadata": {},
   "outputs": [
    {
     "data": {
      "text/plain": [
       "array(['<=50K', '>50K'], dtype=object)"
      ]
     },
     "execution_count": 142,
     "metadata": {},
     "output_type": "execute_result"
    }
   ],
   "source": [
    "income_data['income'].unique()"
   ]
  },
  {
   "cell_type": "code",
   "execution_count": 143,
   "id": "2a379917",
   "metadata": {},
   "outputs": [
    {
     "data": {
      "text/plain": [
       "array(['Male', 'Female'], dtype=object)"
      ]
     },
     "execution_count": 143,
     "metadata": {},
     "output_type": "execute_result"
    }
   ],
   "source": [
    "income_data['sex'].unique()"
   ]
  },
  {
   "cell_type": "code",
   "execution_count": 144,
   "id": "f39b611a",
   "metadata": {},
   "outputs": [],
   "source": [
    "#Доля женщин, которые получают больше 50к, доля мужчин, которые получают больше 50к, и рвзница в структуре.\n",
    "mask_women=(income_data['sex']=='Female' )&(income_data['income']=='>50K')\n",
    "mask_men=(income_data['sex']=='Male' )&(income_data['income']=='>50K')"
   ]
  },
  {
   "cell_type": "code",
   "execution_count": 145,
   "id": "028684c7",
   "metadata": {},
   "outputs": [
    {
     "data": {
      "text/plain": [
       "0.1081922957117641"
      ]
     },
     "execution_count": 145,
     "metadata": {},
     "output_type": "execute_result"
    }
   ],
   "source": [
    "income_data[mask_women].shape[0]/(income_data[income_data['sex']=='Female'].shape[0])"
   ]
  },
  {
   "cell_type": "code",
   "execution_count": null,
   "id": "cab01e7d",
   "metadata": {},
   "outputs": [],
   "source": []
  },
  {
   "cell_type": "code",
   "execution_count": 146,
   "id": "1b47e313",
   "metadata": {},
   "outputs": [
    {
     "data": {
      "text/plain": [
       "0.3066734589913398"
      ]
     },
     "execution_count": 146,
     "metadata": {},
     "output_type": "execute_result"
    }
   ],
   "source": [
    "income_data[mask_men].shape[0]/(income_data[income_data['sex']=='Male'].shape[0])"
   ]
  },
  {
   "cell_type": "code",
   "execution_count": 147,
   "id": "28265ec3",
   "metadata": {},
   "outputs": [
    {
     "data": {
      "text/plain": [
       "-0.1984811632795757"
      ]
     },
     "execution_count": 147,
     "metadata": {},
     "output_type": "execute_result"
    }
   ],
   "source": [
    "(income_data[mask_women].shape[0]/(income_data[income_data['sex']=='Female'].shape[0]))-(income_data[mask_men].shape[0]/(income_data[income_data['sex']=='Male'].shape[0]))"
   ]
  },
  {
   "cell_type": "code",
   "execution_count": 148,
   "id": "605344be",
   "metadata": {},
   "outputs": [
    {
     "data": {
      "text/plain": [
       "Married-civ-spouse       13492\n",
       "Never-married             9576\n",
       "Divorced                  3974\n",
       "Separated                  939\n",
       "Widowed                    889\n",
       "Married-spouse-absent      372\n",
       "Married-AF-spouse           19\n",
       "Name: marital-status, dtype: int64"
      ]
     },
     "execution_count": 148,
     "metadata": {},
     "output_type": "execute_result"
    }
   ],
   "source": [
    "#На сколько сильно на потерю капитала влияет статус разведённого для мужчины. capital-loss\n",
    "income_data['marital-status'].value_counts()"
   ]
  },
  {
   "cell_type": "code",
   "execution_count": 149,
   "id": "db570767",
   "metadata": {},
   "outputs": [
    {
     "data": {
      "text/plain": [
       "0.03922594142259414"
      ]
     },
     "execution_count": 149,
     "metadata": {},
     "output_type": "execute_result"
    }
   ],
   "source": [
    "mask_divorced_loss=(income_data['marital-status']=='Divorced') & (income_data['capital-loss']>0 )\n",
    "mask_divorced_loss0=(income_data['marital-status']=='Divorced') & (income_data['capital-loss']==0 )\n",
    "\n",
    "income_data[mask_divorced_loss].shape[0]/income_data[mask_divorced_loss0].shape[0]"
   ]
  },
  {
   "cell_type": "code",
   "execution_count": 150,
   "id": "e268e528",
   "metadata": {},
   "outputs": [
    {
     "data": {
      "text/plain": [
       "3824"
      ]
     },
     "execution_count": 150,
     "metadata": {},
     "output_type": "execute_result"
    }
   ],
   "source": [
    "income_data[mask_divorced_loss0].shape[0]"
   ]
  },
  {
   "cell_type": "code",
   "execution_count": 151,
   "id": "aac83781",
   "metadata": {},
   "outputs": [
    {
     "data": {
      "text/plain": [
       "150"
      ]
     },
     "execution_count": 151,
     "metadata": {},
     "output_type": "execute_result"
    }
   ],
   "source": [
    "income_data[mask_divorced_loss].shape[0]"
   ]
  },
  {
   "cell_type": "code",
   "execution_count": 152,
   "id": "bf07b571",
   "metadata": {},
   "outputs": [
    {
     "data": {
      "text/plain": [
       "84.8440366972477"
      ]
     },
     "execution_count": 152,
     "metadata": {},
     "output_type": "execute_result"
    }
   ],
   "source": [
    "# Найти тех, у кого возраст больше 3 сигм. \n",
    "mask= income_data['age']<(income_data['age'].mean()-3*income_data['age'].std())\n",
    "mask2=income_data['age']>(income_data['age'].mean()+3*income_data['age'].std())\n",
    "income_data[mask|mask2]['age'].mean()"
   ]
  },
  {
   "cell_type": "code",
   "execution_count": 153,
   "id": "056bd6bb",
   "metadata": {},
   "outputs": [
    {
     "data": {
      "text/plain": [
       "nan"
      ]
     },
     "execution_count": 153,
     "metadata": {},
     "output_type": "execute_result"
    }
   ],
   "source": [
    "income_data[mask]['age'].mean()"
   ]
  },
  {
   "cell_type": "code",
   "execution_count": 154,
   "id": "3af1371f",
   "metadata": {},
   "outputs": [
    {
     "data": {
      "text/plain": [
       "20.912028725314183"
      ]
     },
     "execution_count": 154,
     "metadata": {},
     "output_type": "execute_result"
    }
   ],
   "source": [
    "mask33= income_data['age']<(income_data['age'].mean()-1*income_data['age'].std())\n",
    "income_data[mask33]['age'].mean()"
   ]
  }
 ],
 "metadata": {
  "kernelspec": {
   "display_name": "Python 3",
   "language": "python",
   "name": "python3"
  },
  "language_info": {
   "codemirror_mode": {
    "name": "ipython",
    "version": 3
   },
   "file_extension": ".py",
   "mimetype": "text/x-python",
   "name": "python",
   "nbconvert_exporter": "python",
   "pygments_lexer": "ipython3",
   "version": "3.8.10"
  }
 },
 "nbformat": 4,
 "nbformat_minor": 5
}
