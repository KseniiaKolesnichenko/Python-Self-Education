{
 "cells": [
  {
   "cell_type": "markdown",
   "id": "86425d10",
   "metadata": {},
   "source": [
    "Отфильтруйте список товарных позиций csv_file, оставив только те позиции, у которых количество штук на складе больше 10. Результат запишите в переменную csv_file_filtered\n",
    "\n"
   ]
  },
  {
   "cell_type": "code",
   "execution_count": 1,
   "id": "b67377a8",
   "metadata": {},
   "outputs": [],
   "source": [
    "csv_file = [\n",
    "    ['100412', 'Ботинки для горных лыж ATOMIC Hawx Prime 100', 9],\n",
    "    ['100728', 'Скейтборд Jdbug RT03', 32],\n",
    "    ['100732', 'Роллерсерф Razor RipStik Bright', 11],\n",
    "    ['100803', 'Ботинки для сноуборда DC Tucknee', 20],\n",
    "    ['100898', 'Шагомер Omron HJA-306', 2],\n",
    "    ['100934', 'Пульсометр Beurer PM62', 17],\n",
    "]\n"
   ]
  },
  {
   "cell_type": "code",
   "execution_count": 2,
   "id": "6ea4a6a9",
   "metadata": {},
   "outputs": [
    {
     "data": {
      "text/plain": [
       "[['100728', 'Скейтборд Jdbug RT03', 32],\n",
       " ['100732', 'Роллерсерф Razor RipStik Bright', 11],\n",
       " ['100803', 'Ботинки для сноуборда DC Tucknee', 20],\n",
       " ['100934', 'Пульсометр Beurer PM62', 17]]"
      ]
     },
     "execution_count": 2,
     "metadata": {},
     "output_type": "execute_result"
    }
   ],
   "source": [
    "csv_file_filtered=[]\n",
    "for record in csv_file:\n",
    "    if record[2]>10:\n",
    "        csv_file_filtered.append(record)\n",
    "csv_file_filtered\n"
   ]
  },
  {
   "cell_type": "markdown",
   "id": "e620cb11",
   "metadata": {},
   "source": [
    "Напишите код, который записывает в переменную pulsometer_id идентификатор товара \"Пульсометр Beurer PM62\""
   ]
  },
  {
   "cell_type": "code",
   "execution_count": 3,
   "id": "7814b04a",
   "metadata": {},
   "outputs": [],
   "source": [
    "csv_file = [\n",
    "    ['100412', 'Ботинки для горных лыж ATOMIC Hawx Prime 100', 9],\n",
    "    ['100728', 'Скейтборд Jdbug RT03', 32],\n",
    "    ['100732', 'Роллерсерф Razor RipStik Bright', 11],\n",
    "    ['100803', 'Ботинки для сноуборда DC Tucknee', 20],\n",
    "    ['100898', 'Шагомер Omron HJA-306', 2],\n",
    "    ['100934', 'Пульсометр Beurer PM62', 17],\n",
    "]\n"
   ]
  },
  {
   "cell_type": "code",
   "execution_count": 4,
   "id": "27750349",
   "metadata": {},
   "outputs": [
    {
     "data": {
      "text/plain": [
       "'100934'"
      ]
     },
     "execution_count": 4,
     "metadata": {},
     "output_type": "execute_result"
    }
   ],
   "source": [
    "pulsometer_id=csv_file[5][0]\n",
    "pulsometer_id"
   ]
  },
  {
   "cell_type": "markdown",
   "id": "8db961c7",
   "metadata": {},
   "source": [
    "A2.4.3 Вложенные словари"
   ]
  },
  {
   "cell_type": "code",
   "execution_count": 5,
   "id": "1e1b2c40",
   "metadata": {},
   "outputs": [],
   "source": [
    "contacts = {\n",
    "    'Борискин Владимир': {\n",
    "        'tel': '5387',\n",
    "        'position': 'менеджер'\n",
    "    },\n",
    "    \n",
    "    'Сомова Наталья': {\n",
    "        'tel': '5443',\n",
    "        'position': 'разработчик'\n",
    "    },\n",
    "}\n"
   ]
  },
  {
   "cell_type": "code",
   "execution_count": 6,
   "id": "8f2ffbbf",
   "metadata": {},
   "outputs": [
    {
     "data": {
      "text/plain": [
       "{'Борискин Владимир': {'tel': '5387', 'position': 'менеджер'},\n",
       " 'Сомова Наталья': {'tel': '5443', 'position': 'разработчик'}}"
      ]
     },
     "execution_count": 6,
     "metadata": {},
     "output_type": "execute_result"
    }
   ],
   "source": [
    "contacts"
   ]
  },
  {
   "cell_type": "code",
   "execution_count": 7,
   "id": "377daa6d",
   "metadata": {},
   "outputs": [
    {
     "name": "stdout",
     "output_type": "stream",
     "text": [
      "разработчик\n"
     ]
    }
   ],
   "source": [
    "print(contacts['Сомова Наталья']['position'])"
   ]
  },
  {
   "cell_type": "code",
   "execution_count": 8,
   "id": "98e93fbf",
   "metadata": {},
   "outputs": [
    {
     "name": "stdout",
     "output_type": "stream",
     "text": [
      "{'tel': '5387', 'position': 'менеджер'}\n"
     ]
    }
   ],
   "source": [
    "print(contacts['Борискин Владимир'])"
   ]
  },
  {
   "cell_type": "code",
   "execution_count": 9,
   "id": "6680fb30",
   "metadata": {},
   "outputs": [
    {
     "name": "stdout",
     "output_type": "stream",
     "text": [
      "5387\n"
     ]
    }
   ],
   "source": [
    "print(contacts['Борискин Владимир']['tel'])"
   ]
  },
  {
   "cell_type": "markdown",
   "id": "847360e0",
   "metadata": {},
   "source": [
    "Разработчики поменяли формат выгрузки из базы данных товарных позиций. Теперь это список словарей, каждый столбец в котором имеет имя. Напишите код, который оставляет только те товары, в названии которых есть слово \"Ботинки\". Результат запишите в переменную csv_dict_boots\n",
    "\n"
   ]
  },
  {
   "cell_type": "code",
   "execution_count": 10,
   "id": "04b70b9e",
   "metadata": {},
   "outputs": [],
   "source": [
    "csv_dict = [\n",
    "    {'id': '100412', 'position': 'Ботинки для горных лыж ATOMIC Hawx Prime 100', 'count': 9},\n",
    "    {'id': '100728', 'position': 'Скейтборд Jdbug RT03', 'count': 32},\n",
    "    {'id': '100732', 'position': 'Роллерсерф Razor RipStik Bright', 'count': 11},\n",
    "    {'id': '100803', 'position': 'Ботинки для сноуборда DC Tucknee', 'count': 20},\n",
    "    {'id': '100898', 'position': 'Шагомер Omron HJA-306', 'count': 2},\n",
    "    {'id': '100934', 'position': 'Пульсометр Beurer PM62', 'count': 17},\n",
    "]\n"
   ]
  },
  {
   "cell_type": "code",
   "execution_count": 11,
   "id": "5297e566",
   "metadata": {},
   "outputs": [],
   "source": [
    "csv_dict_boots = [] #Создаем словарь, куда поместим товары, в названии которых есть слово \"Ботинки\"\n",
    "for record in csv_dict: # Проходимся по элементам вложенного словаря\n",
    "    if 'Ботинки' in record['position']: # Если слово Ботинки есть в значении ключа 'position'\n",
    "        csv_dict_boots.append(record) #Добавляем весь словарь с этим товаром в новый список"
   ]
  },
  {
   "cell_type": "code",
   "execution_count": 12,
   "id": "065b6389",
   "metadata": {},
   "outputs": [
    {
     "data": {
      "text/plain": [
       "[{'id': '100412',\n",
       "  'position': 'Ботинки для горных лыж ATOMIC Hawx Prime 100',\n",
       "  'count': 9},\n",
       " {'id': '100803', 'position': 'Ботинки для сноуборда DC Tucknee', 'count': 20}]"
      ]
     },
     "execution_count": 12,
     "metadata": {},
     "output_type": "execute_result"
    }
   ],
   "source": [
    "csv_dict_boots"
   ]
  },
  {
   "cell_type": "code",
   "execution_count": 13,
   "id": "9e2f3fc5",
   "metadata": {
    "scrolled": true
   },
   "outputs": [
    {
     "data": {
      "text/plain": [
       "{'id': '100412',\n",
       " 'position': 'Ботинки для горных лыж ATOMIC Hawx Prime 100',\n",
       " 'count': 9}"
      ]
     },
     "execution_count": 13,
     "metadata": {},
     "output_type": "execute_result"
    }
   ],
   "source": [
    "csv_dict[0]"
   ]
  },
  {
   "cell_type": "code",
   "execution_count": 14,
   "id": "20e0dfce",
   "metadata": {},
   "outputs": [
    {
     "data": {
      "text/plain": [
       "'100412'"
      ]
     },
     "execution_count": 14,
     "metadata": {},
     "output_type": "execute_result"
    }
   ],
   "source": [
    "csv_dict[0]['id']"
   ]
  },
  {
   "cell_type": "code",
   "execution_count": 15,
   "id": "20210c8c",
   "metadata": {},
   "outputs": [
    {
     "name": "stdout",
     "output_type": "stream",
     "text": [
      "100412\n",
      "100803\n"
     ]
    }
   ],
   "source": [
    "for i in csv_dict:\n",
    "    if 'Ботинки' in i['position']:\n",
    "        print(i['id'])"
   ]
  },
  {
   "cell_type": "markdown",
   "id": "a4a05c0b",
   "metadata": {},
   "source": [
    "Дана статистика результатов рекламной кампании по каналу (ключ 'source') и сумме расходов ('cost'). Напишите код, который ищет минимальное значение ключа cost в этом словаре. Укажите это значение в качестве ответа."
   ]
  },
  {
   "cell_type": "code",
   "execution_count": 16,
   "id": "5308dad5",
   "metadata": {},
   "outputs": [],
   "source": [
    "results = [\n",
    "{'cost': 98, 'source': 'vk'},\n",
    "{'cost': 153, 'source': 'yandex'},\n",
    "{'cost': 110, 'source': 'facebook'},\n",
    "]"
   ]
  },
  {
   "cell_type": "code",
   "execution_count": 17,
   "id": "2862f522",
   "metadata": {},
   "outputs": [
    {
     "name": "stdout",
     "output_type": "stream",
     "text": [
      "{'cost': 98, 'source': 'vk'}\n",
      "{'cost': 153, 'source': 'yandex'}\n",
      "{'cost': 110, 'source': 'facebook'}\n"
     ]
    }
   ],
   "source": [
    "for i in results:\n",
    "    print(i)"
   ]
  },
  {
   "cell_type": "code",
   "execution_count": 18,
   "id": "0828ec91",
   "metadata": {},
   "outputs": [
    {
     "name": "stdout",
     "output_type": "stream",
     "text": [
      "98\n",
      "153\n",
      "110\n"
     ]
    }
   ],
   "source": [
    "for i in results:\n",
    "    print(i['cost'])"
   ]
  },
  {
   "cell_type": "code",
   "execution_count": 19,
   "id": "3b05b20a",
   "metadata": {},
   "outputs": [
    {
     "name": "stdout",
     "output_type": "stream",
     "text": [
      "98\n"
     ]
    }
   ],
   "source": [
    "min=1000 # Задаем значение минимума, с которым будем сравнивать значения из словаря\n",
    "for stat in results: # Проходимся по словарям списка\n",
    "    if stat['cost']<min: # Если значение ключа cost меньше заданного минимума\n",
    "        min=stat['cost'] # присваиваем значение переменной минимума, с котрой будем сравнивать в следцющем цикле\n",
    "print(min)"
   ]
  },
  {
   "cell_type": "code",
   "execution_count": null,
   "id": "da4876fc",
   "metadata": {},
   "outputs": [],
   "source": [
    "    \n"
   ]
  },
  {
   "cell_type": "markdown",
   "id": "d4e5359a",
   "metadata": {},
   "source": [
    "На каждом этапе производственной линии закладываются отклонения от исходных размеров, ведущие к деформации, т. е. после каждого этапа размер детали умножается на значение ключа damage:\n",
    "\n",
    "Если исходный размер детали принять за 100%, то на каком шаге повреждения приведут к размеру менее 90%?"
   ]
  },
  {
   "cell_type": "code",
   "execution_count": 20,
   "id": "c27a752e",
   "metadata": {},
   "outputs": [],
   "source": [
    "defect_stats = [\n",
    "\t{'step number': 1, 'damage': 0.98},\n",
    "\t{'step number': 2, 'damage': 0.99},\n",
    "\t{'step number': 3, 'damage': 0.99},\n",
    "\t{'step number': 4, 'damage': 0.96},\n",
    "\t{'step number': 5, 'damage': 0.97},\n",
    "\t{'step number': 6, 'damage': 0.97},\n",
    "]\n"
   ]
  },
  {
   "cell_type": "code",
   "execution_count": 21,
   "id": "7278e333",
   "metadata": {},
   "outputs": [
    {
     "name": "stdout",
     "output_type": "stream",
     "text": [
      "0.98\n",
      "0.99\n",
      "0.99\n",
      "0.96\n",
      "0.97\n",
      "0.97\n"
     ]
    }
   ],
   "source": [
    "for step in defect_stats: #Проходимся по каждому из словарей списка\n",
    "    print(step['damage'])"
   ]
  },
  {
   "cell_type": "code",
   "execution_count": 22,
   "id": "f4317c85",
   "metadata": {},
   "outputs": [
    {
     "name": "stdout",
     "output_type": "stream",
     "text": [
      "{'step number': 1, 'damage': 0.98} 97.0\n",
      "{'step number': 2, 'damage': 0.99} 94.09\n",
      "{'step number': 3, 'damage': 0.99} 91.2673\n",
      "{'step number': 4, 'damage': 0.96} 88.529281\n",
      "{'step number': 5, 'damage': 0.97} 85.87340257\n",
      "{'step number': 6, 'damage': 0.97} 83.29720049289999\n"
     ]
    }
   ],
   "source": [
    "total_damage=100\n",
    "for i in defect_stats:\n",
    "    total_damage=total_damage*step['damage']\n",
    "    print(i, total_damage)\n"
   ]
  },
  {
   "cell_type": "code",
   "execution_count": 23,
   "id": "b01c23f8",
   "metadata": {},
   "outputs": [
    {
     "name": "stdout",
     "output_type": "stream",
     "text": [
      "5\n"
     ]
    }
   ],
   "source": [
    "#Эталонный ответ\n",
    "\n",
    "size=100 # исходный размер 100% с отклонением 0%\n",
    "number=0 # этап производственной линии\n",
    "for step in defect_stats: #Проходимся по каждому из словарей списка\n",
    "    size*=step['damage'] # Уменьшаем исходный размер на величину деформации (умножаем на значение ключа damage)\n",
    "    if size<90: # Если получившиеся повреждения привели к размеру менее 90%\n",
    "        number=step['step number'] # Определяем этап, на котором это произошло\n",
    "        break\n",
    "print(number)"
   ]
  },
  {
   "cell_type": "code",
   "execution_count": null,
   "id": "9f17b98b",
   "metadata": {},
   "outputs": [],
   "source": []
  },
  {
   "cell_type": "code",
   "execution_count": 24,
   "id": "6d5387d9",
   "metadata": {},
   "outputs": [
    {
     "name": "stdout",
     "output_type": "stream",
     "text": [
      "{'step number': 1, 'damage': 0.98}\n",
      "{'step number': 2, 'damage': 0.99}\n",
      "{'step number': 3, 'damage': 0.99}\n",
      "{'step number': 4, 'damage': 0.96}\n",
      "{'step number': 5, 'damage': 0.97}\n",
      "{'step number': 6, 'damage': 0.97}\n"
     ]
    }
   ],
   "source": [
    "total_damage=100\n",
    "for i in defect_stats:\n",
    "    print([i][0])"
   ]
  },
  {
   "cell_type": "code",
   "execution_count": 25,
   "id": "463104c7",
   "metadata": {},
   "outputs": [
    {
     "ename": "TypeError",
     "evalue": "unsupported operand type(s) for *: 'int' and 'dict'",
     "output_type": "error",
     "traceback": [
      "\u001b[1;31m---------------------------------------------------------------------------\u001b[0m",
      "\u001b[1;31mTypeError\u001b[0m                                 Traceback (most recent call last)",
      "\u001b[1;32m<ipython-input-25-3248f41dd88c>\u001b[0m in \u001b[0;36m<module>\u001b[1;34m\u001b[0m\n\u001b[0;32m      2\u001b[0m \u001b[1;32mwhile\u001b[0m \u001b[0mtotal_damage\u001b[0m\u001b[1;33m>\u001b[0m\u001b[1;36m90\u001b[0m\u001b[1;33m:\u001b[0m\u001b[1;33m\u001b[0m\u001b[1;33m\u001b[0m\u001b[0m\n\u001b[0;32m      3\u001b[0m     \u001b[1;32mfor\u001b[0m \u001b[0mi\u001b[0m \u001b[1;32min\u001b[0m \u001b[0mdefect_stats\u001b[0m\u001b[1;33m:\u001b[0m\u001b[1;33m\u001b[0m\u001b[1;33m\u001b[0m\u001b[0m\n\u001b[1;32m----> 4\u001b[1;33m         \u001b[0mtotal_damage\u001b[0m\u001b[1;33m=\u001b[0m\u001b[0mtotal_damage\u001b[0m\u001b[1;33m*\u001b[0m\u001b[0mdefect_stats\u001b[0m\u001b[1;33m[\u001b[0m\u001b[1;36m1\u001b[0m\u001b[1;33m]\u001b[0m\u001b[1;33m\u001b[0m\u001b[1;33m\u001b[0m\u001b[0m\n\u001b[0m\u001b[0;32m      5\u001b[0m \u001b[1;33m\u001b[0m\u001b[0m\n",
      "\u001b[1;31mTypeError\u001b[0m: unsupported operand type(s) for *: 'int' and 'dict'"
     ]
    }
   ],
   "source": [
    "total_damage=100\n",
    "while total_damage>90:\n",
    "    for i in defect_stats:\n",
    "        total_damage=total_damage*defect_stats[1]\n",
    "        "
   ]
  },
  {
   "cell_type": "code",
   "execution_count": null,
   "id": "60daa99f",
   "metadata": {},
   "outputs": [],
   "source": [
    "Дан словарь со статусами прилета авиарейсов. Как узнать статус рейса из Лиссабона?"
   ]
  },
  {
   "cell_type": "code",
   "execution_count": null,
   "id": "2ff42218",
   "metadata": {},
   "outputs": [],
   "source": [
    "Дан словарь со статусами прилета авиарейсов. Как узнать статус рейса из Лиссабона"
   ]
  },
  {
   "cell_type": "code",
   "execution_count": null,
   "id": "d18da4dc",
   "metadata": {},
   "outputs": [],
   "source": [
    "arrivals = {\n",
    "'Париж': {'время': '15:25', 'статус': 'ожидается', 'рейс': ['Аэрофлот']},\n",
    "'Пекин': {'время': '15:35', 'статус': 'опаздывает', 'рейс': ['China Southern Airlines', 'Россия']},\n",
    "'Лиссабон': {'время': '15:40', 'статус': 'ожидается', 'рейс': ['Nordwind', 'Аэрофлот']},\n",
    "}"
   ]
  },
  {
   "cell_type": "code",
   "execution_count": null,
   "id": "c7cb3acb",
   "metadata": {},
   "outputs": [],
   "source": [
    "arrivals['Лиссабон']['статус']"
   ]
  },
  {
   "cell_type": "markdown",
   "id": "b4370516",
   "metadata": {},
   "source": [
    "Имеется статистика курсов валют. Какая валюта имеет минимальный курс по отношению к рублю за 1 единицу? Для определения курса валюты необходимо значение ключа 'Value' разделить на значение ключа 'Nominal'. В качестве ответа укажите код валюты (например, AUD)\n",
    "\n"
   ]
  },
  {
   "cell_type": "code",
   "execution_count": null,
   "id": "f40cb8ea",
   "metadata": {},
   "outputs": [],
   "source": [
    "currency = {\n",
    "\t'AMD': {\n",
    "\t\t'Name': 'Армянских драмов',\n",
    "\t\t'Nominal': 100,\n",
    "\t\t'Value': 13.121\n",
    "\t},\n",
    "\n",
    "\t'AUD': {\n",
    "\t\t'Name': 'Австралийский доллар',\n",
    "\t\t'Nominal': 1,\n",
    "\t\t'Value': 45.5309\n",
    "\t},\n",
    "\n",
    "\t'INR': {\n",
    "\t\t'Name': 'Индийских рупий',\n",
    "\t\t'Nominal': 100,\n",
    "\t\t'Value': 92.9658\n",
    "\t},\n",
    "\n",
    "\t'MDL': {\n",
    "\t\t'Name': 'Молдавских леев',\n",
    "\t\t'Nominal': 10,\n",
    "\t\t'Value': 36.9305\n",
    "\t},\n",
    "}\n"
   ]
  },
  {
   "cell_type": "code",
   "execution_count": null,
   "id": "edb5e256",
   "metadata": {},
   "outputs": [],
   "source": [
    "currency"
   ]
  },
  {
   "cell_type": "code",
   "execution_count": null,
   "id": "7724e21e",
   "metadata": {},
   "outputs": [],
   "source": [
    "for i, a in currency.items():\n",
    "    print(i)"
   ]
  },
  {
   "cell_type": "code",
   "execution_count": null,
   "id": "4b161874",
   "metadata": {},
   "outputs": [],
   "source": [
    "for i, a in currency.items():\n",
    "    print(a)"
   ]
  },
  {
   "cell_type": "code",
   "execution_count": null,
   "id": "35e1e083",
   "metadata": {},
   "outputs": [],
   "source": [
    "for i, a in currency.items():\n",
    "    print(a['Value'])"
   ]
  },
  {
   "cell_type": "code",
   "execution_count": null,
   "id": "99be91c7",
   "metadata": {},
   "outputs": [],
   "source": [
    "for i, a in currency.items():\n",
    "    print(a['Value'])"
   ]
  },
  {
   "cell_type": "code",
   "execution_count": null,
   "id": "6d289ab4",
   "metadata": {},
   "outputs": [],
   "source": [
    "minn==10000\n",
    "for i, a in currency.items():\n",
    "    print(a['Value']/a['Nominal'])"
   ]
  },
  {
   "cell_type": "code",
   "execution_count": null,
   "id": "b6c47737",
   "metadata": {},
   "outputs": [],
   "source": [
    "minn=10000\n",
    "minz=0\n",
    "for i, a in currency.items():\n",
    "    if a['Value']/a['Nominal']<minn:\n",
    "        minn=a['Value']/a['Nominal']\n",
    "        minz=i\n",
    "print(i, minn)"
   ]
  },
  {
   "cell_type": "markdown",
   "id": "5181e9a4",
   "metadata": {},
   "source": [
    "Согласно сайту www.bodycounters.com в четырех частях фильма “Пираты Карибского моря” было довольно много погибших. Вот их статистика:\n",
    "Напишите скрипт, который считает общее число погибших живых существ во всех сериях. Укажите итоговое число в качестве ответа. Пиратов-зомби в последней части тоже считайте живыми.\n",
    "\n"
   ]
  },
  {
   "cell_type": "code",
   "execution_count": null,
   "id": "72ce0d35",
   "metadata": {},
   "outputs": [],
   "source": [
    "bodycount = {\n",
    "\t'Проклятие Черной жемчужины': {\n",
    "\t\t'человек': 17\n",
    "\t}, \n",
    "\n",
    "\t'Сундук мертвеца': {\n",
    "\t\t'человек': 56,\n",
    "\t\t'раков-отшельников': 1\n",
    "\t},\n",
    "\n",
    "\t'На краю света': {\n",
    "\t\t'человек': 88\n",
    "\t},\n",
    "\n",
    "\t'На странных берегах': {\n",
    "\t\t'человек': 56,\n",
    "\t\t'русалок': 2,\n",
    "\t\t'ядовитых жаб': 3,\n",
    "\t\t'пиратов зомби': 2\n",
    "\t}\n",
    "}\n",
    "bodycount"
   ]
  },
  {
   "cell_type": "code",
   "execution_count": null,
   "id": "ae49b4ef",
   "metadata": {},
   "outputs": [],
   "source": [
    "bodycount"
   ]
  },
  {
   "cell_type": "code",
   "execution_count": null,
   "id": "319b5cbc",
   "metadata": {},
   "outputs": [],
   "source": [
    "for k, v in bodycount.items():\n",
    "    print (k)"
   ]
  },
  {
   "cell_type": "code",
   "execution_count": null,
   "id": "4e9efa6d",
   "metadata": {},
   "outputs": [],
   "source": [
    "for k, v in bodycount.items():\n",
    "    print (v)"
   ]
  },
  {
   "cell_type": "code",
   "execution_count": null,
   "id": "2a7da217",
   "metadata": {},
   "outputs": [],
   "source": [
    "total=0\n",
    "for k, v in bodycount.items():\n",
    "    for ke, va in v.items():\n",
    "        total+=va\n",
    "        print (va)\n",
    "print(total)"
   ]
  },
  {
   "cell_type": "code",
   "execution_count": null,
   "id": "55778175",
   "metadata": {},
   "outputs": [],
   "source": [
    "f='Привет'\n",
    "hash('Привет')\n",
    "hash(f)\n",
    "print(hash('Приве'))"
   ]
  },
  {
   "cell_type": "markdown",
   "id": "541c97e7",
   "metadata": {},
   "source": [
    "База данных аптеки о лекарствах. Лекарства поставляют 1 раз в 7 дней. Есть список лекарств, количество, которое пришло, за каждый день. \n",
    "05.07.21 - пришло \n",
    "Фуцидин-Г 10 штук\n",
    "Аспирин - 100 упаковок\n",
    "Витамин В - 15 пачек\n",
    "Терафлю - 7 коробок\n",
    "\n",
    "\n",
    "28.06.21 \n",
    "Фуцидин-Г 5 штук\n",
    "Хлоргексидин 20 банок\n",
    "Витамин В - 15 пачек\n",
    "Терафлю - 7 коробок\n",
    "Маски - 1500 штук\n",
    "\n",
    "21.06.21\n",
    "Маски 500 \n",
    "Витамин С - 5 пачек\n",
    "Терафлю - 3 коробки\n",
    "\n",
    "\n",
    "Задание №1\n",
    "Как правильно оформить эти данные во встроенные конструкции. \n",
    "\n",
    "Задание №2\n",
    "Оформить. \n",
    "\n",
    "Задание №3\n",
    "Найти среди 3 поставок препараты, которые есть во всех 3 поставках. \n",
    "\n",
    "Задание №4\n",
    "Найти наибольшую поставку. "
   ]
  },
  {
   "cell_type": "code",
   "execution_count": 26,
   "id": "7aee6d1b",
   "metadata": {},
   "outputs": [],
   "source": [
    "#{Дата:{Товар:Кол-во}"
   ]
  },
  {
   "cell_type": "code",
   "execution_count": 27,
   "id": "85ab26cf",
   "metadata": {},
   "outputs": [
    {
     "data": {
      "text/plain": [
       "{'Маски': 500, 'Витамин С': 5, 'Терафлю': 3}"
      ]
     },
     "execution_count": 27,
     "metadata": {},
     "output_type": "execute_result"
    }
   ],
   "source": [
    "D210621={'Маски': 500, \"Витамин С\": 5, 'Терафлю': 3}\n",
    "D210621"
   ]
  },
  {
   "cell_type": "code",
   "execution_count": 28,
   "id": "48d8b121",
   "metadata": {},
   "outputs": [
    {
     "data": {
      "text/plain": [
       "{'Фуцидин-Г': 5,\n",
       " 'Хлоргексидин': 20,\n",
       " 'Витамин В': 15,\n",
       " 'Терафлю': 7,\n",
       " 'Маски': 1500}"
      ]
     },
     "execution_count": 28,
     "metadata": {},
     "output_type": "execute_result"
    }
   ],
   "source": [
    "D280621={\"Фуцидин-Г\":5, 'Хлоргексидин':20, \"Витамин В\": 15, 'Терафлю': 7, 'Маски': 1500}\n",
    "D280621"
   ]
  },
  {
   "cell_type": "code",
   "execution_count": 29,
   "id": "0c011e32",
   "metadata": {},
   "outputs": [
    {
     "data": {
      "text/plain": [
       "{'Фуцидин-Г': 10, 'Аспирин': 100, 'Витамин В': 15, 'Терафлю': 7}"
      ]
     },
     "execution_count": 29,
     "metadata": {},
     "output_type": "execute_result"
    }
   ],
   "source": [
    "D050721= {'Фуцидин-Г': 10, 'Аспирин': 100 , 'Витамин В': 15, 'Терафлю': 7}\n",
    "D050721"
   ]
  },
  {
   "cell_type": "code",
   "execution_count": 30,
   "id": "31b449a9",
   "metadata": {},
   "outputs": [
    {
     "data": {
      "text/plain": [
       "{'21.06.21': {'Маски': 500, 'Витамин С': 5, 'Терафлю': 3},\n",
       " '28.06.21': {'Фуцидин-Г': 5,\n",
       "  'Хлоргексидин': 20,\n",
       "  'Витамин В': 15,\n",
       "  'Терафлю': 7,\n",
       "  'Маски': 1500},\n",
       " '05.07.21': {'Фуцидин-Г': 10, 'Аспирин': 100, 'Витамин В': 15, 'Терафлю': 7}}"
      ]
     },
     "execution_count": 30,
     "metadata": {},
     "output_type": "execute_result"
    }
   ],
   "source": [
    "postavki={'21.06.21': D210621,'28.06.21':D280621, '05.07.21':D050721}\n",
    "postavki"
   ]
  },
  {
   "cell_type": "code",
   "execution_count": 45,
   "id": "00522b02",
   "metadata": {},
   "outputs": [
    {
     "name": "stdout",
     "output_type": "stream",
     "text": [
      "1547 28.06.21\n"
     ]
    }
   ],
   "source": [
    "maxim=0\n",
    "max_date=0\n",
    "for days, postavka in postavki.items():\n",
    "    #print(postavka)\n",
    "    ccount=0\n",
    "    for pill, kolvo in  postavka.items():\n",
    "        ccount+=kolvo\n",
    "    if ccount>maxim:\n",
    "        maxim=ccount\n",
    "        max_date=days\n",
    "   # print(days, maxim, ccount)\n",
    "print(maxim, max_date)"
   ]
  },
  {
   "cell_type": "code",
   "execution_count": 48,
   "id": "d650df0f",
   "metadata": {},
   "outputs": [
    {
     "name": "stdout",
     "output_type": "stream",
     "text": [
      "28.06.21 1547\n"
     ]
    }
   ],
   "source": [
    "# Альтернативный вариант для задания 4\n",
    "items_cnt = []\n",
    "dates = []\n",
    "for date in postavki:\n",
    "    items_cnt.append(sum(postavki[date].values()))\n",
    "    dates.append(date)\n",
    "print(dates[items_cnt.index(max(items_cnt))],max(items_cnt))"
   ]
  },
  {
   "cell_type": "code",
   "execution_count": 34,
   "id": "79f374fc",
   "metadata": {},
   "outputs": [
    {
     "name": "stdout",
     "output_type": "stream",
     "text": [
      "{'Маски': 2, 'Витамин С': 1, 'Терафлю': 3, 'Фуцидин-Г': 2, 'Хлоргексидин': 1, 'Витамин В': 2, 'Аспирин': 1}\n",
      "Терафлю 3\n"
     ]
    }
   ],
   "source": [
    "tovary={}\n",
    "count_postavki=len(postavki)\n",
    "for date in postavki:\n",
    "    #print(date)\n",
    "    for tovar in postavki[date]:\n",
    "        if tovar in tovary:\n",
    "            tovary[tovar]+=1\n",
    "        else:\n",
    "            tovary[tovar]=1\n",
    "print(tovary)\n",
    "for tovar, dni in tovary.items():\n",
    "    if dni==count_postavki:\n",
    "        print(tovar, dni)"
   ]
  },
  {
   "cell_type": "markdown",
   "id": "f0a4a384",
   "metadata": {},
   "source": [
    "Вложенные списки. \n",
    "\n",
    "Есть квадратная матрица. На диагонали стоят значения 2 * * (1/2), вне диагонали - 0. Одно из значений вне диагонали =1. Матрица 3* 3\n",
    "Найти индекс, где стоит 1. "
   ]
  },
  {
   "cell_type": "code",
   "execution_count": 51,
   "id": "f57dd0de",
   "metadata": {},
   "outputs": [],
   "source": [
    "matrix=[\n",
    "    [2**(1/2), 0, 1],\n",
    "    [ 0, 2**(1/2), 0],\n",
    "    [ 0, 0, 2**(1/2)]\n",
    "]"
   ]
  },
  {
   "cell_type": "code",
   "execution_count": 50,
   "id": "2494c6bd",
   "metadata": {},
   "outputs": [
    {
     "data": {
      "text/plain": [
       "[[1.4142135623730951, 0, 0],\n",
       " [0, 1.4142135623730951, 0],\n",
       " [0, 0, 1.4142135623730951]]"
      ]
     },
     "execution_count": 50,
     "metadata": {},
     "output_type": "execute_result"
    }
   ],
   "source": [
    "matrix"
   ]
  },
  {
   "cell_type": "code",
   "execution_count": 59,
   "id": "f231cf0b",
   "metadata": {},
   "outputs": [
    {
     "name": "stdout",
     "output_type": "stream",
     "text": [
      "2 0\n"
     ]
    }
   ],
   "source": [
    "s=0\n",
    "l=10\n",
    "for line  in matrix:\n",
    "    for column in line:\n",
    "        if column==1:\n",
    "            s=line.index(column)\n",
    "            l=matrix.index(line)\n",
    "print(s, l)"
   ]
  },
  {
   "cell_type": "markdown",
   "id": "269e4d23",
   "metadata": {},
   "source": [
    "Сгенерировать матрицу, на диагонали квадраты индексов, а вне диагонали суммы индексов строк и столбцов."
   ]
  },
  {
   "cell_type": "code",
   "execution_count": 62,
   "id": "41ffa4f0",
   "metadata": {},
   "outputs": [
    {
     "name": "stdout",
     "output_type": "stream",
     "text": [
      "[[0, 1, 2, 3, 4], [1, 4, 3, 4, 5], [2, 3, 16, 5, 6], [3, 4, 5, 36, 7], [4, 5, 6, 7, 64]]\n"
     ]
    }
   ],
   "source": [
    "lines=[]\n",
    "for i in  range(5):\n",
    "    col=[]\n",
    "    for j in range(5):\n",
    "        if i==j:\n",
    "            col.append((i+j)**2)\n",
    "        else:\n",
    "            col.append(i+j)\n",
    "    lines.append(col)\n",
    "print(lines)"
   ]
  },
  {
   "cell_type": "markdown",
   "id": "1dbebc3d",
   "metadata": {},
   "source": [
    "Есть словарь с ключами: население, площадь, название страны. Значения - числа и наименования стран. \n",
    "Создать такую вложенную конструкцию, найти страны, с населением выше среднего. "
   ]
  },
  {
   "cell_type": "code",
   "execution_count": 63,
   "id": "ab42ff6b",
   "metadata": {},
   "outputs": [
    {
     "data": {
      "text/plain": [
       "{'Население': [146, 16, 322],\n",
       " 'Площадь': [17000, 100, 6500],\n",
       " 'Страна': ['Россия', 'Беларусь', 'США']}"
      ]
     },
     "execution_count": 63,
     "metadata": {},
     "output_type": "execute_result"
    }
   ],
   "source": [
    "Countries={'Население': [146, 16, 322], 'Площадь': [17000, 100, 6500], 'Страна': ['Россия', 'Беларусь', 'США']}\n",
    "Countries"
   ]
  },
  {
   "cell_type": "code",
   "execution_count": 71,
   "id": "63302fb7",
   "metadata": {},
   "outputs": [
    {
     "name": "stdout",
     "output_type": "stream",
     "text": [
      "322 США\n"
     ]
    }
   ],
   "source": [
    "avg=(sum(Countries['Население']))/len(Countries['Население'])\n",
    "\n",
    "for i , j in zip(Countries['Население'], Countries['Страна']):\n",
    "    if float(i)> avg:\n",
    "        print(i, j)"
   ]
  },
  {
   "cell_type": "code",
   "execution_count": 85,
   "id": "48b1c934",
   "metadata": {},
   "outputs": [
    {
     "data": {
      "text/plain": [
       "{'country': ['Англия',\n",
       "  'Канада',\n",
       "  'США',\n",
       "  'Россия',\n",
       "  'Украина',\n",
       "  'Беларусь',\n",
       "  'Казахстан'],\n",
       " 'population': [56.29, 38.05, 322.28, 146.24, 45.5, 9.5, 17.04],\n",
       " 'square': [133396, 9984670, 9826630, 17125191, 603628, 207600, 2724902]}"
      ]
     },
     "execution_count": 85,
     "metadata": {},
     "output_type": "execute_result"
    }
   ],
   "source": [
    "#Определить, какие страны выбиваются из правила трёх сигм.\n",
    "country_dict={\n",
    "    'country': ['Англия', 'Канада', 'США', 'Россия', 'Украина', 'Беларусь', 'Казахстан'],\n",
    "    'population': [56.29, 38.05, 322.28, 146.24, 45.5, 9.5, 17.04],\n",
    "    'square': [133396, 9984670, 9826630, 17125191, 603628, 207600, 2724902]\n",
    "}\n",
    "country_dict"
   ]
  },
  {
   "cell_type": "code",
   "execution_count": 86,
   "id": "6dcc58ef",
   "metadata": {},
   "outputs": [
    {
     "data": {
      "text/plain": [
       "5800859.571428572"
      ]
     },
     "execution_count": 86,
     "metadata": {},
     "output_type": "execute_result"
    }
   ],
   "source": [
    "n=len(country_dict['square'])\n",
    "avg_sq=(sum(country_dict['square']))/n\n",
    "avg_sq"
   ]
  },
  {
   "cell_type": "code",
   "execution_count": 100,
   "id": "f8751608",
   "metadata": {},
   "outputs": [
    {
     "name": "stdout",
     "output_type": "stream",
     "text": [
      "[133396, 9984670, 9826630, 17125191, 603628, 207600, 2724902]\n",
      "6115892.721952766\n"
     ]
    }
   ],
   "source": [
    "print(country_dict['square'])\n",
    "dif=0\n",
    "sq_dif=0\n",
    "sum_sq_dif=0\n",
    "for i in country_dict['square']:\n",
    "    dif=i-avg_sq\n",
    "    sq_dif=dif*dif\n",
    "    sum_sq_dif=sum_sq_dif+sq_dif\n",
    "    #print(sum_sq_dif)\n",
    "sko=(sum_sq_dif/n)**(1/2)\n",
    "print(sko)"
   ]
  },
  {
   "cell_type": "code",
   "execution_count": 108,
   "id": "70df6baa",
   "metadata": {},
   "outputs": [
    {
     "name": "stdout",
     "output_type": "stream",
     "text": [
      "-315033.15052419435 11916752.293381337\n"
     ]
    }
   ],
   "source": [
    "#Сделала +- 1 сигму, т.к. за пределами 2 сигм никого нет. Минимальную сигму не брала, т.к. она отрицательная. \n",
    "minim=avg_sq-sko\n",
    "maxim=avg_sq+sko\n",
    "print(minim, maxim)"
   ]
  },
  {
   "cell_type": "code",
   "execution_count": 109,
   "id": "2a79d62b",
   "metadata": {},
   "outputs": [
    {
     "name": "stdout",
     "output_type": "stream",
     "text": [
      "Россия 17125191\n"
     ]
    }
   ],
   "source": [
    "for strana, plosh in zip(country_dict['country'], country_dict['square']):\n",
    "    if plosh>maxim:\n",
    "        print (strana, plosh)"
   ]
  },
  {
   "cell_type": "code",
   "execution_count": 88,
   "id": "ba99d4fe",
   "metadata": {},
   "outputs": [
    {
     "name": "stdout",
     "output_type": "stream",
     "text": [
      "6115892.721952766\n"
     ]
    }
   ],
   "source": [
    "import numpy as np\n",
    "print(np.std(country_dict['square']))"
   ]
  }
 ],
 "metadata": {
  "kernelspec": {
   "display_name": "Python 3",
   "language": "python",
   "name": "python3"
  },
  "language_info": {
   "codemirror_mode": {
    "name": "ipython",
    "version": 3
   },
   "file_extension": ".py",
   "mimetype": "text/x-python",
   "name": "python",
   "nbconvert_exporter": "python",
   "pygments_lexer": "ipython3",
   "version": "3.8.10"
  }
 },
 "nbformat": 4,
 "nbformat_minor": 5
}
