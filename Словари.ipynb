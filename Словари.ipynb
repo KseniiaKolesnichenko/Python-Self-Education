{
 "cells": [
  {
   "cell_type": "markdown",
   "metadata": {},
   "source": [
    "# Создание словаря\n",
    "\n",
    "\n",
    "Доступ к элементам словаря выполняется хоть и медленнее, чем к обычным массивам, но в целом довольно быстро.\n",
    "\n",
    "В языке Питон ключом может быть произвольный неизменяемый тип данных: целые и действительные числа, строки, кортежи. Ключом в словаре не может быть множество, но может быть элемент типа frozenset: специальный тип данных, являющийся аналогом типа set, который нельзя изменять после создания. Значением элемента словаря может быть любой тип данных, в том числе и изменяемый.\n",
    "\n",
    "\n",
    "\n",
    "Если все элементы словаря становятся известными в ходе выполнения программы (с использованием программы input()), то лучше сначала создавать пустой солварь"
   ]
  },
  {
   "cell_type": "code",
   "execution_count": 1,
   "metadata": {},
   "outputs": [
    {
     "name": "stdout",
     "output_type": "stream",
     "text": [
      "<class 'dict'>\n"
     ]
    }
   ],
   "source": [
    "dict1={}\n",
    "print(type(dict1))"
   ]
  },
  {
   "cell_type": "code",
   "execution_count": 158,
   "metadata": {},
   "outputs": [
    {
     "name": "stdout",
     "output_type": "stream",
     "text": [
      "{'Russia': 'Moscow', 'Ukraine': 'Kiev', 'USA': 'Washington'}\n"
     ]
    }
   ],
   "source": [
    "Capitals = {'Russia': 'Moscow', 'Ukraine': 'Kiev', 'USA': 'Washington'}\n",
    "Capitals = dict(Russia = 'Moscow', Ukraine = 'Kiev', USA = 'Washington') #ключи могут быть только строками, причем являющимися корректными идентификаторами\n",
    "Capitals = dict([(\"Russia\", \"Moscow\"), (\"Ukraine\", \"Kiev\"), (\"USA\", \"Washington\")])\n",
    "Capitals = dict(zip([\"Russia\", \"Ukraine\", \"USA\"], [\"Moscow\", \"Kiev\", \"Washington\"]))\n",
    "print(Capitals)"
   ]
  },
  {
   "cell_type": "code",
   "execution_count": 2,
   "metadata": {
    "scrolled": true
   },
   "outputs": [
    {
     "name": "stdout",
     "output_type": "stream",
     "text": [
      "Введите ключ очередного элемента словаряКлюч 1\n",
      "Введите значение очередного элемента словаряКлюч 1\n",
      "Введите ключ очередного элемента словаряКлюч 2\n",
      "Введите значение очередного элемента словаряЗНачение 2\n",
      "Введите ключ очередного элемента словаряКлюч 3\n",
      "Введите значение очередного элемента словаряЗначение 123\n"
     ]
    }
   ],
   "source": [
    "for k in range (3):\n",
    "    k1=input('Введите ключ очередного элемента словаря')\n",
    "    zn=input('Введите значение очередного элемента словаря')\n",
    "    dict1[k1]=zn"
   ]
  },
  {
   "cell_type": "code",
   "execution_count": null,
   "metadata": {},
   "outputs": [],
   "source": []
  },
  {
   "cell_type": "code",
   "execution_count": 3,
   "metadata": {},
   "outputs": [
    {
     "data": {
      "text/plain": [
       "{'Ключ 1': 'Ключ 1', 'Ключ 2': 'ЗНачение 2', 'Ключ 3': 'Значение 123'}"
      ]
     },
     "execution_count": 3,
     "metadata": {},
     "output_type": "execute_result"
    }
   ],
   "source": [
    "dict1"
   ]
  },
  {
   "cell_type": "code",
   "execution_count": 4,
   "metadata": {},
   "outputs": [
    {
     "name": "stdout",
     "output_type": "stream",
     "text": [
      "<class 'dict'>\n"
     ]
    }
   ],
   "source": [
    "dict2=dict()\n",
    "print(type(dict2))"
   ]
  },
  {
   "cell_type": "code",
   "execution_count": 5,
   "metadata": {},
   "outputs": [
    {
     "name": "stdout",
     "output_type": "stream",
     "text": [
      "<class 'dict'>\n"
     ]
    }
   ],
   "source": [
    "dictionary={'a': 239, 10:100}\n",
    "print(type(dictionary))"
   ]
  },
  {
   "cell_type": "markdown",
   "metadata": {},
   "source": [
    "Если тип всех ключей строковый и они не содержат пробелов, то для создания словаря удобно использовать функцию dict() \n",
    "В этом случае ключи можно использовать без кавычек. "
   ]
  },
  {
   "cell_type": "code",
   "execution_count": 6,
   "metadata": {},
   "outputs": [],
   "source": [
    "R=dict(ПЛ655='Сочи', ЮТ5772='Санкт-Петербург', ДР5569='Краснодар')"
   ]
  },
  {
   "cell_type": "markdown",
   "metadata": {},
   "source": [
    "Кроме того, для создания словарей из произвольных выражений ключей и значений можно использовать генератор словарей "
   ]
  },
  {
   "cell_type": "code",
   "execution_count": 7,
   "metadata": {},
   "outputs": [
    {
     "data": {
      "text/plain": [
       "{2: 4, 4: 16, 6: 36}"
      ]
     },
     "execution_count": 7,
     "metadata": {},
     "output_type": "execute_result"
    }
   ],
   "source": [
    "dict_comprehension={x: x**2 for x in (2, 4, 6)}\n",
    "dict_comprehension"
   ]
  },
  {
   "cell_type": "markdown",
   "metadata": {},
   "source": [
    "Добавить новый эдемент в уже существующий словарь. Если указать существующий ключ, значение будет заменено на новое."
   ]
  },
  {
   "cell_type": "code",
   "execution_count": 8,
   "metadata": {},
   "outputs": [
    {
     "data": {
      "text/plain": [
       "{'ПЛ655': 'Сочи',\n",
       " 'ЮТ5772': 'Санкт-Петербург',\n",
       " 'ДР5569': 'Краснодар',\n",
       " 'FF5577': 'Сургут'}"
      ]
     },
     "execution_count": 8,
     "metadata": {},
     "output_type": "execute_result"
    }
   ],
   "source": [
    "R['FF5577']='Сургут'\n",
    "R"
   ]
  },
  {
   "cell_type": "code",
   "execution_count": 1,
   "metadata": {},
   "outputs": [
    {
     "data": {
      "text/plain": [
       "{1: 'Mon', 2: 'Tue', 3: 'Wed'}"
      ]
     },
     "execution_count": 1,
     "metadata": {},
     "output_type": "execute_result"
    }
   ],
   "source": [
    "DAYS = [ 1, 2, 3 ]\n",
    "DAYS_NAMES = [ 'Mon', 'Tue', 'Wed' ]\n",
    "DICT_DAYS = dict(zip(DAYS, DAYS_NAMES))\n",
    "DICT_DAYS"
   ]
  },
  {
   "cell_type": "markdown",
   "metadata": {},
   "source": [
    "## Обращение к отдельному элементу словаря"
   ]
  },
  {
   "cell_type": "code",
   "execution_count": 9,
   "metadata": {},
   "outputs": [
    {
     "name": "stdout",
     "output_type": "stream",
     "text": [
      "Сургут\n"
     ]
    }
   ],
   "source": [
    "print(R['FF5577'])"
   ]
  },
  {
   "cell_type": "markdown",
   "metadata": {},
   "source": [
    "Другой способ определения значения по ключу — метод get: A.get(key). Если элемента с ключом get нет в словаре, то возвращается значение None. В форме записи с двумя аргументами A.get(key, val) метод возвращает значение val, если элемент с ключом key отсутствует в словаре."
   ]
  },
  {
   "cell_type": "code",
   "execution_count": 166,
   "metadata": {},
   "outputs": [
    {
     "data": {
      "text/plain": [
       "'Сургут'"
      ]
     },
     "execution_count": 166,
     "metadata": {},
     "output_type": "execute_result"
    }
   ],
   "source": [
    "R.get('FF5577')"
   ]
  },
  {
   "cell_type": "code",
   "execution_count": 167,
   "metadata": {},
   "outputs": [
    {
     "data": {
      "text/plain": [
       "'Сургут'"
      ]
     },
     "execution_count": 167,
     "metadata": {},
     "output_type": "execute_result"
    }
   ],
   "source": [
    "R.get('FF5577', 'Сургут')"
   ]
  },
  {
   "cell_type": "code",
   "execution_count": 168,
   "metadata": {},
   "outputs": [
    {
     "data": {
      "text/plain": [
       "'Casablanca'"
      ]
     },
     "execution_count": 168,
     "metadata": {},
     "output_type": "execute_result"
    }
   ],
   "source": [
    "R.get('FF55555', 'Casablanca')"
   ]
  },
  {
   "cell_type": "markdown",
   "metadata": {},
   "source": [
    "## Перебор элементов словаря"
   ]
  },
  {
   "cell_type": "code",
   "execution_count": 10,
   "metadata": {},
   "outputs": [
    {
     "name": "stdout",
     "output_type": "stream",
     "text": [
      "ПЛ655 Сочи\n",
      "ЮТ5772 Санкт-Петербург\n",
      "ДР5569 Краснодар\n",
      "FF5577 Сургут\n"
     ]
    }
   ],
   "source": [
    "for kluch in R:\n",
    "    print (kluch, R[kluch])"
   ]
  },
  {
   "cell_type": "markdown",
   "metadata": {},
   "source": [
    "## Операции со словарями\n",
    "\n",
    "\n",
    "len() - фукнция (количество элементов словаря)\n",
    "\n",
    "keys() - метод (возвращает набор ключей словаря)\n",
    "\n",
    "values() - метод (возвращает набор значений словаря)\n",
    "\n",
    "items() - метод (возвращает набор пар ключ - значение словаря)\n",
    "\n",
    "del - оператор - удаляет элемент словартя по его ключу (del<имя словаря>[<ключ>])\n",
    "\n",
    "clear() - метод, удаляет все значения из словаря <имя словаря>.clear()\n",
    "\n",
    "\n",
    "операция D[key] – доступ к элементу словаря D по значению ключа key;\n",
    "\n",
    "операции in, not in – определения наличия или отсутствия ключа в словаре;\n",
    "\n",
    "метод iter() – получить итератор по ключам словаря;\n",
    "\n",
    "метод copy() – вернуть копию словаря;\n",
    "\n",
    "метод dict.fromkeys() – создать новый словарь из ключей и значений;\n",
    "\n",
    "метод get() – получить значение по ключу;\n",
    "\n",
    "метод items() – вернуть представление элементов словаря;\n",
    "\n",
    "метод keys() – получить новое представление ключей словаря;\n",
    "\n",
    "метод pop() – удаление элементов из словаря с возвратом значения;\n",
    "\n",
    "метод popitem() – вытягивание из словаря произвольной пары ключ:значение;\n",
    "\n",
    "метод setdefault() – установить элемент по умолчанию;\n",
    "\n",
    "\n",
    "метод update() – обновление словаря по заданному списку пар ключ:значение;\n",
    "\n",
    "метод values() – получить список значений из словаря.\n",
    "\n",
    "\n",
    "### Проверка вхождения"
   ]
  },
  {
   "cell_type": "code",
   "execution_count": 11,
   "metadata": {},
   "outputs": [
    {
     "name": "stdout",
     "output_type": "stream",
     "text": [
      "True\n"
     ]
    }
   ],
   "source": [
    "print('a' in dictionary)\n",
    "# вот это не сработает \n",
    "# print(a in dictionary)"
   ]
  },
  {
   "cell_type": "code",
   "execution_count": 13,
   "metadata": {},
   "outputs": [
    {
     "data": {
      "text/plain": [
       "{'a': 239, 10: 100}"
      ]
     },
     "execution_count": 13,
     "metadata": {},
     "output_type": "execute_result"
    }
   ],
   "source": [
    "dictionary"
   ]
  },
  {
   "cell_type": "code",
   "execution_count": 18,
   "metadata": {
    "scrolled": true
   },
   "outputs": [],
   "source": [
    "# dictionary[v]=25 не сработает\n",
    "dictionary['v']=25"
   ]
  },
  {
   "cell_type": "code",
   "execution_count": 19,
   "metadata": {},
   "outputs": [
    {
     "data": {
      "text/plain": [
       "{'a': 239, 10: 100, 'v': 25}"
      ]
     },
     "execution_count": 19,
     "metadata": {},
     "output_type": "execute_result"
    }
   ],
   "source": [
    "dictionary"
   ]
  },
  {
   "cell_type": "code",
   "execution_count": 163,
   "metadata": {},
   "outputs": [
    {
     "name": "stdout",
     "output_type": "stream",
     "text": [
      "Столица страны Russia: Moscow\n",
      "В базе нет страны c названием France\n",
      "Столица страны USA: Washington\n",
      "Столица страны Russia: Moscow\n"
     ]
    }
   ],
   "source": [
    "# Pythontutor\n",
    "# Создадим пустой словать Capitals\n",
    "Capitals = dict()\n",
    "\n",
    "# Заполним его несколькими значениями\n",
    "Capitals['Russia'] = 'Moscow'\n",
    "Capitals['Ukraine'] = 'Kiev'\n",
    "Capitals['USA'] = 'Washington'\n",
    "\n",
    "Countries = ['Russia', 'France', 'USA', 'Russia']\n",
    "\n",
    "for country in Countries:\n",
    "    # Для каждой страны из списка проверим, есть ли она в словаре Capitals\n",
    "    if country in Capitals:\n",
    "        print('Столица страны ' + country + ': ' + Capitals[country])\n",
    "    else:\n",
    "        print('В базе нет страны c названием ' + country)\n"
   ]
  },
  {
   "cell_type": "markdown",
   "metadata": {},
   "source": [
    "У вас есть телефонная книга. Напишите код, который создает список phones с перечисленными номерами телефонов. Порядок номеров должен совпадать со справочником\n",
    "\n"
   ]
  },
  {
   "cell_type": "code",
   "execution_count": 20,
   "metadata": {},
   "outputs": [],
   "source": [
    "# добавьте номера телефонов в список phones\n",
    "phones=['+79033923029', '+78125849204', '+79053049385', '+79265748370', '+79030598495']"
   ]
  },
  {
   "cell_type": "markdown",
   "metadata": {},
   "source": [
    "Для работы с такими структурами подходят словари. Отличаются они от списков тем, что элементом словаря является не одно, а два значения. Первое называется ключом, второе — значением. Пример простого словаря из одной такой пары:\n",
    "\n"
   ]
  },
  {
   "cell_type": "code",
   "execution_count": 21,
   "metadata": {},
   "outputs": [],
   "source": [
    "employee_base = {'Мария Никитина': '+79033923029'}"
   ]
  },
  {
   "cell_type": "markdown",
   "metadata": {},
   "source": [
    "В данном случае имя сотрудника — это ключ (располагается слева от двоеточия), а номер телефона — значение (соответственно, располагается справа от двоеточия).\n",
    "\n",
    "Элементы словаря добавляются в него через запятую. Добавим еще одного сотрудника в словарь:\n",
    "\n"
   ]
  },
  {
   "cell_type": "code",
   "execution_count": 22,
   "metadata": {},
   "outputs": [],
   "source": [
    "employee_base = {\n",
    "    'Мария Никитина': '+79033923029',\n",
    "    'Егор Савичев': '+78125849204',\n",
    "}"
   ]
  },
  {
   "cell_type": "code",
   "execution_count": 23,
   "metadata": {},
   "outputs": [
    {
     "data": {
      "text/plain": [
       "{'Мария Никитина': '+79033923029', 'Егор Савичев': '+78125849204'}"
      ]
     },
     "execution_count": 23,
     "metadata": {},
     "output_type": "execute_result"
    }
   ],
   "source": [
    "employee_base"
   ]
  },
  {
   "cell_type": "markdown",
   "metadata": {},
   "source": [
    "Создайте телефонную книгу в виде словаря\n",
    "Добавьте в словарь employee_base оставшиеся контакты (Александра Пахомова, Алины Егоровой и Руслана Башарова)\n",
    "\n"
   ]
  },
  {
   "cell_type": "code",
   "execution_count": 24,
   "metadata": {},
   "outputs": [],
   "source": [
    "employee_base = {\n",
    "    'Мария Никитина': '+79033923029',\n",
    "    'Егор Савичев': '+78125849204',\n",
    "    'Александр Пахомов': '+79053049385',\n",
    "    'Алина Егорова': '+79265748370',\n",
    "    'Руслан Башаров': '+79030598495',\n",
    "}"
   ]
  },
  {
   "cell_type": "markdown",
   "metadata": {},
   "source": [
    "## Обращение к элементам словаря"
   ]
  },
  {
   "cell_type": "markdown",
   "metadata": {},
   "source": [
    "Теперь мы можем узнать номер телефона сотрудника, просто обратившись к словарю employee_base по любому из имеющихся ключей (т. е. по имени сотрудника):\n"
   ]
  },
  {
   "cell_type": "code",
   "execution_count": 25,
   "metadata": {},
   "outputs": [
    {
     "name": "stdout",
     "output_type": "stream",
     "text": [
      "+79033923029\n"
     ]
    }
   ],
   "source": [
    "print(employee_base['Мария Никитина'])"
   ]
  },
  {
   "cell_type": "code",
   "execution_count": 26,
   "metadata": {},
   "outputs": [
    {
     "name": "stdout",
     "output_type": "stream",
     "text": [
      "+79265748370\n"
     ]
    }
   ],
   "source": [
    "print(employee_base['Алина Егорова'])"
   ]
  },
  {
   "cell_type": "markdown",
   "metadata": {},
   "source": [
    "При циклическом просмотре словарей ключ и соответствующее значение можно получить одновременно с помощью метода items ()."
   ]
  },
  {
   "cell_type": "code",
   "execution_count": 27,
   "metadata": {},
   "outputs": [
    {
     "name": "stdout",
     "output_type": "stream",
     "text": [
      "gallahad the pure\n",
      "robin the brave\n"
     ]
    }
   ],
   "source": [
    "knights = {'gallahad': 'the pure', 'robin': 'the brave'}\n",
    "for k, v in knights.items():\n",
    "    print(k, v)\n"
   ]
  },
  {
   "cell_type": "markdown",
   "metadata": {},
   "source": [
    "При циклическом прохождении последовательности индекс позиции и соответствующее значение могут быть получены одновременно с помощью функции enumerate ()."
   ]
  },
  {
   "cell_type": "code",
   "execution_count": 28,
   "metadata": {
    "scrolled": true
   },
   "outputs": [
    {
     "name": "stdout",
     "output_type": "stream",
     "text": [
      "0 tic\n",
      "1 tac\n",
      "2 toe\n"
     ]
    }
   ],
   "source": [
    "for i, v in enumerate(['tic', 'tac', 'toe']):\n",
    "    print(i, v)\n"
   ]
  },
  {
   "cell_type": "markdown",
   "metadata": {},
   "source": [
    "Для одновременного перебора двух или более последовательностей записи могут быть сопряжены с функцией zip ()."
   ]
  },
  {
   "cell_type": "code",
   "execution_count": 29,
   "metadata": {},
   "outputs": [
    {
     "name": "stdout",
     "output_type": "stream",
     "text": [
      "What is your name?  It is lancelot.\n",
      "What is your quest?  It is the holy grail.\n",
      "What is your favorite color?  It is blue.\n"
     ]
    }
   ],
   "source": [
    "questions = ['name', 'quest', 'favorite color']\n",
    "answers = ['lancelot', 'the holy grail', 'blue']\n",
    "for q, a in zip(questions, answers):\n",
    "    print('What is your {0}?  It is {1}.'.format(q, a))"
   ]
  },
  {
   "cell_type": "code",
   "execution_count": null,
   "metadata": {},
   "outputs": [],
   "source": [
    "A = dict(zip('abcdef', list(range(6))))\n",
    "for key in A:\n",
    "    print(key, A[key])\n"
   ]
  },
  {
   "cell_type": "markdown",
   "metadata": {},
   "source": [
    "#### Пропущенные ключи. Способ 1"
   ]
  },
  {
   "cell_type": "code",
   "execution_count": 169,
   "metadata": {},
   "outputs": [],
   "source": [
    "request = ['Мария Никитина', 'Егор Савичев', 'Алексей Чернышевский']"
   ]
  },
  {
   "cell_type": "code",
   "execution_count": 170,
   "metadata": {},
   "outputs": [
    {
     "name": "stdout",
     "output_type": "stream",
     "text": [
      "+79033923029\n",
      "+78125849204\n"
     ]
    },
    {
     "ename": "KeyError",
     "evalue": "'Алексей Чернышевский'",
     "output_type": "error",
     "traceback": [
      "\u001b[1;31m---------------------------------------------------------------------------\u001b[0m",
      "\u001b[1;31mKeyError\u001b[0m                                  Traceback (most recent call last)",
      "\u001b[1;32m<ipython-input-170-f922ccb3c20e>\u001b[0m in \u001b[0;36m<module>\u001b[1;34m\u001b[0m\n\u001b[0;32m      1\u001b[0m \u001b[1;32mfor\u001b[0m \u001b[0mname\u001b[0m \u001b[1;32min\u001b[0m \u001b[0mrequest\u001b[0m\u001b[1;33m:\u001b[0m\u001b[1;33m\u001b[0m\u001b[1;33m\u001b[0m\u001b[0m\n\u001b[1;32m----> 2\u001b[1;33m     \u001b[0mprint\u001b[0m\u001b[1;33m(\u001b[0m\u001b[0memployee_base\u001b[0m\u001b[1;33m[\u001b[0m\u001b[0mname\u001b[0m\u001b[1;33m]\u001b[0m\u001b[1;33m)\u001b[0m\u001b[1;33m\u001b[0m\u001b[1;33m\u001b[0m\u001b[0m\n\u001b[0m",
      "\u001b[1;31mKeyError\u001b[0m: 'Алексей Чернышевский'"
     ]
    }
   ],
   "source": [
    "for name in request:\n",
    "    print(employee_base[name])"
   ]
  },
  {
   "cell_type": "code",
   "execution_count": 171,
   "metadata": {},
   "outputs": [
    {
     "name": "stdout",
     "output_type": "stream",
     "text": [
      "+79033923029\n",
      "+78125849204\n",
      "Неизвестный сотрудник\n"
     ]
    }
   ],
   "source": [
    "for name in request:\n",
    "    if name in employee_base:\n",
    "        print(employee_base[name])\n",
    "    else:\n",
    "        print('Неизвестный сотрудник')\n"
   ]
  },
  {
   "cell_type": "markdown",
   "metadata": {},
   "source": [
    "###### Жеребьевка Чемпионата мира-2018\n",
    "Дан словарь с результатами жеребьевки Чемпионата мира по футболу-2018 пяти стран по группам:\n",
    "\n",
    "draw_dict = {\n",
    "\t'Россия': 'A',\n",
    "\t'Португалия': 'B',\n",
    "\t'Франция': 'C',\n",
    "\t'Дания': 'C',\n",
    "\t'Египет': 'A'\n",
    "}\n",
    "\n",
    "\n",
    "Напишите код, который по названию страны country присваивает переменной group название группы по результатам жеребьевки. Если страны нет в словаре draw_dict, то переменной group присваивается значение 'unknown'. Выполните код для значения country = 'Италия'.\n"
   ]
  },
  {
   "cell_type": "code",
   "execution_count": 33,
   "metadata": {},
   "outputs": [],
   "source": [
    "draw_dict = {\n",
    "'Россия': 'A',\n",
    "'Португалия': 'B',\n",
    "'Франция': 'C',\n",
    "'Дания': 'C',\n",
    "'Египет': 'A'\n",
    "}"
   ]
  },
  {
   "cell_type": "code",
   "execution_count": 34,
   "metadata": {},
   "outputs": [
    {
     "data": {
      "text/plain": [
       "{'Россия': 'A', 'Португалия': 'B', 'Франция': 'C', 'Дания': 'C', 'Египет': 'A'}"
      ]
     },
     "execution_count": 34,
     "metadata": {},
     "output_type": "execute_result"
    }
   ],
   "source": [
    "draw_dict"
   ]
  },
  {
   "cell_type": "code",
   "execution_count": 35,
   "metadata": {},
   "outputs": [],
   "source": [
    "country =  ['Италия', 'Россия', 'Португалия', 'Франция', 'Дания', 'Египет']"
   ]
  },
  {
   "cell_type": "code",
   "execution_count": 36,
   "metadata": {},
   "outputs": [
    {
     "name": "stdout",
     "output_type": "stream",
     "text": [
      "unknown\n"
     ]
    },
    {
     "ename": "KeyError",
     "evalue": "'value'",
     "output_type": "error",
     "traceback": [
      "\u001b[1;31m---------------------------------------------------------------------------\u001b[0m",
      "\u001b[1;31mKeyError\u001b[0m                                  Traceback (most recent call last)",
      "\u001b[1;32m<ipython-input-36-70be3ca2c264>\u001b[0m in \u001b[0;36m<module>\u001b[1;34m\u001b[0m\n\u001b[0;32m      1\u001b[0m \u001b[1;32mfor\u001b[0m \u001b[0mterritory\u001b[0m \u001b[1;32min\u001b[0m \u001b[0mcountry\u001b[0m\u001b[1;33m:\u001b[0m\u001b[1;33m\u001b[0m\u001b[1;33m\u001b[0m\u001b[0m\n\u001b[0;32m      2\u001b[0m     \u001b[1;32mif\u001b[0m \u001b[0mterritory\u001b[0m \u001b[1;32min\u001b[0m \u001b[0mdraw_dict\u001b[0m\u001b[1;33m:\u001b[0m\u001b[1;33m\u001b[0m\u001b[1;33m\u001b[0m\u001b[0m\n\u001b[1;32m----> 3\u001b[1;33m         \u001b[0mprint\u001b[0m\u001b[1;33m(\u001b[0m\u001b[0mdraw_dict\u001b[0m\u001b[1;33m[\u001b[0m\u001b[1;34m\"value\"\u001b[0m\u001b[1;33m]\u001b[0m\u001b[1;33m)\u001b[0m\u001b[1;33m\u001b[0m\u001b[1;33m\u001b[0m\u001b[0m\n\u001b[0m\u001b[0;32m      4\u001b[0m     \u001b[1;32melse\u001b[0m\u001b[1;33m:\u001b[0m\u001b[1;33m\u001b[0m\u001b[1;33m\u001b[0m\u001b[0m\n\u001b[0;32m      5\u001b[0m         \u001b[0mprint\u001b[0m\u001b[1;33m(\u001b[0m\u001b[1;34m'unknown'\u001b[0m\u001b[1;33m)\u001b[0m\u001b[1;33m\u001b[0m\u001b[1;33m\u001b[0m\u001b[0m\n",
      "\u001b[1;31mKeyError\u001b[0m: 'value'"
     ]
    }
   ],
   "source": [
    "for territory in country:\n",
    "    if territory in draw_dict:\n",
    "        print(draw_dict[\"value\"])\n",
    "    else:\n",
    "        print('unknown')"
   ]
  },
  {
   "cell_type": "markdown",
   "metadata": {},
   "source": [
    "#### Пропущенные ключи. Способ 2\n",
    "\n",
    "Используем метод setdefault. Он позволяет назначить ключу словаря определенное значение. Однако если этот ключ в словаре уже есть, то это значение будет оставлено без изменений. Рассмотрим простые примеры.\n",
    "\n",
    "Имеется словарь:"
   ]
  },
  {
   "cell_type": "code",
   "execution_count": 37,
   "metadata": {},
   "outputs": [],
   "source": [
    "simple_dict = {'a': 1}\n"
   ]
  },
  {
   "cell_type": "markdown",
   "metadata": {},
   "source": [
    "Если применить метод setdefault, указав ключ ‘b’ (сейчас в словаре simple_dict такого ключа нет) со значением '0', то метод автоматически создаст новый ключ:\n",
    "\n"
   ]
  },
  {
   "cell_type": "code",
   "execution_count": 38,
   "metadata": {},
   "outputs": [
    {
     "name": "stdout",
     "output_type": "stream",
     "text": [
      "{'a': 1, 'b': 0}\n"
     ]
    }
   ],
   "source": [
    "simple_dict.setdefault('b', 0)\n",
    "print(simple_dict)\n"
   ]
  },
  {
   "cell_type": "markdown",
   "metadata": {},
   "source": [
    "Рассмотрим второй случай, когда ключ ‘b’ уже есть:\n",
    "\n"
   ]
  },
  {
   "cell_type": "code",
   "execution_count": 39,
   "metadata": {},
   "outputs": [
    {
     "name": "stdout",
     "output_type": "stream",
     "text": [
      "{'a': 1, 'b': 0}\n"
     ]
    }
   ],
   "source": [
    "simple_dict = {'a': 1, 'b': 0}\n",
    "\n",
    "simple_dict.setdefault('b', 5)\n",
    "print(simple_dict)\n"
   ]
  },
  {
   "cell_type": "markdown",
   "metadata": {},
   "source": [
    "В этом случае значение ключа ‘b’ изменено не будет. Применим этот метод к нашему примеру:\n",
    "\n"
   ]
  },
  {
   "cell_type": "code",
   "execution_count": 40,
   "metadata": {},
   "outputs": [
    {
     "name": "stdout",
     "output_type": "stream",
     "text": [
      "+79033923029\n",
      "+78125849204\n",
      "Неизвестный сотрудник\n"
     ]
    }
   ],
   "source": [
    "for name in request:\n",
    "    employee_base.setdefault(name, 'Неизвестный сотрудник')\n",
    "    print(employee_base[name])\n",
    "\n"
   ]
  },
  {
   "cell_type": "code",
   "execution_count": 41,
   "metadata": {},
   "outputs": [],
   "source": [
    "#Решите предыдущую задачу, используя метод setdefault. Вместо проверки на наличие ключа вы можете сразу назначить \n",
    "#значение по умолчанию 'unknown'. Проверьте работу кода для country = 'Италия'. Результат запишите в переменную group\n",
    "\n",
    "draw_dict = {\n",
    "\t'Россия': 'A',\n",
    "\t'Португалия': 'B',\n",
    "\t'Франция': 'C',\n",
    "\t'Дания': 'C',\n",
    "\t'Египет': 'A'\n",
    "}\n"
   ]
  },
  {
   "cell_type": "code",
   "execution_count": 42,
   "metadata": {},
   "outputs": [
    {
     "ename": "AttributeError",
     "evalue": "'list' object has no attribute 'setdefault'",
     "output_type": "error",
     "traceback": [
      "\u001b[1;31m---------------------------------------------------------------------------\u001b[0m",
      "\u001b[1;31mAttributeError\u001b[0m                            Traceback (most recent call last)",
      "\u001b[1;32m<ipython-input-42-e6c4da4c7dba>\u001b[0m in \u001b[0;36m<module>\u001b[1;34m\u001b[0m\n\u001b[0;32m      1\u001b[0m \u001b[1;32mfor\u001b[0m \u001b[0mterritory\u001b[0m \u001b[1;32min\u001b[0m \u001b[0mdraw_dict\u001b[0m\u001b[1;33m:\u001b[0m\u001b[1;33m\u001b[0m\u001b[1;33m\u001b[0m\u001b[0m\n\u001b[1;32m----> 2\u001b[1;33m     \u001b[0mcountry\u001b[0m\u001b[1;33m.\u001b[0m\u001b[0msetdefault\u001b[0m\u001b[1;33m(\u001b[0m\u001b[0mname\u001b[0m\u001b[1;33m,\u001b[0m \u001b[1;34m'unknown'\u001b[0m\u001b[1;33m)\u001b[0m\u001b[1;33m\u001b[0m\u001b[1;33m\u001b[0m\u001b[0m\n\u001b[0m\u001b[0;32m      3\u001b[0m     \u001b[0mprint\u001b[0m\u001b[1;33m(\u001b[0m\u001b[0mdraw_dict\u001b[0m\u001b[1;33m[\u001b[0m\u001b[0mcountry\u001b[0m\u001b[1;33m]\u001b[0m\u001b[1;33m)\u001b[0m\u001b[1;33m\u001b[0m\u001b[1;33m\u001b[0m\u001b[0m\n",
      "\u001b[1;31mAttributeError\u001b[0m: 'list' object has no attribute 'setdefault'"
     ]
    }
   ],
   "source": [
    "for territory in draw_dict:\n",
    "    country.setdefault(name, 'unknown')\n",
    "    print(draw_dict[country])\n"
   ]
  },
  {
   "cell_type": "markdown",
   "metadata": {},
   "source": [
    "#### Перебор элементов словаря. Постановка задачи"
   ]
  },
  {
   "cell_type": "markdown",
   "metadata": {},
   "source": [
    "Очень часто возникает задача перебора элементов словаря. Рассмотрим такую задачу: в корпоративном справочнике имеется следующая структура должностей\n",
    "\n",
    "employee_base = {'Мария Никитина': 'менеджер', 'Егор Савичев': 'разработчик', 'Александр Пахомов': 'дизайнер', 'Алина Егорова': 'разработчик', 'Руслан Башаров': 'верстальщик'}\n",
    "Необходимо отфильтровать сотрудников в должности разработчика. Чтобы получить значение, нам нужно отфильтровать значения. И есть те ключи, для которых значение равно 'разработчик'.\n",
    "\n",
    "Для перебора ключей и значений словаря есть три основных способа:\n",
    "\n",
    "ключи,\n",
    "значения,\n",
    "ключи и значения одновременно.\n",
    "Мы получаем простой цикл, в каждом шаге которого есть переменные значения одного из этих вариантов.\n",
    "\n"
   ]
  },
  {
   "cell_type": "code",
   "execution_count": 43,
   "metadata": {},
   "outputs": [],
   "source": [
    "employee_base = {'Мария Никитина': 'менеджер', 'Егор Савичев': 'разработчик', 'Александр Пахомов': 'дизайнер', 'Алина Егорова': 'разработчик', 'Руслан Башаров': 'верстальщик'}"
   ]
  },
  {
   "cell_type": "code",
   "execution_count": 44,
   "metadata": {},
   "outputs": [
    {
     "data": {
      "text/plain": [
       "{'Мария Никитина': 'менеджер',\n",
       " 'Егор Савичев': 'разработчик',\n",
       " 'Александр Пахомов': 'дизайнер',\n",
       " 'Алина Егорова': 'разработчик',\n",
       " 'Руслан Башаров': 'верстальщик'}"
      ]
     },
     "execution_count": 44,
     "metadata": {},
     "output_type": "execute_result"
    }
   ],
   "source": [
    "employee_base"
   ]
  },
  {
   "cell_type": "markdown",
   "metadata": {},
   "source": [
    "Перебор ключей словаря\n",
    "Для перебора ключей используется простой синтаксис (название переменной цикла employee можно выбрать любым):\n"
   ]
  },
  {
   "cell_type": "code",
   "execution_count": 45,
   "metadata": {},
   "outputs": [
    {
     "name": "stdout",
     "output_type": "stream",
     "text": [
      "Мария Никитина\n",
      "Егор Савичев\n",
      "Александр Пахомов\n",
      "Алина Егорова\n",
      "Руслан Башаров\n"
     ]
    }
   ],
   "source": [
    "for employee in employee_base:\n",
    "    print(employee)\n"
   ]
  },
  {
   "cell_type": "markdown",
   "metadata": {},
   "source": [
    "Также проход по ключам можно осуществить с помощью метода keys. Результат будет аналогичным:\n",
    "\n"
   ]
  },
  {
   "cell_type": "code",
   "execution_count": 46,
   "metadata": {},
   "outputs": [
    {
     "name": "stdout",
     "output_type": "stream",
     "text": [
      "Мария Никитина\n",
      "Егор Савичев\n",
      "Александр Пахомов\n",
      "Алина Егорова\n",
      "Руслан Башаров\n"
     ]
    }
   ],
   "source": [
    "for employee in employee_base.keys():\n",
    "    print(employee)\n"
   ]
  },
  {
   "cell_type": "markdown",
   "metadata": {},
   "source": [
    "Теперь, зная в каждом шаге цикла ключ, можно вывести соответствующее значение (у нас это должность сотрудника):\n",
    "\n"
   ]
  },
  {
   "cell_type": "code",
   "execution_count": 47,
   "metadata": {},
   "outputs": [
    {
     "name": "stdout",
     "output_type": "stream",
     "text": [
      "Мария Никитина менеджер\n",
      "Егор Савичев разработчик\n",
      "Александр Пахомов дизайнер\n",
      "Алина Егорова разработчик\n",
      "Руслан Башаров верстальщик\n"
     ]
    }
   ],
   "source": [
    "for employee in employee_base:\n",
    "    print(employee, employee_base[employee])\n"
   ]
  },
  {
   "cell_type": "code",
   "execution_count": 48,
   "metadata": {},
   "outputs": [],
   "source": [
    "employee_base = {\n",
    "    'Мария Никитина': '+79033923029',\n",
    "    'Егор Савичев': '+78125849204',\n",
    "    'Александр Пахомов': '+79053049385',\n",
    "    'Алина Егорова': '+79265748370',\n",
    "    'Руслан Башаров': '+79030598495',\n",
    "}"
   ]
  },
  {
   "cell_type": "code",
   "execution_count": 49,
   "metadata": {},
   "outputs": [
    {
     "name": "stdout",
     "output_type": "stream",
     "text": [
      "+79265748370\n"
     ]
    }
   ],
   "source": [
    "print(employee_base['Алина Егорова'])"
   ]
  },
  {
   "cell_type": "code",
   "execution_count": null,
   "metadata": {},
   "outputs": [],
   "source": [
    "\n"
   ]
  },
  {
   "cell_type": "code",
   "execution_count": 50,
   "metadata": {
    "scrolled": false
   },
   "outputs": [
    {
     "data": {
      "text/plain": [
       "{'a': 239, 10: 100, 'v': 25}"
      ]
     },
     "execution_count": 50,
     "metadata": {},
     "output_type": "execute_result"
    }
   ],
   "source": [
    "dictionary"
   ]
  },
  {
   "cell_type": "code",
   "execution_count": 51,
   "metadata": {},
   "outputs": [
    {
     "name": "stdout",
     "output_type": "stream",
     "text": [
      "{'jack': 4098, 'sape': 4139}\n"
     ]
    },
    {
     "data": {
      "text/plain": [
       "{'jack': 4098, 'sape': 4139, 'guido': 4127}"
      ]
     },
     "execution_count": 51,
     "metadata": {},
     "output_type": "execute_result"
    }
   ],
   "source": [
    "tel = {'jack': 4098, 'sape': 4139}\n",
    "print(tel)\n",
    "tel['guido'] = 4127\n",
    "tel\n"
   ]
  },
  {
   "cell_type": "code",
   "execution_count": 52,
   "metadata": {},
   "outputs": [
    {
     "name": "stdout",
     "output_type": "stream",
     "text": [
      "4098\n"
     ]
    }
   ],
   "source": [
    "print(tel['jack'])\n"
   ]
  },
  {
   "cell_type": "code",
   "execution_count": 53,
   "metadata": {},
   "outputs": [
    {
     "data": {
      "text/plain": [
       "{'jack': 4098, 'guido': 4127}"
      ]
     },
     "execution_count": 53,
     "metadata": {},
     "output_type": "execute_result"
    }
   ],
   "source": [
    "del tel['sape']\n",
    "tel"
   ]
  },
  {
   "cell_type": "code",
   "execution_count": 54,
   "metadata": {},
   "outputs": [
    {
     "data": {
      "text/plain": [
       "{'jack': 4098, 'guido': 4127, 'irv': 4127}"
      ]
     },
     "execution_count": 54,
     "metadata": {},
     "output_type": "execute_result"
    }
   ],
   "source": [
    "tel['irv'] = 4127\n",
    "tel\n"
   ]
  },
  {
   "cell_type": "code",
   "execution_count": 55,
   "metadata": {},
   "outputs": [
    {
     "data": {
      "text/plain": [
       "['jack', 'guido', 'irv']"
      ]
     },
     "execution_count": 55,
     "metadata": {},
     "output_type": "execute_result"
    }
   ],
   "source": [
    "list(tel)"
   ]
  },
  {
   "cell_type": "code",
   "execution_count": 56,
   "metadata": {},
   "outputs": [
    {
     "data": {
      "text/plain": [
       "['guido', 'irv', 'jack']"
      ]
     },
     "execution_count": 56,
     "metadata": {},
     "output_type": "execute_result"
    }
   ],
   "source": [
    "sorted(tel)"
   ]
  },
  {
   "cell_type": "code",
   "execution_count": 57,
   "metadata": {},
   "outputs": [
    {
     "data": {
      "text/plain": [
       "True"
      ]
     },
     "execution_count": 57,
     "metadata": {},
     "output_type": "execute_result"
    }
   ],
   "source": [
    "'guido' in tel"
   ]
  },
  {
   "cell_type": "code",
   "execution_count": 58,
   "metadata": {},
   "outputs": [
    {
     "data": {
      "text/plain": [
       "False"
      ]
     },
     "execution_count": 58,
     "metadata": {},
     "output_type": "execute_result"
    }
   ],
   "source": [
    "'jack' not in tel"
   ]
  },
  {
   "cell_type": "code",
   "execution_count": 59,
   "metadata": {},
   "outputs": [
    {
     "data": {
      "text/plain": [
       "False"
      ]
     },
     "execution_count": 59,
     "metadata": {},
     "output_type": "execute_result"
    }
   ],
   "source": [
    "'sape' in tel"
   ]
  },
  {
   "cell_type": "code",
   "execution_count": 60,
   "metadata": {},
   "outputs": [
    {
     "data": {
      "text/plain": [
       "True"
      ]
     },
     "execution_count": 60,
     "metadata": {},
     "output_type": "execute_result"
    }
   ],
   "source": [
    "'sape' not in tel"
   ]
  },
  {
   "cell_type": "markdown",
   "metadata": {},
   "source": [
    "Конструктор dict() создает словари непосредственно из последовательностей пар ключ-значение:"
   ]
  },
  {
   "cell_type": "code",
   "execution_count": 61,
   "metadata": {},
   "outputs": [
    {
     "data": {
      "text/plain": [
       "{'sape': 4139, 'guido': 4127, 'jack': 4098}"
      ]
     },
     "execution_count": 61,
     "metadata": {},
     "output_type": "execute_result"
    }
   ],
   "source": [
    "dict(sape=4139, guido=4127, jack=4098)\n"
   ]
  },
  {
   "cell_type": "markdown",
   "metadata": {},
   "source": [
    "5.6. Методы Зацикливания\n",
    "При циклическом просмотре словарей ключ и соответствующее значение могут быть извлечены одновременно с помощью метода items ()."
   ]
  },
  {
   "cell_type": "code",
   "execution_count": 62,
   "metadata": {},
   "outputs": [
    {
     "data": {
      "text/plain": [
       "-7175263779084509105"
      ]
     },
     "execution_count": 62,
     "metadata": {},
     "output_type": "execute_result"
    }
   ],
   "source": [
    "hash(\"questions\")"
   ]
  },
  {
   "cell_type": "code",
   "execution_count": 63,
   "metadata": {},
   "outputs": [
    {
     "data": {
      "text/plain": [
       "9146492036353044110"
      ]
     },
     "execution_count": 63,
     "metadata": {},
     "output_type": "execute_result"
    }
   ],
   "source": [
    "hash(\"ques\")"
   ]
  },
  {
   "cell_type": "code",
   "execution_count": 64,
   "metadata": {},
   "outputs": [
    {
     "data": {
      "text/plain": [
       "18"
      ]
     },
     "execution_count": 64,
     "metadata": {},
     "output_type": "execute_result"
    }
   ],
   "source": [
    "len(str(hash(\"sdgkjsrdgj aweofdj awpeg  ef awef ыпвэфызвп  ывпвп вап п\")))"
   ]
  },
  {
   "cell_type": "code",
   "execution_count": 65,
   "metadata": {},
   "outputs": [
    {
     "data": {
      "text/plain": [
       "{'a': 1}"
      ]
     },
     "execution_count": 65,
     "metadata": {},
     "output_type": "execute_result"
    }
   ],
   "source": [
    "simple_dict = {'a': 1}\n",
    "simple_dict"
   ]
  },
  {
   "cell_type": "code",
   "execution_count": 66,
   "metadata": {},
   "outputs": [
    {
     "name": "stdout",
     "output_type": "stream",
     "text": [
      "Италия unknown\n",
      "Россия A\n",
      "Португалия B\n",
      "Франция C\n",
      "Дания C\n",
      "Египет A\n"
     ]
    }
   ],
   "source": [
    "group='unknown'\n",
    "draw_dict = {\n",
    "    'Россия': 'A',\n",
    "    'Португалия': 'B',\n",
    "    'Франция': 'C',\n",
    "    'Дания': 'C',\n",
    "    'Египет': 'A'\n",
    "}\n",
    "\n",
    "country =  ['Италия', 'Россия', 'Португалия', 'Франция', 'Дания', 'Египет']\n",
    "#country =  ['Италия']\n",
    "\n",
    "for each in country:\n",
    "    draw_dict.setdefault(each, 'unknown')\n",
    "    group =draw_dict[each]\n",
    "    print(each, group)"
   ]
  },
  {
   "cell_type": "markdown",
   "metadata": {},
   "source": [
    "Отфильтруйте словарь draw_dict, оставив в нем только страны группы A. Отфильтрованный результат запишите в новый словарь draw_new\n",
    "\n",
    "draw_dict = {\n",
    "\t'Россия': 'A',\n",
    "\t'Португалия': 'B',\n",
    "\t'Франция': 'C',\n",
    "\t'Дания': 'C',\n",
    "\t'Египет': 'A'\n",
    "}\n",
    "Подсказка:\n",
    "\n",
    "Для добавления в словарь нового элемента в коде нужно указать имя словаря, далее в квадратных скобках указать новый ключ (в виде строки или имени переменной), поставить знак \" = \" и после этого указать значение, которое необходимо установить для данного ключа.\n",
    "\n"
   ]
  },
  {
   "cell_type": "code",
   "execution_count": 67,
   "metadata": {},
   "outputs": [
    {
     "data": {
      "text/plain": [
       "{'Россия': 'A', 'Египет': 'A'}"
      ]
     },
     "execution_count": 67,
     "metadata": {},
     "output_type": "execute_result"
    }
   ],
   "source": [
    "draw_new={}\n",
    "draw_dict = {\n",
    "\t'Россия': 'A',\n",
    "\t'Португалия': 'B',\n",
    "\t'Франция': 'C',\n",
    "\t'Дания': 'C',\n",
    "\t'Египет': 'A'\n",
    "}\n",
    "\n",
    "for country in draw_dict:\n",
    "    if draw_dict[country]=='A':\n",
    "       # print(country)\n",
    "        draw_new[country]='A'\n",
    "draw_new"
   ]
  },
  {
   "cell_type": "code",
   "execution_count": 68,
   "metadata": {},
   "outputs": [
    {
     "data": {
      "text/plain": [
       "{'Россия': 'A', 'Египет': 'A'}"
      ]
     },
     "execution_count": 68,
     "metadata": {},
     "output_type": "execute_result"
    }
   ],
   "source": [
    "draw_new={}\n",
    "draw_dict = {\n",
    "\t'Россия': 'A',\n",
    "\t'Португалия': 'B',\n",
    "\t'Франция': 'C',\n",
    "\t'Дания': 'C',\n",
    "\t'Египет': 'A'\n",
    "}\n",
    "\n",
    "for country, group in draw_dict.items():\n",
    "    if group =='A':\n",
    "       # print(country)\n",
    "        draw_new[country]='A'\n",
    "draw_new"
   ]
  },
  {
   "cell_type": "code",
   "execution_count": 69,
   "metadata": {},
   "outputs": [
    {
     "data": {
      "text/plain": [
       "0"
      ]
     },
     "execution_count": 69,
     "metadata": {},
     "output_type": "execute_result"
    }
   ],
   "source": [
    "# заводим переменную-счетчик\n",
    "ccount=0\n",
    "for position in employee_base.values():\n",
    "    if position == 'разработчик':\n",
    "        ccount+=1\n",
    "ccount"
   ]
  },
  {
   "cell_type": "code",
   "execution_count": 174,
   "metadata": {},
   "outputs": [
    {
     "data": {
      "text/plain": [
       "{'a': 0, 'b': 1, 'c': 2, 'd': 3, 'e': 4, 'f': 5}"
      ]
     },
     "execution_count": 174,
     "metadata": {},
     "output_type": "execute_result"
    }
   ],
   "source": [
    "A = dict(zip('abcdef', list(range(6))))\n",
    "A"
   ]
  },
  {
   "cell_type": "code",
   "execution_count": 175,
   "metadata": {},
   "outputs": [
    {
     "name": "stdout",
     "output_type": "stream",
     "text": [
      "a 0\n",
      "b 1\n",
      "c 2\n",
      "d 3\n",
      "e 4\n",
      "f 5\n"
     ]
    }
   ],
   "source": [
    "A = dict(zip('abcdef', list(range(6))))\n",
    "for key, val in A.items():\n",
    "    print(key, val)"
   ]
  },
  {
   "cell_type": "code",
   "execution_count": 70,
   "metadata": {},
   "outputs": [
    {
     "data": {
      "text/plain": [
       "{'2019-04-01': 2504, '2019-04-02': 4994, '2019-04-03': 6343}"
      ]
     },
     "execution_count": 70,
     "metadata": {},
     "output_type": "execute_result"
    }
   ],
   "source": [
    "dates=['2019-04-01', '2019-04-02', '2019-04-03']\n",
    "demands = [2504, 4994, 6343]\n",
    "dem=dict(zip(dates, demands))\n",
    "dem"
   ]
  },
  {
   "cell_type": "code",
   "execution_count": 71,
   "metadata": {},
   "outputs": [
    {
     "name": "stdout",
     "output_type": "stream",
     "text": [
      "13841\n"
     ]
    }
   ],
   "source": [
    "summa=0\n",
    "for i in dem.values():\n",
    "    summa+=i\n",
    "print(summa)"
   ]
  },
  {
   "cell_type": "markdown",
   "metadata": {},
   "source": [
    "Есть словарь. По ключам хранятся продукты, по значениям их цены.\n",
    "Найти товар с минимальной и минимальной стоимостью."
   ]
  },
  {
   "cell_type": "code",
   "execution_count": 72,
   "metadata": {},
   "outputs": [
    {
     "data": {
      "text/plain": [
       "5"
      ]
     },
     "execution_count": 72,
     "metadata": {},
     "output_type": "execute_result"
    }
   ],
   "source": [
    "price_dict={'порошок':80,  'черешня':300, 'пакет': 5}\n",
    "minimum=10000000\n",
    "maximum=0\n",
    "for product, price in price_dict.items():\n",
    "    #print(product, price)\n",
    "    if price>maximum:\n",
    "        maximum=price\n",
    "    if price<minimum:\n",
    "        minimum=price\n",
    "maximum\n",
    "minimum"
   ]
  },
  {
   "cell_type": "code",
   "execution_count": 73,
   "metadata": {},
   "outputs": [
    {
     "name": "stdout",
     "output_type": "stream",
     "text": [
      "5 300\n"
     ]
    }
   ],
   "source": [
    "price_dict={'порошок':80,  'черешня':300, 'пакет': 5}\n",
    "price_list=list(price_dict.values())\n",
    "print(min(price_list), max(price_list))"
   ]
  },
  {
   "cell_type": "code",
   "execution_count": 74,
   "metadata": {},
   "outputs": [
    {
     "name": "stdout",
     "output_type": "stream",
     "text": [
      "5 300\n"
     ]
    }
   ],
   "source": [
    "price_list.sort()\n",
    "print(price_list[0], price_list[-1])"
   ]
  },
  {
   "cell_type": "code",
   "execution_count": 75,
   "metadata": {},
   "outputs": [
    {
     "name": "stdout",
     "output_type": "stream",
     "text": [
      "[2, 3, 4, 21]\n",
      "[2, 3, 4, 21]\n"
     ]
    }
   ],
   "source": [
    "a=[2,3,4]\n",
    "b=a\n",
    "b.append(21)\n",
    "print(b)\n",
    "print(a)"
   ]
  },
  {
   "cell_type": "markdown",
   "metadata": {},
   "source": [
    "Златопольский стр 112\n",
    "\n",
    "Создать программу, в которй используется словарь с названиями ряда государств и их столицами. Программа должна обеспечивать:\n",
    "1) вывод столицы заданного государства\n",
    "2) вывод государства, столицей которго является заданный город.\n",
    "Если заданного государства или города в словаре нет, на экран должно выводиться соответствующее сообщение. "
   ]
  },
  {
   "cell_type": "code",
   "execution_count": 76,
   "metadata": {},
   "outputs": [],
   "source": [
    "Capitals=dict(Россия='Москва', Зимбабве='Хараре', США='Вашингтон', Австрия='Вена', Ирландия='Дублин')"
   ]
  },
  {
   "cell_type": "code",
   "execution_count": 77,
   "metadata": {},
   "outputs": [
    {
     "name": "stdout",
     "output_type": "stream",
     "text": [
      "Введите название государства, а я выведу столицу: Россия\n",
      "Введите название столицы, а я выведу страну: Вашингтон\n"
     ]
    }
   ],
   "source": [
    "Find_Capital=input('Введите название государства, а я выведу столицу: ')\n",
    "Find_Country=input('Введите название столицы, а я выведу страну: ')"
   ]
  },
  {
   "cell_type": "code",
   "execution_count": 78,
   "metadata": {},
   "outputs": [
    {
     "name": "stdout",
     "output_type": "stream",
     "text": [
      "Москва\n",
      "США\n"
     ]
    }
   ],
   "source": [
    "if Find_Capital in Capitals:\n",
    "    Capital = Capitals[Find_Capital]\n",
    "    print(Capital)\n",
    "else:\n",
    "    print('Государства в словаре нет')\n",
    "    \n",
    "if Find_Country in Capitals.values(): #если Москва в списке значений\n",
    "    for Country in Capitals.keys(): # Для каждой страны в ключах \n",
    "        if Capitals[Country]==Find_Country: # Если Москве равняется название Столица[Страна] (Столица[Страна]=Столице)\n",
    "            print(Country)\n",
    "else:\n",
    "    print('Такой страны не  знаем')"
   ]
  },
  {
   "cell_type": "code",
   "execution_count": 79,
   "metadata": {},
   "outputs": [
    {
     "data": {
      "text/plain": [
       "'Москва'"
      ]
     },
     "execution_count": 79,
     "metadata": {},
     "output_type": "execute_result"
    }
   ],
   "source": [
    "Capitals['Россия']"
   ]
  },
  {
   "cell_type": "markdown",
   "metadata": {},
   "source": [
    "Златопольский Стр.112\n",
    "\n",
    "2) Разработайте программу, в которой используется словарь с данными о количестве учащихся в разных классах.. Программа должна выводить информациюю о численности учащихся в некотором классе."
   ]
  },
  {
   "cell_type": "code",
   "execution_count": 80,
   "metadata": {},
   "outputs": [
    {
     "name": "stdout",
     "output_type": "stream",
     "text": [
      "Введите класс, а я выведу число учеников: 11а\n",
      "В 11а учится 20 учеников\n"
     ]
    }
   ],
   "source": [
    "Slovar_Klassov={'11а':20,'11б':25, '11в':30, '10а':21, '10б':22, '10в':26}\n",
    "klass=input('Введите класс, а я выведу число учеников: ')\n",
    "if klass in Slovar_Klassov:\n",
    "    print ('В '+str(klass)+' учится '+str(Slovar_Klassov[klass])+' учеников')\n",
    "else:\n",
    "    print('Такого класса нет')"
   ]
  },
  {
   "cell_type": "markdown",
   "metadata": {},
   "source": [
    "3) Разработайте программу, в которой использутся словарь из предыдущего задаиня, которая учтёт изменения в школе:\n",
    "а) в трёх классах изменилось  количество учащихся\n",
    "б) в школе появились два новых класса\n",
    "в) в школе расформировали один из классов\n",
    "\n",
    "После внсения изменений программа должна:\n",
    "1) Определить общее количество учащихся\n",
    "2) Вывести содержимое словаря на экран в виде:\n",
    "    11а 20\n",
    "    11б 25\n",
    "    ..."
   ]
  },
  {
   "cell_type": "code",
   "execution_count": 81,
   "metadata": {},
   "outputs": [
    {
     "name": "stdout",
     "output_type": "stream",
     "text": [
      "{'11а': 20, '11б': 25, '11в': 30, '10б': 32, '10в': 36, '11г': 5, '10г': 6}\n"
     ]
    }
   ],
   "source": [
    "# Изменения\n",
    "#1) В трёх классах изменилось количество учащихся\n",
    "Slovar_Klassov['10а']=31\n",
    "Slovar_Klassov['10б']=32\n",
    "Slovar_Klassov['10в']=36\n",
    "#б) в школе появились два новых класса\n",
    "Slovar_Klassov['11г']=5\n",
    "Slovar_Klassov['10г']=6\n",
    "#в) в школе расформировали один из классов del - удаляет элемент словартя по его ключу (del<имя словаря>[<ключ>])\n",
    "del(Slovar_Klassov['10а'])\n",
    "print(Slovar_Klassov)\n"
   ]
  },
  {
   "cell_type": "code",
   "execution_count": 82,
   "metadata": {},
   "outputs": [
    {
     "name": "stdout",
     "output_type": "stream",
     "text": [
      "154\n"
     ]
    }
   ],
   "source": [
    "#1) Определить общее количество учащихся\n",
    "number=0\n",
    "for chisla in Slovar_Klassov.values():\n",
    "    number=number+chisla\n",
    "print(number)\n"
   ]
  },
  {
   "cell_type": "code",
   "execution_count": 83,
   "metadata": {},
   "outputs": [
    {
     "name": "stdout",
     "output_type": "stream",
     "text": [
      "11а         20 \n",
      "11б         25 \n",
      "11в         30 \n",
      "10б         32 \n",
      "10в         36 \n",
      "11г          5 \n",
      "10г          6 \n"
     ]
    }
   ],
   "source": [
    "for klass in Slovar_Klassov:\n",
    "    print(klass, '%10d '% Slovar_Klassov[klass])"
   ]
  },
  {
   "cell_type": "markdown",
   "metadata": {},
   "source": [
    "## Частотный словарь\n",
    "\n",
    "Задача определения частоты вхождения некоторого элемента в некоторый набор, например, количества каждой буквы, каждого слова или каждой цифры в тексте. \n",
    "\n",
    "Общая схема (частота вхождения в текст каждой буквы и пробела):\n",
    "\n",
    "1. Ввести текст\n",
    "2. Создать пустой словарь\n",
    "3. Для каждого символа в тексте:\n",
    "    \n",
    "    3.1 если символ есть в словаре:\n",
    "        3.1.1 Увеличить на 1 значение для этого символа\n",
    "    3.2 иначе:\n",
    "        3.2.1 добавить в с ловарь новый элемент с ключом-текущим символом и со значением, равным 1"
   ]
  },
  {
   "cell_type": "code",
   "execution_count": 84,
   "metadata": {},
   "outputs": [
    {
     "name": "stdout",
     "output_type": "stream",
     "text": [
      "Введите текст ияваия яв яап яукпфцук фукпфукп \n",
      "и 2\n",
      "я 5\n",
      "в 2\n",
      "а 2\n",
      "  5\n",
      "п 4\n",
      "у 4\n",
      "к 4\n",
      "ф 3\n",
      "ц 1\n",
      "Wall time: 18.8 s\n"
     ]
    }
   ],
   "source": [
    "%%time\n",
    "text= input('Введите текст ')\n",
    "#Создание и заполнение словаря\n",
    "Dictionary={}\n",
    "for c in text:\n",
    "    if c in Dictionary:\n",
    "        Dictionary[c]=Dictionary[c]+1\n",
    "    else:\n",
    "        Dictionary[c]=1\n",
    "#Вывод словаря\n",
    "for k in Dictionary:\n",
    "    print (k, Dictionary[k])"
   ]
  },
  {
   "cell_type": "code",
   "execution_count": 85,
   "metadata": {},
   "outputs": [
    {
     "name": "stdout",
     "output_type": "stream",
     "text": [
      "и 2\n",
      "я 5\n",
      "в 2\n",
      "а 2\n",
      "  5\n",
      "п 4\n",
      "у 4\n",
      "к 4\n",
      "ф 3\n",
      "ц 1\n"
     ]
    }
   ],
   "source": [
    "for k in Dictionary:\n",
    "    print (k, Dictionary[k])"
   ]
  },
  {
   "cell_type": "markdown",
   "metadata": {},
   "source": [
    "3.2 Словари  Stepik\n",
    "\n",
    "1) Напишите функцию update_dictionary(d, key, value), которая принимает на вход словарь d и два числа: key и value.\n",
    "\n",
    "Если ключ key  есть в словаре d, то добавьте значение value в список, который хранится по этому ключу.\n",
    "Если ключа key нет в словаре, то нужно добавить значение в список по ключу 2 * key. Если и ключа 2 * key нет, то нужно добавить ключ 2 * key в словарь и сопоставить ему список из переданного элемента [value].\n",
    "\n",
    "Требуется реализовать только эту функцию, кода вне её не должно быть.\n",
    "Функция не должна вызывать внутри себя функции input и print.\n",
    "\n",
    "Пример работы функции:\n",
    "\n",
    "print(update_dictionary(d, 1, -1))  # None\n",
    "\n",
    "print(d)                            # {2: [-1]}\n",
    "\n",
    "update_dictionary(d, 2, -2)\n",
    "\n",
    "print(d)                            # {2: [-1, -2]}\n",
    "\n",
    "update_dictionary(d, 1, -3)\n",
    "\n",
    "print(d)                            # {2: [-1, -2, -3]}\n"
   ]
  },
  {
   "cell_type": "code",
   "execution_count": 86,
   "metadata": {},
   "outputs": [],
   "source": [
    "def update_dictionary(d, key, value):\n",
    "    if key in d.keys():\n",
    "        d[key].append(value)\n",
    "    else: #добавить значение в список по ключу 2 * key\n",
    "        if 2*key in d.keys():\n",
    "            d[2*key].append(value)\n",
    "        else:\n",
    "            d[2*key]=[value]\n",
    "    return d"
   ]
  },
  {
   "cell_type": "code",
   "execution_count": 87,
   "metadata": {},
   "outputs": [],
   "source": [
    "d = {}"
   ]
  },
  {
   "cell_type": "code",
   "execution_count": 88,
   "metadata": {},
   "outputs": [
    {
     "data": {
      "text/plain": [
       "{2: [-1]}"
      ]
     },
     "execution_count": 88,
     "metadata": {},
     "output_type": "execute_result"
    }
   ],
   "source": [
    "update_dictionary(d, 1, -1)"
   ]
  },
  {
   "cell_type": "code",
   "execution_count": 89,
   "metadata": {},
   "outputs": [
    {
     "data": {
      "text/plain": [
       "{2: [-1, -2]}"
      ]
     },
     "execution_count": 89,
     "metadata": {},
     "output_type": "execute_result"
    }
   ],
   "source": [
    "update_dictionary(d, 2, -2)"
   ]
  },
  {
   "cell_type": "code",
   "execution_count": 90,
   "metadata": {},
   "outputs": [
    {
     "data": {
      "text/plain": [
       "{2: [-1, -2, -3]}"
      ]
     },
     "execution_count": 90,
     "metadata": {},
     "output_type": "execute_result"
    }
   ],
   "source": [
    "update_dictionary(d, 1, -3)"
   ]
  },
  {
   "cell_type": "markdown",
   "metadata": {},
   "source": [
    "3.2 Словари Stepik\n",
    "\n",
    "Когда Антон прочитал «Войну и мир», ему стало интересно, сколько слов и в каком количестве используется в этой книге.\n",
    "\n",
    "Помогите Антону написать упрощённую версию такой программы, которая сможет подсчитать слова, разделённые пробелом и вывести получившуюся статистику.\n",
    "\n",
    "Программа должна считывать одну строку со стандартного ввода и выводить для каждого уникального слова в этой строке число его повторений (без учёта регистра) в формате \"слово количество\" (см. пример вывода).\n",
    "Порядок вывода слов может быть произвольным, каждое уникальное слово﻿ должно выводиться только один раз.\n",
    "\n"
   ]
  },
  {
   "cell_type": "code",
   "execution_count": 91,
   "metadata": {},
   "outputs": [
    {
     "name": "stdout",
     "output_type": "stream",
     "text": [
      "Введите текст ввввввв в вацуцп хзщхз 555\n",
      "ввввввв 1\n",
      "в 1\n",
      "вацуцп 1\n",
      "хзщхз 1\n",
      "555 1\n"
     ]
    }
   ],
   "source": [
    "text= input('Введите текст ').lower().split()\n",
    "#Создание и заполнение словаря\n",
    "Dictionary={}\n",
    "for word in text:\n",
    "    if word in Dictionary:\n",
    "        Dictionary[word]=Dictionary[word]+1\n",
    "    else:\n",
    "        Dictionary[word]=1\n",
    "for k in Dictionary:\n",
    "    print (k, Dictionary[k])"
   ]
  },
  {
   "cell_type": "markdown",
   "metadata": {},
   "source": [
    "## Словари со значениями разных типов. Словарь из словарей"
   ]
  },
  {
   "cell_type": "markdown",
   "metadata": {},
   "source": [
    "Златопольский\n",
    "Разработайте 7 программ, в которых используется информация  о ряде государств Европы и Азии: название, столица, часть света, численность населения (млн чел), и площадь территории (тыс кв км). \n"
   ]
  },
  {
   "cell_type": "markdown",
   "metadata": {},
   "source": [
    "Программы должны решать следующие задачи: \n",
    "\n",
    "а) Определение столицы по названию государства\n",
    "\n",
    "б) Определение названия государства по горо-столице\n",
    "\n",
    "в) Вывод всей информации о заданном государстве\n",
    "\n",
    "г) вывод названий всех стран, расположенных в заданной части света\n",
    "\n",
    "д) расчёт плотности населения (тыс чел на 1 кв.км) для каждого государства\n",
    "\n",
    "е) определение количества государств, расположенных в заданной части света\n",
    "\n",
    "ж) расчёт общей площади государств, расположенных в заданной части света\n"
   ]
  },
  {
   "cell_type": "code",
   "execution_count": 101,
   "metadata": {},
   "outputs": [],
   "source": [
    "Strana1={'Название': 'Россия', 'Столица': 'Москва', 'Часть света': 'Европа', 'Численность населения, млн чел': 146, 'Площадь территории, тыс.кв.км':17098}\n",
    "Strana2={'Название': 'Беларусь', 'Столица': 'Минск', 'Часть света': 'Европа', 'Численность населения, млн чел': 9, 'Площадь территории, тыс.кв.км':208}\n",
    "Strana3={'Название': 'США', 'Столица': 'Вашингтон', 'Часть света': 'Америка', 'Численность населения, млн чел': 331, 'Площадь территории, тыс.кв.км':9500}\n",
    "Strana4={'Название': 'Канада', 'Столица': 'Торонто', 'Часть света': 'Америка', 'Численность населения, млн чел': 35, 'Площадь территории, тыс.кв.км':9971}"
   ]
  },
  {
   "cell_type": "code",
   "execution_count": 102,
   "metadata": {},
   "outputs": [
    {
     "data": {
      "text/plain": [
       "{'Название': 'Россия',\n",
       " 'Столица': 'Москва',\n",
       " 'Часть света': 'Европа',\n",
       " 'Численность населения, млн чел': 146,\n",
       " 'Площадь территории, тыс.кв.км': 17098}"
      ]
     },
     "execution_count": 102,
     "metadata": {},
     "output_type": "execute_result"
    }
   ],
   "source": [
    "Strana1"
   ]
  },
  {
   "cell_type": "code",
   "execution_count": 103,
   "metadata": {},
   "outputs": [
    {
     "data": {
      "text/plain": [
       "{'Россия': {'Название': 'Россия',\n",
       "  'Столица': 'Москва',\n",
       "  'Часть света': 'Европа',\n",
       "  'Численность населения, млн чел': 146,\n",
       "  'Площадь территории, тыс.кв.км': 17098},\n",
       " 'Беларусь': {'Название': 'Беларусь',\n",
       "  'Столица': 'Минск',\n",
       "  'Часть света': 'Европа',\n",
       "  'Численность населения, млн чел': 9,\n",
       "  'Площадь территории, тыс.кв.км': 208},\n",
       " 'США': {'Название': 'США',\n",
       "  'Столица': 'Вашингтон',\n",
       "  'Часть света': 'Америка',\n",
       "  'Численность населения, млн чел': 331,\n",
       "  'Площадь территории, тыс.кв.км': 9500},\n",
       " 'Канада': {'Название': 'Канада',\n",
       "  'Столица': 'Торонто',\n",
       "  'Часть света': 'Америка',\n",
       "  'Численность населения, млн чел': 35,\n",
       "  'Площадь территории, тыс.кв.км': 9971}}"
      ]
     },
     "execution_count": 103,
     "metadata": {},
     "output_type": "execute_result"
    }
   ],
   "source": [
    "Countries={'Россия': Strana1, 'Беларусь': Strana2, 'США': Strana3, 'Канада': Strana4}\n",
    "Countries"
   ]
  },
  {
   "cell_type": "markdown",
   "metadata": {},
   "source": [
    "а) Определение столицы по названию государства"
   ]
  },
  {
   "cell_type": "code",
   "execution_count": 107,
   "metadata": {},
   "outputs": [
    {
     "name": "stdout",
     "output_type": "stream",
     "text": [
      "Введите страну, а я выведу столицу: США\n",
      "Вашингтон\n"
     ]
    }
   ],
   "source": [
    "capital=input('Введите страну, а я выведу столицу: ')\n",
    "if capital in Countries:\n",
    "    for a in Countries:\n",
    "        if a==capital:\n",
    "            print(Countries[capital]['Столица'])\n",
    "else:\n",
    "    print(\"Ничего не понятно\")"
   ]
  },
  {
   "cell_type": "code",
   "execution_count": 97,
   "metadata": {},
   "outputs": [
    {
     "name": "stdout",
     "output_type": "stream",
     "text": [
      "Москва\n"
     ]
    }
   ],
   "source": [
    "print(Countries[capital]['Столица'])"
   ]
  },
  {
   "cell_type": "markdown",
   "metadata": {},
   "source": [
    "б) Определение государства по названию столицы"
   ]
  },
  {
   "cell_type": "code",
   "execution_count": 108,
   "metadata": {},
   "outputs": [
    {
     "name": "stdout",
     "output_type": "stream",
     "text": [
      "Введите название столицы, а я выведу  страну: Минск\n",
      "Минск- столица страны Беларусь\n"
     ]
    }
   ],
   "source": [
    "Capital_input=input('Введите название столицы, а я выведу  страну: ')\n",
    "for i in Countries:\n",
    "    if Countries[i]['Столица']==Capital_input:\n",
    "        print(Capital_input + '- столица страны '+ Countries[i]['Название'])"
   ]
  },
  {
   "cell_type": "markdown",
   "metadata": {},
   "source": [
    "в) Вывод всей информации о заданном государстве"
   ]
  },
  {
   "cell_type": "code",
   "execution_count": 113,
   "metadata": {},
   "outputs": [
    {
     "name": "stdout",
     "output_type": "stream",
     "text": [
      "Введите страну, а я выведу всю информацию о ней: Канада\n",
      "Торонто\n",
      "Америка\n",
      "35\n",
      "9971\n",
      "{'Название': 'Канада', 'Столица': 'Торонто', 'Часть света': 'Америка', 'Численность населения, млн чел': 35, 'Площадь территории, тыс.кв.км': 9971}\n"
     ]
    }
   ],
   "source": [
    "country_info=input('Введите страну, а я выведу всю информацию о ней: ')\n",
    "if country_info in Countries:\n",
    "    for a in Countries:\n",
    "        if a==country_info:\n",
    "            print(Countries[a]['Столица'])\n",
    "            print(Countries[a]['Часть света'])\n",
    "            print(Countries[a]['Численность населения, млн чел'])\n",
    "            print(Countries[a]['Площадь территории, тыс.кв.км'])\n",
    "            print(Countries[a])\n"
   ]
  },
  {
   "cell_type": "markdown",
   "metadata": {},
   "source": [
    "г) вывод названий всех стран, расположенных в заданной части света\n"
   ]
  },
  {
   "cell_type": "code",
   "execution_count": 132,
   "metadata": {},
   "outputs": [
    {
     "name": "stdout",
     "output_type": "stream",
     "text": [
      "Введите часть света, а я выведу все страны в этой части света: Европа\n",
      "В части света Европа находится страна Россия\n",
      "В части света Европа находится страна Беларусь\n"
     ]
    }
   ],
   "source": [
    "part_of_the_world=input('Введите часть света, а я выведу все страны в этой части света: ')\n",
    "for с in Countries:   \n",
    "    if Countries[с]['Часть света']==part_of_the_world:\n",
    "        print(\"В части света \"+ part_of_the_world + ' находится страна '+ с)\n",
    "   "
   ]
  },
  {
   "cell_type": "markdown",
   "metadata": {},
   "source": [
    "д) расчёт плотности населения (тыс чел на 1 кв.км) для каждого государства"
   ]
  },
  {
   "cell_type": "code",
   "execution_count": 152,
   "metadata": {},
   "outputs": [
    {
     "name": "stdout",
     "output_type": "stream",
     "text": [
      "Введите страну, а я выведу плотность населения: Россия\n",
      "0.008539010410574336\n"
     ]
    }
   ],
   "source": [
    "capital=input('Введите страну, а я выведу плотность населения: ')\n",
    "if capital in Countries:\n",
    "    for a in Countries:\n",
    "        if a==capital:\n",
    "            print(Countries[capital]['Численность населения, млн чел']/Countries[capital]['Площадь территории, тыс.кв.км'])"
   ]
  },
  {
   "cell_type": "markdown",
   "metadata": {},
   "source": [
    "е) определение количества государств, расположенных в заданной части света"
   ]
  },
  {
   "cell_type": "code",
   "execution_count": 154,
   "metadata": {},
   "outputs": [
    {
     "name": "stdout",
     "output_type": "stream",
     "text": [
      "Введите часть света, а я выведу количество стран в ней: Европа\n",
      "2\n"
     ]
    }
   ],
   "source": [
    "counter=0\n",
    "\n",
    "part_of_the_world=input('Введите часть света, а я выведу количество стран в ней: ')\n",
    "for с in Countries:   \n",
    "    if Countries[с]['Часть света']==part_of_the_world:\n",
    "        counter=counter+1\n",
    "print(counter)\n"
   ]
  },
  {
   "cell_type": "markdown",
   "metadata": {},
   "source": [
    "ж) расчёт общей площади государств, расположенных в заданной части света"
   ]
  },
  {
   "cell_type": "code",
   "execution_count": 157,
   "metadata": {},
   "outputs": [
    {
     "name": "stdout",
     "output_type": "stream",
     "text": [
      "Введите часть света, а я выведу площадь стран в ней: Европа\n",
      "17306\n"
     ]
    }
   ],
   "source": [
    "square=0\n",
    "part_of_the_world=input('Введите часть света, а я выведу площадь стран в ней: ')\n",
    "for c in Countries:\n",
    "    if Countries[c]['Часть света']==part_of_the_world:\n",
    "        square=square+Countries[c]['Площадь территории, тыс.кв.км']\n",
    "print(square)"
   ]
  },
  {
   "cell_type": "markdown",
   "metadata": {},
   "source": [
    "Pythontutor Задача 1 «Номер появления слова»\n",
    "Условие\n",
    "В единственной строке записан текст. Для каждого слова из данного текста подсчитайте, сколько раз оно встречалось в этом тексте ранее.\n",
    "\n",
    "Словом считается последовательность непробельных символов идущих подряд, слова разделены одним или большим числом пробелов или символами конца строки.\n",
    "\n",
    "one two one tho three\n"
   ]
  },
  {
   "cell_type": "code",
   "execution_count": 190,
   "metadata": {},
   "outputs": [
    {
     "name": "stdout",
     "output_type": "stream",
     "text": [
      "one two one tho three one two one tho three\n",
      "0 0 1 0 0 2 1 3 1 1 "
     ]
    }
   ],
   "source": [
    "counter = {}\n",
    "for word in input().split():\n",
    "    counter[word] = counter.get(word, 0) + 1\n",
    "    print(counter[word] - 1, end=' ')\n"
   ]
  },
  {
   "cell_type": "code",
   "execution_count": 188,
   "metadata": {},
   "outputs": [
    {
     "name": "stdout",
     "output_type": "stream",
     "text": [
      "one two one tho three\n",
      "{'one': 2, 'two': 1, 'tho': 1, 'three': 1}\n"
     ]
    }
   ],
   "source": [
    "list1=input().split()\n",
    "Dictionary={}\n",
    "\n",
    "for word in list1:\n",
    "    if word in Dictionary:\n",
    "        Dictionary[word]=Dictionary[word]+1\n",
    "    else:\n",
    "        Dictionary[word]=1\n",
    "print(Dictionary)"
   ]
  },
  {
   "cell_type": "markdown",
   "metadata": {},
   "source": [
    "Pythontutor 2\n",
    "Вам дан словарь, состоящий из пар слов. Каждое слово является синонимом к парному ему слову. Все слова в словаре различны.\n",
    "\n",
    "Для слова из словаря, записанного в последней строке, определите его синоним.\n",
    "\n"
   ]
  },
  {
   "cell_type": "code",
   "execution_count": 186,
   "metadata": {},
   "outputs": [
    {
     "name": "stdout",
     "output_type": "stream",
     "text": [
      "3\n",
      "Hello Hi\n",
      "Bye Goodbye\n",
      "List Array\n",
      "Goodbye\n",
      "Bye\n"
     ]
    }
   ],
   "source": [
    "n = int(input())\n",
    "d = {}\n",
    "for i in range(n):\n",
    "    first, second = input().split()\n",
    "    d[first] = second\n",
    "    d[second] = first\n",
    "print(d[input()])"
   ]
  },
  {
   "cell_type": "markdown",
   "metadata": {},
   "source": [
    "Pythontutor 4\n",
    "Дан текст: в первой строке задано число строк, далее идут сами строки. Выведите слово, которое в этом тексте встречается чаще всего. Если таких слов несколько, выведите то, которое меньше в лексикографическом порядке."
   ]
  },
  {
   "cell_type": "code",
   "execution_count": 4,
   "metadata": {},
   "outputs": [
    {
     "name": "stdout",
     "output_type": "stream",
     "text": [
      "9\n",
      "Предвижу всё: вас оскорбит\n",
      "Печальной тайны объясненье.\n",
      "Какое горькое презренье\n",
      "Ваш гордый взгляд изобразит!\n",
      "Чего хочу? с какою целью\n",
      "Открою душу вам свою?\n",
      "Какому злобному веселью,\n",
      "Быть может, повод подаю!\n",
      "Предвижу всё: вас оскорбит\n"
     ]
    }
   ],
   "source": [
    "n = int(input())\n",
    "Dictionary = {}\n",
    "for i in range(n):\n",
    "        line = input().split()\n",
    "        for word in line:\n",
    "            if word in Dictionary:\n",
    "                Dictionary[word]=Dictionary[word]+1\n",
    "            else:\n",
    "                Dictionary[word]=1\n"
   ]
  },
  {
   "cell_type": "code",
   "execution_count": 5,
   "metadata": {},
   "outputs": [
    {
     "name": "stdout",
     "output_type": "stream",
     "text": [
      "9\n",
      "{'9': 1}\n",
      "15\n",
      "0 "
     ]
    }
   ],
   "source": [
    "list1=input().split()\n",
    "Dictionary={}\n",
    "\n",
    "for word in list1:\n",
    "    if word in Dictionary:\n",
    "        Dictionary[word]=Dictionary[word]+1\n",
    "    else:\n",
    "        Dictionary[word]=1\n",
    "print(Dictionary)\n",
    "\n",
    "\n",
    "\n",
    "\n",
    "\n",
    "counter = {}\n",
    "for word in input().split():\n",
    "    counter[word] = counter.get(word, 0) + 1\n",
    "    print(counter[word] - 1, end=' ')"
   ]
  },
  {
   "cell_type": "code",
   "execution_count": null,
   "metadata": {},
   "outputs": [],
   "source": [
    "r=int(input())\n",
    "import math\n",
    "print((math.pi)*2*r)\n"
   ]
  },
  {
   "cell_type": "markdown",
   "metadata": {},
   "source": [
    "Дан список языков программирования и их популярность. Вся структура хранится в виде словаря, по ключам - языки, по значениям- их популярность. \n",
    "На вход задаётся новый язык и его популярность. После каждого ввода должен выводиться самый популярный язык. "
   ]
  },
  {
   "cell_type": "code",
   "execution_count": null,
   "metadata": {},
   "outputs": [],
   "source": [
    "lang_dict=dict(Python= '1000000', Java= '8000000', Javascript='5000000', C= '150000')\n",
    "lang_dict"
   ]
  },
  {
   "cell_type": "code",
   "execution_count": null,
   "metadata": {},
   "outputs": [],
   "source": [
    "l_d={\"Python\":'1000000', 'Java': '8000000', 'Javascript':'5000000', 'C++': '150000'}\n",
    "l_d"
   ]
  },
  {
   "cell_type": "code",
   "execution_count": null,
   "metadata": {},
   "outputs": [],
   "source": [
    "l_d={\"Python\":'1', 'Java': '8', 'Javascript':'5', 'C++': '15'}\n",
    "maximum=0\n",
    "max_lang=str('')\n",
    "\n",
    "while True:  \n",
    "    a=input('Введите язык программирования ')\n",
    "    b=float(input('Введите число программистов '))\n",
    "    l_d[a]=b\n",
    "#print(l_d)\n",
    "    for key, value in l_d.items():\n",
    "        if maximum<int(value):\n",
    "            maximum=int(value)\n",
    "            max_lang=key\n",
    "    print(maximum, max_lang)\n",
    "    print(l_d)"
   ]
  }
 ],
 "metadata": {
  "kernelspec": {
   "display_name": "Python 3",
   "language": "python",
   "name": "python3"
  },
  "language_info": {
   "codemirror_mode": {
    "name": "ipython",
    "version": 3
   },
   "file_extension": ".py",
   "mimetype": "text/x-python",
   "name": "python",
   "nbconvert_exporter": "python",
   "pygments_lexer": "ipython3",
   "version": "3.8.10"
  }
 },
 "nbformat": 4,
 "nbformat_minor": 4
}
