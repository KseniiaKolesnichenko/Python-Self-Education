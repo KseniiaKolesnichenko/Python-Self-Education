{
 "cells": [
  {
   "cell_type": "markdown",
   "metadata": {},
   "source": [
    "# Блок A1.6 Модуля A1"
   ]
  },
  {
   "cell_type": "markdown",
   "metadata": {},
   "source": [
    "## А1.6.1 Подведём итоги"
   ]
  },
  {
   "cell_type": "markdown",
   "metadata": {},
   "source": [
    "### А1. Тест. Часть 1"
   ]
  },
  {
   "cell_type": "markdown",
   "metadata": {},
   "source": [
    "**А1.6.1.1 Какие из нижеперечисленных типов данных используются в _Python_ при работе с числами?**\n",
    "\n",
    "* int __[верно]__\n",
    "* str\n",
    "* float __[верно]__\n",
    "\n",
    "**А1.6.1.2 Какие из нижеперечисленных типов данных используются в Python при работе со строками?**\n",
    "\n",
    "* int\n",
    "* str __[верно]__\n",
    "* float  \n",
    "\n",
    "**А1.6.1.3 Какие математические операторы можно применять для двух объектов формата str? (`str` _название оператора_ `str`)**\n",
    "\n",
    "* `+` __[верно]__\n",
    "* `/`\n",
    "* `*`\n",
    "* `**`\n",
    "* `%`\n",
    "* `//`\n",
    "\n",
    "**А1.6.1.4 Отметьте зарезервированное слово, которое используется в краткой форме условного оператора ( _если `а`, то `б`_ ):**\n",
    "\n",
    "* then\n",
    "* unless\n",
    "* else\n",
    "* while\n",
    "* if __[верно]__\n",
    "* for\n",
    "\n",
    "**А1.6.1.5 Отметьте зарезервированные слова, которые используются в полной форме условного оператора, предполагающей проверку нескольких условий:**\n",
    "\n",
    "* else __[верно]__\n",
    "* unless\n",
    "* for\n",
    "* while\n",
    "* if __[верно]__\n",
    "* elif __[верно]__"
   ]
  },
  {
   "cell_type": "markdown",
   "metadata": {},
   "source": [
    "### Больше заданий, больше огня"
   ]
  },
  {
   "cell_type": "markdown",
   "metadata": {},
   "source": [
    "**А1.6.2.1 Какие ошибки допущены в нижеследующем блоке кода?**"
   ]
  },
  {
   "cell_type": "code",
   "execution_count": null,
   "metadata": {},
   "outputs": [],
   "source": [
    "last = 10\n",
    "first = 7\n",
    "\n",
    "if last < first or first < 0:\n",
    "    print(\"Введён неверный диапазон чисел\")\n",
    "else:\n",
    "    for i in range(first, last + 1)\n",
    "        if i%2 == 1 and (i%3 == 0 or i%5 == 0):\n",
    "            print(i)"
   ]
  },
  {
   "cell_type": "markdown",
   "metadata": {},
   "source": [
    "* Поставлены лишние двоеточия\n",
    "* Отсутствует двоеточие  __[верно]__\n",
    "* Цикл for расположен внутри _**if**_"
   ]
  },
  {
   "cell_type": "markdown",
   "metadata": {},
   "source": [
    "**А1.6.2.2 Какие ошибки допущены в нижеследующем блоке кода?**"
   ]
  },
  {
   "cell_type": "code",
   "execution_count": null,
   "metadata": {},
   "outputs": [],
   "source": [
    "while:\n",
    "print('Я работаю!')"
   ]
  },
  {
   "cell_type": "markdown",
   "metadata": {},
   "source": [
    "* Поставлены лишние двоеточия\n",
    "* Отсутствует двоеточие\n",
    "* Отсутствует условие для цикла _**while**_  __[верно]__\n",
    "* Отсутствует отступ для тела цикла _**while**_  __[верно]__"
   ]
  },
  {
   "cell_type": "markdown",
   "metadata": {},
   "source": [
    "**А1.6.2.3 Какие ошибки допущены в нижеследующем блоке кода?**"
   ]
  },
  {
   "cell_type": "code",
   "execution_count": null,
   "metadata": {},
   "outputs": [],
   "source": [
    "n = 20\n",
    "\n",
    "fib1 = 1\n",
    "fib2 = 1\n",
    "if n == 0:\n",
    "    print(0)\n",
    "elif n <= 2:\n",
    "    print(1)\n",
    "else:\n",
    "    for n in range(2, n):\n",
    "        fib_sum = fib1 + fib2\n",
    "        fib1 = fib2\n",
    "        fib2 = fib_sum\n",
    "    else:\n",
    "        print(fib2)"
   ]
  },
  {
   "cell_type": "markdown",
   "metadata": {},
   "source": [
    "* Поставлены лишние двоеточия\n",
    "* Отсутствует двоеточие\n",
    "* Отсутствует условие для цикла while\n",
    "* Отсутствует отступ для тела цикла while\n",
    "* Ошибок нет  __[верно]__"
   ]
  },
  {
   "cell_type": "markdown",
   "metadata": {},
   "source": [
    "### Почти всё, но нет"
   ]
  },
  {
   "cell_type": "markdown",
   "metadata": {},
   "source": [
    "**А1.6.3.1 Какое число будет выведено на экран в результате исполнения следующего блока кода?**"
   ]
  },
  {
   "cell_type": "code",
   "execution_count": 1,
   "metadata": {},
   "outputs": [
    {
     "name": "stdout",
     "output_type": "stream",
     "text": [
      "3\n"
     ]
    }
   ],
   "source": [
    "for i in range(10):\n",
    "    if i>=3:\n",
    "        break\n",
    "print(i)"
   ]
  },
  {
   "cell_type": "markdown",
   "metadata": {},
   "source": [
    "**А1.6.3.2 Какое число будет выведено на экран в результате исполнения следующего блока кода?**"
   ]
  },
  {
   "cell_type": "code",
   "execution_count": 2,
   "metadata": {},
   "outputs": [
    {
     "name": "stdout",
     "output_type": "stream",
     "text": [
      "12\n"
     ]
    }
   ],
   "source": [
    "count = 1\n",
    "while count < 27:\n",
    "    if count%2 == 0:\n",
    "        to_print = 12\n",
    "    else:\n",
    "        to_print = 10\n",
    "    count += 1\n",
    "print(to_print)       "
   ]
  }
 ],
 "metadata": {
  "kernelspec": {
   "display_name": "Python 3",
   "language": "python",
   "name": "python3"
  },
  "language_info": {
   "codemirror_mode": {
    "name": "ipython",
    "version": 3
   },
   "file_extension": ".py",
   "mimetype": "text/x-python",
   "name": "python",
   "nbconvert_exporter": "python",
   "pygments_lexer": "ipython3",
   "version": "3.8.3"
  }
 },
 "nbformat": 4,
 "nbformat_minor": 2
}
